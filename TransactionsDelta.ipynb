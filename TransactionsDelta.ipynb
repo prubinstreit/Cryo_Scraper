{
 "cells": [
  {
   "cell_type": "code",
   "execution_count": null,
   "id": "8159b9f3-1e78-40fe-bf85-52ea8fb73243",
   "metadata": {},
   "outputs": [],
   "source": [
    "import numpy as np\n",
    "import os\n",
    "from datetime import datetime\n",
    "import pandas as pd\n",
    "import dash\n",
    "from dash import Dash, dcc, html, Input, Output\n",
    "import plotly.express as px\n",
    "import plotly.graph_objs as go\n",
    "\n",
    "os.chdir(\"/Users/Philip/Documents/NU Econ PhD/Scraper\")\n",
    "df = pd.read_csv(\"dfMay-10.csv\")\n",
    "\n",
    "ids =[\n",
    "    6731,666,5788,6188,6424,5527,2669,6414,619,6296,6357,6336,5535,616,6191,6427,5883,679,\n",
    "    676,5344,438,5919,5596,5179,4951,4874,5474,6146,6356,568,6351,515,6371,5834,542,6199,\n",
    "    684,5427,671,419,635,642,5774,5813,6177,6359,2766,2839,4817,4887,5189,5285,5319,546,\n",
    "    5472,5493,5512,5523,5585,5674,5737,5742,5794,5843,5854,674,618,612,6151,6222,623,6243,\n",
    "    6266,6277,63,6321,6334,6338,6346,6367,6374,6377,674,679,6345,6426,5754,5931,5698,4977,\n",
    "    6341,5451,484,699,569,5685,6731]\n",
    "df = df[df['ID'].isin(ids)]\n",
    "\n",
    "df_test2=df.groupby(['Ancestry','Date']  ).agg({'IUI Number': ['mean','count']}).reset_index() #can change to std for variance\n",
    "\n",
    "df_test2.columns = ['Ancestry','Date','IUI Number','Count']\n",
    "df_test2 = df_test2.reset_index(col_level =1)\n",
    "#print(df_test2)\n",
    "#df_test2.to_csv('mean_count_trend.csv')\n",
    "\n",
    "\n",
    "#print(df_test2.head(60))\n",
    "fig=px.line(df_test2, x='Date',y='IUI Number', color='Ancestry') \n",
    "#fig.write_image(\"fig2.png\")\n",
    "fig\n",
    "#px.bar(df_test2, x='Date',y='IUI Number', color='Ancestry',barmode='group')"
   ]
  },
  {
   "cell_type": "code",
   "execution_count": null,
   "id": "88d55602-17dc-473e-8621-19fed07b036a",
   "metadata": {},
   "outputs": [],
   "source": [
    "px.bar(df1, x='Date',y='IUI Number', color='Ancestry',barmode='group')"
   ]
  },
  {
   "cell_type": "code",
   "execution_count": 128,
   "id": "6a8c7c51-1cd4-4095-be9c-f5ecc040a635",
   "metadata": {},
   "outputs": [],
   "source": [
    "from datetime import datetime\n",
    "import os\n",
    "import pandas as pd\n",
    "today = datetime.now()\n",
    "date1 = today.strftime(\"%b-%d\")\n",
    "num_days = 68\n",
    "os.chdir(\"/Users/Philip/Documents/NU Econ PhD/Scraper\")\n",
    "df = pd.read_csv(\"dfMay-10.csv\")\n",
    "df = df[['Ancestry', 'IUI Number','Date','Religion','ID']]\n",
    "df= df.sort_values(by=['ID', 'Date'], ascending=True)\n",
    "for i in range(num_days): #fix number of days\n",
    "    df[\"lead(IUI Number \",i] = df.groupby('ID')['IUI Number'].shift(-i)\n",
    "df_lag=df.groupby('ID').first().reset_index()\n",
    "df_lag.to_csv('transactions_first%s.csv' %date1)\n",
    "transactions = pd.DataFrame(df_lag)\n",
    "for i in range(num_days-1):\n",
    "    transactions[\"Delta %d\" % (i+1)]=df_lag.iloc[:,i+6]-df_lag.iloc[:,i+5]\n",
    "transactions_delta = transactions[transactions.columns.drop(list(transactions.filter(regex='lead')))]\n",
    "transactions_delta.to_csv('deltas.csv')"
   ]
  },
  {
   "cell_type": "code",
   "execution_count": 129,
   "id": "3fe2befd-6e4e-497d-95b2-560563a61af9",
   "metadata": {},
   "outputs": [
    {
     "name": "stderr",
     "output_type": "stream",
     "text": [
      "<ipython-input-129-b67684e24ef3>:4: SettingWithCopyWarning:\n",
      "\n",
      "\n",
      "A value is trying to be set on a copy of a slice from a DataFrame.\n",
      "Try using .loc[row_indexer,col_indexer] = value instead\n",
      "\n",
      "See the caveats in the documentation: https://pandas.pydata.org/pandas-docs/stable/user_guide/indexing.html#returning-a-view-versus-a-copy\n",
      "\n",
      "<ipython-input-129-b67684e24ef3>:5: SettingWithCopyWarning:\n",
      "\n",
      "\n",
      "A value is trying to be set on a copy of a slice from a DataFrame.\n",
      "Try using .loc[row_indexer,col_indexer] = value instead\n",
      "\n",
      "See the caveats in the documentation: https://pandas.pydata.org/pandas-docs/stable/user_guide/indexing.html#returning-a-view-versus-a-copy\n",
      "\n"
     ]
    },
    {
     "data": {
      "text/html": [
       "<div>\n",
       "<style scoped>\n",
       "    .dataframe tbody tr th:only-of-type {\n",
       "        vertical-align: middle;\n",
       "    }\n",
       "\n",
       "    .dataframe tbody tr th {\n",
       "        vertical-align: top;\n",
       "    }\n",
       "\n",
       "    .dataframe thead th {\n",
       "        text-align: right;\n",
       "    }\n",
       "</style>\n",
       "<table border=\"1\" class=\"dataframe\">\n",
       "  <thead>\n",
       "    <tr style=\"text-align: right;\">\n",
       "      <th></th>\n",
       "      <th>Delta 1</th>\n",
       "      <th>Delta 2</th>\n",
       "      <th>Delta 3</th>\n",
       "      <th>Delta 4</th>\n",
       "      <th>Delta 5</th>\n",
       "      <th>Delta 6</th>\n",
       "      <th>Delta 7</th>\n",
       "      <th>Delta 8</th>\n",
       "      <th>Delta 9</th>\n",
       "      <th>Delta 10</th>\n",
       "      <th>...</th>\n",
       "      <th>Delta 59</th>\n",
       "      <th>Delta 60</th>\n",
       "      <th>Delta 61</th>\n",
       "      <th>Delta 62</th>\n",
       "      <th>Delta 63</th>\n",
       "      <th>Delta 64</th>\n",
       "      <th>Delta 65</th>\n",
       "      <th>Delta 66</th>\n",
       "      <th>Delta 67</th>\n",
       "      <th>mean</th>\n",
       "    </tr>\n",
       "    <tr>\n",
       "      <th>Ancestry</th>\n",
       "      <th></th>\n",
       "      <th></th>\n",
       "      <th></th>\n",
       "      <th></th>\n",
       "      <th></th>\n",
       "      <th></th>\n",
       "      <th></th>\n",
       "      <th></th>\n",
       "      <th></th>\n",
       "      <th></th>\n",
       "      <th></th>\n",
       "      <th></th>\n",
       "      <th></th>\n",
       "      <th></th>\n",
       "      <th></th>\n",
       "      <th></th>\n",
       "      <th></th>\n",
       "      <th></th>\n",
       "      <th></th>\n",
       "      <th></th>\n",
       "      <th></th>\n",
       "    </tr>\n",
       "  </thead>\n",
       "  <tbody>\n",
       "    <tr>\n",
       "      <th>Asian</th>\n",
       "      <td>0.000000</td>\n",
       "      <td>-0.064103</td>\n",
       "      <td>0.000000</td>\n",
       "      <td>0.000000</td>\n",
       "      <td>0.000000</td>\n",
       "      <td>0.000000</td>\n",
       "      <td>-0.012821</td>\n",
       "      <td>0.000000</td>\n",
       "      <td>0.000000</td>\n",
       "      <td>0.000000</td>\n",
       "      <td>...</td>\n",
       "      <td>0.000000</td>\n",
       "      <td>0.000000</td>\n",
       "      <td>0.000000</td>\n",
       "      <td>0.000000</td>\n",
       "      <td>0.000000</td>\n",
       "      <td>0.000000</td>\n",
       "      <td>0.000000</td>\n",
       "      <td>0.0</td>\n",
       "      <td>0.000000</td>\n",
       "      <td>-0.002433</td>\n",
       "    </tr>\n",
       "    <tr>\n",
       "      <th>Black</th>\n",
       "      <td>-0.733333</td>\n",
       "      <td>0.571429</td>\n",
       "      <td>-0.357143</td>\n",
       "      <td>0.000000</td>\n",
       "      <td>0.000000</td>\n",
       "      <td>0.000000</td>\n",
       "      <td>0.000000</td>\n",
       "      <td>-0.076923</td>\n",
       "      <td>0.000000</td>\n",
       "      <td>0.076923</td>\n",
       "      <td>...</td>\n",
       "      <td>0.000000</td>\n",
       "      <td>0.000000</td>\n",
       "      <td>0.000000</td>\n",
       "      <td>3.000000</td>\n",
       "      <td>0.000000</td>\n",
       "      <td>0.000000</td>\n",
       "      <td>0.000000</td>\n",
       "      <td>0.0</td>\n",
       "      <td>0.000000</td>\n",
       "      <td>-0.233701</td>\n",
       "    </tr>\n",
       "    <tr>\n",
       "      <th>Caucasian</th>\n",
       "      <td>-0.148148</td>\n",
       "      <td>0.070093</td>\n",
       "      <td>-0.118483</td>\n",
       "      <td>-0.014423</td>\n",
       "      <td>-0.009615</td>\n",
       "      <td>-0.044335</td>\n",
       "      <td>-0.050251</td>\n",
       "      <td>-0.104712</td>\n",
       "      <td>-0.032086</td>\n",
       "      <td>-0.076087</td>\n",
       "      <td>...</td>\n",
       "      <td>-0.121951</td>\n",
       "      <td>-0.189873</td>\n",
       "      <td>0.064935</td>\n",
       "      <td>-0.012987</td>\n",
       "      <td>-0.103896</td>\n",
       "      <td>-0.067568</td>\n",
       "      <td>-0.135135</td>\n",
       "      <td>0.0</td>\n",
       "      <td>-0.028169</td>\n",
       "      <td>-0.056562</td>\n",
       "    </tr>\n",
       "    <tr>\n",
       "      <th>Latino</th>\n",
       "      <td>-0.038462</td>\n",
       "      <td>0.153846</td>\n",
       "      <td>-0.120000</td>\n",
       "      <td>0.000000</td>\n",
       "      <td>-0.083333</td>\n",
       "      <td>0.000000</td>\n",
       "      <td>-0.041667</td>\n",
       "      <td>-0.500000</td>\n",
       "      <td>0.416667</td>\n",
       "      <td>0.000000</td>\n",
       "      <td>...</td>\n",
       "      <td>0.000000</td>\n",
       "      <td>0.000000</td>\n",
       "      <td>0.000000</td>\n",
       "      <td>0.000000</td>\n",
       "      <td>0.000000</td>\n",
       "      <td>0.000000</td>\n",
       "      <td>-0.100000</td>\n",
       "      <td>0.0</td>\n",
       "      <td>0.000000</td>\n",
       "      <td>-0.040254</td>\n",
       "    </tr>\n",
       "    <tr>\n",
       "      <th>Multi</th>\n",
       "      <td>-0.020408</td>\n",
       "      <td>-0.224490</td>\n",
       "      <td>-0.021277</td>\n",
       "      <td>0.000000</td>\n",
       "      <td>-0.106383</td>\n",
       "      <td>-0.170213</td>\n",
       "      <td>-0.021739</td>\n",
       "      <td>0.108696</td>\n",
       "      <td>-0.266667</td>\n",
       "      <td>0.000000</td>\n",
       "      <td>...</td>\n",
       "      <td>0.000000</td>\n",
       "      <td>-0.230769</td>\n",
       "      <td>0.000000</td>\n",
       "      <td>-0.038462</td>\n",
       "      <td>0.000000</td>\n",
       "      <td>0.000000</td>\n",
       "      <td>0.000000</td>\n",
       "      <td>0.0</td>\n",
       "      <td>0.000000</td>\n",
       "      <td>-0.081637</td>\n",
       "    </tr>\n",
       "  </tbody>\n",
       "</table>\n",
       "<p>5 rows × 68 columns</p>\n",
       "</div>"
      ],
      "text/plain": [
       "            Delta 1   Delta 2   Delta 3   Delta 4   Delta 5   Delta 6  \\\n",
       "Ancestry                                                                \n",
       "Asian      0.000000 -0.064103  0.000000  0.000000  0.000000  0.000000   \n",
       "Black     -0.733333  0.571429 -0.357143  0.000000  0.000000  0.000000   \n",
       "Caucasian -0.148148  0.070093 -0.118483 -0.014423 -0.009615 -0.044335   \n",
       "Latino    -0.038462  0.153846 -0.120000  0.000000 -0.083333  0.000000   \n",
       "Multi     -0.020408 -0.224490 -0.021277  0.000000 -0.106383 -0.170213   \n",
       "\n",
       "            Delta 7   Delta 8   Delta 9  Delta 10  ...  Delta 59  Delta 60  \\\n",
       "Ancestry                                           ...                       \n",
       "Asian     -0.012821  0.000000  0.000000  0.000000  ...  0.000000  0.000000   \n",
       "Black      0.000000 -0.076923  0.000000  0.076923  ...  0.000000  0.000000   \n",
       "Caucasian -0.050251 -0.104712 -0.032086 -0.076087  ... -0.121951 -0.189873   \n",
       "Latino    -0.041667 -0.500000  0.416667  0.000000  ...  0.000000  0.000000   \n",
       "Multi     -0.021739  0.108696 -0.266667  0.000000  ...  0.000000 -0.230769   \n",
       "\n",
       "           Delta 61  Delta 62  Delta 63  Delta 64  Delta 65  Delta 66  \\\n",
       "Ancestry                                                                \n",
       "Asian      0.000000  0.000000  0.000000  0.000000  0.000000       0.0   \n",
       "Black      0.000000  3.000000  0.000000  0.000000  0.000000       0.0   \n",
       "Caucasian  0.064935 -0.012987 -0.103896 -0.067568 -0.135135       0.0   \n",
       "Latino     0.000000  0.000000  0.000000  0.000000 -0.100000       0.0   \n",
       "Multi      0.000000 -0.038462  0.000000  0.000000  0.000000       0.0   \n",
       "\n",
       "           Delta 67      mean  \n",
       "Ancestry                       \n",
       "Asian      0.000000 -0.002433  \n",
       "Black      0.000000 -0.233701  \n",
       "Caucasian -0.028169 -0.056562  \n",
       "Latino     0.000000 -0.040254  \n",
       "Multi      0.000000 -0.081637  \n",
       "\n",
       "[5 rows x 68 columns]"
      ]
     },
     "execution_count": 129,
     "metadata": {},
     "output_type": "execute_result"
    }
   ],
   "source": [
    "#means=transactions_delta.iloc[:,5:]\n",
    "cols = transactions_delta.columns[5:]\n",
    "means = transactions_delta[cols]\n",
    "means['Ancestry']= transactions_delta.iloc[:,1]\n",
    "means['mean'] = means.iloc[:,:66].mean(axis=1)\n",
    "means.groupby('Ancestry').mean()"
   ]
  },
  {
   "cell_type": "code",
   "execution_count": 177,
   "id": "6605bd24-4df3-4225-b5ad-7afd89823f8e",
   "metadata": {},
   "outputs": [
    {
     "name": "stderr",
     "output_type": "stream",
     "text": [
      "<ipython-input-177-77c5343525ee>:5: SettingWithCopyWarning:\n",
      "\n",
      "\n",
      "A value is trying to be set on a copy of a slice from a DataFrame.\n",
      "Try using .loc[row_indexer,col_indexer] = value instead\n",
      "\n",
      "See the caveats in the documentation: https://pandas.pydata.org/pandas-docs/stable/user_guide/indexing.html#returning-a-view-versus-a-copy\n",
      "\n"
     ]
    },
    {
     "data": {
      "application/vnd.plotly.v1+json": {
       "config": {
        "plotlyServerURL": "https://plot.ly"
       },
       "data": [
        {
         "hovertemplate": "Ancestry=%{x}<br>Day=Delta 67<br>Daily Average Vials Transacted=%{y}<extra></extra>",
         "legendgroup": "Asian",
         "marker": {
          "color": "#636efa",
          "symbol": "circle"
         },
         "mode": "markers",
         "name": "Asian",
         "orientation": "v",
         "showlegend": true,
         "type": "scatter",
         "x": [
          "Asian"
         ],
         "xaxis": "x",
         "y": [
          0
         ],
         "yaxis": "y"
        },
        {
         "hovertemplate": "Ancestry=%{x}<br>Day=Delta 67<br>Daily Average Vials Transacted=%{y}<extra></extra>",
         "legendgroup": "Black",
         "marker": {
          "color": "#EF553B",
          "symbol": "circle"
         },
         "mode": "markers",
         "name": "Black",
         "orientation": "v",
         "showlegend": true,
         "type": "scatter",
         "x": [
          "Black"
         ],
         "xaxis": "x",
         "y": [
          0
         ],
         "yaxis": "y"
        },
        {
         "hovertemplate": "Ancestry=%{x}<br>Day=Delta 67<br>Daily Average Vials Transacted=%{y}<extra></extra>",
         "legendgroup": "Caucasian",
         "marker": {
          "color": "#00cc96",
          "symbol": "circle"
         },
         "mode": "markers",
         "name": "Caucasian",
         "orientation": "v",
         "showlegend": true,
         "type": "scatter",
         "x": [
          "Caucasian"
         ],
         "xaxis": "x",
         "y": [
          -0.028169014084507043
         ],
         "yaxis": "y"
        },
        {
         "hovertemplate": "Ancestry=%{x}<br>Day=Delta 67<br>Daily Average Vials Transacted=%{y}<extra></extra>",
         "legendgroup": "Latino",
         "marker": {
          "color": "#ab63fa",
          "symbol": "circle"
         },
         "mode": "markers",
         "name": "Latino",
         "orientation": "v",
         "showlegend": true,
         "type": "scatter",
         "x": [
          "Latino"
         ],
         "xaxis": "x",
         "y": [
          0
         ],
         "yaxis": "y"
        },
        {
         "hovertemplate": "Ancestry=%{x}<br>Day=Delta 67<br>Daily Average Vials Transacted=%{y}<extra></extra>",
         "legendgroup": "Multi",
         "marker": {
          "color": "#FFA15A",
          "symbol": "circle"
         },
         "mode": "markers",
         "name": "Multi",
         "orientation": "v",
         "showlegend": true,
         "type": "scatter",
         "x": [
          "Multi"
         ],
         "xaxis": "x",
         "y": [
          0
         ],
         "yaxis": "y"
        }
       ],
       "frames": [
        {
         "data": [
          {
           "hovertemplate": "Ancestry=%{x}<br>Day=Delta 1<br>Daily Average Vials Transacted=%{y}<extra></extra>",
           "legendgroup": "Asian",
           "marker": {
            "color": "#636efa",
            "symbol": "circle"
           },
           "mode": "markers",
           "name": "Asian",
           "orientation": "v",
           "showlegend": true,
           "type": "scatter",
           "x": [
            "Asian"
           ],
           "xaxis": "x",
           "y": [
            0
           ],
           "yaxis": "y"
          },
          {
           "hovertemplate": "Ancestry=%{x}<br>Day=Delta 1<br>Daily Average Vials Transacted=%{y}<extra></extra>",
           "legendgroup": "Black",
           "marker": {
            "color": "#EF553B",
            "symbol": "circle"
           },
           "mode": "markers",
           "name": "Black",
           "orientation": "v",
           "showlegend": true,
           "type": "scatter",
           "x": [
            "Black"
           ],
           "xaxis": "x",
           "y": [
            -0.7333333333333333
           ],
           "yaxis": "y"
          },
          {
           "hovertemplate": "Ancestry=%{x}<br>Day=Delta 1<br>Daily Average Vials Transacted=%{y}<extra></extra>",
           "legendgroup": "Caucasian",
           "marker": {
            "color": "#00cc96",
            "symbol": "circle"
           },
           "mode": "markers",
           "name": "Caucasian",
           "orientation": "v",
           "showlegend": true,
           "type": "scatter",
           "x": [
            "Caucasian"
           ],
           "xaxis": "x",
           "y": [
            -0.14814814814814814
           ],
           "yaxis": "y"
          },
          {
           "hovertemplate": "Ancestry=%{x}<br>Day=Delta 1<br>Daily Average Vials Transacted=%{y}<extra></extra>",
           "legendgroup": "Latino",
           "marker": {
            "color": "#ab63fa",
            "symbol": "circle"
           },
           "mode": "markers",
           "name": "Latino",
           "orientation": "v",
           "showlegend": true,
           "type": "scatter",
           "x": [
            "Latino"
           ],
           "xaxis": "x",
           "y": [
            -0.038461538461538464
           ],
           "yaxis": "y"
          },
          {
           "hovertemplate": "Ancestry=%{x}<br>Day=Delta 1<br>Daily Average Vials Transacted=%{y}<extra></extra>",
           "legendgroup": "Multi",
           "marker": {
            "color": "#FFA15A",
            "symbol": "circle"
           },
           "mode": "markers",
           "name": "Multi",
           "orientation": "v",
           "showlegend": true,
           "type": "scatter",
           "x": [
            "Multi"
           ],
           "xaxis": "x",
           "y": [
            -0.02040816326530612
           ],
           "yaxis": "y"
          }
         ],
         "name": "Delta 1"
        },
        {
         "data": [
          {
           "hovertemplate": "Ancestry=%{x}<br>Day=Delta 2<br>Daily Average Vials Transacted=%{y}<extra></extra>",
           "legendgroup": "Asian",
           "marker": {
            "color": "#636efa",
            "symbol": "circle"
           },
           "mode": "markers",
           "name": "Asian",
           "orientation": "v",
           "showlegend": true,
           "type": "scatter",
           "x": [
            "Asian"
           ],
           "xaxis": "x",
           "y": [
            -0.0641025641025641
           ],
           "yaxis": "y"
          },
          {
           "hovertemplate": "Ancestry=%{x}<br>Day=Delta 2<br>Daily Average Vials Transacted=%{y}<extra></extra>",
           "legendgroup": "Black",
           "marker": {
            "color": "#EF553B",
            "symbol": "circle"
           },
           "mode": "markers",
           "name": "Black",
           "orientation": "v",
           "showlegend": true,
           "type": "scatter",
           "x": [
            "Black"
           ],
           "xaxis": "x",
           "y": [
            0.5714285714285714
           ],
           "yaxis": "y"
          },
          {
           "hovertemplate": "Ancestry=%{x}<br>Day=Delta 2<br>Daily Average Vials Transacted=%{y}<extra></extra>",
           "legendgroup": "Caucasian",
           "marker": {
            "color": "#00cc96",
            "symbol": "circle"
           },
           "mode": "markers",
           "name": "Caucasian",
           "orientation": "v",
           "showlegend": true,
           "type": "scatter",
           "x": [
            "Caucasian"
           ],
           "xaxis": "x",
           "y": [
            0.07009345794392523
           ],
           "yaxis": "y"
          },
          {
           "hovertemplate": "Ancestry=%{x}<br>Day=Delta 2<br>Daily Average Vials Transacted=%{y}<extra></extra>",
           "legendgroup": "Latino",
           "marker": {
            "color": "#ab63fa",
            "symbol": "circle"
           },
           "mode": "markers",
           "name": "Latino",
           "orientation": "v",
           "showlegend": true,
           "type": "scatter",
           "x": [
            "Latino"
           ],
           "xaxis": "x",
           "y": [
            0.15384615384615385
           ],
           "yaxis": "y"
          },
          {
           "hovertemplate": "Ancestry=%{x}<br>Day=Delta 2<br>Daily Average Vials Transacted=%{y}<extra></extra>",
           "legendgroup": "Multi",
           "marker": {
            "color": "#FFA15A",
            "symbol": "circle"
           },
           "mode": "markers",
           "name": "Multi",
           "orientation": "v",
           "showlegend": true,
           "type": "scatter",
           "x": [
            "Multi"
           ],
           "xaxis": "x",
           "y": [
            -0.22448979591836735
           ],
           "yaxis": "y"
          }
         ],
         "name": "Delta 2"
        },
        {
         "data": [
          {
           "hovertemplate": "Ancestry=%{x}<br>Day=Delta 3<br>Daily Average Vials Transacted=%{y}<extra></extra>",
           "legendgroup": "Asian",
           "marker": {
            "color": "#636efa",
            "symbol": "circle"
           },
           "mode": "markers",
           "name": "Asian",
           "orientation": "v",
           "showlegend": true,
           "type": "scatter",
           "x": [
            "Asian"
           ],
           "xaxis": "x",
           "y": [
            0
           ],
           "yaxis": "y"
          },
          {
           "hovertemplate": "Ancestry=%{x}<br>Day=Delta 3<br>Daily Average Vials Transacted=%{y}<extra></extra>",
           "legendgroup": "Black",
           "marker": {
            "color": "#EF553B",
            "symbol": "circle"
           },
           "mode": "markers",
           "name": "Black",
           "orientation": "v",
           "showlegend": true,
           "type": "scatter",
           "x": [
            "Black"
           ],
           "xaxis": "x",
           "y": [
            -0.35714285714285715
           ],
           "yaxis": "y"
          },
          {
           "hovertemplate": "Ancestry=%{x}<br>Day=Delta 3<br>Daily Average Vials Transacted=%{y}<extra></extra>",
           "legendgroup": "Caucasian",
           "marker": {
            "color": "#00cc96",
            "symbol": "circle"
           },
           "mode": "markers",
           "name": "Caucasian",
           "orientation": "v",
           "showlegend": true,
           "type": "scatter",
           "x": [
            "Caucasian"
           ],
           "xaxis": "x",
           "y": [
            -0.11848341232227488
           ],
           "yaxis": "y"
          },
          {
           "hovertemplate": "Ancestry=%{x}<br>Day=Delta 3<br>Daily Average Vials Transacted=%{y}<extra></extra>",
           "legendgroup": "Latino",
           "marker": {
            "color": "#ab63fa",
            "symbol": "circle"
           },
           "mode": "markers",
           "name": "Latino",
           "orientation": "v",
           "showlegend": true,
           "type": "scatter",
           "x": [
            "Latino"
           ],
           "xaxis": "x",
           "y": [
            -0.12
           ],
           "yaxis": "y"
          },
          {
           "hovertemplate": "Ancestry=%{x}<br>Day=Delta 3<br>Daily Average Vials Transacted=%{y}<extra></extra>",
           "legendgroup": "Multi",
           "marker": {
            "color": "#FFA15A",
            "symbol": "circle"
           },
           "mode": "markers",
           "name": "Multi",
           "orientation": "v",
           "showlegend": true,
           "type": "scatter",
           "x": [
            "Multi"
           ],
           "xaxis": "x",
           "y": [
            -0.02127659574468085
           ],
           "yaxis": "y"
          }
         ],
         "name": "Delta 3"
        },
        {
         "data": [
          {
           "hovertemplate": "Ancestry=%{x}<br>Day=Delta 4<br>Daily Average Vials Transacted=%{y}<extra></extra>",
           "legendgroup": "Asian",
           "marker": {
            "color": "#636efa",
            "symbol": "circle"
           },
           "mode": "markers",
           "name": "Asian",
           "orientation": "v",
           "showlegend": true,
           "type": "scatter",
           "x": [
            "Asian"
           ],
           "xaxis": "x",
           "y": [
            0
           ],
           "yaxis": "y"
          },
          {
           "hovertemplate": "Ancestry=%{x}<br>Day=Delta 4<br>Daily Average Vials Transacted=%{y}<extra></extra>",
           "legendgroup": "Black",
           "marker": {
            "color": "#EF553B",
            "symbol": "circle"
           },
           "mode": "markers",
           "name": "Black",
           "orientation": "v",
           "showlegend": true,
           "type": "scatter",
           "x": [
            "Black"
           ],
           "xaxis": "x",
           "y": [
            0
           ],
           "yaxis": "y"
          },
          {
           "hovertemplate": "Ancestry=%{x}<br>Day=Delta 4<br>Daily Average Vials Transacted=%{y}<extra></extra>",
           "legendgroup": "Caucasian",
           "marker": {
            "color": "#00cc96",
            "symbol": "circle"
           },
           "mode": "markers",
           "name": "Caucasian",
           "orientation": "v",
           "showlegend": true,
           "type": "scatter",
           "x": [
            "Caucasian"
           ],
           "xaxis": "x",
           "y": [
            -0.014423076923076924
           ],
           "yaxis": "y"
          },
          {
           "hovertemplate": "Ancestry=%{x}<br>Day=Delta 4<br>Daily Average Vials Transacted=%{y}<extra></extra>",
           "legendgroup": "Latino",
           "marker": {
            "color": "#ab63fa",
            "symbol": "circle"
           },
           "mode": "markers",
           "name": "Latino",
           "orientation": "v",
           "showlegend": true,
           "type": "scatter",
           "x": [
            "Latino"
           ],
           "xaxis": "x",
           "y": [
            0
           ],
           "yaxis": "y"
          },
          {
           "hovertemplate": "Ancestry=%{x}<br>Day=Delta 4<br>Daily Average Vials Transacted=%{y}<extra></extra>",
           "legendgroup": "Multi",
           "marker": {
            "color": "#FFA15A",
            "symbol": "circle"
           },
           "mode": "markers",
           "name": "Multi",
           "orientation": "v",
           "showlegend": true,
           "type": "scatter",
           "x": [
            "Multi"
           ],
           "xaxis": "x",
           "y": [
            0
           ],
           "yaxis": "y"
          }
         ],
         "name": "Delta 4"
        },
        {
         "data": [
          {
           "hovertemplate": "Ancestry=%{x}<br>Day=Delta 5<br>Daily Average Vials Transacted=%{y}<extra></extra>",
           "legendgroup": "Asian",
           "marker": {
            "color": "#636efa",
            "symbol": "circle"
           },
           "mode": "markers",
           "name": "Asian",
           "orientation": "v",
           "showlegend": true,
           "type": "scatter",
           "x": [
            "Asian"
           ],
           "xaxis": "x",
           "y": [
            0
           ],
           "yaxis": "y"
          },
          {
           "hovertemplate": "Ancestry=%{x}<br>Day=Delta 5<br>Daily Average Vials Transacted=%{y}<extra></extra>",
           "legendgroup": "Black",
           "marker": {
            "color": "#EF553B",
            "symbol": "circle"
           },
           "mode": "markers",
           "name": "Black",
           "orientation": "v",
           "showlegend": true,
           "type": "scatter",
           "x": [
            "Black"
           ],
           "xaxis": "x",
           "y": [
            0
           ],
           "yaxis": "y"
          },
          {
           "hovertemplate": "Ancestry=%{x}<br>Day=Delta 5<br>Daily Average Vials Transacted=%{y}<extra></extra>",
           "legendgroup": "Caucasian",
           "marker": {
            "color": "#00cc96",
            "symbol": "circle"
           },
           "mode": "markers",
           "name": "Caucasian",
           "orientation": "v",
           "showlegend": true,
           "type": "scatter",
           "x": [
            "Caucasian"
           ],
           "xaxis": "x",
           "y": [
            -0.009615384615384616
           ],
           "yaxis": "y"
          },
          {
           "hovertemplate": "Ancestry=%{x}<br>Day=Delta 5<br>Daily Average Vials Transacted=%{y}<extra></extra>",
           "legendgroup": "Latino",
           "marker": {
            "color": "#ab63fa",
            "symbol": "circle"
           },
           "mode": "markers",
           "name": "Latino",
           "orientation": "v",
           "showlegend": true,
           "type": "scatter",
           "x": [
            "Latino"
           ],
           "xaxis": "x",
           "y": [
            -0.08333333333333333
           ],
           "yaxis": "y"
          },
          {
           "hovertemplate": "Ancestry=%{x}<br>Day=Delta 5<br>Daily Average Vials Transacted=%{y}<extra></extra>",
           "legendgroup": "Multi",
           "marker": {
            "color": "#FFA15A",
            "symbol": "circle"
           },
           "mode": "markers",
           "name": "Multi",
           "orientation": "v",
           "showlegend": true,
           "type": "scatter",
           "x": [
            "Multi"
           ],
           "xaxis": "x",
           "y": [
            -0.10638297872340426
           ],
           "yaxis": "y"
          }
         ],
         "name": "Delta 5"
        },
        {
         "data": [
          {
           "hovertemplate": "Ancestry=%{x}<br>Day=Delta 6<br>Daily Average Vials Transacted=%{y}<extra></extra>",
           "legendgroup": "Asian",
           "marker": {
            "color": "#636efa",
            "symbol": "circle"
           },
           "mode": "markers",
           "name": "Asian",
           "orientation": "v",
           "showlegend": true,
           "type": "scatter",
           "x": [
            "Asian"
           ],
           "xaxis": "x",
           "y": [
            0
           ],
           "yaxis": "y"
          },
          {
           "hovertemplate": "Ancestry=%{x}<br>Day=Delta 6<br>Daily Average Vials Transacted=%{y}<extra></extra>",
           "legendgroup": "Black",
           "marker": {
            "color": "#EF553B",
            "symbol": "circle"
           },
           "mode": "markers",
           "name": "Black",
           "orientation": "v",
           "showlegend": true,
           "type": "scatter",
           "x": [
            "Black"
           ],
           "xaxis": "x",
           "y": [
            0
           ],
           "yaxis": "y"
          },
          {
           "hovertemplate": "Ancestry=%{x}<br>Day=Delta 6<br>Daily Average Vials Transacted=%{y}<extra></extra>",
           "legendgroup": "Caucasian",
           "marker": {
            "color": "#00cc96",
            "symbol": "circle"
           },
           "mode": "markers",
           "name": "Caucasian",
           "orientation": "v",
           "showlegend": true,
           "type": "scatter",
           "x": [
            "Caucasian"
           ],
           "xaxis": "x",
           "y": [
            -0.04433497536945813
           ],
           "yaxis": "y"
          },
          {
           "hovertemplate": "Ancestry=%{x}<br>Day=Delta 6<br>Daily Average Vials Transacted=%{y}<extra></extra>",
           "legendgroup": "Latino",
           "marker": {
            "color": "#ab63fa",
            "symbol": "circle"
           },
           "mode": "markers",
           "name": "Latino",
           "orientation": "v",
           "showlegend": true,
           "type": "scatter",
           "x": [
            "Latino"
           ],
           "xaxis": "x",
           "y": [
            0
           ],
           "yaxis": "y"
          },
          {
           "hovertemplate": "Ancestry=%{x}<br>Day=Delta 6<br>Daily Average Vials Transacted=%{y}<extra></extra>",
           "legendgroup": "Multi",
           "marker": {
            "color": "#FFA15A",
            "symbol": "circle"
           },
           "mode": "markers",
           "name": "Multi",
           "orientation": "v",
           "showlegend": true,
           "type": "scatter",
           "x": [
            "Multi"
           ],
           "xaxis": "x",
           "y": [
            -0.1702127659574468
           ],
           "yaxis": "y"
          }
         ],
         "name": "Delta 6"
        },
        {
         "data": [
          {
           "hovertemplate": "Ancestry=%{x}<br>Day=Delta 7<br>Daily Average Vials Transacted=%{y}<extra></extra>",
           "legendgroup": "Asian",
           "marker": {
            "color": "#636efa",
            "symbol": "circle"
           },
           "mode": "markers",
           "name": "Asian",
           "orientation": "v",
           "showlegend": true,
           "type": "scatter",
           "x": [
            "Asian"
           ],
           "xaxis": "x",
           "y": [
            -0.01282051282051282
           ],
           "yaxis": "y"
          },
          {
           "hovertemplate": "Ancestry=%{x}<br>Day=Delta 7<br>Daily Average Vials Transacted=%{y}<extra></extra>",
           "legendgroup": "Black",
           "marker": {
            "color": "#EF553B",
            "symbol": "circle"
           },
           "mode": "markers",
           "name": "Black",
           "orientation": "v",
           "showlegend": true,
           "type": "scatter",
           "x": [
            "Black"
           ],
           "xaxis": "x",
           "y": [
            0
           ],
           "yaxis": "y"
          },
          {
           "hovertemplate": "Ancestry=%{x}<br>Day=Delta 7<br>Daily Average Vials Transacted=%{y}<extra></extra>",
           "legendgroup": "Caucasian",
           "marker": {
            "color": "#00cc96",
            "symbol": "circle"
           },
           "mode": "markers",
           "name": "Caucasian",
           "orientation": "v",
           "showlegend": true,
           "type": "scatter",
           "x": [
            "Caucasian"
           ],
           "xaxis": "x",
           "y": [
            -0.05025125628140704
           ],
           "yaxis": "y"
          },
          {
           "hovertemplate": "Ancestry=%{x}<br>Day=Delta 7<br>Daily Average Vials Transacted=%{y}<extra></extra>",
           "legendgroup": "Latino",
           "marker": {
            "color": "#ab63fa",
            "symbol": "circle"
           },
           "mode": "markers",
           "name": "Latino",
           "orientation": "v",
           "showlegend": true,
           "type": "scatter",
           "x": [
            "Latino"
           ],
           "xaxis": "x",
           "y": [
            -0.041666666666666664
           ],
           "yaxis": "y"
          },
          {
           "hovertemplate": "Ancestry=%{x}<br>Day=Delta 7<br>Daily Average Vials Transacted=%{y}<extra></extra>",
           "legendgroup": "Multi",
           "marker": {
            "color": "#FFA15A",
            "symbol": "circle"
           },
           "mode": "markers",
           "name": "Multi",
           "orientation": "v",
           "showlegend": true,
           "type": "scatter",
           "x": [
            "Multi"
           ],
           "xaxis": "x",
           "y": [
            -0.021739130434782608
           ],
           "yaxis": "y"
          }
         ],
         "name": "Delta 7"
        },
        {
         "data": [
          {
           "hovertemplate": "Ancestry=%{x}<br>Day=Delta 8<br>Daily Average Vials Transacted=%{y}<extra></extra>",
           "legendgroup": "Asian",
           "marker": {
            "color": "#636efa",
            "symbol": "circle"
           },
           "mode": "markers",
           "name": "Asian",
           "orientation": "v",
           "showlegend": true,
           "type": "scatter",
           "x": [
            "Asian"
           ],
           "xaxis": "x",
           "y": [
            0
           ],
           "yaxis": "y"
          },
          {
           "hovertemplate": "Ancestry=%{x}<br>Day=Delta 8<br>Daily Average Vials Transacted=%{y}<extra></extra>",
           "legendgroup": "Black",
           "marker": {
            "color": "#EF553B",
            "symbol": "circle"
           },
           "mode": "markers",
           "name": "Black",
           "orientation": "v",
           "showlegend": true,
           "type": "scatter",
           "x": [
            "Black"
           ],
           "xaxis": "x",
           "y": [
            -0.07692307692307693
           ],
           "yaxis": "y"
          },
          {
           "hovertemplate": "Ancestry=%{x}<br>Day=Delta 8<br>Daily Average Vials Transacted=%{y}<extra></extra>",
           "legendgroup": "Caucasian",
           "marker": {
            "color": "#00cc96",
            "symbol": "circle"
           },
           "mode": "markers",
           "name": "Caucasian",
           "orientation": "v",
           "showlegend": true,
           "type": "scatter",
           "x": [
            "Caucasian"
           ],
           "xaxis": "x",
           "y": [
            -0.10471204188481675
           ],
           "yaxis": "y"
          },
          {
           "hovertemplate": "Ancestry=%{x}<br>Day=Delta 8<br>Daily Average Vials Transacted=%{y}<extra></extra>",
           "legendgroup": "Latino",
           "marker": {
            "color": "#ab63fa",
            "symbol": "circle"
           },
           "mode": "markers",
           "name": "Latino",
           "orientation": "v",
           "showlegend": true,
           "type": "scatter",
           "x": [
            "Latino"
           ],
           "xaxis": "x",
           "y": [
            -0.5
           ],
           "yaxis": "y"
          },
          {
           "hovertemplate": "Ancestry=%{x}<br>Day=Delta 8<br>Daily Average Vials Transacted=%{y}<extra></extra>",
           "legendgroup": "Multi",
           "marker": {
            "color": "#FFA15A",
            "symbol": "circle"
           },
           "mode": "markers",
           "name": "Multi",
           "orientation": "v",
           "showlegend": true,
           "type": "scatter",
           "x": [
            "Multi"
           ],
           "xaxis": "x",
           "y": [
            0.10869565217391304
           ],
           "yaxis": "y"
          }
         ],
         "name": "Delta 8"
        },
        {
         "data": [
          {
           "hovertemplate": "Ancestry=%{x}<br>Day=Delta 9<br>Daily Average Vials Transacted=%{y}<extra></extra>",
           "legendgroup": "Asian",
           "marker": {
            "color": "#636efa",
            "symbol": "circle"
           },
           "mode": "markers",
           "name": "Asian",
           "orientation": "v",
           "showlegend": true,
           "type": "scatter",
           "x": [
            "Asian"
           ],
           "xaxis": "x",
           "y": [
            0
           ],
           "yaxis": "y"
          },
          {
           "hovertemplate": "Ancestry=%{x}<br>Day=Delta 9<br>Daily Average Vials Transacted=%{y}<extra></extra>",
           "legendgroup": "Black",
           "marker": {
            "color": "#EF553B",
            "symbol": "circle"
           },
           "mode": "markers",
           "name": "Black",
           "orientation": "v",
           "showlegend": true,
           "type": "scatter",
           "x": [
            "Black"
           ],
           "xaxis": "x",
           "y": [
            0
           ],
           "yaxis": "y"
          },
          {
           "hovertemplate": "Ancestry=%{x}<br>Day=Delta 9<br>Daily Average Vials Transacted=%{y}<extra></extra>",
           "legendgroup": "Caucasian",
           "marker": {
            "color": "#00cc96",
            "symbol": "circle"
           },
           "mode": "markers",
           "name": "Caucasian",
           "orientation": "v",
           "showlegend": true,
           "type": "scatter",
           "x": [
            "Caucasian"
           ],
           "xaxis": "x",
           "y": [
            -0.03208556149732621
           ],
           "yaxis": "y"
          },
          {
           "hovertemplate": "Ancestry=%{x}<br>Day=Delta 9<br>Daily Average Vials Transacted=%{y}<extra></extra>",
           "legendgroup": "Latino",
           "marker": {
            "color": "#ab63fa",
            "symbol": "circle"
           },
           "mode": "markers",
           "name": "Latino",
           "orientation": "v",
           "showlegend": true,
           "type": "scatter",
           "x": [
            "Latino"
           ],
           "xaxis": "x",
           "y": [
            0.4166666666666667
           ],
           "yaxis": "y"
          },
          {
           "hovertemplate": "Ancestry=%{x}<br>Day=Delta 9<br>Daily Average Vials Transacted=%{y}<extra></extra>",
           "legendgroup": "Multi",
           "marker": {
            "color": "#FFA15A",
            "symbol": "circle"
           },
           "mode": "markers",
           "name": "Multi",
           "orientation": "v",
           "showlegend": true,
           "type": "scatter",
           "x": [
            "Multi"
           ],
           "xaxis": "x",
           "y": [
            -0.26666666666666666
           ],
           "yaxis": "y"
          }
         ],
         "name": "Delta 9"
        },
        {
         "data": [
          {
           "hovertemplate": "Ancestry=%{x}<br>Day=Delta 10<br>Daily Average Vials Transacted=%{y}<extra></extra>",
           "legendgroup": "Asian",
           "marker": {
            "color": "#636efa",
            "symbol": "circle"
           },
           "mode": "markers",
           "name": "Asian",
           "orientation": "v",
           "showlegend": true,
           "type": "scatter",
           "x": [
            "Asian"
           ],
           "xaxis": "x",
           "y": [
            0
           ],
           "yaxis": "y"
          },
          {
           "hovertemplate": "Ancestry=%{x}<br>Day=Delta 10<br>Daily Average Vials Transacted=%{y}<extra></extra>",
           "legendgroup": "Black",
           "marker": {
            "color": "#EF553B",
            "symbol": "circle"
           },
           "mode": "markers",
           "name": "Black",
           "orientation": "v",
           "showlegend": true,
           "type": "scatter",
           "x": [
            "Black"
           ],
           "xaxis": "x",
           "y": [
            0.07692307692307693
           ],
           "yaxis": "y"
          },
          {
           "hovertemplate": "Ancestry=%{x}<br>Day=Delta 10<br>Daily Average Vials Transacted=%{y}<extra></extra>",
           "legendgroup": "Caucasian",
           "marker": {
            "color": "#00cc96",
            "symbol": "circle"
           },
           "mode": "markers",
           "name": "Caucasian",
           "orientation": "v",
           "showlegend": true,
           "type": "scatter",
           "x": [
            "Caucasian"
           ],
           "xaxis": "x",
           "y": [
            -0.07608695652173914
           ],
           "yaxis": "y"
          },
          {
           "hovertemplate": "Ancestry=%{x}<br>Day=Delta 10<br>Daily Average Vials Transacted=%{y}<extra></extra>",
           "legendgroup": "Latino",
           "marker": {
            "color": "#ab63fa",
            "symbol": "circle"
           },
           "mode": "markers",
           "name": "Latino",
           "orientation": "v",
           "showlegend": true,
           "type": "scatter",
           "x": [
            "Latino"
           ],
           "xaxis": "x",
           "y": [
            0
           ],
           "yaxis": "y"
          },
          {
           "hovertemplate": "Ancestry=%{x}<br>Day=Delta 10<br>Daily Average Vials Transacted=%{y}<extra></extra>",
           "legendgroup": "Multi",
           "marker": {
            "color": "#FFA15A",
            "symbol": "circle"
           },
           "mode": "markers",
           "name": "Multi",
           "orientation": "v",
           "showlegend": true,
           "type": "scatter",
           "x": [
            "Multi"
           ],
           "xaxis": "x",
           "y": [
            0
           ],
           "yaxis": "y"
          }
         ],
         "name": "Delta 10"
        },
        {
         "data": [
          {
           "hovertemplate": "Ancestry=%{x}<br>Day=Delta 11<br>Daily Average Vials Transacted=%{y}<extra></extra>",
           "legendgroup": "Asian",
           "marker": {
            "color": "#636efa",
            "symbol": "circle"
           },
           "mode": "markers",
           "name": "Asian",
           "orientation": "v",
           "showlegend": true,
           "type": "scatter",
           "x": [
            "Asian"
           ],
           "xaxis": "x",
           "y": [
            -0.01282051282051282
           ],
           "yaxis": "y"
          },
          {
           "hovertemplate": "Ancestry=%{x}<br>Day=Delta 11<br>Daily Average Vials Transacted=%{y}<extra></extra>",
           "legendgroup": "Black",
           "marker": {
            "color": "#EF553B",
            "symbol": "circle"
           },
           "mode": "markers",
           "name": "Black",
           "orientation": "v",
           "showlegend": true,
           "type": "scatter",
           "x": [
            "Black"
           ],
           "xaxis": "x",
           "y": [
            0
           ],
           "yaxis": "y"
          },
          {
           "hovertemplate": "Ancestry=%{x}<br>Day=Delta 11<br>Daily Average Vials Transacted=%{y}<extra></extra>",
           "legendgroup": "Caucasian",
           "marker": {
            "color": "#00cc96",
            "symbol": "circle"
           },
           "mode": "markers",
           "name": "Caucasian",
           "orientation": "v",
           "showlegend": true,
           "type": "scatter",
           "x": [
            "Caucasian"
           ],
           "xaxis": "x",
           "y": [
            0.1358695652173913
           ],
           "yaxis": "y"
          },
          {
           "hovertemplate": "Ancestry=%{x}<br>Day=Delta 11<br>Daily Average Vials Transacted=%{y}<extra></extra>",
           "legendgroup": "Latino",
           "marker": {
            "color": "#ab63fa",
            "symbol": "circle"
           },
           "mode": "markers",
           "name": "Latino",
           "orientation": "v",
           "showlegend": true,
           "type": "scatter",
           "x": [
            "Latino"
           ],
           "xaxis": "x",
           "y": [
            0
           ],
           "yaxis": "y"
          },
          {
           "hovertemplate": "Ancestry=%{x}<br>Day=Delta 11<br>Daily Average Vials Transacted=%{y}<extra></extra>",
           "legendgroup": "Multi",
           "marker": {
            "color": "#FFA15A",
            "symbol": "circle"
           },
           "mode": "markers",
           "name": "Multi",
           "orientation": "v",
           "showlegend": true,
           "type": "scatter",
           "x": [
            "Multi"
           ],
           "xaxis": "x",
           "y": [
            -0.18604651162790697
           ],
           "yaxis": "y"
          }
         ],
         "name": "Delta 11"
        },
        {
         "data": [
          {
           "hovertemplate": "Ancestry=%{x}<br>Day=Delta 12<br>Daily Average Vials Transacted=%{y}<extra></extra>",
           "legendgroup": "Asian",
           "marker": {
            "color": "#636efa",
            "symbol": "circle"
           },
           "mode": "markers",
           "name": "Asian",
           "orientation": "v",
           "showlegend": true,
           "type": "scatter",
           "x": [
            "Asian"
           ],
           "xaxis": "x",
           "y": [
            0
           ],
           "yaxis": "y"
          },
          {
           "hovertemplate": "Ancestry=%{x}<br>Day=Delta 12<br>Daily Average Vials Transacted=%{y}<extra></extra>",
           "legendgroup": "Black",
           "marker": {
            "color": "#EF553B",
            "symbol": "circle"
           },
           "mode": "markers",
           "name": "Black",
           "orientation": "v",
           "showlegend": true,
           "type": "scatter",
           "x": [
            "Black"
           ],
           "xaxis": "x",
           "y": [
            -0.25
           ],
           "yaxis": "y"
          },
          {
           "hovertemplate": "Ancestry=%{x}<br>Day=Delta 12<br>Daily Average Vials Transacted=%{y}<extra></extra>",
           "legendgroup": "Caucasian",
           "marker": {
            "color": "#00cc96",
            "symbol": "circle"
           },
           "mode": "markers",
           "name": "Caucasian",
           "orientation": "v",
           "showlegend": true,
           "type": "scatter",
           "x": [
            "Caucasian"
           ],
           "xaxis": "x",
           "y": [
            -0.016304347826086956
           ],
           "yaxis": "y"
          },
          {
           "hovertemplate": "Ancestry=%{x}<br>Day=Delta 12<br>Daily Average Vials Transacted=%{y}<extra></extra>",
           "legendgroup": "Latino",
           "marker": {
            "color": "#ab63fa",
            "symbol": "circle"
           },
           "mode": "markers",
           "name": "Latino",
           "orientation": "v",
           "showlegend": true,
           "type": "scatter",
           "x": [
            "Latino"
           ],
           "xaxis": "x",
           "y": [
            -0.041666666666666664
           ],
           "yaxis": "y"
          },
          {
           "hovertemplate": "Ancestry=%{x}<br>Day=Delta 12<br>Daily Average Vials Transacted=%{y}<extra></extra>",
           "legendgroup": "Multi",
           "marker": {
            "color": "#FFA15A",
            "symbol": "circle"
           },
           "mode": "markers",
           "name": "Multi",
           "orientation": "v",
           "showlegend": true,
           "type": "scatter",
           "x": [
            "Multi"
           ],
           "xaxis": "x",
           "y": [
            0
           ],
           "yaxis": "y"
          }
         ],
         "name": "Delta 12"
        },
        {
         "data": [
          {
           "hovertemplate": "Ancestry=%{x}<br>Day=Delta 13<br>Daily Average Vials Transacted=%{y}<extra></extra>",
           "legendgroup": "Asian",
           "marker": {
            "color": "#636efa",
            "symbol": "circle"
           },
           "mode": "markers",
           "name": "Asian",
           "orientation": "v",
           "showlegend": true,
           "type": "scatter",
           "x": [
            "Asian"
           ],
           "xaxis": "x",
           "y": [
            0
           ],
           "yaxis": "y"
          },
          {
           "hovertemplate": "Ancestry=%{x}<br>Day=Delta 13<br>Daily Average Vials Transacted=%{y}<extra></extra>",
           "legendgroup": "Black",
           "marker": {
            "color": "#EF553B",
            "symbol": "circle"
           },
           "mode": "markers",
           "name": "Black",
           "orientation": "v",
           "showlegend": true,
           "type": "scatter",
           "x": [
            "Black"
           ],
           "xaxis": "x",
           "y": [
            -0.9090909090909091
           ],
           "yaxis": "y"
          },
          {
           "hovertemplate": "Ancestry=%{x}<br>Day=Delta 13<br>Daily Average Vials Transacted=%{y}<extra></extra>",
           "legendgroup": "Caucasian",
           "marker": {
            "color": "#00cc96",
            "symbol": "circle"
           },
           "mode": "markers",
           "name": "Caucasian",
           "orientation": "v",
           "showlegend": true,
           "type": "scatter",
           "x": [
            "Caucasian"
           ],
           "xaxis": "x",
           "y": [
            0.03260869565217391
           ],
           "yaxis": "y"
          },
          {
           "hovertemplate": "Ancestry=%{x}<br>Day=Delta 13<br>Daily Average Vials Transacted=%{y}<extra></extra>",
           "legendgroup": "Latino",
           "marker": {
            "color": "#ab63fa",
            "symbol": "circle"
           },
           "mode": "markers",
           "name": "Latino",
           "orientation": "v",
           "showlegend": true,
           "type": "scatter",
           "x": [
            "Latino"
           ],
           "xaxis": "x",
           "y": [
            0
           ],
           "yaxis": "y"
          },
          {
           "hovertemplate": "Ancestry=%{x}<br>Day=Delta 13<br>Daily Average Vials Transacted=%{y}<extra></extra>",
           "legendgroup": "Multi",
           "marker": {
            "color": "#FFA15A",
            "symbol": "circle"
           },
           "mode": "markers",
           "name": "Multi",
           "orientation": "v",
           "showlegend": true,
           "type": "scatter",
           "x": [
            "Multi"
           ],
           "xaxis": "x",
           "y": [
            -0.21428571428571427
           ],
           "yaxis": "y"
          }
         ],
         "name": "Delta 13"
        },
        {
         "data": [
          {
           "hovertemplate": "Ancestry=%{x}<br>Day=Delta 14<br>Daily Average Vials Transacted=%{y}<extra></extra>",
           "legendgroup": "Asian",
           "marker": {
            "color": "#636efa",
            "symbol": "circle"
           },
           "mode": "markers",
           "name": "Asian",
           "orientation": "v",
           "showlegend": true,
           "type": "scatter",
           "x": [
            "Asian"
           ],
           "xaxis": "x",
           "y": [
            0
           ],
           "yaxis": "y"
          },
          {
           "hovertemplate": "Ancestry=%{x}<br>Day=Delta 14<br>Daily Average Vials Transacted=%{y}<extra></extra>",
           "legendgroup": "Black",
           "marker": {
            "color": "#EF553B",
            "symbol": "circle"
           },
           "mode": "markers",
           "name": "Black",
           "orientation": "v",
           "showlegend": true,
           "type": "scatter",
           "x": [
            "Black"
           ],
           "xaxis": "x",
           "y": [
            0
           ],
           "yaxis": "y"
          },
          {
           "hovertemplate": "Ancestry=%{x}<br>Day=Delta 14<br>Daily Average Vials Transacted=%{y}<extra></extra>",
           "legendgroup": "Caucasian",
           "marker": {
            "color": "#00cc96",
            "symbol": "circle"
           },
           "mode": "markers",
           "name": "Caucasian",
           "orientation": "v",
           "showlegend": true,
           "type": "scatter",
           "x": [
            "Caucasian"
           ],
           "xaxis": "x",
           "y": [
            0.04918032786885246
           ],
           "yaxis": "y"
          },
          {
           "hovertemplate": "Ancestry=%{x}<br>Day=Delta 14<br>Daily Average Vials Transacted=%{y}<extra></extra>",
           "legendgroup": "Latino",
           "marker": {
            "color": "#ab63fa",
            "symbol": "circle"
           },
           "mode": "markers",
           "name": "Latino",
           "orientation": "v",
           "showlegend": true,
           "type": "scatter",
           "x": [
            "Latino"
           ],
           "xaxis": "x",
           "y": [
            0
           ],
           "yaxis": "y"
          },
          {
           "hovertemplate": "Ancestry=%{x}<br>Day=Delta 14<br>Daily Average Vials Transacted=%{y}<extra></extra>",
           "legendgroup": "Multi",
           "marker": {
            "color": "#FFA15A",
            "symbol": "circle"
           },
           "mode": "markers",
           "name": "Multi",
           "orientation": "v",
           "showlegend": true,
           "type": "scatter",
           "x": [
            "Multi"
           ],
           "xaxis": "x",
           "y": [
            0
           ],
           "yaxis": "y"
          }
         ],
         "name": "Delta 14"
        },
        {
         "data": [
          {
           "hovertemplate": "Ancestry=%{x}<br>Day=Delta 15<br>Daily Average Vials Transacted=%{y}<extra></extra>",
           "legendgroup": "Asian",
           "marker": {
            "color": "#636efa",
            "symbol": "circle"
           },
           "mode": "markers",
           "name": "Asian",
           "orientation": "v",
           "showlegend": true,
           "type": "scatter",
           "x": [
            "Asian"
           ],
           "xaxis": "x",
           "y": [
            0
           ],
           "yaxis": "y"
          },
          {
           "hovertemplate": "Ancestry=%{x}<br>Day=Delta 15<br>Daily Average Vials Transacted=%{y}<extra></extra>",
           "legendgroup": "Black",
           "marker": {
            "color": "#EF553B",
            "symbol": "circle"
           },
           "mode": "markers",
           "name": "Black",
           "orientation": "v",
           "showlegend": true,
           "type": "scatter",
           "x": [
            "Black"
           ],
           "xaxis": "x",
           "y": [
            -0.6363636363636364
           ],
           "yaxis": "y"
          },
          {
           "hovertemplate": "Ancestry=%{x}<br>Day=Delta 15<br>Daily Average Vials Transacted=%{y}<extra></extra>",
           "legendgroup": "Caucasian",
           "marker": {
            "color": "#00cc96",
            "symbol": "circle"
           },
           "mode": "markers",
           "name": "Caucasian",
           "orientation": "v",
           "showlegend": true,
           "type": "scatter",
           "x": [
            "Caucasian"
           ],
           "xaxis": "x",
           "y": [
            -0.005681818181818182
           ],
           "yaxis": "y"
          },
          {
           "hovertemplate": "Ancestry=%{x}<br>Day=Delta 15<br>Daily Average Vials Transacted=%{y}<extra></extra>",
           "legendgroup": "Latino",
           "marker": {
            "color": "#ab63fa",
            "symbol": "circle"
           },
           "mode": "markers",
           "name": "Latino",
           "orientation": "v",
           "showlegend": true,
           "type": "scatter",
           "x": [
            "Latino"
           ],
           "xaxis": "x",
           "y": [
            0
           ],
           "yaxis": "y"
          },
          {
           "hovertemplate": "Ancestry=%{x}<br>Day=Delta 15<br>Daily Average Vials Transacted=%{y}<extra></extra>",
           "legendgroup": "Multi",
           "marker": {
            "color": "#FFA15A",
            "symbol": "circle"
           },
           "mode": "markers",
           "name": "Multi",
           "orientation": "v",
           "showlegend": true,
           "type": "scatter",
           "x": [
            "Multi"
           ],
           "xaxis": "x",
           "y": [
            0.325
           ],
           "yaxis": "y"
          }
         ],
         "name": "Delta 15"
        },
        {
         "data": [
          {
           "hovertemplate": "Ancestry=%{x}<br>Day=Delta 16<br>Daily Average Vials Transacted=%{y}<extra></extra>",
           "legendgroup": "Asian",
           "marker": {
            "color": "#636efa",
            "symbol": "circle"
           },
           "mode": "markers",
           "name": "Asian",
           "orientation": "v",
           "showlegend": true,
           "type": "scatter",
           "x": [
            "Asian"
           ],
           "xaxis": "x",
           "y": [
            0
           ],
           "yaxis": "y"
          },
          {
           "hovertemplate": "Ancestry=%{x}<br>Day=Delta 16<br>Daily Average Vials Transacted=%{y}<extra></extra>",
           "legendgroup": "Black",
           "marker": {
            "color": "#EF553B",
            "symbol": "circle"
           },
           "mode": "markers",
           "name": "Black",
           "orientation": "v",
           "showlegend": true,
           "type": "scatter",
           "x": [
            "Black"
           ],
           "xaxis": "x",
           "y": [
            -0.45454545454545453
           ],
           "yaxis": "y"
          },
          {
           "hovertemplate": "Ancestry=%{x}<br>Day=Delta 16<br>Daily Average Vials Transacted=%{y}<extra></extra>",
           "legendgroup": "Caucasian",
           "marker": {
            "color": "#00cc96",
            "symbol": "circle"
           },
           "mode": "markers",
           "name": "Caucasian",
           "orientation": "v",
           "showlegend": true,
           "type": "scatter",
           "x": [
            "Caucasian"
           ],
           "xaxis": "x",
           "y": [
            -0.04678362573099415
           ],
           "yaxis": "y"
          },
          {
           "hovertemplate": "Ancestry=%{x}<br>Day=Delta 16<br>Daily Average Vials Transacted=%{y}<extra></extra>",
           "legendgroup": "Latino",
           "marker": {
            "color": "#ab63fa",
            "symbol": "circle"
           },
           "mode": "markers",
           "name": "Latino",
           "orientation": "v",
           "showlegend": true,
           "type": "scatter",
           "x": [
            "Latino"
           ],
           "xaxis": "x",
           "y": [
            0
           ],
           "yaxis": "y"
          },
          {
           "hovertemplate": "Ancestry=%{x}<br>Day=Delta 16<br>Daily Average Vials Transacted=%{y}<extra></extra>",
           "legendgroup": "Multi",
           "marker": {
            "color": "#FFA15A",
            "symbol": "circle"
           },
           "mode": "markers",
           "name": "Multi",
           "orientation": "v",
           "showlegend": true,
           "type": "scatter",
           "x": [
            "Multi"
           ],
           "xaxis": "x",
           "y": [
            -0.175
           ],
           "yaxis": "y"
          }
         ],
         "name": "Delta 16"
        },
        {
         "data": [
          {
           "hovertemplate": "Ancestry=%{x}<br>Day=Delta 17<br>Daily Average Vials Transacted=%{y}<extra></extra>",
           "legendgroup": "Asian",
           "marker": {
            "color": "#636efa",
            "symbol": "circle"
           },
           "mode": "markers",
           "name": "Asian",
           "orientation": "v",
           "showlegend": true,
           "type": "scatter",
           "x": [
            "Asian"
           ],
           "xaxis": "x",
           "y": [
            0
           ],
           "yaxis": "y"
          },
          {
           "hovertemplate": "Ancestry=%{x}<br>Day=Delta 17<br>Daily Average Vials Transacted=%{y}<extra></extra>",
           "legendgroup": "Black",
           "marker": {
            "color": "#EF553B",
            "symbol": "circle"
           },
           "mode": "markers",
           "name": "Black",
           "orientation": "v",
           "showlegend": true,
           "type": "scatter",
           "x": [
            "Black"
           ],
           "xaxis": "x",
           "y": [
            -0.1
           ],
           "yaxis": "y"
          },
          {
           "hovertemplate": "Ancestry=%{x}<br>Day=Delta 17<br>Daily Average Vials Transacted=%{y}<extra></extra>",
           "legendgroup": "Caucasian",
           "marker": {
            "color": "#00cc96",
            "symbol": "circle"
           },
           "mode": "markers",
           "name": "Caucasian",
           "orientation": "v",
           "showlegend": true,
           "type": "scatter",
           "x": [
            "Caucasian"
           ],
           "xaxis": "x",
           "y": [
            -0.052941176470588235
           ],
           "yaxis": "y"
          },
          {
           "hovertemplate": "Ancestry=%{x}<br>Day=Delta 17<br>Daily Average Vials Transacted=%{y}<extra></extra>",
           "legendgroup": "Latino",
           "marker": {
            "color": "#ab63fa",
            "symbol": "circle"
           },
           "mode": "markers",
           "name": "Latino",
           "orientation": "v",
           "showlegend": true,
           "type": "scatter",
           "x": [
            "Latino"
           ],
           "xaxis": "x",
           "y": [
            0
           ],
           "yaxis": "y"
          },
          {
           "hovertemplate": "Ancestry=%{x}<br>Day=Delta 17<br>Daily Average Vials Transacted=%{y}<extra></extra>",
           "legendgroup": "Multi",
           "marker": {
            "color": "#FFA15A",
            "symbol": "circle"
           },
           "mode": "markers",
           "name": "Multi",
           "orientation": "v",
           "showlegend": true,
           "type": "scatter",
           "x": [
            "Multi"
           ],
           "xaxis": "x",
           "y": [
            -0.25
           ],
           "yaxis": "y"
          }
         ],
         "name": "Delta 17"
        },
        {
         "data": [
          {
           "hovertemplate": "Ancestry=%{x}<br>Day=Delta 18<br>Daily Average Vials Transacted=%{y}<extra></extra>",
           "legendgroup": "Asian",
           "marker": {
            "color": "#636efa",
            "symbol": "circle"
           },
           "mode": "markers",
           "name": "Asian",
           "orientation": "v",
           "showlegend": true,
           "type": "scatter",
           "x": [
            "Asian"
           ],
           "xaxis": "x",
           "y": [
            0
           ],
           "yaxis": "y"
          },
          {
           "hovertemplate": "Ancestry=%{x}<br>Day=Delta 18<br>Daily Average Vials Transacted=%{y}<extra></extra>",
           "legendgroup": "Black",
           "marker": {
            "color": "#EF553B",
            "symbol": "circle"
           },
           "mode": "markers",
           "name": "Black",
           "orientation": "v",
           "showlegend": true,
           "type": "scatter",
           "x": [
            "Black"
           ],
           "xaxis": "x",
           "y": [
            0.1
           ],
           "yaxis": "y"
          },
          {
           "hovertemplate": "Ancestry=%{x}<br>Day=Delta 18<br>Daily Average Vials Transacted=%{y}<extra></extra>",
           "legendgroup": "Caucasian",
           "marker": {
            "color": "#00cc96",
            "symbol": "circle"
           },
           "mode": "markers",
           "name": "Caucasian",
           "orientation": "v",
           "showlegend": true,
           "type": "scatter",
           "x": [
            "Caucasian"
           ],
           "xaxis": "x",
           "y": [
            -0.011834319526627219
           ],
           "yaxis": "y"
          },
          {
           "hovertemplate": "Ancestry=%{x}<br>Day=Delta 18<br>Daily Average Vials Transacted=%{y}<extra></extra>",
           "legendgroup": "Latino",
           "marker": {
            "color": "#ab63fa",
            "symbol": "circle"
           },
           "mode": "markers",
           "name": "Latino",
           "orientation": "v",
           "showlegend": true,
           "type": "scatter",
           "x": [
            "Latino"
           ],
           "xaxis": "x",
           "y": [
            0
           ],
           "yaxis": "y"
          },
          {
           "hovertemplate": "Ancestry=%{x}<br>Day=Delta 18<br>Daily Average Vials Transacted=%{y}<extra></extra>",
           "legendgroup": "Multi",
           "marker": {
            "color": "#FFA15A",
            "symbol": "circle"
           },
           "mode": "markers",
           "name": "Multi",
           "orientation": "v",
           "showlegend": true,
           "type": "scatter",
           "x": [
            "Multi"
           ],
           "xaxis": "x",
           "y": [
            -0.15384615384615385
           ],
           "yaxis": "y"
          }
         ],
         "name": "Delta 18"
        },
        {
         "data": [
          {
           "hovertemplate": "Ancestry=%{x}<br>Day=Delta 19<br>Daily Average Vials Transacted=%{y}<extra></extra>",
           "legendgroup": "Asian",
           "marker": {
            "color": "#636efa",
            "symbol": "circle"
           },
           "mode": "markers",
           "name": "Asian",
           "orientation": "v",
           "showlegend": true,
           "type": "scatter",
           "x": [
            "Asian"
           ],
           "xaxis": "x",
           "y": [
            0
           ],
           "yaxis": "y"
          },
          {
           "hovertemplate": "Ancestry=%{x}<br>Day=Delta 19<br>Daily Average Vials Transacted=%{y}<extra></extra>",
           "legendgroup": "Black",
           "marker": {
            "color": "#EF553B",
            "symbol": "circle"
           },
           "mode": "markers",
           "name": "Black",
           "orientation": "v",
           "showlegend": true,
           "type": "scatter",
           "x": [
            "Black"
           ],
           "xaxis": "x",
           "y": [
            -0.1
           ],
           "yaxis": "y"
          },
          {
           "hovertemplate": "Ancestry=%{x}<br>Day=Delta 19<br>Daily Average Vials Transacted=%{y}<extra></extra>",
           "legendgroup": "Caucasian",
           "marker": {
            "color": "#00cc96",
            "symbol": "circle"
           },
           "mode": "markers",
           "name": "Caucasian",
           "orientation": "v",
           "showlegend": true,
           "type": "scatter",
           "x": [
            "Caucasian"
           ],
           "xaxis": "x",
           "y": [
            -0.11904761904761904
           ],
           "yaxis": "y"
          },
          {
           "hovertemplate": "Ancestry=%{x}<br>Day=Delta 19<br>Daily Average Vials Transacted=%{y}<extra></extra>",
           "legendgroup": "Latino",
           "marker": {
            "color": "#ab63fa",
            "symbol": "circle"
           },
           "mode": "markers",
           "name": "Latino",
           "orientation": "v",
           "showlegend": true,
           "type": "scatter",
           "x": [
            "Latino"
           ],
           "xaxis": "x",
           "y": [
            0
           ],
           "yaxis": "y"
          },
          {
           "hovertemplate": "Ancestry=%{x}<br>Day=Delta 19<br>Daily Average Vials Transacted=%{y}<extra></extra>",
           "legendgroup": "Multi",
           "marker": {
            "color": "#FFA15A",
            "symbol": "circle"
           },
           "mode": "markers",
           "name": "Multi",
           "orientation": "v",
           "showlegend": true,
           "type": "scatter",
           "x": [
            "Multi"
           ],
           "xaxis": "x",
           "y": [
            0.23076923076923078
           ],
           "yaxis": "y"
          }
         ],
         "name": "Delta 19"
        },
        {
         "data": [
          {
           "hovertemplate": "Ancestry=%{x}<br>Day=Delta 20<br>Daily Average Vials Transacted=%{y}<extra></extra>",
           "legendgroup": "Asian",
           "marker": {
            "color": "#636efa",
            "symbol": "circle"
           },
           "mode": "markers",
           "name": "Asian",
           "orientation": "v",
           "showlegend": true,
           "type": "scatter",
           "x": [
            "Asian"
           ],
           "xaxis": "x",
           "y": [
            0
           ],
           "yaxis": "y"
          },
          {
           "hovertemplate": "Ancestry=%{x}<br>Day=Delta 20<br>Daily Average Vials Transacted=%{y}<extra></extra>",
           "legendgroup": "Black",
           "marker": {
            "color": "#EF553B",
            "symbol": "circle"
           },
           "mode": "markers",
           "name": "Black",
           "orientation": "v",
           "showlegend": true,
           "type": "scatter",
           "x": [
            "Black"
           ],
           "xaxis": "x",
           "y": [
            0
           ],
           "yaxis": "y"
          },
          {
           "hovertemplate": "Ancestry=%{x}<br>Day=Delta 20<br>Daily Average Vials Transacted=%{y}<extra></extra>",
           "legendgroup": "Caucasian",
           "marker": {
            "color": "#00cc96",
            "symbol": "circle"
           },
           "mode": "markers",
           "name": "Caucasian",
           "orientation": "v",
           "showlegend": true,
           "type": "scatter",
           "x": [
            "Caucasian"
           ],
           "xaxis": "x",
           "y": [
            -0.03636363636363636
           ],
           "yaxis": "y"
          },
          {
           "hovertemplate": "Ancestry=%{x}<br>Day=Delta 20<br>Daily Average Vials Transacted=%{y}<extra></extra>",
           "legendgroup": "Latino",
           "marker": {
            "color": "#ab63fa",
            "symbol": "circle"
           },
           "mode": "markers",
           "name": "Latino",
           "orientation": "v",
           "showlegend": true,
           "type": "scatter",
           "x": [
            "Latino"
           ],
           "xaxis": "x",
           "y": [
            0
           ],
           "yaxis": "y"
          },
          {
           "hovertemplate": "Ancestry=%{x}<br>Day=Delta 20<br>Daily Average Vials Transacted=%{y}<extra></extra>",
           "legendgroup": "Multi",
           "marker": {
            "color": "#FFA15A",
            "symbol": "circle"
           },
           "mode": "markers",
           "name": "Multi",
           "orientation": "v",
           "showlegend": true,
           "type": "scatter",
           "x": [
            "Multi"
           ],
           "xaxis": "x",
           "y": [
            0
           ],
           "yaxis": "y"
          }
         ],
         "name": "Delta 20"
        },
        {
         "data": [
          {
           "hovertemplate": "Ancestry=%{x}<br>Day=Delta 21<br>Daily Average Vials Transacted=%{y}<extra></extra>",
           "legendgroup": "Asian",
           "marker": {
            "color": "#636efa",
            "symbol": "circle"
           },
           "mode": "markers",
           "name": "Asian",
           "orientation": "v",
           "showlegend": true,
           "type": "scatter",
           "x": [
            "Asian"
           ],
           "xaxis": "x",
           "y": [
            0
           ],
           "yaxis": "y"
          },
          {
           "hovertemplate": "Ancestry=%{x}<br>Day=Delta 21<br>Daily Average Vials Transacted=%{y}<extra></extra>",
           "legendgroup": "Black",
           "marker": {
            "color": "#EF553B",
            "symbol": "circle"
           },
           "mode": "markers",
           "name": "Black",
           "orientation": "v",
           "showlegend": true,
           "type": "scatter",
           "x": [
            "Black"
           ],
           "xaxis": "x",
           "y": [
            0
           ],
           "yaxis": "y"
          },
          {
           "hovertemplate": "Ancestry=%{x}<br>Day=Delta 21<br>Daily Average Vials Transacted=%{y}<extra></extra>",
           "legendgroup": "Caucasian",
           "marker": {
            "color": "#00cc96",
            "symbol": "circle"
           },
           "mode": "markers",
           "name": "Caucasian",
           "orientation": "v",
           "showlegend": true,
           "type": "scatter",
           "x": [
            "Caucasian"
           ],
           "xaxis": "x",
           "y": [
            0
           ],
           "yaxis": "y"
          },
          {
           "hovertemplate": "Ancestry=%{x}<br>Day=Delta 21<br>Daily Average Vials Transacted=%{y}<extra></extra>",
           "legendgroup": "Latino",
           "marker": {
            "color": "#ab63fa",
            "symbol": "circle"
           },
           "mode": "markers",
           "name": "Latino",
           "orientation": "v",
           "showlegend": true,
           "type": "scatter",
           "x": [
            "Latino"
           ],
           "xaxis": "x",
           "y": [
            0
           ],
           "yaxis": "y"
          },
          {
           "hovertemplate": "Ancestry=%{x}<br>Day=Delta 21<br>Daily Average Vials Transacted=%{y}<extra></extra>",
           "legendgroup": "Multi",
           "marker": {
            "color": "#FFA15A",
            "symbol": "circle"
           },
           "mode": "markers",
           "name": "Multi",
           "orientation": "v",
           "showlegend": true,
           "type": "scatter",
           "x": [
            "Multi"
           ],
           "xaxis": "x",
           "y": [
            0
           ],
           "yaxis": "y"
          }
         ],
         "name": "Delta 21"
        },
        {
         "data": [
          {
           "hovertemplate": "Ancestry=%{x}<br>Day=Delta 22<br>Daily Average Vials Transacted=%{y}<extra></extra>",
           "legendgroup": "Asian",
           "marker": {
            "color": "#636efa",
            "symbol": "circle"
           },
           "mode": "markers",
           "name": "Asian",
           "orientation": "v",
           "showlegend": true,
           "type": "scatter",
           "x": [
            "Asian"
           ],
           "xaxis": "x",
           "y": [
            0
           ],
           "yaxis": "y"
          },
          {
           "hovertemplate": "Ancestry=%{x}<br>Day=Delta 22<br>Daily Average Vials Transacted=%{y}<extra></extra>",
           "legendgroup": "Black",
           "marker": {
            "color": "#EF553B",
            "symbol": "circle"
           },
           "mode": "markers",
           "name": "Black",
           "orientation": "v",
           "showlegend": true,
           "type": "scatter",
           "x": [
            "Black"
           ],
           "xaxis": "x",
           "y": [
            -0.1
           ],
           "yaxis": "y"
          },
          {
           "hovertemplate": "Ancestry=%{x}<br>Day=Delta 22<br>Daily Average Vials Transacted=%{y}<extra></extra>",
           "legendgroup": "Caucasian",
           "marker": {
            "color": "#00cc96",
            "symbol": "circle"
           },
           "mode": "markers",
           "name": "Caucasian",
           "orientation": "v",
           "showlegend": true,
           "type": "scatter",
           "x": [
            "Caucasian"
           ],
           "xaxis": "x",
           "y": [
            0.012195121951219513
           ],
           "yaxis": "y"
          },
          {
           "hovertemplate": "Ancestry=%{x}<br>Day=Delta 22<br>Daily Average Vials Transacted=%{y}<extra></extra>",
           "legendgroup": "Latino",
           "marker": {
            "color": "#ab63fa",
            "symbol": "circle"
           },
           "mode": "markers",
           "name": "Latino",
           "orientation": "v",
           "showlegend": true,
           "type": "scatter",
           "x": [
            "Latino"
           ],
           "xaxis": "x",
           "y": [
            -0.42857142857142855
           ],
           "yaxis": "y"
          },
          {
           "hovertemplate": "Ancestry=%{x}<br>Day=Delta 22<br>Daily Average Vials Transacted=%{y}<extra></extra>",
           "legendgroup": "Multi",
           "marker": {
            "color": "#FFA15A",
            "symbol": "circle"
           },
           "mode": "markers",
           "name": "Multi",
           "orientation": "v",
           "showlegend": true,
           "type": "scatter",
           "x": [
            "Multi"
           ],
           "xaxis": "x",
           "y": [
            0.46153846153846156
           ],
           "yaxis": "y"
          }
         ],
         "name": "Delta 22"
        },
        {
         "data": [
          {
           "hovertemplate": "Ancestry=%{x}<br>Day=Delta 23<br>Daily Average Vials Transacted=%{y}<extra></extra>",
           "legendgroup": "Asian",
           "marker": {
            "color": "#636efa",
            "symbol": "circle"
           },
           "mode": "markers",
           "name": "Asian",
           "orientation": "v",
           "showlegend": true,
           "type": "scatter",
           "x": [
            "Asian"
           ],
           "xaxis": "x",
           "y": [
            0
           ],
           "yaxis": "y"
          },
          {
           "hovertemplate": "Ancestry=%{x}<br>Day=Delta 23<br>Daily Average Vials Transacted=%{y}<extra></extra>",
           "legendgroup": "Black",
           "marker": {
            "color": "#EF553B",
            "symbol": "circle"
           },
           "mode": "markers",
           "name": "Black",
           "orientation": "v",
           "showlegend": true,
           "type": "scatter",
           "x": [
            "Black"
           ],
           "xaxis": "x",
           "y": [
            0
           ],
           "yaxis": "y"
          },
          {
           "hovertemplate": "Ancestry=%{x}<br>Day=Delta 23<br>Daily Average Vials Transacted=%{y}<extra></extra>",
           "legendgroup": "Caucasian",
           "marker": {
            "color": "#00cc96",
            "symbol": "circle"
           },
           "mode": "markers",
           "name": "Caucasian",
           "orientation": "v",
           "showlegend": true,
           "type": "scatter",
           "x": [
            "Caucasian"
           ],
           "xaxis": "x",
           "y": [
            -0.018404907975460124
           ],
           "yaxis": "y"
          },
          {
           "hovertemplate": "Ancestry=%{x}<br>Day=Delta 23<br>Daily Average Vials Transacted=%{y}<extra></extra>",
           "legendgroup": "Latino",
           "marker": {
            "color": "#ab63fa",
            "symbol": "circle"
           },
           "mode": "markers",
           "name": "Latino",
           "orientation": "v",
           "showlegend": true,
           "type": "scatter",
           "x": [
            "Latino"
           ],
           "xaxis": "x",
           "y": [
            0
           ],
           "yaxis": "y"
          },
          {
           "hovertemplate": "Ancestry=%{x}<br>Day=Delta 23<br>Daily Average Vials Transacted=%{y}<extra></extra>",
           "legendgroup": "Multi",
           "marker": {
            "color": "#FFA15A",
            "symbol": "circle"
           },
           "mode": "markers",
           "name": "Multi",
           "orientation": "v",
           "showlegend": true,
           "type": "scatter",
           "x": [
            "Multi"
           ],
           "xaxis": "x",
           "y": [
            -0.05128205128205128
           ],
           "yaxis": "y"
          }
         ],
         "name": "Delta 23"
        },
        {
         "data": [
          {
           "hovertemplate": "Ancestry=%{x}<br>Day=Delta 24<br>Daily Average Vials Transacted=%{y}<extra></extra>",
           "legendgroup": "Asian",
           "marker": {
            "color": "#636efa",
            "symbol": "circle"
           },
           "mode": "markers",
           "name": "Asian",
           "orientation": "v",
           "showlegend": true,
           "type": "scatter",
           "x": [
            "Asian"
           ],
           "xaxis": "x",
           "y": [
            0
           ],
           "yaxis": "y"
          },
          {
           "hovertemplate": "Ancestry=%{x}<br>Day=Delta 24<br>Daily Average Vials Transacted=%{y}<extra></extra>",
           "legendgroup": "Black",
           "marker": {
            "color": "#EF553B",
            "symbol": "circle"
           },
           "mode": "markers",
           "name": "Black",
           "orientation": "v",
           "showlegend": true,
           "type": "scatter",
           "x": [
            "Black"
           ],
           "xaxis": "x",
           "y": [
            -1
           ],
           "yaxis": "y"
          },
          {
           "hovertemplate": "Ancestry=%{x}<br>Day=Delta 24<br>Daily Average Vials Transacted=%{y}<extra></extra>",
           "legendgroup": "Caucasian",
           "marker": {
            "color": "#00cc96",
            "symbol": "circle"
           },
           "mode": "markers",
           "name": "Caucasian",
           "orientation": "v",
           "showlegend": true,
           "type": "scatter",
           "x": [
            "Caucasian"
           ],
           "xaxis": "x",
           "y": [
            -0.030864197530864196
           ],
           "yaxis": "y"
          },
          {
           "hovertemplate": "Ancestry=%{x}<br>Day=Delta 24<br>Daily Average Vials Transacted=%{y}<extra></extra>",
           "legendgroup": "Latino",
           "marker": {
            "color": "#ab63fa",
            "symbol": "circle"
           },
           "mode": "markers",
           "name": "Latino",
           "orientation": "v",
           "showlegend": true,
           "type": "scatter",
           "x": [
            "Latino"
           ],
           "xaxis": "x",
           "y": [
            -0.047619047619047616
           ],
           "yaxis": "y"
          },
          {
           "hovertemplate": "Ancestry=%{x}<br>Day=Delta 24<br>Daily Average Vials Transacted=%{y}<extra></extra>",
           "legendgroup": "Multi",
           "marker": {
            "color": "#FFA15A",
            "symbol": "circle"
           },
           "mode": "markers",
           "name": "Multi",
           "orientation": "v",
           "showlegend": true,
           "type": "scatter",
           "x": [
            "Multi"
           ],
           "xaxis": "x",
           "y": [
            0.23076923076923078
           ],
           "yaxis": "y"
          }
         ],
         "name": "Delta 24"
        },
        {
         "data": [
          {
           "hovertemplate": "Ancestry=%{x}<br>Day=Delta 25<br>Daily Average Vials Transacted=%{y}<extra></extra>",
           "legendgroup": "Asian",
           "marker": {
            "color": "#636efa",
            "symbol": "circle"
           },
           "mode": "markers",
           "name": "Asian",
           "orientation": "v",
           "showlegend": true,
           "type": "scatter",
           "x": [
            "Asian"
           ],
           "xaxis": "x",
           "y": [
            -0.012987012987012988
           ],
           "yaxis": "y"
          },
          {
           "hovertemplate": "Ancestry=%{x}<br>Day=Delta 25<br>Daily Average Vials Transacted=%{y}<extra></extra>",
           "legendgroup": "Black",
           "marker": {
            "color": "#EF553B",
            "symbol": "circle"
           },
           "mode": "markers",
           "name": "Black",
           "orientation": "v",
           "showlegend": true,
           "type": "scatter",
           "x": [
            "Black"
           ],
           "xaxis": "x",
           "y": [
            0
           ],
           "yaxis": "y"
          },
          {
           "hovertemplate": "Ancestry=%{x}<br>Day=Delta 25<br>Daily Average Vials Transacted=%{y}<extra></extra>",
           "legendgroup": "Caucasian",
           "marker": {
            "color": "#00cc96",
            "symbol": "circle"
           },
           "mode": "markers",
           "name": "Caucasian",
           "orientation": "v",
           "showlegend": true,
           "type": "scatter",
           "x": [
            "Caucasian"
           ],
           "xaxis": "x",
           "y": [
            0.14375
           ],
           "yaxis": "y"
          },
          {
           "hovertemplate": "Ancestry=%{x}<br>Day=Delta 25<br>Daily Average Vials Transacted=%{y}<extra></extra>",
           "legendgroup": "Latino",
           "marker": {
            "color": "#ab63fa",
            "symbol": "circle"
           },
           "mode": "markers",
           "name": "Latino",
           "orientation": "v",
           "showlegend": true,
           "type": "scatter",
           "x": [
            "Latino"
           ],
           "xaxis": "x",
           "y": [
            0
           ],
           "yaxis": "y"
          },
          {
           "hovertemplate": "Ancestry=%{x}<br>Day=Delta 25<br>Daily Average Vials Transacted=%{y}<extra></extra>",
           "legendgroup": "Multi",
           "marker": {
            "color": "#FFA15A",
            "symbol": "circle"
           },
           "mode": "markers",
           "name": "Multi",
           "orientation": "v",
           "showlegend": true,
           "type": "scatter",
           "x": [
            "Multi"
           ],
           "xaxis": "x",
           "y": [
            0
           ],
           "yaxis": "y"
          }
         ],
         "name": "Delta 25"
        },
        {
         "data": [
          {
           "hovertemplate": "Ancestry=%{x}<br>Day=Delta 26<br>Daily Average Vials Transacted=%{y}<extra></extra>",
           "legendgroup": "Asian",
           "marker": {
            "color": "#636efa",
            "symbol": "circle"
           },
           "mode": "markers",
           "name": "Asian",
           "orientation": "v",
           "showlegend": true,
           "type": "scatter",
           "x": [
            "Asian"
           ],
           "xaxis": "x",
           "y": [
            -0.012987012987012988
           ],
           "yaxis": "y"
          },
          {
           "hovertemplate": "Ancestry=%{x}<br>Day=Delta 26<br>Daily Average Vials Transacted=%{y}<extra></extra>",
           "legendgroup": "Black",
           "marker": {
            "color": "#EF553B",
            "symbol": "circle"
           },
           "mode": "markers",
           "name": "Black",
           "orientation": "v",
           "showlegend": true,
           "type": "scatter",
           "x": [
            "Black"
           ],
           "xaxis": "x",
           "y": [
            0.125
           ],
           "yaxis": "y"
          },
          {
           "hovertemplate": "Ancestry=%{x}<br>Day=Delta 26<br>Daily Average Vials Transacted=%{y}<extra></extra>",
           "legendgroup": "Caucasian",
           "marker": {
            "color": "#00cc96",
            "symbol": "circle"
           },
           "mode": "markers",
           "name": "Caucasian",
           "orientation": "v",
           "showlegend": true,
           "type": "scatter",
           "x": [
            "Caucasian"
           ],
           "xaxis": "x",
           "y": [
            -0.0440251572327044
           ],
           "yaxis": "y"
          },
          {
           "hovertemplate": "Ancestry=%{x}<br>Day=Delta 26<br>Daily Average Vials Transacted=%{y}<extra></extra>",
           "legendgroup": "Latino",
           "marker": {
            "color": "#ab63fa",
            "symbol": "circle"
           },
           "mode": "markers",
           "name": "Latino",
           "orientation": "v",
           "showlegend": true,
           "type": "scatter",
           "x": [
            "Latino"
           ],
           "xaxis": "x",
           "y": [
            0
           ],
           "yaxis": "y"
          },
          {
           "hovertemplate": "Ancestry=%{x}<br>Day=Delta 26<br>Daily Average Vials Transacted=%{y}<extra></extra>",
           "legendgroup": "Multi",
           "marker": {
            "color": "#FFA15A",
            "symbol": "circle"
           },
           "mode": "markers",
           "name": "Multi",
           "orientation": "v",
           "showlegend": true,
           "type": "scatter",
           "x": [
            "Multi"
           ],
           "xaxis": "x",
           "y": [
            0
           ],
           "yaxis": "y"
          }
         ],
         "name": "Delta 26"
        },
        {
         "data": [
          {
           "hovertemplate": "Ancestry=%{x}<br>Day=Delta 27<br>Daily Average Vials Transacted=%{y}<extra></extra>",
           "legendgroup": "Asian",
           "marker": {
            "color": "#636efa",
            "symbol": "circle"
           },
           "mode": "markers",
           "name": "Asian",
           "orientation": "v",
           "showlegend": true,
           "type": "scatter",
           "x": [
            "Asian"
           ],
           "xaxis": "x",
           "y": [
            0
           ],
           "yaxis": "y"
          },
          {
           "hovertemplate": "Ancestry=%{x}<br>Day=Delta 27<br>Daily Average Vials Transacted=%{y}<extra></extra>",
           "legendgroup": "Black",
           "marker": {
            "color": "#EF553B",
            "symbol": "circle"
           },
           "mode": "markers",
           "name": "Black",
           "orientation": "v",
           "showlegend": true,
           "type": "scatter",
           "x": [
            "Black"
           ],
           "xaxis": "x",
           "y": [
            0
           ],
           "yaxis": "y"
          },
          {
           "hovertemplate": "Ancestry=%{x}<br>Day=Delta 27<br>Daily Average Vials Transacted=%{y}<extra></extra>",
           "legendgroup": "Caucasian",
           "marker": {
            "color": "#00cc96",
            "symbol": "circle"
           },
           "mode": "markers",
           "name": "Caucasian",
           "orientation": "v",
           "showlegend": true,
           "type": "scatter",
           "x": [
            "Caucasian"
           ],
           "xaxis": "x",
           "y": [
            -0.0949367088607595
           ],
           "yaxis": "y"
          },
          {
           "hovertemplate": "Ancestry=%{x}<br>Day=Delta 27<br>Daily Average Vials Transacted=%{y}<extra></extra>",
           "legendgroup": "Latino",
           "marker": {
            "color": "#ab63fa",
            "symbol": "circle"
           },
           "mode": "markers",
           "name": "Latino",
           "orientation": "v",
           "showlegend": true,
           "type": "scatter",
           "x": [
            "Latino"
           ],
           "xaxis": "x",
           "y": [
            -0.05
           ],
           "yaxis": "y"
          },
          {
           "hovertemplate": "Ancestry=%{x}<br>Day=Delta 27<br>Daily Average Vials Transacted=%{y}<extra></extra>",
           "legendgroup": "Multi",
           "marker": {
            "color": "#FFA15A",
            "symbol": "circle"
           },
           "mode": "markers",
           "name": "Multi",
           "orientation": "v",
           "showlegend": true,
           "type": "scatter",
           "x": [
            "Multi"
           ],
           "xaxis": "x",
           "y": [
            0.2631578947368421
           ],
           "yaxis": "y"
          }
         ],
         "name": "Delta 27"
        },
        {
         "data": [
          {
           "hovertemplate": "Ancestry=%{x}<br>Day=Delta 28<br>Daily Average Vials Transacted=%{y}<extra></extra>",
           "legendgroup": "Asian",
           "marker": {
            "color": "#636efa",
            "symbol": "circle"
           },
           "mode": "markers",
           "name": "Asian",
           "orientation": "v",
           "showlegend": true,
           "type": "scatter",
           "x": [
            "Asian"
           ],
           "xaxis": "x",
           "y": [
            0.12987012987012986
           ],
           "yaxis": "y"
          },
          {
           "hovertemplate": "Ancestry=%{x}<br>Day=Delta 28<br>Daily Average Vials Transacted=%{y}<extra></extra>",
           "legendgroup": "Black",
           "marker": {
            "color": "#EF553B",
            "symbol": "circle"
           },
           "mode": "markers",
           "name": "Black",
           "orientation": "v",
           "showlegend": true,
           "type": "scatter",
           "x": [
            "Black"
           ],
           "xaxis": "x",
           "y": [
            0
           ],
           "yaxis": "y"
          },
          {
           "hovertemplate": "Ancestry=%{x}<br>Day=Delta 28<br>Daily Average Vials Transacted=%{y}<extra></extra>",
           "legendgroup": "Caucasian",
           "marker": {
            "color": "#00cc96",
            "symbol": "circle"
           },
           "mode": "markers",
           "name": "Caucasian",
           "orientation": "v",
           "showlegend": true,
           "type": "scatter",
           "x": [
            "Caucasian"
           ],
           "xaxis": "x",
           "y": [
            -0.05732484076433121
           ],
           "yaxis": "y"
          },
          {
           "hovertemplate": "Ancestry=%{x}<br>Day=Delta 28<br>Daily Average Vials Transacted=%{y}<extra></extra>",
           "legendgroup": "Latino",
           "marker": {
            "color": "#ab63fa",
            "symbol": "circle"
           },
           "mode": "markers",
           "name": "Latino",
           "orientation": "v",
           "showlegend": true,
           "type": "scatter",
           "x": [
            "Latino"
           ],
           "xaxis": "x",
           "y": [
            0
           ],
           "yaxis": "y"
          },
          {
           "hovertemplate": "Ancestry=%{x}<br>Day=Delta 28<br>Daily Average Vials Transacted=%{y}<extra></extra>",
           "legendgroup": "Multi",
           "marker": {
            "color": "#FFA15A",
            "symbol": "circle"
           },
           "mode": "markers",
           "name": "Multi",
           "orientation": "v",
           "showlegend": true,
           "type": "scatter",
           "x": [
            "Multi"
           ],
           "xaxis": "x",
           "y": [
            -0.13513513513513514
           ],
           "yaxis": "y"
          }
         ],
         "name": "Delta 28"
        },
        {
         "data": [
          {
           "hovertemplate": "Ancestry=%{x}<br>Day=Delta 29<br>Daily Average Vials Transacted=%{y}<extra></extra>",
           "legendgroup": "Asian",
           "marker": {
            "color": "#636efa",
            "symbol": "circle"
           },
           "mode": "markers",
           "name": "Asian",
           "orientation": "v",
           "showlegend": true,
           "type": "scatter",
           "x": [
            "Asian"
           ],
           "xaxis": "x",
           "y": [
            -0.012987012987012988
           ],
           "yaxis": "y"
          },
          {
           "hovertemplate": "Ancestry=%{x}<br>Day=Delta 29<br>Daily Average Vials Transacted=%{y}<extra></extra>",
           "legendgroup": "Black",
           "marker": {
            "color": "#EF553B",
            "symbol": "circle"
           },
           "mode": "markers",
           "name": "Black",
           "orientation": "v",
           "showlegend": true,
           "type": "scatter",
           "x": [
            "Black"
           ],
           "xaxis": "x",
           "y": [
            -1.2857142857142858
           ],
           "yaxis": "y"
          },
          {
           "hovertemplate": "Ancestry=%{x}<br>Day=Delta 29<br>Daily Average Vials Transacted=%{y}<extra></extra>",
           "legendgroup": "Caucasian",
           "marker": {
            "color": "#00cc96",
            "symbol": "circle"
           },
           "mode": "markers",
           "name": "Caucasian",
           "orientation": "v",
           "showlegend": true,
           "type": "scatter",
           "x": [
            "Caucasian"
           ],
           "xaxis": "x",
           "y": [
            -0.10256410256410256
           ],
           "yaxis": "y"
          },
          {
           "hovertemplate": "Ancestry=%{x}<br>Day=Delta 29<br>Daily Average Vials Transacted=%{y}<extra></extra>",
           "legendgroup": "Latino",
           "marker": {
            "color": "#ab63fa",
            "symbol": "circle"
           },
           "mode": "markers",
           "name": "Latino",
           "orientation": "v",
           "showlegend": true,
           "type": "scatter",
           "x": [
            "Latino"
           ],
           "xaxis": "x",
           "y": [
            -0.29411764705882354
           ],
           "yaxis": "y"
          },
          {
           "hovertemplate": "Ancestry=%{x}<br>Day=Delta 29<br>Daily Average Vials Transacted=%{y}<extra></extra>",
           "legendgroup": "Multi",
           "marker": {
            "color": "#FFA15A",
            "symbol": "circle"
           },
           "mode": "markers",
           "name": "Multi",
           "orientation": "v",
           "showlegend": true,
           "type": "scatter",
           "x": [
            "Multi"
           ],
           "xaxis": "x",
           "y": [
            -0.2702702702702703
           ],
           "yaxis": "y"
          }
         ],
         "name": "Delta 29"
        },
        {
         "data": [
          {
           "hovertemplate": "Ancestry=%{x}<br>Day=Delta 30<br>Daily Average Vials Transacted=%{y}<extra></extra>",
           "legendgroup": "Asian",
           "marker": {
            "color": "#636efa",
            "symbol": "circle"
           },
           "mode": "markers",
           "name": "Asian",
           "orientation": "v",
           "showlegend": true,
           "type": "scatter",
           "x": [
            "Asian"
           ],
           "xaxis": "x",
           "y": [
            0
           ],
           "yaxis": "y"
          },
          {
           "hovertemplate": "Ancestry=%{x}<br>Day=Delta 30<br>Daily Average Vials Transacted=%{y}<extra></extra>",
           "legendgroup": "Black",
           "marker": {
            "color": "#EF553B",
            "symbol": "circle"
           },
           "mode": "markers",
           "name": "Black",
           "orientation": "v",
           "showlegend": true,
           "type": "scatter",
           "x": [
            "Black"
           ],
           "xaxis": "x",
           "y": [
            1.5
           ],
           "yaxis": "y"
          },
          {
           "hovertemplate": "Ancestry=%{x}<br>Day=Delta 30<br>Daily Average Vials Transacted=%{y}<extra></extra>",
           "legendgroup": "Caucasian",
           "marker": {
            "color": "#00cc96",
            "symbol": "circle"
           },
           "mode": "markers",
           "name": "Caucasian",
           "orientation": "v",
           "showlegend": true,
           "type": "scatter",
           "x": [
            "Caucasian"
           ],
           "xaxis": "x",
           "y": [
            -0.03870967741935484
           ],
           "yaxis": "y"
          },
          {
           "hovertemplate": "Ancestry=%{x}<br>Day=Delta 30<br>Daily Average Vials Transacted=%{y}<extra></extra>",
           "legendgroup": "Latino",
           "marker": {
            "color": "#ab63fa",
            "symbol": "circle"
           },
           "mode": "markers",
           "name": "Latino",
           "orientation": "v",
           "showlegend": true,
           "type": "scatter",
           "x": [
            "Latino"
           ],
           "xaxis": "x",
           "y": [
            0
           ],
           "yaxis": "y"
          },
          {
           "hovertemplate": "Ancestry=%{x}<br>Day=Delta 30<br>Daily Average Vials Transacted=%{y}<extra></extra>",
           "legendgroup": "Multi",
           "marker": {
            "color": "#FFA15A",
            "symbol": "circle"
           },
           "mode": "markers",
           "name": "Multi",
           "orientation": "v",
           "showlegend": true,
           "type": "scatter",
           "x": [
            "Multi"
           ],
           "xaxis": "x",
           "y": [
            0.40540540540540543
           ],
           "yaxis": "y"
          }
         ],
         "name": "Delta 30"
        },
        {
         "data": [
          {
           "hovertemplate": "Ancestry=%{x}<br>Day=Delta 31<br>Daily Average Vials Transacted=%{y}<extra></extra>",
           "legendgroup": "Asian",
           "marker": {
            "color": "#636efa",
            "symbol": "circle"
           },
           "mode": "markers",
           "name": "Asian",
           "orientation": "v",
           "showlegend": true,
           "type": "scatter",
           "x": [
            "Asian"
           ],
           "xaxis": "x",
           "y": [
            0
           ],
           "yaxis": "y"
          },
          {
           "hovertemplate": "Ancestry=%{x}<br>Day=Delta 31<br>Daily Average Vials Transacted=%{y}<extra></extra>",
           "legendgroup": "Black",
           "marker": {
            "color": "#EF553B",
            "symbol": "circle"
           },
           "mode": "markers",
           "name": "Black",
           "orientation": "v",
           "showlegend": true,
           "type": "scatter",
           "x": [
            "Black"
           ],
           "xaxis": "x",
           "y": [
            0
           ],
           "yaxis": "y"
          },
          {
           "hovertemplate": "Ancestry=%{x}<br>Day=Delta 31<br>Daily Average Vials Transacted=%{y}<extra></extra>",
           "legendgroup": "Caucasian",
           "marker": {
            "color": "#00cc96",
            "symbol": "circle"
           },
           "mode": "markers",
           "name": "Caucasian",
           "orientation": "v",
           "showlegend": true,
           "type": "scatter",
           "x": [
            "Caucasian"
           ],
           "xaxis": "x",
           "y": [
            0.04516129032258064
           ],
           "yaxis": "y"
          },
          {
           "hovertemplate": "Ancestry=%{x}<br>Day=Delta 31<br>Daily Average Vials Transacted=%{y}<extra></extra>",
           "legendgroup": "Latino",
           "marker": {
            "color": "#ab63fa",
            "symbol": "circle"
           },
           "mode": "markers",
           "name": "Latino",
           "orientation": "v",
           "showlegend": true,
           "type": "scatter",
           "x": [
            "Latino"
           ],
           "xaxis": "x",
           "y": [
            -0.058823529411764705
           ],
           "yaxis": "y"
          },
          {
           "hovertemplate": "Ancestry=%{x}<br>Day=Delta 31<br>Daily Average Vials Transacted=%{y}<extra></extra>",
           "legendgroup": "Multi",
           "marker": {
            "color": "#FFA15A",
            "symbol": "circle"
           },
           "mode": "markers",
           "name": "Multi",
           "orientation": "v",
           "showlegend": true,
           "type": "scatter",
           "x": [
            "Multi"
           ],
           "xaxis": "x",
           "y": [
            -0.02702702702702703
           ],
           "yaxis": "y"
          }
         ],
         "name": "Delta 31"
        },
        {
         "data": [
          {
           "hovertemplate": "Ancestry=%{x}<br>Day=Delta 32<br>Daily Average Vials Transacted=%{y}<extra></extra>",
           "legendgroup": "Asian",
           "marker": {
            "color": "#636efa",
            "symbol": "circle"
           },
           "mode": "markers",
           "name": "Asian",
           "orientation": "v",
           "showlegend": true,
           "type": "scatter",
           "x": [
            "Asian"
           ],
           "xaxis": "x",
           "y": [
            -0.012987012987012988
           ],
           "yaxis": "y"
          },
          {
           "hovertemplate": "Ancestry=%{x}<br>Day=Delta 32<br>Daily Average Vials Transacted=%{y}<extra></extra>",
           "legendgroup": "Black",
           "marker": {
            "color": "#EF553B",
            "symbol": "circle"
           },
           "mode": "markers",
           "name": "Black",
           "orientation": "v",
           "showlegend": true,
           "type": "scatter",
           "x": [
            "Black"
           ],
           "xaxis": "x",
           "y": [
            0
           ],
           "yaxis": "y"
          },
          {
           "hovertemplate": "Ancestry=%{x}<br>Day=Delta 32<br>Daily Average Vials Transacted=%{y}<extra></extra>",
           "legendgroup": "Caucasian",
           "marker": {
            "color": "#00cc96",
            "symbol": "circle"
           },
           "mode": "markers",
           "name": "Caucasian",
           "orientation": "v",
           "showlegend": true,
           "type": "scatter",
           "x": [
            "Caucasian"
           ],
           "xaxis": "x",
           "y": [
            -0.09090909090909091
           ],
           "yaxis": "y"
          },
          {
           "hovertemplate": "Ancestry=%{x}<br>Day=Delta 32<br>Daily Average Vials Transacted=%{y}<extra></extra>",
           "legendgroup": "Latino",
           "marker": {
            "color": "#ab63fa",
            "symbol": "circle"
           },
           "mode": "markers",
           "name": "Latino",
           "orientation": "v",
           "showlegend": true,
           "type": "scatter",
           "x": [
            "Latino"
           ],
           "xaxis": "x",
           "y": [
            0.5882352941176471
           ],
           "yaxis": "y"
          },
          {
           "hovertemplate": "Ancestry=%{x}<br>Day=Delta 32<br>Daily Average Vials Transacted=%{y}<extra></extra>",
           "legendgroup": "Multi",
           "marker": {
            "color": "#FFA15A",
            "symbol": "circle"
           },
           "mode": "markers",
           "name": "Multi",
           "orientation": "v",
           "showlegend": true,
           "type": "scatter",
           "x": [
            "Multi"
           ],
           "xaxis": "x",
           "y": [
            0
           ],
           "yaxis": "y"
          }
         ],
         "name": "Delta 32"
        },
        {
         "data": [
          {
           "hovertemplate": "Ancestry=%{x}<br>Day=Delta 33<br>Daily Average Vials Transacted=%{y}<extra></extra>",
           "legendgroup": "Asian",
           "marker": {
            "color": "#636efa",
            "symbol": "circle"
           },
           "mode": "markers",
           "name": "Asian",
           "orientation": "v",
           "showlegend": true,
           "type": "scatter",
           "x": [
            "Asian"
           ],
           "xaxis": "x",
           "y": [
            0
           ],
           "yaxis": "y"
          },
          {
           "hovertemplate": "Ancestry=%{x}<br>Day=Delta 33<br>Daily Average Vials Transacted=%{y}<extra></extra>",
           "legendgroup": "Black",
           "marker": {
            "color": "#EF553B",
            "symbol": "circle"
           },
           "mode": "markers",
           "name": "Black",
           "orientation": "v",
           "showlegend": true,
           "type": "scatter",
           "x": [
            "Black"
           ],
           "xaxis": "x",
           "y": [
            0
           ],
           "yaxis": "y"
          },
          {
           "hovertemplate": "Ancestry=%{x}<br>Day=Delta 33<br>Daily Average Vials Transacted=%{y}<extra></extra>",
           "legendgroup": "Caucasian",
           "marker": {
            "color": "#00cc96",
            "symbol": "circle"
           },
           "mode": "markers",
           "name": "Caucasian",
           "orientation": "v",
           "showlegend": true,
           "type": "scatter",
           "x": [
            "Caucasian"
           ],
           "xaxis": "x",
           "y": [
            -0.07947019867549669
           ],
           "yaxis": "y"
          },
          {
           "hovertemplate": "Ancestry=%{x}<br>Day=Delta 33<br>Daily Average Vials Transacted=%{y}<extra></extra>",
           "legendgroup": "Latino",
           "marker": {
            "color": "#ab63fa",
            "symbol": "circle"
           },
           "mode": "markers",
           "name": "Latino",
           "orientation": "v",
           "showlegend": true,
           "type": "scatter",
           "x": [
            "Latino"
           ],
           "xaxis": "x",
           "y": [
            0
           ],
           "yaxis": "y"
          },
          {
           "hovertemplate": "Ancestry=%{x}<br>Day=Delta 33<br>Daily Average Vials Transacted=%{y}<extra></extra>",
           "legendgroup": "Multi",
           "marker": {
            "color": "#FFA15A",
            "symbol": "circle"
           },
           "mode": "markers",
           "name": "Multi",
           "orientation": "v",
           "showlegend": true,
           "type": "scatter",
           "x": [
            "Multi"
           ],
           "xaxis": "x",
           "y": [
            0
           ],
           "yaxis": "y"
          }
         ],
         "name": "Delta 33"
        },
        {
         "data": [
          {
           "hovertemplate": "Ancestry=%{x}<br>Day=Delta 34<br>Daily Average Vials Transacted=%{y}<extra></extra>",
           "legendgroup": "Asian",
           "marker": {
            "color": "#636efa",
            "symbol": "circle"
           },
           "mode": "markers",
           "name": "Asian",
           "orientation": "v",
           "showlegend": true,
           "type": "scatter",
           "x": [
            "Asian"
           ],
           "xaxis": "x",
           "y": [
            0
           ],
           "yaxis": "y"
          },
          {
           "hovertemplate": "Ancestry=%{x}<br>Day=Delta 34<br>Daily Average Vials Transacted=%{y}<extra></extra>",
           "legendgroup": "Black",
           "marker": {
            "color": "#EF553B",
            "symbol": "circle"
           },
           "mode": "markers",
           "name": "Black",
           "orientation": "v",
           "showlegend": true,
           "type": "scatter",
           "x": [
            "Black"
           ],
           "xaxis": "x",
           "y": [
            0
           ],
           "yaxis": "y"
          },
          {
           "hovertemplate": "Ancestry=%{x}<br>Day=Delta 34<br>Daily Average Vials Transacted=%{y}<extra></extra>",
           "legendgroup": "Caucasian",
           "marker": {
            "color": "#00cc96",
            "symbol": "circle"
           },
           "mode": "markers",
           "name": "Caucasian",
           "orientation": "v",
           "showlegend": true,
           "type": "scatter",
           "x": [
            "Caucasian"
           ],
           "xaxis": "x",
           "y": [
            0.12751677852348994
           ],
           "yaxis": "y"
          },
          {
           "hovertemplate": "Ancestry=%{x}<br>Day=Delta 34<br>Daily Average Vials Transacted=%{y}<extra></extra>",
           "legendgroup": "Latino",
           "marker": {
            "color": "#ab63fa",
            "symbol": "circle"
           },
           "mode": "markers",
           "name": "Latino",
           "orientation": "v",
           "showlegend": true,
           "type": "scatter",
           "x": [
            "Latino"
           ],
           "xaxis": "x",
           "y": [
            0
           ],
           "yaxis": "y"
          },
          {
           "hovertemplate": "Ancestry=%{x}<br>Day=Delta 34<br>Daily Average Vials Transacted=%{y}<extra></extra>",
           "legendgroup": "Multi",
           "marker": {
            "color": "#FFA15A",
            "symbol": "circle"
           },
           "mode": "markers",
           "name": "Multi",
           "orientation": "v",
           "showlegend": true,
           "type": "scatter",
           "x": [
            "Multi"
           ],
           "xaxis": "x",
           "y": [
            0
           ],
           "yaxis": "y"
          }
         ],
         "name": "Delta 34"
        },
        {
         "data": [
          {
           "hovertemplate": "Ancestry=%{x}<br>Day=Delta 35<br>Daily Average Vials Transacted=%{y}<extra></extra>",
           "legendgroup": "Asian",
           "marker": {
            "color": "#636efa",
            "symbol": "circle"
           },
           "mode": "markers",
           "name": "Asian",
           "orientation": "v",
           "showlegend": true,
           "type": "scatter",
           "x": [
            "Asian"
           ],
           "xaxis": "x",
           "y": [
            0
           ],
           "yaxis": "y"
          },
          {
           "hovertemplate": "Ancestry=%{x}<br>Day=Delta 35<br>Daily Average Vials Transacted=%{y}<extra></extra>",
           "legendgroup": "Black",
           "marker": {
            "color": "#EF553B",
            "symbol": "circle"
           },
           "mode": "markers",
           "name": "Black",
           "orientation": "v",
           "showlegend": true,
           "type": "scatter",
           "x": [
            "Black"
           ],
           "xaxis": "x",
           "y": [
            0
           ],
           "yaxis": "y"
          },
          {
           "hovertemplate": "Ancestry=%{x}<br>Day=Delta 35<br>Daily Average Vials Transacted=%{y}<extra></extra>",
           "legendgroup": "Caucasian",
           "marker": {
            "color": "#00cc96",
            "symbol": "circle"
           },
           "mode": "markers",
           "name": "Caucasian",
           "orientation": "v",
           "showlegend": true,
           "type": "scatter",
           "x": [
            "Caucasian"
           ],
           "xaxis": "x",
           "y": [
            0.006756756756756757
           ],
           "yaxis": "y"
          },
          {
           "hovertemplate": "Ancestry=%{x}<br>Day=Delta 35<br>Daily Average Vials Transacted=%{y}<extra></extra>",
           "legendgroup": "Latino",
           "marker": {
            "color": "#ab63fa",
            "symbol": "circle"
           },
           "mode": "markers",
           "name": "Latino",
           "orientation": "v",
           "showlegend": true,
           "type": "scatter",
           "x": [
            "Latino"
           ],
           "xaxis": "x",
           "y": [
            0
           ],
           "yaxis": "y"
          },
          {
           "hovertemplate": "Ancestry=%{x}<br>Day=Delta 35<br>Daily Average Vials Transacted=%{y}<extra></extra>",
           "legendgroup": "Multi",
           "marker": {
            "color": "#FFA15A",
            "symbol": "circle"
           },
           "mode": "markers",
           "name": "Multi",
           "orientation": "v",
           "showlegend": true,
           "type": "scatter",
           "x": [
            "Multi"
           ],
           "xaxis": "x",
           "y": [
            0
           ],
           "yaxis": "y"
          }
         ],
         "name": "Delta 35"
        },
        {
         "data": [
          {
           "hovertemplate": "Ancestry=%{x}<br>Day=Delta 36<br>Daily Average Vials Transacted=%{y}<extra></extra>",
           "legendgroup": "Asian",
           "marker": {
            "color": "#636efa",
            "symbol": "circle"
           },
           "mode": "markers",
           "name": "Asian",
           "orientation": "v",
           "showlegend": true,
           "type": "scatter",
           "x": [
            "Asian"
           ],
           "xaxis": "x",
           "y": [
            -0.06578947368421052
           ],
           "yaxis": "y"
          },
          {
           "hovertemplate": "Ancestry=%{x}<br>Day=Delta 36<br>Daily Average Vials Transacted=%{y}<extra></extra>",
           "legendgroup": "Black",
           "marker": {
            "color": "#EF553B",
            "symbol": "circle"
           },
           "mode": "markers",
           "name": "Black",
           "orientation": "v",
           "showlegend": true,
           "type": "scatter",
           "x": [
            "Black"
           ],
           "xaxis": "x",
           "y": [
            0
           ],
           "yaxis": "y"
          },
          {
           "hovertemplate": "Ancestry=%{x}<br>Day=Delta 36<br>Daily Average Vials Transacted=%{y}<extra></extra>",
           "legendgroup": "Caucasian",
           "marker": {
            "color": "#00cc96",
            "symbol": "circle"
           },
           "mode": "markers",
           "name": "Caucasian",
           "orientation": "v",
           "showlegend": true,
           "type": "scatter",
           "x": [
            "Caucasian"
           ],
           "xaxis": "x",
           "y": [
            0.06206896551724138
           ],
           "yaxis": "y"
          },
          {
           "hovertemplate": "Ancestry=%{x}<br>Day=Delta 36<br>Daily Average Vials Transacted=%{y}<extra></extra>",
           "legendgroup": "Latino",
           "marker": {
            "color": "#ab63fa",
            "symbol": "circle"
           },
           "mode": "markers",
           "name": "Latino",
           "orientation": "v",
           "showlegend": true,
           "type": "scatter",
           "x": [
            "Latino"
           ],
           "xaxis": "x",
           "y": [
            0
           ],
           "yaxis": "y"
          },
          {
           "hovertemplate": "Ancestry=%{x}<br>Day=Delta 36<br>Daily Average Vials Transacted=%{y}<extra></extra>",
           "legendgroup": "Multi",
           "marker": {
            "color": "#FFA15A",
            "symbol": "circle"
           },
           "mode": "markers",
           "name": "Multi",
           "orientation": "v",
           "showlegend": true,
           "type": "scatter",
           "x": [
            "Multi"
           ],
           "xaxis": "x",
           "y": [
            -0.027777777777777776
           ],
           "yaxis": "y"
          }
         ],
         "name": "Delta 36"
        },
        {
         "data": [
          {
           "hovertemplate": "Ancestry=%{x}<br>Day=Delta 37<br>Daily Average Vials Transacted=%{y}<extra></extra>",
           "legendgroup": "Asian",
           "marker": {
            "color": "#636efa",
            "symbol": "circle"
           },
           "mode": "markers",
           "name": "Asian",
           "orientation": "v",
           "showlegend": true,
           "type": "scatter",
           "x": [
            "Asian"
           ],
           "xaxis": "x",
           "y": [
            -0.02631578947368421
           ],
           "yaxis": "y"
          },
          {
           "hovertemplate": "Ancestry=%{x}<br>Day=Delta 37<br>Daily Average Vials Transacted=%{y}<extra></extra>",
           "legendgroup": "Black",
           "marker": {
            "color": "#EF553B",
            "symbol": "circle"
           },
           "mode": "markers",
           "name": "Black",
           "orientation": "v",
           "showlegend": true,
           "type": "scatter",
           "x": [
            "Black"
           ],
           "xaxis": "x",
           "y": [
            0
           ],
           "yaxis": "y"
          },
          {
           "hovertemplate": "Ancestry=%{x}<br>Day=Delta 37<br>Daily Average Vials Transacted=%{y}<extra></extra>",
           "legendgroup": "Caucasian",
           "marker": {
            "color": "#00cc96",
            "symbol": "circle"
           },
           "mode": "markers",
           "name": "Caucasian",
           "orientation": "v",
           "showlegend": true,
           "type": "scatter",
           "x": [
            "Caucasian"
           ],
           "xaxis": "x",
           "y": [
            -0.0763888888888889
           ],
           "yaxis": "y"
          },
          {
           "hovertemplate": "Ancestry=%{x}<br>Day=Delta 37<br>Daily Average Vials Transacted=%{y}<extra></extra>",
           "legendgroup": "Latino",
           "marker": {
            "color": "#ab63fa",
            "symbol": "circle"
           },
           "mode": "markers",
           "name": "Latino",
           "orientation": "v",
           "showlegend": true,
           "type": "scatter",
           "x": [
            "Latino"
           ],
           "xaxis": "x",
           "y": [
            0
           ],
           "yaxis": "y"
          },
          {
           "hovertemplate": "Ancestry=%{x}<br>Day=Delta 37<br>Daily Average Vials Transacted=%{y}<extra></extra>",
           "legendgroup": "Multi",
           "marker": {
            "color": "#FFA15A",
            "symbol": "circle"
           },
           "mode": "markers",
           "name": "Multi",
           "orientation": "v",
           "showlegend": true,
           "type": "scatter",
           "x": [
            "Multi"
           ],
           "xaxis": "x",
           "y": [
            -0.3611111111111111
           ],
           "yaxis": "y"
          }
         ],
         "name": "Delta 37"
        },
        {
         "data": [
          {
           "hovertemplate": "Ancestry=%{x}<br>Day=Delta 38<br>Daily Average Vials Transacted=%{y}<extra></extra>",
           "legendgroup": "Asian",
           "marker": {
            "color": "#636efa",
            "symbol": "circle"
           },
           "mode": "markers",
           "name": "Asian",
           "orientation": "v",
           "showlegend": true,
           "type": "scatter",
           "x": [
            "Asian"
           ],
           "xaxis": "x",
           "y": [
            0
           ],
           "yaxis": "y"
          },
          {
           "hovertemplate": "Ancestry=%{x}<br>Day=Delta 38<br>Daily Average Vials Transacted=%{y}<extra></extra>",
           "legendgroup": "Black",
           "marker": {
            "color": "#EF553B",
            "symbol": "circle"
           },
           "mode": "markers",
           "name": "Black",
           "orientation": "v",
           "showlegend": true,
           "type": "scatter",
           "x": [
            "Black"
           ],
           "xaxis": "x",
           "y": [
            0
           ],
           "yaxis": "y"
          },
          {
           "hovertemplate": "Ancestry=%{x}<br>Day=Delta 38<br>Daily Average Vials Transacted=%{y}<extra></extra>",
           "legendgroup": "Caucasian",
           "marker": {
            "color": "#00cc96",
            "symbol": "circle"
           },
           "mode": "markers",
           "name": "Caucasian",
           "orientation": "v",
           "showlegend": true,
           "type": "scatter",
           "x": [
            "Caucasian"
           ],
           "xaxis": "x",
           "y": [
            -0.02127659574468085
           ],
           "yaxis": "y"
          },
          {
           "hovertemplate": "Ancestry=%{x}<br>Day=Delta 38<br>Daily Average Vials Transacted=%{y}<extra></extra>",
           "legendgroup": "Latino",
           "marker": {
            "color": "#ab63fa",
            "symbol": "circle"
           },
           "mode": "markers",
           "name": "Latino",
           "orientation": "v",
           "showlegend": true,
           "type": "scatter",
           "x": [
            "Latino"
           ],
           "xaxis": "x",
           "y": [
            -0.11764705882352941
           ],
           "yaxis": "y"
          },
          {
           "hovertemplate": "Ancestry=%{x}<br>Day=Delta 38<br>Daily Average Vials Transacted=%{y}<extra></extra>",
           "legendgroup": "Multi",
           "marker": {
            "color": "#FFA15A",
            "symbol": "circle"
           },
           "mode": "markers",
           "name": "Multi",
           "orientation": "v",
           "showlegend": true,
           "type": "scatter",
           "x": [
            "Multi"
           ],
           "xaxis": "x",
           "y": [
            0
           ],
           "yaxis": "y"
          }
         ],
         "name": "Delta 38"
        },
        {
         "data": [
          {
           "hovertemplate": "Ancestry=%{x}<br>Day=Delta 39<br>Daily Average Vials Transacted=%{y}<extra></extra>",
           "legendgroup": "Asian",
           "marker": {
            "color": "#636efa",
            "symbol": "circle"
           },
           "mode": "markers",
           "name": "Asian",
           "orientation": "v",
           "showlegend": true,
           "type": "scatter",
           "x": [
            "Asian"
           ],
           "xaxis": "x",
           "y": [
            0
           ],
           "yaxis": "y"
          },
          {
           "hovertemplate": "Ancestry=%{x}<br>Day=Delta 39<br>Daily Average Vials Transacted=%{y}<extra></extra>",
           "legendgroup": "Black",
           "marker": {
            "color": "#EF553B",
            "symbol": "circle"
           },
           "mode": "markers",
           "name": "Black",
           "orientation": "v",
           "showlegend": true,
           "type": "scatter",
           "x": [
            "Black"
           ],
           "xaxis": "x",
           "y": [
            0
           ],
           "yaxis": "y"
          },
          {
           "hovertemplate": "Ancestry=%{x}<br>Day=Delta 39<br>Daily Average Vials Transacted=%{y}<extra></extra>",
           "legendgroup": "Caucasian",
           "marker": {
            "color": "#00cc96",
            "symbol": "circle"
           },
           "mode": "markers",
           "name": "Caucasian",
           "orientation": "v",
           "showlegend": true,
           "type": "scatter",
           "x": [
            "Caucasian"
           ],
           "xaxis": "x",
           "y": [
            -0.06569343065693431
           ],
           "yaxis": "y"
          },
          {
           "hovertemplate": "Ancestry=%{x}<br>Day=Delta 39<br>Daily Average Vials Transacted=%{y}<extra></extra>",
           "legendgroup": "Latino",
           "marker": {
            "color": "#ab63fa",
            "symbol": "circle"
           },
           "mode": "markers",
           "name": "Latino",
           "orientation": "v",
           "showlegend": true,
           "type": "scatter",
           "x": [
            "Latino"
           ],
           "xaxis": "x",
           "y": [
            0
           ],
           "yaxis": "y"
          },
          {
           "hovertemplate": "Ancestry=%{x}<br>Day=Delta 39<br>Daily Average Vials Transacted=%{y}<extra></extra>",
           "legendgroup": "Multi",
           "marker": {
            "color": "#FFA15A",
            "symbol": "circle"
           },
           "mode": "markers",
           "name": "Multi",
           "orientation": "v",
           "showlegend": true,
           "type": "scatter",
           "x": [
            "Multi"
           ],
           "xaxis": "x",
           "y": [
            0
           ],
           "yaxis": "y"
          }
         ],
         "name": "Delta 39"
        },
        {
         "data": [
          {
           "hovertemplate": "Ancestry=%{x}<br>Day=Delta 40<br>Daily Average Vials Transacted=%{y}<extra></extra>",
           "legendgroup": "Asian",
           "marker": {
            "color": "#636efa",
            "symbol": "circle"
           },
           "mode": "markers",
           "name": "Asian",
           "orientation": "v",
           "showlegend": true,
           "type": "scatter",
           "x": [
            "Asian"
           ],
           "xaxis": "x",
           "y": [
            -0.02666666666666667
           ],
           "yaxis": "y"
          },
          {
           "hovertemplate": "Ancestry=%{x}<br>Day=Delta 40<br>Daily Average Vials Transacted=%{y}<extra></extra>",
           "legendgroup": "Black",
           "marker": {
            "color": "#EF553B",
            "symbol": "circle"
           },
           "mode": "markers",
           "name": "Black",
           "orientation": "v",
           "showlegend": true,
           "type": "scatter",
           "x": [
            "Black"
           ],
           "xaxis": "x",
           "y": [
            0
           ],
           "yaxis": "y"
          },
          {
           "hovertemplate": "Ancestry=%{x}<br>Day=Delta 40<br>Daily Average Vials Transacted=%{y}<extra></extra>",
           "legendgroup": "Caucasian",
           "marker": {
            "color": "#00cc96",
            "symbol": "circle"
           },
           "mode": "markers",
           "name": "Caucasian",
           "orientation": "v",
           "showlegend": true,
           "type": "scatter",
           "x": [
            "Caucasian"
           ],
           "xaxis": "x",
           "y": [
            0.014705882352941176
           ],
           "yaxis": "y"
          },
          {
           "hovertemplate": "Ancestry=%{x}<br>Day=Delta 40<br>Daily Average Vials Transacted=%{y}<extra></extra>",
           "legendgroup": "Latino",
           "marker": {
            "color": "#ab63fa",
            "symbol": "circle"
           },
           "mode": "markers",
           "name": "Latino",
           "orientation": "v",
           "showlegend": true,
           "type": "scatter",
           "x": [
            "Latino"
           ],
           "xaxis": "x",
           "y": [
            0.0625
           ],
           "yaxis": "y"
          },
          {
           "hovertemplate": "Ancestry=%{x}<br>Day=Delta 40<br>Daily Average Vials Transacted=%{y}<extra></extra>",
           "legendgroup": "Multi",
           "marker": {
            "color": "#FFA15A",
            "symbol": "circle"
           },
           "mode": "markers",
           "name": "Multi",
           "orientation": "v",
           "showlegend": true,
           "type": "scatter",
           "x": [
            "Multi"
           ],
           "xaxis": "x",
           "y": [
            0.17142857142857143
           ],
           "yaxis": "y"
          }
         ],
         "name": "Delta 40"
        },
        {
         "data": [
          {
           "hovertemplate": "Ancestry=%{x}<br>Day=Delta 41<br>Daily Average Vials Transacted=%{y}<extra></extra>",
           "legendgroup": "Asian",
           "marker": {
            "color": "#636efa",
            "symbol": "circle"
           },
           "mode": "markers",
           "name": "Asian",
           "orientation": "v",
           "showlegend": true,
           "type": "scatter",
           "x": [
            "Asian"
           ],
           "xaxis": "x",
           "y": [
            -0.013333333333333334
           ],
           "yaxis": "y"
          },
          {
           "hovertemplate": "Ancestry=%{x}<br>Day=Delta 41<br>Daily Average Vials Transacted=%{y}<extra></extra>",
           "legendgroup": "Black",
           "marker": {
            "color": "#EF553B",
            "symbol": "circle"
           },
           "mode": "markers",
           "name": "Black",
           "orientation": "v",
           "showlegend": true,
           "type": "scatter",
           "x": [
            "Black"
           ],
           "xaxis": "x",
           "y": [
            0
           ],
           "yaxis": "y"
          },
          {
           "hovertemplate": "Ancestry=%{x}<br>Day=Delta 41<br>Daily Average Vials Transacted=%{y}<extra></extra>",
           "legendgroup": "Caucasian",
           "marker": {
            "color": "#00cc96",
            "symbol": "circle"
           },
           "mode": "markers",
           "name": "Caucasian",
           "orientation": "v",
           "showlegend": true,
           "type": "scatter",
           "x": [
            "Caucasian"
           ],
           "xaxis": "x",
           "y": [
            -0.022556390977443608
           ],
           "yaxis": "y"
          },
          {
           "hovertemplate": "Ancestry=%{x}<br>Day=Delta 41<br>Daily Average Vials Transacted=%{y}<extra></extra>",
           "legendgroup": "Latino",
           "marker": {
            "color": "#ab63fa",
            "symbol": "circle"
           },
           "mode": "markers",
           "name": "Latino",
           "orientation": "v",
           "showlegend": true,
           "type": "scatter",
           "x": [
            "Latino"
           ],
           "xaxis": "x",
           "y": [
            0
           ],
           "yaxis": "y"
          },
          {
           "hovertemplate": "Ancestry=%{x}<br>Day=Delta 41<br>Daily Average Vials Transacted=%{y}<extra></extra>",
           "legendgroup": "Multi",
           "marker": {
            "color": "#FFA15A",
            "symbol": "circle"
           },
           "mode": "markers",
           "name": "Multi",
           "orientation": "v",
           "showlegend": true,
           "type": "scatter",
           "x": [
            "Multi"
           ],
           "xaxis": "x",
           "y": [
            0
           ],
           "yaxis": "y"
          }
         ],
         "name": "Delta 41"
        },
        {
         "data": [
          {
           "hovertemplate": "Ancestry=%{x}<br>Day=Delta 42<br>Daily Average Vials Transacted=%{y}<extra></extra>",
           "legendgroup": "Asian",
           "marker": {
            "color": "#636efa",
            "symbol": "circle"
           },
           "mode": "markers",
           "name": "Asian",
           "orientation": "v",
           "showlegend": true,
           "type": "scatter",
           "x": [
            "Asian"
           ],
           "xaxis": "x",
           "y": [
            0
           ],
           "yaxis": "y"
          },
          {
           "hovertemplate": "Ancestry=%{x}<br>Day=Delta 42<br>Daily Average Vials Transacted=%{y}<extra></extra>",
           "legendgroup": "Black",
           "marker": {
            "color": "#EF553B",
            "symbol": "circle"
           },
           "mode": "markers",
           "name": "Black",
           "orientation": "v",
           "showlegend": true,
           "type": "scatter",
           "x": [
            "Black"
           ],
           "xaxis": "x",
           "y": [
            0
           ],
           "yaxis": "y"
          },
          {
           "hovertemplate": "Ancestry=%{x}<br>Day=Delta 42<br>Daily Average Vials Transacted=%{y}<extra></extra>",
           "legendgroup": "Caucasian",
           "marker": {
            "color": "#00cc96",
            "symbol": "circle"
           },
           "mode": "markers",
           "name": "Caucasian",
           "orientation": "v",
           "showlegend": true,
           "type": "scatter",
           "x": [
            "Caucasian"
           ],
           "xaxis": "x",
           "y": [
            -0.007518796992481203
           ],
           "yaxis": "y"
          },
          {
           "hovertemplate": "Ancestry=%{x}<br>Day=Delta 42<br>Daily Average Vials Transacted=%{y}<extra></extra>",
           "legendgroup": "Latino",
           "marker": {
            "color": "#ab63fa",
            "symbol": "circle"
           },
           "mode": "markers",
           "name": "Latino",
           "orientation": "v",
           "showlegend": true,
           "type": "scatter",
           "x": [
            "Latino"
           ],
           "xaxis": "x",
           "y": [
            0
           ],
           "yaxis": "y"
          },
          {
           "hovertemplate": "Ancestry=%{x}<br>Day=Delta 42<br>Daily Average Vials Transacted=%{y}<extra></extra>",
           "legendgroup": "Multi",
           "marker": {
            "color": "#FFA15A",
            "symbol": "circle"
           },
           "mode": "markers",
           "name": "Multi",
           "orientation": "v",
           "showlegend": true,
           "type": "scatter",
           "x": [
            "Multi"
           ],
           "xaxis": "x",
           "y": [
            0
           ],
           "yaxis": "y"
          }
         ],
         "name": "Delta 42"
        },
        {
         "data": [
          {
           "hovertemplate": "Ancestry=%{x}<br>Day=Delta 43<br>Daily Average Vials Transacted=%{y}<extra></extra>",
           "legendgroup": "Asian",
           "marker": {
            "color": "#636efa",
            "symbol": "circle"
           },
           "mode": "markers",
           "name": "Asian",
           "orientation": "v",
           "showlegend": true,
           "type": "scatter",
           "x": [
            "Asian"
           ],
           "xaxis": "x",
           "y": [
            0
           ],
           "yaxis": "y"
          },
          {
           "hovertemplate": "Ancestry=%{x}<br>Day=Delta 43<br>Daily Average Vials Transacted=%{y}<extra></extra>",
           "legendgroup": "Black",
           "marker": {
            "color": "#EF553B",
            "symbol": "circle"
           },
           "mode": "markers",
           "name": "Black",
           "orientation": "v",
           "showlegend": true,
           "type": "scatter",
           "x": [
            "Black"
           ],
           "xaxis": "x",
           "y": [
            0
           ],
           "yaxis": "y"
          },
          {
           "hovertemplate": "Ancestry=%{x}<br>Day=Delta 43<br>Daily Average Vials Transacted=%{y}<extra></extra>",
           "legendgroup": "Caucasian",
           "marker": {
            "color": "#00cc96",
            "symbol": "circle"
           },
           "mode": "markers",
           "name": "Caucasian",
           "orientation": "v",
           "showlegend": true,
           "type": "scatter",
           "x": [
            "Caucasian"
           ],
           "xaxis": "x",
           "y": [
            0.03125
           ],
           "yaxis": "y"
          },
          {
           "hovertemplate": "Ancestry=%{x}<br>Day=Delta 43<br>Daily Average Vials Transacted=%{y}<extra></extra>",
           "legendgroup": "Latino",
           "marker": {
            "color": "#ab63fa",
            "symbol": "circle"
           },
           "mode": "markers",
           "name": "Latino",
           "orientation": "v",
           "showlegend": true,
           "type": "scatter",
           "x": [
            "Latino"
           ],
           "xaxis": "x",
           "y": [
            0
           ],
           "yaxis": "y"
          },
          {
           "hovertemplate": "Ancestry=%{x}<br>Day=Delta 43<br>Daily Average Vials Transacted=%{y}<extra></extra>",
           "legendgroup": "Multi",
           "marker": {
            "color": "#FFA15A",
            "symbol": "circle"
           },
           "mode": "markers",
           "name": "Multi",
           "orientation": "v",
           "showlegend": true,
           "type": "scatter",
           "x": [
            "Multi"
           ],
           "xaxis": "x",
           "y": [
            -0.030303030303030304
           ],
           "yaxis": "y"
          }
         ],
         "name": "Delta 43"
        },
        {
         "data": [
          {
           "hovertemplate": "Ancestry=%{x}<br>Day=Delta 44<br>Daily Average Vials Transacted=%{y}<extra></extra>",
           "legendgroup": "Asian",
           "marker": {
            "color": "#636efa",
            "symbol": "circle"
           },
           "mode": "markers",
           "name": "Asian",
           "orientation": "v",
           "showlegend": true,
           "type": "scatter",
           "x": [
            "Asian"
           ],
           "xaxis": "x",
           "y": [
            0.12162162162162163
           ],
           "yaxis": "y"
          },
          {
           "hovertemplate": "Ancestry=%{x}<br>Day=Delta 44<br>Daily Average Vials Transacted=%{y}<extra></extra>",
           "legendgroup": "Black",
           "marker": {
            "color": "#EF553B",
            "symbol": "circle"
           },
           "mode": "markers",
           "name": "Black",
           "orientation": "v",
           "showlegend": true,
           "type": "scatter",
           "x": [
            "Black"
           ],
           "xaxis": "x",
           "y": [
            -0.5
           ],
           "yaxis": "y"
          },
          {
           "hovertemplate": "Ancestry=%{x}<br>Day=Delta 44<br>Daily Average Vials Transacted=%{y}<extra></extra>",
           "legendgroup": "Caucasian",
           "marker": {
            "color": "#00cc96",
            "symbol": "circle"
           },
           "mode": "markers",
           "name": "Caucasian",
           "orientation": "v",
           "showlegend": true,
           "type": "scatter",
           "x": [
            "Caucasian"
           ],
           "xaxis": "x",
           "y": [
            -0.0546875
           ],
           "yaxis": "y"
          },
          {
           "hovertemplate": "Ancestry=%{x}<br>Day=Delta 44<br>Daily Average Vials Transacted=%{y}<extra></extra>",
           "legendgroup": "Latino",
           "marker": {
            "color": "#ab63fa",
            "symbol": "circle"
           },
           "mode": "markers",
           "name": "Latino",
           "orientation": "v",
           "showlegend": true,
           "type": "scatter",
           "x": [
            "Latino"
           ],
           "xaxis": "x",
           "y": [
            0
           ],
           "yaxis": "y"
          },
          {
           "hovertemplate": "Ancestry=%{x}<br>Day=Delta 44<br>Daily Average Vials Transacted=%{y}<extra></extra>",
           "legendgroup": "Multi",
           "marker": {
            "color": "#FFA15A",
            "symbol": "circle"
           },
           "mode": "markers",
           "name": "Multi",
           "orientation": "v",
           "showlegend": true,
           "type": "scatter",
           "x": [
            "Multi"
           ],
           "xaxis": "x",
           "y": [
            0
           ],
           "yaxis": "y"
          }
         ],
         "name": "Delta 44"
        },
        {
         "data": [
          {
           "hovertemplate": "Ancestry=%{x}<br>Day=Delta 45<br>Daily Average Vials Transacted=%{y}<extra></extra>",
           "legendgroup": "Asian",
           "marker": {
            "color": "#636efa",
            "symbol": "circle"
           },
           "mode": "markers",
           "name": "Asian",
           "orientation": "v",
           "showlegend": true,
           "type": "scatter",
           "x": [
            "Asian"
           ],
           "xaxis": "x",
           "y": [
            0
           ],
           "yaxis": "y"
          },
          {
           "hovertemplate": "Ancestry=%{x}<br>Day=Delta 45<br>Daily Average Vials Transacted=%{y}<extra></extra>",
           "legendgroup": "Black",
           "marker": {
            "color": "#EF553B",
            "symbol": "circle"
           },
           "mode": "markers",
           "name": "Black",
           "orientation": "v",
           "showlegend": true,
           "type": "scatter",
           "x": [
            "Black"
           ],
           "xaxis": "x",
           "y": [
            -1
           ],
           "yaxis": "y"
          },
          {
           "hovertemplate": "Ancestry=%{x}<br>Day=Delta 45<br>Daily Average Vials Transacted=%{y}<extra></extra>",
           "legendgroup": "Caucasian",
           "marker": {
            "color": "#00cc96",
            "symbol": "circle"
           },
           "mode": "markers",
           "name": "Caucasian",
           "orientation": "v",
           "showlegend": true,
           "type": "scatter",
           "x": [
            "Caucasian"
           ],
           "xaxis": "x",
           "y": [
            0.072
           ],
           "yaxis": "y"
          },
          {
           "hovertemplate": "Ancestry=%{x}<br>Day=Delta 45<br>Daily Average Vials Transacted=%{y}<extra></extra>",
           "legendgroup": "Latino",
           "marker": {
            "color": "#ab63fa",
            "symbol": "circle"
           },
           "mode": "markers",
           "name": "Latino",
           "orientation": "v",
           "showlegend": true,
           "type": "scatter",
           "x": [
            "Latino"
           ],
           "xaxis": "x",
           "y": [
            -0.3125
           ],
           "yaxis": "y"
          },
          {
           "hovertemplate": "Ancestry=%{x}<br>Day=Delta 45<br>Daily Average Vials Transacted=%{y}<extra></extra>",
           "legendgroup": "Multi",
           "marker": {
            "color": "#FFA15A",
            "symbol": "circle"
           },
           "mode": "markers",
           "name": "Multi",
           "orientation": "v",
           "showlegend": true,
           "type": "scatter",
           "x": [
            "Multi"
           ],
           "xaxis": "x",
           "y": [
            0
           ],
           "yaxis": "y"
          }
         ],
         "name": "Delta 45"
        },
        {
         "data": [
          {
           "hovertemplate": "Ancestry=%{x}<br>Day=Delta 46<br>Daily Average Vials Transacted=%{y}<extra></extra>",
           "legendgroup": "Asian",
           "marker": {
            "color": "#636efa",
            "symbol": "circle"
           },
           "mode": "markers",
           "name": "Asian",
           "orientation": "v",
           "showlegend": true,
           "type": "scatter",
           "x": [
            "Asian"
           ],
           "xaxis": "x",
           "y": [
            0
           ],
           "yaxis": "y"
          },
          {
           "hovertemplate": "Ancestry=%{x}<br>Day=Delta 46<br>Daily Average Vials Transacted=%{y}<extra></extra>",
           "legendgroup": "Black",
           "marker": {
            "color": "#EF553B",
            "symbol": "circle"
           },
           "mode": "markers",
           "name": "Black",
           "orientation": "v",
           "showlegend": true,
           "type": "scatter",
           "x": [
            "Black"
           ],
           "xaxis": "x",
           "y": [
            1.5
           ],
           "yaxis": "y"
          },
          {
           "hovertemplate": "Ancestry=%{x}<br>Day=Delta 46<br>Daily Average Vials Transacted=%{y}<extra></extra>",
           "legendgroup": "Caucasian",
           "marker": {
            "color": "#00cc96",
            "symbol": "circle"
           },
           "mode": "markers",
           "name": "Caucasian",
           "orientation": "v",
           "showlegend": true,
           "type": "scatter",
           "x": [
            "Caucasian"
           ],
           "xaxis": "x",
           "y": [
            -0.04878048780487805
           ],
           "yaxis": "y"
          },
          {
           "hovertemplate": "Ancestry=%{x}<br>Day=Delta 46<br>Daily Average Vials Transacted=%{y}<extra></extra>",
           "legendgroup": "Latino",
           "marker": {
            "color": "#ab63fa",
            "symbol": "circle"
           },
           "mode": "markers",
           "name": "Latino",
           "orientation": "v",
           "showlegend": true,
           "type": "scatter",
           "x": [
            "Latino"
           ],
           "xaxis": "x",
           "y": [
            0
           ],
           "yaxis": "y"
          },
          {
           "hovertemplate": "Ancestry=%{x}<br>Day=Delta 46<br>Daily Average Vials Transacted=%{y}<extra></extra>",
           "legendgroup": "Multi",
           "marker": {
            "color": "#FFA15A",
            "symbol": "circle"
           },
           "mode": "markers",
           "name": "Multi",
           "orientation": "v",
           "showlegend": true,
           "type": "scatter",
           "x": [
            "Multi"
           ],
           "xaxis": "x",
           "y": [
            0
           ],
           "yaxis": "y"
          }
         ],
         "name": "Delta 46"
        },
        {
         "data": [
          {
           "hovertemplate": "Ancestry=%{x}<br>Day=Delta 47<br>Daily Average Vials Transacted=%{y}<extra></extra>",
           "legendgroup": "Asian",
           "marker": {
            "color": "#636efa",
            "symbol": "circle"
           },
           "mode": "markers",
           "name": "Asian",
           "orientation": "v",
           "showlegend": true,
           "type": "scatter",
           "x": [
            "Asian"
           ],
           "xaxis": "x",
           "y": [
            0
           ],
           "yaxis": "y"
          },
          {
           "hovertemplate": "Ancestry=%{x}<br>Day=Delta 47<br>Daily Average Vials Transacted=%{y}<extra></extra>",
           "legendgroup": "Black",
           "marker": {
            "color": "#EF553B",
            "symbol": "circle"
           },
           "mode": "markers",
           "name": "Black",
           "orientation": "v",
           "showlegend": true,
           "type": "scatter",
           "x": [
            "Black"
           ],
           "xaxis": "x",
           "y": [
            -0.6666666666666666
           ],
           "yaxis": "y"
          },
          {
           "hovertemplate": "Ancestry=%{x}<br>Day=Delta 47<br>Daily Average Vials Transacted=%{y}<extra></extra>",
           "legendgroup": "Caucasian",
           "marker": {
            "color": "#00cc96",
            "symbol": "circle"
           },
           "mode": "markers",
           "name": "Caucasian",
           "orientation": "v",
           "showlegend": true,
           "type": "scatter",
           "x": [
            "Caucasian"
           ],
           "xaxis": "x",
           "y": [
            0.0743801652892562
           ],
           "yaxis": "y"
          },
          {
           "hovertemplate": "Ancestry=%{x}<br>Day=Delta 47<br>Daily Average Vials Transacted=%{y}<extra></extra>",
           "legendgroup": "Latino",
           "marker": {
            "color": "#ab63fa",
            "symbol": "circle"
           },
           "mode": "markers",
           "name": "Latino",
           "orientation": "v",
           "showlegend": true,
           "type": "scatter",
           "x": [
            "Latino"
           ],
           "xaxis": "x",
           "y": [
            0
           ],
           "yaxis": "y"
          },
          {
           "hovertemplate": "Ancestry=%{x}<br>Day=Delta 47<br>Daily Average Vials Transacted=%{y}<extra></extra>",
           "legendgroup": "Multi",
           "marker": {
            "color": "#FFA15A",
            "symbol": "circle"
           },
           "mode": "markers",
           "name": "Multi",
           "orientation": "v",
           "showlegend": true,
           "type": "scatter",
           "x": [
            "Multi"
           ],
           "xaxis": "x",
           "y": [
            0
           ],
           "yaxis": "y"
          }
         ],
         "name": "Delta 47"
        },
        {
         "data": [
          {
           "hovertemplate": "Ancestry=%{x}<br>Day=Delta 48<br>Daily Average Vials Transacted=%{y}<extra></extra>",
           "legendgroup": "Asian",
           "marker": {
            "color": "#636efa",
            "symbol": "circle"
           },
           "mode": "markers",
           "name": "Asian",
           "orientation": "v",
           "showlegend": true,
           "type": "scatter",
           "x": [
            "Asian"
           ],
           "xaxis": "x",
           "y": [
            0
           ],
           "yaxis": "y"
          },
          {
           "hovertemplate": "Ancestry=%{x}<br>Day=Delta 48<br>Daily Average Vials Transacted=%{y}<extra></extra>",
           "legendgroup": "Black",
           "marker": {
            "color": "#EF553B",
            "symbol": "circle"
           },
           "mode": "markers",
           "name": "Black",
           "orientation": "v",
           "showlegend": true,
           "type": "scatter",
           "x": [
            "Black"
           ],
           "xaxis": "x",
           "y": [
            0
           ],
           "yaxis": "y"
          },
          {
           "hovertemplate": "Ancestry=%{x}<br>Day=Delta 48<br>Daily Average Vials Transacted=%{y}<extra></extra>",
           "legendgroup": "Caucasian",
           "marker": {
            "color": "#00cc96",
            "symbol": "circle"
           },
           "mode": "markers",
           "name": "Caucasian",
           "orientation": "v",
           "showlegend": true,
           "type": "scatter",
           "x": [
            "Caucasian"
           ],
           "xaxis": "x",
           "y": [
            0.15966386554621848
           ],
           "yaxis": "y"
          },
          {
           "hovertemplate": "Ancestry=%{x}<br>Day=Delta 48<br>Daily Average Vials Transacted=%{y}<extra></extra>",
           "legendgroup": "Latino",
           "marker": {
            "color": "#ab63fa",
            "symbol": "circle"
           },
           "mode": "markers",
           "name": "Latino",
           "orientation": "v",
           "showlegend": true,
           "type": "scatter",
           "x": [
            "Latino"
           ],
           "xaxis": "x",
           "y": [
            0
           ],
           "yaxis": "y"
          },
          {
           "hovertemplate": "Ancestry=%{x}<br>Day=Delta 48<br>Daily Average Vials Transacted=%{y}<extra></extra>",
           "legendgroup": "Multi",
           "marker": {
            "color": "#FFA15A",
            "symbol": "circle"
           },
           "mode": "markers",
           "name": "Multi",
           "orientation": "v",
           "showlegend": true,
           "type": "scatter",
           "x": [
            "Multi"
           ],
           "xaxis": "x",
           "y": [
            -0.0625
           ],
           "yaxis": "y"
          }
         ],
         "name": "Delta 48"
        },
        {
         "data": [
          {
           "hovertemplate": "Ancestry=%{x}<br>Day=Delta 49<br>Daily Average Vials Transacted=%{y}<extra></extra>",
           "legendgroup": "Asian",
           "marker": {
            "color": "#636efa",
            "symbol": "circle"
           },
           "mode": "markers",
           "name": "Asian",
           "orientation": "v",
           "showlegend": true,
           "type": "scatter",
           "x": [
            "Asian"
           ],
           "xaxis": "x",
           "y": [
            0
           ],
           "yaxis": "y"
          },
          {
           "hovertemplate": "Ancestry=%{x}<br>Day=Delta 49<br>Daily Average Vials Transacted=%{y}<extra></extra>",
           "legendgroup": "Black",
           "marker": {
            "color": "#EF553B",
            "symbol": "circle"
           },
           "mode": "markers",
           "name": "Black",
           "orientation": "v",
           "showlegend": true,
           "type": "scatter",
           "x": [
            "Black"
           ],
           "xaxis": "x",
           "y": [
            -0.8333333333333334
           ],
           "yaxis": "y"
          },
          {
           "hovertemplate": "Ancestry=%{x}<br>Day=Delta 49<br>Daily Average Vials Transacted=%{y}<extra></extra>",
           "legendgroup": "Caucasian",
           "marker": {
            "color": "#00cc96",
            "symbol": "circle"
           },
           "mode": "markers",
           "name": "Caucasian",
           "orientation": "v",
           "showlegend": true,
           "type": "scatter",
           "x": [
            "Caucasian"
           ],
           "xaxis": "x",
           "y": [
            -0.017094017094017096
           ],
           "yaxis": "y"
          },
          {
           "hovertemplate": "Ancestry=%{x}<br>Day=Delta 49<br>Daily Average Vials Transacted=%{y}<extra></extra>",
           "legendgroup": "Latino",
           "marker": {
            "color": "#ab63fa",
            "symbol": "circle"
           },
           "mode": "markers",
           "name": "Latino",
           "orientation": "v",
           "showlegend": true,
           "type": "scatter",
           "x": [
            "Latino"
           ],
           "xaxis": "x",
           "y": [
            0
           ],
           "yaxis": "y"
          },
          {
           "hovertemplate": "Ancestry=%{x}<br>Day=Delta 49<br>Daily Average Vials Transacted=%{y}<extra></extra>",
           "legendgroup": "Multi",
           "marker": {
            "color": "#FFA15A",
            "symbol": "circle"
           },
           "mode": "markers",
           "name": "Multi",
           "orientation": "v",
           "showlegend": true,
           "type": "scatter",
           "x": [
            "Multi"
           ],
           "xaxis": "x",
           "y": [
            0
           ],
           "yaxis": "y"
          }
         ],
         "name": "Delta 49"
        },
        {
         "data": [
          {
           "hovertemplate": "Ancestry=%{x}<br>Day=Delta 50<br>Daily Average Vials Transacted=%{y}<extra></extra>",
           "legendgroup": "Asian",
           "marker": {
            "color": "#636efa",
            "symbol": "circle"
           },
           "mode": "markers",
           "name": "Asian",
           "orientation": "v",
           "showlegend": true,
           "type": "scatter",
           "x": [
            "Asian"
           ],
           "xaxis": "x",
           "y": [
            -0.02702702702702703
           ],
           "yaxis": "y"
          },
          {
           "hovertemplate": "Ancestry=%{x}<br>Day=Delta 50<br>Daily Average Vials Transacted=%{y}<extra></extra>",
           "legendgroup": "Black",
           "marker": {
            "color": "#EF553B",
            "symbol": "circle"
           },
           "mode": "markers",
           "name": "Black",
           "orientation": "v",
           "showlegend": true,
           "type": "scatter",
           "x": [
            "Black"
           ],
           "xaxis": "x",
           "y": [
            0
           ],
           "yaxis": "y"
          },
          {
           "hovertemplate": "Ancestry=%{x}<br>Day=Delta 50<br>Daily Average Vials Transacted=%{y}<extra></extra>",
           "legendgroup": "Caucasian",
           "marker": {
            "color": "#00cc96",
            "symbol": "circle"
           },
           "mode": "markers",
           "name": "Caucasian",
           "orientation": "v",
           "showlegend": true,
           "type": "scatter",
           "x": [
            "Caucasian"
           ],
           "xaxis": "x",
           "y": [
            0
           ],
           "yaxis": "y"
          },
          {
           "hovertemplate": "Ancestry=%{x}<br>Day=Delta 50<br>Daily Average Vials Transacted=%{y}<extra></extra>",
           "legendgroup": "Latino",
           "marker": {
            "color": "#ab63fa",
            "symbol": "circle"
           },
           "mode": "markers",
           "name": "Latino",
           "orientation": "v",
           "showlegend": true,
           "type": "scatter",
           "x": [
            "Latino"
           ],
           "xaxis": "x",
           "y": [
            0
           ],
           "yaxis": "y"
          },
          {
           "hovertemplate": "Ancestry=%{x}<br>Day=Delta 50<br>Daily Average Vials Transacted=%{y}<extra></extra>",
           "legendgroup": "Multi",
           "marker": {
            "color": "#FFA15A",
            "symbol": "circle"
           },
           "mode": "markers",
           "name": "Multi",
           "orientation": "v",
           "showlegend": true,
           "type": "scatter",
           "x": [
            "Multi"
           ],
           "xaxis": "x",
           "y": [
            -0.0625
           ],
           "yaxis": "y"
          }
         ],
         "name": "Delta 50"
        },
        {
         "data": [
          {
           "hovertemplate": "Ancestry=%{x}<br>Day=Delta 51<br>Daily Average Vials Transacted=%{y}<extra></extra>",
           "legendgroup": "Asian",
           "marker": {
            "color": "#636efa",
            "symbol": "circle"
           },
           "mode": "markers",
           "name": "Asian",
           "orientation": "v",
           "showlegend": true,
           "type": "scatter",
           "x": [
            "Asian"
           ],
           "xaxis": "x",
           "y": [
            0.0136986301369863
           ],
           "yaxis": "y"
          },
          {
           "hovertemplate": "Ancestry=%{x}<br>Day=Delta 51<br>Daily Average Vials Transacted=%{y}<extra></extra>",
           "legendgroup": "Black",
           "marker": {
            "color": "#EF553B",
            "symbol": "circle"
           },
           "mode": "markers",
           "name": "Black",
           "orientation": "v",
           "showlegend": true,
           "type": "scatter",
           "x": [
            "Black"
           ],
           "xaxis": "x",
           "y": [
            -0.2
           ],
           "yaxis": "y"
          },
          {
           "hovertemplate": "Ancestry=%{x}<br>Day=Delta 51<br>Daily Average Vials Transacted=%{y}<extra></extra>",
           "legendgroup": "Caucasian",
           "marker": {
            "color": "#00cc96",
            "symbol": "circle"
           },
           "mode": "markers",
           "name": "Caucasian",
           "orientation": "v",
           "showlegend": true,
           "type": "scatter",
           "x": [
            "Caucasian"
           ],
           "xaxis": "x",
           "y": [
            0.050505050505050504
           ],
           "yaxis": "y"
          },
          {
           "hovertemplate": "Ancestry=%{x}<br>Day=Delta 51<br>Daily Average Vials Transacted=%{y}<extra></extra>",
           "legendgroup": "Latino",
           "marker": {
            "color": "#ab63fa",
            "symbol": "circle"
           },
           "mode": "markers",
           "name": "Latino",
           "orientation": "v",
           "showlegend": true,
           "type": "scatter",
           "x": [
            "Latino"
           ],
           "xaxis": "x",
           "y": [
            0
           ],
           "yaxis": "y"
          },
          {
           "hovertemplate": "Ancestry=%{x}<br>Day=Delta 51<br>Daily Average Vials Transacted=%{y}<extra></extra>",
           "legendgroup": "Multi",
           "marker": {
            "color": "#FFA15A",
            "symbol": "circle"
           },
           "mode": "markers",
           "name": "Multi",
           "orientation": "v",
           "showlegend": true,
           "type": "scatter",
           "x": [
            "Multi"
           ],
           "xaxis": "x",
           "y": [
            0
           ],
           "yaxis": "y"
          }
         ],
         "name": "Delta 51"
        },
        {
         "data": [
          {
           "hovertemplate": "Ancestry=%{x}<br>Day=Delta 52<br>Daily Average Vials Transacted=%{y}<extra></extra>",
           "legendgroup": "Asian",
           "marker": {
            "color": "#636efa",
            "symbol": "circle"
           },
           "mode": "markers",
           "name": "Asian",
           "orientation": "v",
           "showlegend": true,
           "type": "scatter",
           "x": [
            "Asian"
           ],
           "xaxis": "x",
           "y": [
            0.0273972602739726
           ],
           "yaxis": "y"
          },
          {
           "hovertemplate": "Ancestry=%{x}<br>Day=Delta 52<br>Daily Average Vials Transacted=%{y}<extra></extra>",
           "legendgroup": "Black",
           "marker": {
            "color": "#EF553B",
            "symbol": "circle"
           },
           "mode": "markers",
           "name": "Black",
           "orientation": "v",
           "showlegend": true,
           "type": "scatter",
           "x": [
            "Black"
           ],
           "xaxis": "x",
           "y": [
            -0.2
           ],
           "yaxis": "y"
          },
          {
           "hovertemplate": "Ancestry=%{x}<br>Day=Delta 52<br>Daily Average Vials Transacted=%{y}<extra></extra>",
           "legendgroup": "Caucasian",
           "marker": {
            "color": "#00cc96",
            "symbol": "circle"
           },
           "mode": "markers",
           "name": "Caucasian",
           "orientation": "v",
           "showlegend": true,
           "type": "scatter",
           "x": [
            "Caucasian"
           ],
           "xaxis": "x",
           "y": [
            0.01020408163265306
           ],
           "yaxis": "y"
          },
          {
           "hovertemplate": "Ancestry=%{x}<br>Day=Delta 52<br>Daily Average Vials Transacted=%{y}<extra></extra>",
           "legendgroup": "Latino",
           "marker": {
            "color": "#ab63fa",
            "symbol": "circle"
           },
           "mode": "markers",
           "name": "Latino",
           "orientation": "v",
           "showlegend": true,
           "type": "scatter",
           "x": [
            "Latino"
           ],
           "xaxis": "x",
           "y": [
            0.45454545454545453
           ],
           "yaxis": "y"
          },
          {
           "hovertemplate": "Ancestry=%{x}<br>Day=Delta 52<br>Daily Average Vials Transacted=%{y}<extra></extra>",
           "legendgroup": "Multi",
           "marker": {
            "color": "#FFA15A",
            "symbol": "circle"
           },
           "mode": "markers",
           "name": "Multi",
           "orientation": "v",
           "showlegend": true,
           "type": "scatter",
           "x": [
            "Multi"
           ],
           "xaxis": "x",
           "y": [
            0
           ],
           "yaxis": "y"
          }
         ],
         "name": "Delta 52"
        },
        {
         "data": [
          {
           "hovertemplate": "Ancestry=%{x}<br>Day=Delta 53<br>Daily Average Vials Transacted=%{y}<extra></extra>",
           "legendgroup": "Asian",
           "marker": {
            "color": "#636efa",
            "symbol": "circle"
           },
           "mode": "markers",
           "name": "Asian",
           "orientation": "v",
           "showlegend": true,
           "type": "scatter",
           "x": [
            "Asian"
           ],
           "xaxis": "x",
           "y": [
            -0.0958904109589041
           ],
           "yaxis": "y"
          },
          {
           "hovertemplate": "Ancestry=%{x}<br>Day=Delta 53<br>Daily Average Vials Transacted=%{y}<extra></extra>",
           "legendgroup": "Black",
           "marker": {
            "color": "#EF553B",
            "symbol": "circle"
           },
           "mode": "markers",
           "name": "Black",
           "orientation": "v",
           "showlegend": true,
           "type": "scatter",
           "x": [
            "Black"
           ],
           "xaxis": "x",
           "y": [
            -0.8
           ],
           "yaxis": "y"
          },
          {
           "hovertemplate": "Ancestry=%{x}<br>Day=Delta 53<br>Daily Average Vials Transacted=%{y}<extra></extra>",
           "legendgroup": "Caucasian",
           "marker": {
            "color": "#00cc96",
            "symbol": "circle"
           },
           "mode": "markers",
           "name": "Caucasian",
           "orientation": "v",
           "showlegend": true,
           "type": "scatter",
           "x": [
            "Caucasian"
           ],
           "xaxis": "x",
           "y": [
            0.041666666666666664
           ],
           "yaxis": "y"
          },
          {
           "hovertemplate": "Ancestry=%{x}<br>Day=Delta 53<br>Daily Average Vials Transacted=%{y}<extra></extra>",
           "legendgroup": "Latino",
           "marker": {
            "color": "#ab63fa",
            "symbol": "circle"
           },
           "mode": "markers",
           "name": "Latino",
           "orientation": "v",
           "showlegend": true,
           "type": "scatter",
           "x": [
            "Latino"
           ],
           "xaxis": "x",
           "y": [
            0.36363636363636365
           ],
           "yaxis": "y"
          },
          {
           "hovertemplate": "Ancestry=%{x}<br>Day=Delta 53<br>Daily Average Vials Transacted=%{y}<extra></extra>",
           "legendgroup": "Multi",
           "marker": {
            "color": "#FFA15A",
            "symbol": "circle"
           },
           "mode": "markers",
           "name": "Multi",
           "orientation": "v",
           "showlegend": true,
           "type": "scatter",
           "x": [
            "Multi"
           ],
           "xaxis": "x",
           "y": [
            -0.03333333333333333
           ],
           "yaxis": "y"
          }
         ],
         "name": "Delta 53"
        },
        {
         "data": [
          {
           "hovertemplate": "Ancestry=%{x}<br>Day=Delta 54<br>Daily Average Vials Transacted=%{y}<extra></extra>",
           "legendgroup": "Asian",
           "marker": {
            "color": "#636efa",
            "symbol": "circle"
           },
           "mode": "markers",
           "name": "Asian",
           "orientation": "v",
           "showlegend": true,
           "type": "scatter",
           "x": [
            "Asian"
           ],
           "xaxis": "x",
           "y": [
            0
           ],
           "yaxis": "y"
          },
          {
           "hovertemplate": "Ancestry=%{x}<br>Day=Delta 54<br>Daily Average Vials Transacted=%{y}<extra></extra>",
           "legendgroup": "Black",
           "marker": {
            "color": "#EF553B",
            "symbol": "circle"
           },
           "mode": "markers",
           "name": "Black",
           "orientation": "v",
           "showlegend": true,
           "type": "scatter",
           "x": [
            "Black"
           ],
           "xaxis": "x",
           "y": [
            0
           ],
           "yaxis": "y"
          },
          {
           "hovertemplate": "Ancestry=%{x}<br>Day=Delta 54<br>Daily Average Vials Transacted=%{y}<extra></extra>",
           "legendgroup": "Caucasian",
           "marker": {
            "color": "#00cc96",
            "symbol": "circle"
           },
           "mode": "markers",
           "name": "Caucasian",
           "orientation": "v",
           "showlegend": true,
           "type": "scatter",
           "x": [
            "Caucasian"
           ],
           "xaxis": "x",
           "y": [
            -0.4
           ],
           "yaxis": "y"
          },
          {
           "hovertemplate": "Ancestry=%{x}<br>Day=Delta 54<br>Daily Average Vials Transacted=%{y}<extra></extra>",
           "legendgroup": "Latino",
           "marker": {
            "color": "#ab63fa",
            "symbol": "circle"
           },
           "mode": "markers",
           "name": "Latino",
           "orientation": "v",
           "showlegend": true,
           "type": "scatter",
           "x": [
            "Latino"
           ],
           "xaxis": "x",
           "y": [
            0
           ],
           "yaxis": "y"
          },
          {
           "hovertemplate": "Ancestry=%{x}<br>Day=Delta 54<br>Daily Average Vials Transacted=%{y}<extra></extra>",
           "legendgroup": "Multi",
           "marker": {
            "color": "#FFA15A",
            "symbol": "circle"
           },
           "mode": "markers",
           "name": "Multi",
           "orientation": "v",
           "showlegend": true,
           "type": "scatter",
           "x": [
            "Multi"
           ],
           "xaxis": "x",
           "y": [
            -0.06666666666666667
           ],
           "yaxis": "y"
          }
         ],
         "name": "Delta 54"
        },
        {
         "data": [
          {
           "hovertemplate": "Ancestry=%{x}<br>Day=Delta 55<br>Daily Average Vials Transacted=%{y}<extra></extra>",
           "legendgroup": "Asian",
           "marker": {
            "color": "#636efa",
            "symbol": "circle"
           },
           "mode": "markers",
           "name": "Asian",
           "orientation": "v",
           "showlegend": true,
           "type": "scatter",
           "x": [
            "Asian"
           ],
           "xaxis": "x",
           "y": [
            0
           ],
           "yaxis": "y"
          },
          {
           "hovertemplate": "Ancestry=%{x}<br>Day=Delta 55<br>Daily Average Vials Transacted=%{y}<extra></extra>",
           "legendgroup": "Black",
           "marker": {
            "color": "#EF553B",
            "symbol": "circle"
           },
           "mode": "markers",
           "name": "Black",
           "orientation": "v",
           "showlegend": true,
           "type": "scatter",
           "x": [
            "Black"
           ],
           "xaxis": "x",
           "y": [
            -0.5
           ],
           "yaxis": "y"
          },
          {
           "hovertemplate": "Ancestry=%{x}<br>Day=Delta 55<br>Daily Average Vials Transacted=%{y}<extra></extra>",
           "legendgroup": "Caucasian",
           "marker": {
            "color": "#00cc96",
            "symbol": "circle"
           },
           "mode": "markers",
           "name": "Caucasian",
           "orientation": "v",
           "showlegend": true,
           "type": "scatter",
           "x": [
            "Caucasian"
           ],
           "xaxis": "x",
           "y": [
            -0.053763440860215055
           ],
           "yaxis": "y"
          },
          {
           "hovertemplate": "Ancestry=%{x}<br>Day=Delta 55<br>Daily Average Vials Transacted=%{y}<extra></extra>",
           "legendgroup": "Latino",
           "marker": {
            "color": "#ab63fa",
            "symbol": "circle"
           },
           "mode": "markers",
           "name": "Latino",
           "orientation": "v",
           "showlegend": true,
           "type": "scatter",
           "x": [
            "Latino"
           ],
           "xaxis": "x",
           "y": [
            0
           ],
           "yaxis": "y"
          },
          {
           "hovertemplate": "Ancestry=%{x}<br>Day=Delta 55<br>Daily Average Vials Transacted=%{y}<extra></extra>",
           "legendgroup": "Multi",
           "marker": {
            "color": "#FFA15A",
            "symbol": "circle"
           },
           "mode": "markers",
           "name": "Multi",
           "orientation": "v",
           "showlegend": true,
           "type": "scatter",
           "x": [
            "Multi"
           ],
           "xaxis": "x",
           "y": [
            0
           ],
           "yaxis": "y"
          }
         ],
         "name": "Delta 55"
        },
        {
         "data": [
          {
           "hovertemplate": "Ancestry=%{x}<br>Day=Delta 56<br>Daily Average Vials Transacted=%{y}<extra></extra>",
           "legendgroup": "Asian",
           "marker": {
            "color": "#636efa",
            "symbol": "circle"
           },
           "mode": "markers",
           "name": "Asian",
           "orientation": "v",
           "showlegend": true,
           "type": "scatter",
           "x": [
            "Asian"
           ],
           "xaxis": "x",
           "y": [
            0
           ],
           "yaxis": "y"
          },
          {
           "hovertemplate": "Ancestry=%{x}<br>Day=Delta 56<br>Daily Average Vials Transacted=%{y}<extra></extra>",
           "legendgroup": "Black",
           "marker": {
            "color": "#EF553B",
            "symbol": "circle"
           },
           "mode": "markers",
           "name": "Black",
           "orientation": "v",
           "showlegend": true,
           "type": "scatter",
           "x": [
            "Black"
           ],
           "xaxis": "x",
           "y": [
            0
           ],
           "yaxis": "y"
          },
          {
           "hovertemplate": "Ancestry=%{x}<br>Day=Delta 56<br>Daily Average Vials Transacted=%{y}<extra></extra>",
           "legendgroup": "Caucasian",
           "marker": {
            "color": "#00cc96",
            "symbol": "circle"
           },
           "mode": "markers",
           "name": "Caucasian",
           "orientation": "v",
           "showlegend": true,
           "type": "scatter",
           "x": [
            "Caucasian"
           ],
           "xaxis": "x",
           "y": [
            0.06666666666666667
           ],
           "yaxis": "y"
          },
          {
           "hovertemplate": "Ancestry=%{x}<br>Day=Delta 56<br>Daily Average Vials Transacted=%{y}<extra></extra>",
           "legendgroup": "Latino",
           "marker": {
            "color": "#ab63fa",
            "symbol": "circle"
           },
           "mode": "markers",
           "name": "Latino",
           "orientation": "v",
           "showlegend": true,
           "type": "scatter",
           "x": [
            "Latino"
           ],
           "xaxis": "x",
           "y": [
            0
           ],
           "yaxis": "y"
          },
          {
           "hovertemplate": "Ancestry=%{x}<br>Day=Delta 56<br>Daily Average Vials Transacted=%{y}<extra></extra>",
           "legendgroup": "Multi",
           "marker": {
            "color": "#FFA15A",
            "symbol": "circle"
           },
           "mode": "markers",
           "name": "Multi",
           "orientation": "v",
           "showlegend": true,
           "type": "scatter",
           "x": [
            "Multi"
           ],
           "xaxis": "x",
           "y": [
            -0.034482758620689655
           ],
           "yaxis": "y"
          }
         ],
         "name": "Delta 56"
        },
        {
         "data": [
          {
           "hovertemplate": "Ancestry=%{x}<br>Day=Delta 57<br>Daily Average Vials Transacted=%{y}<extra></extra>",
           "legendgroup": "Asian",
           "marker": {
            "color": "#636efa",
            "symbol": "circle"
           },
           "mode": "markers",
           "name": "Asian",
           "orientation": "v",
           "showlegend": true,
           "type": "scatter",
           "x": [
            "Asian"
           ],
           "xaxis": "x",
           "y": [
            0
           ],
           "yaxis": "y"
          },
          {
           "hovertemplate": "Ancestry=%{x}<br>Day=Delta 57<br>Daily Average Vials Transacted=%{y}<extra></extra>",
           "legendgroup": "Black",
           "marker": {
            "color": "#EF553B",
            "symbol": "circle"
           },
           "mode": "markers",
           "name": "Black",
           "orientation": "v",
           "showlegend": true,
           "type": "scatter",
           "x": [
            "Black"
           ],
           "xaxis": "x",
           "y": [
            -3
           ],
           "yaxis": "y"
          },
          {
           "hovertemplate": "Ancestry=%{x}<br>Day=Delta 57<br>Daily Average Vials Transacted=%{y}<extra></extra>",
           "legendgroup": "Caucasian",
           "marker": {
            "color": "#00cc96",
            "symbol": "circle"
           },
           "mode": "markers",
           "name": "Caucasian",
           "orientation": "v",
           "showlegend": true,
           "type": "scatter",
           "x": [
            "Caucasian"
           ],
           "xaxis": "x",
           "y": [
            -0.011764705882352941
           ],
           "yaxis": "y"
          },
          {
           "hovertemplate": "Ancestry=%{x}<br>Day=Delta 57<br>Daily Average Vials Transacted=%{y}<extra></extra>",
           "legendgroup": "Latino",
           "marker": {
            "color": "#ab63fa",
            "symbol": "circle"
           },
           "mode": "markers",
           "name": "Latino",
           "orientation": "v",
           "showlegend": true,
           "type": "scatter",
           "x": [
            "Latino"
           ],
           "xaxis": "x",
           "y": [
            0
           ],
           "yaxis": "y"
          },
          {
           "hovertemplate": "Ancestry=%{x}<br>Day=Delta 57<br>Daily Average Vials Transacted=%{y}<extra></extra>",
           "legendgroup": "Multi",
           "marker": {
            "color": "#FFA15A",
            "symbol": "circle"
           },
           "mode": "markers",
           "name": "Multi",
           "orientation": "v",
           "showlegend": true,
           "type": "scatter",
           "x": [
            "Multi"
           ],
           "xaxis": "x",
           "y": [
            -0.5
           ],
           "yaxis": "y"
          }
         ],
         "name": "Delta 57"
        },
        {
         "data": [
          {
           "hovertemplate": "Ancestry=%{x}<br>Day=Delta 58<br>Daily Average Vials Transacted=%{y}<extra></extra>",
           "legendgroup": "Asian",
           "marker": {
            "color": "#636efa",
            "symbol": "circle"
           },
           "mode": "markers",
           "name": "Asian",
           "orientation": "v",
           "showlegend": true,
           "type": "scatter",
           "x": [
            "Asian"
           ],
           "xaxis": "x",
           "y": [
            0
           ],
           "yaxis": "y"
          },
          {
           "hovertemplate": "Ancestry=%{x}<br>Day=Delta 58<br>Daily Average Vials Transacted=%{y}<extra></extra>",
           "legendgroup": "Black",
           "marker": {
            "color": "#EF553B",
            "symbol": "circle"
           },
           "mode": "markers",
           "name": "Black",
           "orientation": "v",
           "showlegend": true,
           "type": "scatter",
           "x": [
            "Black"
           ],
           "xaxis": "x",
           "y": [
            0
           ],
           "yaxis": "y"
          },
          {
           "hovertemplate": "Ancestry=%{x}<br>Day=Delta 58<br>Daily Average Vials Transacted=%{y}<extra></extra>",
           "legendgroup": "Caucasian",
           "marker": {
            "color": "#00cc96",
            "symbol": "circle"
           },
           "mode": "markers",
           "name": "Caucasian",
           "orientation": "v",
           "showlegend": true,
           "type": "scatter",
           "x": [
            "Caucasian"
           ],
           "xaxis": "x",
           "y": [
            -0.0963855421686747
           ],
           "yaxis": "y"
          },
          {
           "hovertemplate": "Ancestry=%{x}<br>Day=Delta 58<br>Daily Average Vials Transacted=%{y}<extra></extra>",
           "legendgroup": "Latino",
           "marker": {
            "color": "#ab63fa",
            "symbol": "circle"
           },
           "mode": "markers",
           "name": "Latino",
           "orientation": "v",
           "showlegend": true,
           "type": "scatter",
           "x": [
            "Latino"
           ],
           "xaxis": "x",
           "y": [
            0
           ],
           "yaxis": "y"
          },
          {
           "hovertemplate": "Ancestry=%{x}<br>Day=Delta 58<br>Daily Average Vials Transacted=%{y}<extra></extra>",
           "legendgroup": "Multi",
           "marker": {
            "color": "#FFA15A",
            "symbol": "circle"
           },
           "mode": "markers",
           "name": "Multi",
           "orientation": "v",
           "showlegend": true,
           "type": "scatter",
           "x": [
            "Multi"
           ],
           "xaxis": "x",
           "y": [
            0
           ],
           "yaxis": "y"
          }
         ],
         "name": "Delta 58"
        },
        {
         "data": [
          {
           "hovertemplate": "Ancestry=%{x}<br>Day=Delta 59<br>Daily Average Vials Transacted=%{y}<extra></extra>",
           "legendgroup": "Asian",
           "marker": {
            "color": "#636efa",
            "symbol": "circle"
           },
           "mode": "markers",
           "name": "Asian",
           "orientation": "v",
           "showlegend": true,
           "type": "scatter",
           "x": [
            "Asian"
           ],
           "xaxis": "x",
           "y": [
            0
           ],
           "yaxis": "y"
          },
          {
           "hovertemplate": "Ancestry=%{x}<br>Day=Delta 59<br>Daily Average Vials Transacted=%{y}<extra></extra>",
           "legendgroup": "Black",
           "marker": {
            "color": "#EF553B",
            "symbol": "circle"
           },
           "mode": "markers",
           "name": "Black",
           "orientation": "v",
           "showlegend": true,
           "type": "scatter",
           "x": [
            "Black"
           ],
           "xaxis": "x",
           "y": [
            0
           ],
           "yaxis": "y"
          },
          {
           "hovertemplate": "Ancestry=%{x}<br>Day=Delta 59<br>Daily Average Vials Transacted=%{y}<extra></extra>",
           "legendgroup": "Caucasian",
           "marker": {
            "color": "#00cc96",
            "symbol": "circle"
           },
           "mode": "markers",
           "name": "Caucasian",
           "orientation": "v",
           "showlegend": true,
           "type": "scatter",
           "x": [
            "Caucasian"
           ],
           "xaxis": "x",
           "y": [
            -0.12195121951219512
           ],
           "yaxis": "y"
          },
          {
           "hovertemplate": "Ancestry=%{x}<br>Day=Delta 59<br>Daily Average Vials Transacted=%{y}<extra></extra>",
           "legendgroup": "Latino",
           "marker": {
            "color": "#ab63fa",
            "symbol": "circle"
           },
           "mode": "markers",
           "name": "Latino",
           "orientation": "v",
           "showlegend": true,
           "type": "scatter",
           "x": [
            "Latino"
           ],
           "xaxis": "x",
           "y": [
            0
           ],
           "yaxis": "y"
          },
          {
           "hovertemplate": "Ancestry=%{x}<br>Day=Delta 59<br>Daily Average Vials Transacted=%{y}<extra></extra>",
           "legendgroup": "Multi",
           "marker": {
            "color": "#FFA15A",
            "symbol": "circle"
           },
           "mode": "markers",
           "name": "Multi",
           "orientation": "v",
           "showlegend": true,
           "type": "scatter",
           "x": [
            "Multi"
           ],
           "xaxis": "x",
           "y": [
            0
           ],
           "yaxis": "y"
          }
         ],
         "name": "Delta 59"
        },
        {
         "data": [
          {
           "hovertemplate": "Ancestry=%{x}<br>Day=Delta 60<br>Daily Average Vials Transacted=%{y}<extra></extra>",
           "legendgroup": "Asian",
           "marker": {
            "color": "#636efa",
            "symbol": "circle"
           },
           "mode": "markers",
           "name": "Asian",
           "orientation": "v",
           "showlegend": true,
           "type": "scatter",
           "x": [
            "Asian"
           ],
           "xaxis": "x",
           "y": [
            0
           ],
           "yaxis": "y"
          },
          {
           "hovertemplate": "Ancestry=%{x}<br>Day=Delta 60<br>Daily Average Vials Transacted=%{y}<extra></extra>",
           "legendgroup": "Black",
           "marker": {
            "color": "#EF553B",
            "symbol": "circle"
           },
           "mode": "markers",
           "name": "Black",
           "orientation": "v",
           "showlegend": true,
           "type": "scatter",
           "x": [
            "Black"
           ],
           "xaxis": "x",
           "y": [
            0
           ],
           "yaxis": "y"
          },
          {
           "hovertemplate": "Ancestry=%{x}<br>Day=Delta 60<br>Daily Average Vials Transacted=%{y}<extra></extra>",
           "legendgroup": "Caucasian",
           "marker": {
            "color": "#00cc96",
            "symbol": "circle"
           },
           "mode": "markers",
           "name": "Caucasian",
           "orientation": "v",
           "showlegend": true,
           "type": "scatter",
           "x": [
            "Caucasian"
           ],
           "xaxis": "x",
           "y": [
            -0.189873417721519
           ],
           "yaxis": "y"
          },
          {
           "hovertemplate": "Ancestry=%{x}<br>Day=Delta 60<br>Daily Average Vials Transacted=%{y}<extra></extra>",
           "legendgroup": "Latino",
           "marker": {
            "color": "#ab63fa",
            "symbol": "circle"
           },
           "mode": "markers",
           "name": "Latino",
           "orientation": "v",
           "showlegend": true,
           "type": "scatter",
           "x": [
            "Latino"
           ],
           "xaxis": "x",
           "y": [
            0
           ],
           "yaxis": "y"
          },
          {
           "hovertemplate": "Ancestry=%{x}<br>Day=Delta 60<br>Daily Average Vials Transacted=%{y}<extra></extra>",
           "legendgroup": "Multi",
           "marker": {
            "color": "#FFA15A",
            "symbol": "circle"
           },
           "mode": "markers",
           "name": "Multi",
           "orientation": "v",
           "showlegend": true,
           "type": "scatter",
           "x": [
            "Multi"
           ],
           "xaxis": "x",
           "y": [
            -0.23076923076923078
           ],
           "yaxis": "y"
          }
         ],
         "name": "Delta 60"
        },
        {
         "data": [
          {
           "hovertemplate": "Ancestry=%{x}<br>Day=Delta 61<br>Daily Average Vials Transacted=%{y}<extra></extra>",
           "legendgroup": "Asian",
           "marker": {
            "color": "#636efa",
            "symbol": "circle"
           },
           "mode": "markers",
           "name": "Asian",
           "orientation": "v",
           "showlegend": true,
           "type": "scatter",
           "x": [
            "Asian"
           ],
           "xaxis": "x",
           "y": [
            0
           ],
           "yaxis": "y"
          },
          {
           "hovertemplate": "Ancestry=%{x}<br>Day=Delta 61<br>Daily Average Vials Transacted=%{y}<extra></extra>",
           "legendgroup": "Black",
           "marker": {
            "color": "#EF553B",
            "symbol": "circle"
           },
           "mode": "markers",
           "name": "Black",
           "orientation": "v",
           "showlegend": true,
           "type": "scatter",
           "x": [
            "Black"
           ],
           "xaxis": "x",
           "y": [
            0
           ],
           "yaxis": "y"
          },
          {
           "hovertemplate": "Ancestry=%{x}<br>Day=Delta 61<br>Daily Average Vials Transacted=%{y}<extra></extra>",
           "legendgroup": "Caucasian",
           "marker": {
            "color": "#00cc96",
            "symbol": "circle"
           },
           "mode": "markers",
           "name": "Caucasian",
           "orientation": "v",
           "showlegend": true,
           "type": "scatter",
           "x": [
            "Caucasian"
           ],
           "xaxis": "x",
           "y": [
            0.06493506493506493
           ],
           "yaxis": "y"
          },
          {
           "hovertemplate": "Ancestry=%{x}<br>Day=Delta 61<br>Daily Average Vials Transacted=%{y}<extra></extra>",
           "legendgroup": "Latino",
           "marker": {
            "color": "#ab63fa",
            "symbol": "circle"
           },
           "mode": "markers",
           "name": "Latino",
           "orientation": "v",
           "showlegend": true,
           "type": "scatter",
           "x": [
            "Latino"
           ],
           "xaxis": "x",
           "y": [
            0
           ],
           "yaxis": "y"
          },
          {
           "hovertemplate": "Ancestry=%{x}<br>Day=Delta 61<br>Daily Average Vials Transacted=%{y}<extra></extra>",
           "legendgroup": "Multi",
           "marker": {
            "color": "#FFA15A",
            "symbol": "circle"
           },
           "mode": "markers",
           "name": "Multi",
           "orientation": "v",
           "showlegend": true,
           "type": "scatter",
           "x": [
            "Multi"
           ],
           "xaxis": "x",
           "y": [
            0
           ],
           "yaxis": "y"
          }
         ],
         "name": "Delta 61"
        },
        {
         "data": [
          {
           "hovertemplate": "Ancestry=%{x}<br>Day=Delta 62<br>Daily Average Vials Transacted=%{y}<extra></extra>",
           "legendgroup": "Asian",
           "marker": {
            "color": "#636efa",
            "symbol": "circle"
           },
           "mode": "markers",
           "name": "Asian",
           "orientation": "v",
           "showlegend": true,
           "type": "scatter",
           "x": [
            "Asian"
           ],
           "xaxis": "x",
           "y": [
            0
           ],
           "yaxis": "y"
          },
          {
           "hovertemplate": "Ancestry=%{x}<br>Day=Delta 62<br>Daily Average Vials Transacted=%{y}<extra></extra>",
           "legendgroup": "Black",
           "marker": {
            "color": "#EF553B",
            "symbol": "circle"
           },
           "mode": "markers",
           "name": "Black",
           "orientation": "v",
           "showlegend": true,
           "type": "scatter",
           "x": [
            "Black"
           ],
           "xaxis": "x",
           "y": [
            3
           ],
           "yaxis": "y"
          },
          {
           "hovertemplate": "Ancestry=%{x}<br>Day=Delta 62<br>Daily Average Vials Transacted=%{y}<extra></extra>",
           "legendgroup": "Caucasian",
           "marker": {
            "color": "#00cc96",
            "symbol": "circle"
           },
           "mode": "markers",
           "name": "Caucasian",
           "orientation": "v",
           "showlegend": true,
           "type": "scatter",
           "x": [
            "Caucasian"
           ],
           "xaxis": "x",
           "y": [
            -0.012987012987012988
           ],
           "yaxis": "y"
          },
          {
           "hovertemplate": "Ancestry=%{x}<br>Day=Delta 62<br>Daily Average Vials Transacted=%{y}<extra></extra>",
           "legendgroup": "Latino",
           "marker": {
            "color": "#ab63fa",
            "symbol": "circle"
           },
           "mode": "markers",
           "name": "Latino",
           "orientation": "v",
           "showlegend": true,
           "type": "scatter",
           "x": [
            "Latino"
           ],
           "xaxis": "x",
           "y": [
            0
           ],
           "yaxis": "y"
          },
          {
           "hovertemplate": "Ancestry=%{x}<br>Day=Delta 62<br>Daily Average Vials Transacted=%{y}<extra></extra>",
           "legendgroup": "Multi",
           "marker": {
            "color": "#FFA15A",
            "symbol": "circle"
           },
           "mode": "markers",
           "name": "Multi",
           "orientation": "v",
           "showlegend": true,
           "type": "scatter",
           "x": [
            "Multi"
           ],
           "xaxis": "x",
           "y": [
            -0.038461538461538464
           ],
           "yaxis": "y"
          }
         ],
         "name": "Delta 62"
        },
        {
         "data": [
          {
           "hovertemplate": "Ancestry=%{x}<br>Day=Delta 63<br>Daily Average Vials Transacted=%{y}<extra></extra>",
           "legendgroup": "Asian",
           "marker": {
            "color": "#636efa",
            "symbol": "circle"
           },
           "mode": "markers",
           "name": "Asian",
           "orientation": "v",
           "showlegend": true,
           "type": "scatter",
           "x": [
            "Asian"
           ],
           "xaxis": "x",
           "y": [
            0
           ],
           "yaxis": "y"
          },
          {
           "hovertemplate": "Ancestry=%{x}<br>Day=Delta 63<br>Daily Average Vials Transacted=%{y}<extra></extra>",
           "legendgroup": "Black",
           "marker": {
            "color": "#EF553B",
            "symbol": "circle"
           },
           "mode": "markers",
           "name": "Black",
           "orientation": "v",
           "showlegend": true,
           "type": "scatter",
           "x": [
            "Black"
           ],
           "xaxis": "x",
           "y": [
            0
           ],
           "yaxis": "y"
          },
          {
           "hovertemplate": "Ancestry=%{x}<br>Day=Delta 63<br>Daily Average Vials Transacted=%{y}<extra></extra>",
           "legendgroup": "Caucasian",
           "marker": {
            "color": "#00cc96",
            "symbol": "circle"
           },
           "mode": "markers",
           "name": "Caucasian",
           "orientation": "v",
           "showlegend": true,
           "type": "scatter",
           "x": [
            "Caucasian"
           ],
           "xaxis": "x",
           "y": [
            -0.1038961038961039
           ],
           "yaxis": "y"
          },
          {
           "hovertemplate": "Ancestry=%{x}<br>Day=Delta 63<br>Daily Average Vials Transacted=%{y}<extra></extra>",
           "legendgroup": "Latino",
           "marker": {
            "color": "#ab63fa",
            "symbol": "circle"
           },
           "mode": "markers",
           "name": "Latino",
           "orientation": "v",
           "showlegend": true,
           "type": "scatter",
           "x": [
            "Latino"
           ],
           "xaxis": "x",
           "y": [
            0
           ],
           "yaxis": "y"
          },
          {
           "hovertemplate": "Ancestry=%{x}<br>Day=Delta 63<br>Daily Average Vials Transacted=%{y}<extra></extra>",
           "legendgroup": "Multi",
           "marker": {
            "color": "#FFA15A",
            "symbol": "circle"
           },
           "mode": "markers",
           "name": "Multi",
           "orientation": "v",
           "showlegend": true,
           "type": "scatter",
           "x": [
            "Multi"
           ],
           "xaxis": "x",
           "y": [
            0
           ],
           "yaxis": "y"
          }
         ],
         "name": "Delta 63"
        },
        {
         "data": [
          {
           "hovertemplate": "Ancestry=%{x}<br>Day=Delta 64<br>Daily Average Vials Transacted=%{y}<extra></extra>",
           "legendgroup": "Asian",
           "marker": {
            "color": "#636efa",
            "symbol": "circle"
           },
           "mode": "markers",
           "name": "Asian",
           "orientation": "v",
           "showlegend": true,
           "type": "scatter",
           "x": [
            "Asian"
           ],
           "xaxis": "x",
           "y": [
            0
           ],
           "yaxis": "y"
          },
          {
           "hovertemplate": "Ancestry=%{x}<br>Day=Delta 64<br>Daily Average Vials Transacted=%{y}<extra></extra>",
           "legendgroup": "Black",
           "marker": {
            "color": "#EF553B",
            "symbol": "circle"
           },
           "mode": "markers",
           "name": "Black",
           "orientation": "v",
           "showlegend": true,
           "type": "scatter",
           "x": [
            "Black"
           ],
           "xaxis": "x",
           "y": [
            0
           ],
           "yaxis": "y"
          },
          {
           "hovertemplate": "Ancestry=%{x}<br>Day=Delta 64<br>Daily Average Vials Transacted=%{y}<extra></extra>",
           "legendgroup": "Caucasian",
           "marker": {
            "color": "#00cc96",
            "symbol": "circle"
           },
           "mode": "markers",
           "name": "Caucasian",
           "orientation": "v",
           "showlegend": true,
           "type": "scatter",
           "x": [
            "Caucasian"
           ],
           "xaxis": "x",
           "y": [
            -0.06756756756756757
           ],
           "yaxis": "y"
          },
          {
           "hovertemplate": "Ancestry=%{x}<br>Day=Delta 64<br>Daily Average Vials Transacted=%{y}<extra></extra>",
           "legendgroup": "Latino",
           "marker": {
            "color": "#ab63fa",
            "symbol": "circle"
           },
           "mode": "markers",
           "name": "Latino",
           "orientation": "v",
           "showlegend": true,
           "type": "scatter",
           "x": [
            "Latino"
           ],
           "xaxis": "x",
           "y": [
            0
           ],
           "yaxis": "y"
          },
          {
           "hovertemplate": "Ancestry=%{x}<br>Day=Delta 64<br>Daily Average Vials Transacted=%{y}<extra></extra>",
           "legendgroup": "Multi",
           "marker": {
            "color": "#FFA15A",
            "symbol": "circle"
           },
           "mode": "markers",
           "name": "Multi",
           "orientation": "v",
           "showlegend": true,
           "type": "scatter",
           "x": [
            "Multi"
           ],
           "xaxis": "x",
           "y": [
            0
           ],
           "yaxis": "y"
          }
         ],
         "name": "Delta 64"
        },
        {
         "data": [
          {
           "hovertemplate": "Ancestry=%{x}<br>Day=Delta 65<br>Daily Average Vials Transacted=%{y}<extra></extra>",
           "legendgroup": "Asian",
           "marker": {
            "color": "#636efa",
            "symbol": "circle"
           },
           "mode": "markers",
           "name": "Asian",
           "orientation": "v",
           "showlegend": true,
           "type": "scatter",
           "x": [
            "Asian"
           ],
           "xaxis": "x",
           "y": [
            0
           ],
           "yaxis": "y"
          },
          {
           "hovertemplate": "Ancestry=%{x}<br>Day=Delta 65<br>Daily Average Vials Transacted=%{y}<extra></extra>",
           "legendgroup": "Black",
           "marker": {
            "color": "#EF553B",
            "symbol": "circle"
           },
           "mode": "markers",
           "name": "Black",
           "orientation": "v",
           "showlegend": true,
           "type": "scatter",
           "x": [
            "Black"
           ],
           "xaxis": "x",
           "y": [
            0
           ],
           "yaxis": "y"
          },
          {
           "hovertemplate": "Ancestry=%{x}<br>Day=Delta 65<br>Daily Average Vials Transacted=%{y}<extra></extra>",
           "legendgroup": "Caucasian",
           "marker": {
            "color": "#00cc96",
            "symbol": "circle"
           },
           "mode": "markers",
           "name": "Caucasian",
           "orientation": "v",
           "showlegend": true,
           "type": "scatter",
           "x": [
            "Caucasian"
           ],
           "xaxis": "x",
           "y": [
            -0.13513513513513514
           ],
           "yaxis": "y"
          },
          {
           "hovertemplate": "Ancestry=%{x}<br>Day=Delta 65<br>Daily Average Vials Transacted=%{y}<extra></extra>",
           "legendgroup": "Latino",
           "marker": {
            "color": "#ab63fa",
            "symbol": "circle"
           },
           "mode": "markers",
           "name": "Latino",
           "orientation": "v",
           "showlegend": true,
           "type": "scatter",
           "x": [
            "Latino"
           ],
           "xaxis": "x",
           "y": [
            -0.1
           ],
           "yaxis": "y"
          },
          {
           "hovertemplate": "Ancestry=%{x}<br>Day=Delta 65<br>Daily Average Vials Transacted=%{y}<extra></extra>",
           "legendgroup": "Multi",
           "marker": {
            "color": "#FFA15A",
            "symbol": "circle"
           },
           "mode": "markers",
           "name": "Multi",
           "orientation": "v",
           "showlegend": true,
           "type": "scatter",
           "x": [
            "Multi"
           ],
           "xaxis": "x",
           "y": [
            0
           ],
           "yaxis": "y"
          }
         ],
         "name": "Delta 65"
        },
        {
         "data": [
          {
           "hovertemplate": "Ancestry=%{x}<br>Day=Delta 66<br>Daily Average Vials Transacted=%{y}<extra></extra>",
           "legendgroup": "Asian",
           "marker": {
            "color": "#636efa",
            "symbol": "circle"
           },
           "mode": "markers",
           "name": "Asian",
           "orientation": "v",
           "showlegend": true,
           "type": "scatter",
           "x": [
            "Asian"
           ],
           "xaxis": "x",
           "y": [
            0
           ],
           "yaxis": "y"
          },
          {
           "hovertemplate": "Ancestry=%{x}<br>Day=Delta 66<br>Daily Average Vials Transacted=%{y}<extra></extra>",
           "legendgroup": "Black",
           "marker": {
            "color": "#EF553B",
            "symbol": "circle"
           },
           "mode": "markers",
           "name": "Black",
           "orientation": "v",
           "showlegend": true,
           "type": "scatter",
           "x": [
            "Black"
           ],
           "xaxis": "x",
           "y": [
            0
           ],
           "yaxis": "y"
          },
          {
           "hovertemplate": "Ancestry=%{x}<br>Day=Delta 66<br>Daily Average Vials Transacted=%{y}<extra></extra>",
           "legendgroup": "Caucasian",
           "marker": {
            "color": "#00cc96",
            "symbol": "circle"
           },
           "mode": "markers",
           "name": "Caucasian",
           "orientation": "v",
           "showlegend": true,
           "type": "scatter",
           "x": [
            "Caucasian"
           ],
           "xaxis": "x",
           "y": [
            0
           ],
           "yaxis": "y"
          },
          {
           "hovertemplate": "Ancestry=%{x}<br>Day=Delta 66<br>Daily Average Vials Transacted=%{y}<extra></extra>",
           "legendgroup": "Latino",
           "marker": {
            "color": "#ab63fa",
            "symbol": "circle"
           },
           "mode": "markers",
           "name": "Latino",
           "orientation": "v",
           "showlegend": true,
           "type": "scatter",
           "x": [
            "Latino"
           ],
           "xaxis": "x",
           "y": [
            0
           ],
           "yaxis": "y"
          },
          {
           "hovertemplate": "Ancestry=%{x}<br>Day=Delta 66<br>Daily Average Vials Transacted=%{y}<extra></extra>",
           "legendgroup": "Multi",
           "marker": {
            "color": "#FFA15A",
            "symbol": "circle"
           },
           "mode": "markers",
           "name": "Multi",
           "orientation": "v",
           "showlegend": true,
           "type": "scatter",
           "x": [
            "Multi"
           ],
           "xaxis": "x",
           "y": [
            0
           ],
           "yaxis": "y"
          }
         ],
         "name": "Delta 66"
        },
        {
         "data": [
          {
           "hovertemplate": "Ancestry=%{x}<br>Day=Delta 67<br>Daily Average Vials Transacted=%{y}<extra></extra>",
           "legendgroup": "Asian",
           "marker": {
            "color": "#636efa",
            "symbol": "circle"
           },
           "mode": "markers",
           "name": "Asian",
           "orientation": "v",
           "showlegend": true,
           "type": "scatter",
           "x": [
            "Asian"
           ],
           "xaxis": "x",
           "y": [
            0
           ],
           "yaxis": "y"
          },
          {
           "hovertemplate": "Ancestry=%{x}<br>Day=Delta 67<br>Daily Average Vials Transacted=%{y}<extra></extra>",
           "legendgroup": "Black",
           "marker": {
            "color": "#EF553B",
            "symbol": "circle"
           },
           "mode": "markers",
           "name": "Black",
           "orientation": "v",
           "showlegend": true,
           "type": "scatter",
           "x": [
            "Black"
           ],
           "xaxis": "x",
           "y": [
            0
           ],
           "yaxis": "y"
          },
          {
           "hovertemplate": "Ancestry=%{x}<br>Day=Delta 67<br>Daily Average Vials Transacted=%{y}<extra></extra>",
           "legendgroup": "Caucasian",
           "marker": {
            "color": "#00cc96",
            "symbol": "circle"
           },
           "mode": "markers",
           "name": "Caucasian",
           "orientation": "v",
           "showlegend": true,
           "type": "scatter",
           "x": [
            "Caucasian"
           ],
           "xaxis": "x",
           "y": [
            -0.028169014084507043
           ],
           "yaxis": "y"
          },
          {
           "hovertemplate": "Ancestry=%{x}<br>Day=Delta 67<br>Daily Average Vials Transacted=%{y}<extra></extra>",
           "legendgroup": "Latino",
           "marker": {
            "color": "#ab63fa",
            "symbol": "circle"
           },
           "mode": "markers",
           "name": "Latino",
           "orientation": "v",
           "showlegend": true,
           "type": "scatter",
           "x": [
            "Latino"
           ],
           "xaxis": "x",
           "y": [
            0
           ],
           "yaxis": "y"
          },
          {
           "hovertemplate": "Ancestry=%{x}<br>Day=Delta 67<br>Daily Average Vials Transacted=%{y}<extra></extra>",
           "legendgroup": "Multi",
           "marker": {
            "color": "#FFA15A",
            "symbol": "circle"
           },
           "mode": "markers",
           "name": "Multi",
           "orientation": "v",
           "showlegend": true,
           "type": "scatter",
           "x": [
            "Multi"
           ],
           "xaxis": "x",
           "y": [
            0
           ],
           "yaxis": "y"
          }
         ],
         "name": "Delta 67"
        }
       ],
       "layout": {
        "autosize": true,
        "legend": {
         "title": {
          "text": "Ancestry"
         },
         "tracegroupgap": 0
        },
        "margin": {
         "t": 60
        },
        "sliders": [
         {
          "active": 66,
          "currentvalue": {
           "prefix": "Day="
          },
          "len": 0.9,
          "pad": {
           "b": 10,
           "t": 60
          },
          "steps": [
           {
            "args": [
             [
              "Delta 1"
             ],
             {
              "frame": {
               "duration": 0,
               "redraw": false
              },
              "fromcurrent": true,
              "mode": "immediate",
              "transition": {
               "duration": 0,
               "easing": "linear"
              }
             }
            ],
            "label": "Delta 1",
            "method": "animate"
           },
           {
            "args": [
             [
              "Delta 2"
             ],
             {
              "frame": {
               "duration": 0,
               "redraw": false
              },
              "fromcurrent": true,
              "mode": "immediate",
              "transition": {
               "duration": 0,
               "easing": "linear"
              }
             }
            ],
            "label": "Delta 2",
            "method": "animate"
           },
           {
            "args": [
             [
              "Delta 3"
             ],
             {
              "frame": {
               "duration": 0,
               "redraw": false
              },
              "fromcurrent": true,
              "mode": "immediate",
              "transition": {
               "duration": 0,
               "easing": "linear"
              }
             }
            ],
            "label": "Delta 3",
            "method": "animate"
           },
           {
            "args": [
             [
              "Delta 4"
             ],
             {
              "frame": {
               "duration": 0,
               "redraw": false
              },
              "fromcurrent": true,
              "mode": "immediate",
              "transition": {
               "duration": 0,
               "easing": "linear"
              }
             }
            ],
            "label": "Delta 4",
            "method": "animate"
           },
           {
            "args": [
             [
              "Delta 5"
             ],
             {
              "frame": {
               "duration": 0,
               "redraw": false
              },
              "fromcurrent": true,
              "mode": "immediate",
              "transition": {
               "duration": 0,
               "easing": "linear"
              }
             }
            ],
            "label": "Delta 5",
            "method": "animate"
           },
           {
            "args": [
             [
              "Delta 6"
             ],
             {
              "frame": {
               "duration": 0,
               "redraw": false
              },
              "fromcurrent": true,
              "mode": "immediate",
              "transition": {
               "duration": 0,
               "easing": "linear"
              }
             }
            ],
            "label": "Delta 6",
            "method": "animate"
           },
           {
            "args": [
             [
              "Delta 7"
             ],
             {
              "frame": {
               "duration": 0,
               "redraw": false
              },
              "fromcurrent": true,
              "mode": "immediate",
              "transition": {
               "duration": 0,
               "easing": "linear"
              }
             }
            ],
            "label": "Delta 7",
            "method": "animate"
           },
           {
            "args": [
             [
              "Delta 8"
             ],
             {
              "frame": {
               "duration": 0,
               "redraw": false
              },
              "fromcurrent": true,
              "mode": "immediate",
              "transition": {
               "duration": 0,
               "easing": "linear"
              }
             }
            ],
            "label": "Delta 8",
            "method": "animate"
           },
           {
            "args": [
             [
              "Delta 9"
             ],
             {
              "frame": {
               "duration": 0,
               "redraw": false
              },
              "fromcurrent": true,
              "mode": "immediate",
              "transition": {
               "duration": 0,
               "easing": "linear"
              }
             }
            ],
            "label": "Delta 9",
            "method": "animate"
           },
           {
            "args": [
             [
              "Delta 10"
             ],
             {
              "frame": {
               "duration": 0,
               "redraw": false
              },
              "fromcurrent": true,
              "mode": "immediate",
              "transition": {
               "duration": 0,
               "easing": "linear"
              }
             }
            ],
            "label": "Delta 10",
            "method": "animate"
           },
           {
            "args": [
             [
              "Delta 11"
             ],
             {
              "frame": {
               "duration": 0,
               "redraw": false
              },
              "fromcurrent": true,
              "mode": "immediate",
              "transition": {
               "duration": 0,
               "easing": "linear"
              }
             }
            ],
            "label": "Delta 11",
            "method": "animate"
           },
           {
            "args": [
             [
              "Delta 12"
             ],
             {
              "frame": {
               "duration": 0,
               "redraw": false
              },
              "fromcurrent": true,
              "mode": "immediate",
              "transition": {
               "duration": 0,
               "easing": "linear"
              }
             }
            ],
            "label": "Delta 12",
            "method": "animate"
           },
           {
            "args": [
             [
              "Delta 13"
             ],
             {
              "frame": {
               "duration": 0,
               "redraw": false
              },
              "fromcurrent": true,
              "mode": "immediate",
              "transition": {
               "duration": 0,
               "easing": "linear"
              }
             }
            ],
            "label": "Delta 13",
            "method": "animate"
           },
           {
            "args": [
             [
              "Delta 14"
             ],
             {
              "frame": {
               "duration": 0,
               "redraw": false
              },
              "fromcurrent": true,
              "mode": "immediate",
              "transition": {
               "duration": 0,
               "easing": "linear"
              }
             }
            ],
            "label": "Delta 14",
            "method": "animate"
           },
           {
            "args": [
             [
              "Delta 15"
             ],
             {
              "frame": {
               "duration": 0,
               "redraw": false
              },
              "fromcurrent": true,
              "mode": "immediate",
              "transition": {
               "duration": 0,
               "easing": "linear"
              }
             }
            ],
            "label": "Delta 15",
            "method": "animate"
           },
           {
            "args": [
             [
              "Delta 16"
             ],
             {
              "frame": {
               "duration": 0,
               "redraw": false
              },
              "fromcurrent": true,
              "mode": "immediate",
              "transition": {
               "duration": 0,
               "easing": "linear"
              }
             }
            ],
            "label": "Delta 16",
            "method": "animate"
           },
           {
            "args": [
             [
              "Delta 17"
             ],
             {
              "frame": {
               "duration": 0,
               "redraw": false
              },
              "fromcurrent": true,
              "mode": "immediate",
              "transition": {
               "duration": 0,
               "easing": "linear"
              }
             }
            ],
            "label": "Delta 17",
            "method": "animate"
           },
           {
            "args": [
             [
              "Delta 18"
             ],
             {
              "frame": {
               "duration": 0,
               "redraw": false
              },
              "fromcurrent": true,
              "mode": "immediate",
              "transition": {
               "duration": 0,
               "easing": "linear"
              }
             }
            ],
            "label": "Delta 18",
            "method": "animate"
           },
           {
            "args": [
             [
              "Delta 19"
             ],
             {
              "frame": {
               "duration": 0,
               "redraw": false
              },
              "fromcurrent": true,
              "mode": "immediate",
              "transition": {
               "duration": 0,
               "easing": "linear"
              }
             }
            ],
            "label": "Delta 19",
            "method": "animate"
           },
           {
            "args": [
             [
              "Delta 20"
             ],
             {
              "frame": {
               "duration": 0,
               "redraw": false
              },
              "fromcurrent": true,
              "mode": "immediate",
              "transition": {
               "duration": 0,
               "easing": "linear"
              }
             }
            ],
            "label": "Delta 20",
            "method": "animate"
           },
           {
            "args": [
             [
              "Delta 21"
             ],
             {
              "frame": {
               "duration": 0,
               "redraw": false
              },
              "fromcurrent": true,
              "mode": "immediate",
              "transition": {
               "duration": 0,
               "easing": "linear"
              }
             }
            ],
            "label": "Delta 21",
            "method": "animate"
           },
           {
            "args": [
             [
              "Delta 22"
             ],
             {
              "frame": {
               "duration": 0,
               "redraw": false
              },
              "fromcurrent": true,
              "mode": "immediate",
              "transition": {
               "duration": 0,
               "easing": "linear"
              }
             }
            ],
            "label": "Delta 22",
            "method": "animate"
           },
           {
            "args": [
             [
              "Delta 23"
             ],
             {
              "frame": {
               "duration": 0,
               "redraw": false
              },
              "fromcurrent": true,
              "mode": "immediate",
              "transition": {
               "duration": 0,
               "easing": "linear"
              }
             }
            ],
            "label": "Delta 23",
            "method": "animate"
           },
           {
            "args": [
             [
              "Delta 24"
             ],
             {
              "frame": {
               "duration": 0,
               "redraw": false
              },
              "fromcurrent": true,
              "mode": "immediate",
              "transition": {
               "duration": 0,
               "easing": "linear"
              }
             }
            ],
            "label": "Delta 24",
            "method": "animate"
           },
           {
            "args": [
             [
              "Delta 25"
             ],
             {
              "frame": {
               "duration": 0,
               "redraw": false
              },
              "fromcurrent": true,
              "mode": "immediate",
              "transition": {
               "duration": 0,
               "easing": "linear"
              }
             }
            ],
            "label": "Delta 25",
            "method": "animate"
           },
           {
            "args": [
             [
              "Delta 26"
             ],
             {
              "frame": {
               "duration": 0,
               "redraw": false
              },
              "fromcurrent": true,
              "mode": "immediate",
              "transition": {
               "duration": 0,
               "easing": "linear"
              }
             }
            ],
            "label": "Delta 26",
            "method": "animate"
           },
           {
            "args": [
             [
              "Delta 27"
             ],
             {
              "frame": {
               "duration": 0,
               "redraw": false
              },
              "fromcurrent": true,
              "mode": "immediate",
              "transition": {
               "duration": 0,
               "easing": "linear"
              }
             }
            ],
            "label": "Delta 27",
            "method": "animate"
           },
           {
            "args": [
             [
              "Delta 28"
             ],
             {
              "frame": {
               "duration": 0,
               "redraw": false
              },
              "fromcurrent": true,
              "mode": "immediate",
              "transition": {
               "duration": 0,
               "easing": "linear"
              }
             }
            ],
            "label": "Delta 28",
            "method": "animate"
           },
           {
            "args": [
             [
              "Delta 29"
             ],
             {
              "frame": {
               "duration": 0,
               "redraw": false
              },
              "fromcurrent": true,
              "mode": "immediate",
              "transition": {
               "duration": 0,
               "easing": "linear"
              }
             }
            ],
            "label": "Delta 29",
            "method": "animate"
           },
           {
            "args": [
             [
              "Delta 30"
             ],
             {
              "frame": {
               "duration": 0,
               "redraw": false
              },
              "fromcurrent": true,
              "mode": "immediate",
              "transition": {
               "duration": 0,
               "easing": "linear"
              }
             }
            ],
            "label": "Delta 30",
            "method": "animate"
           },
           {
            "args": [
             [
              "Delta 31"
             ],
             {
              "frame": {
               "duration": 0,
               "redraw": false
              },
              "fromcurrent": true,
              "mode": "immediate",
              "transition": {
               "duration": 0,
               "easing": "linear"
              }
             }
            ],
            "label": "Delta 31",
            "method": "animate"
           },
           {
            "args": [
             [
              "Delta 32"
             ],
             {
              "frame": {
               "duration": 0,
               "redraw": false
              },
              "fromcurrent": true,
              "mode": "immediate",
              "transition": {
               "duration": 0,
               "easing": "linear"
              }
             }
            ],
            "label": "Delta 32",
            "method": "animate"
           },
           {
            "args": [
             [
              "Delta 33"
             ],
             {
              "frame": {
               "duration": 0,
               "redraw": false
              },
              "fromcurrent": true,
              "mode": "immediate",
              "transition": {
               "duration": 0,
               "easing": "linear"
              }
             }
            ],
            "label": "Delta 33",
            "method": "animate"
           },
           {
            "args": [
             [
              "Delta 34"
             ],
             {
              "frame": {
               "duration": 0,
               "redraw": false
              },
              "fromcurrent": true,
              "mode": "immediate",
              "transition": {
               "duration": 0,
               "easing": "linear"
              }
             }
            ],
            "label": "Delta 34",
            "method": "animate"
           },
           {
            "args": [
             [
              "Delta 35"
             ],
             {
              "frame": {
               "duration": 0,
               "redraw": false
              },
              "fromcurrent": true,
              "mode": "immediate",
              "transition": {
               "duration": 0,
               "easing": "linear"
              }
             }
            ],
            "label": "Delta 35",
            "method": "animate"
           },
           {
            "args": [
             [
              "Delta 36"
             ],
             {
              "frame": {
               "duration": 0,
               "redraw": false
              },
              "fromcurrent": true,
              "mode": "immediate",
              "transition": {
               "duration": 0,
               "easing": "linear"
              }
             }
            ],
            "label": "Delta 36",
            "method": "animate"
           },
           {
            "args": [
             [
              "Delta 37"
             ],
             {
              "frame": {
               "duration": 0,
               "redraw": false
              },
              "fromcurrent": true,
              "mode": "immediate",
              "transition": {
               "duration": 0,
               "easing": "linear"
              }
             }
            ],
            "label": "Delta 37",
            "method": "animate"
           },
           {
            "args": [
             [
              "Delta 38"
             ],
             {
              "frame": {
               "duration": 0,
               "redraw": false
              },
              "fromcurrent": true,
              "mode": "immediate",
              "transition": {
               "duration": 0,
               "easing": "linear"
              }
             }
            ],
            "label": "Delta 38",
            "method": "animate"
           },
           {
            "args": [
             [
              "Delta 39"
             ],
             {
              "frame": {
               "duration": 0,
               "redraw": false
              },
              "fromcurrent": true,
              "mode": "immediate",
              "transition": {
               "duration": 0,
               "easing": "linear"
              }
             }
            ],
            "label": "Delta 39",
            "method": "animate"
           },
           {
            "args": [
             [
              "Delta 40"
             ],
             {
              "frame": {
               "duration": 0,
               "redraw": false
              },
              "fromcurrent": true,
              "mode": "immediate",
              "transition": {
               "duration": 0,
               "easing": "linear"
              }
             }
            ],
            "label": "Delta 40",
            "method": "animate"
           },
           {
            "args": [
             [
              "Delta 41"
             ],
             {
              "frame": {
               "duration": 0,
               "redraw": false
              },
              "fromcurrent": true,
              "mode": "immediate",
              "transition": {
               "duration": 0,
               "easing": "linear"
              }
             }
            ],
            "label": "Delta 41",
            "method": "animate"
           },
           {
            "args": [
             [
              "Delta 42"
             ],
             {
              "frame": {
               "duration": 0,
               "redraw": false
              },
              "fromcurrent": true,
              "mode": "immediate",
              "transition": {
               "duration": 0,
               "easing": "linear"
              }
             }
            ],
            "label": "Delta 42",
            "method": "animate"
           },
           {
            "args": [
             [
              "Delta 43"
             ],
             {
              "frame": {
               "duration": 0,
               "redraw": false
              },
              "fromcurrent": true,
              "mode": "immediate",
              "transition": {
               "duration": 0,
               "easing": "linear"
              }
             }
            ],
            "label": "Delta 43",
            "method": "animate"
           },
           {
            "args": [
             [
              "Delta 44"
             ],
             {
              "frame": {
               "duration": 0,
               "redraw": false
              },
              "fromcurrent": true,
              "mode": "immediate",
              "transition": {
               "duration": 0,
               "easing": "linear"
              }
             }
            ],
            "label": "Delta 44",
            "method": "animate"
           },
           {
            "args": [
             [
              "Delta 45"
             ],
             {
              "frame": {
               "duration": 0,
               "redraw": false
              },
              "fromcurrent": true,
              "mode": "immediate",
              "transition": {
               "duration": 0,
               "easing": "linear"
              }
             }
            ],
            "label": "Delta 45",
            "method": "animate"
           },
           {
            "args": [
             [
              "Delta 46"
             ],
             {
              "frame": {
               "duration": 0,
               "redraw": false
              },
              "fromcurrent": true,
              "mode": "immediate",
              "transition": {
               "duration": 0,
               "easing": "linear"
              }
             }
            ],
            "label": "Delta 46",
            "method": "animate"
           },
           {
            "args": [
             [
              "Delta 47"
             ],
             {
              "frame": {
               "duration": 0,
               "redraw": false
              },
              "fromcurrent": true,
              "mode": "immediate",
              "transition": {
               "duration": 0,
               "easing": "linear"
              }
             }
            ],
            "label": "Delta 47",
            "method": "animate"
           },
           {
            "args": [
             [
              "Delta 48"
             ],
             {
              "frame": {
               "duration": 0,
               "redraw": false
              },
              "fromcurrent": true,
              "mode": "immediate",
              "transition": {
               "duration": 0,
               "easing": "linear"
              }
             }
            ],
            "label": "Delta 48",
            "method": "animate"
           },
           {
            "args": [
             [
              "Delta 49"
             ],
             {
              "frame": {
               "duration": 0,
               "redraw": false
              },
              "fromcurrent": true,
              "mode": "immediate",
              "transition": {
               "duration": 0,
               "easing": "linear"
              }
             }
            ],
            "label": "Delta 49",
            "method": "animate"
           },
           {
            "args": [
             [
              "Delta 50"
             ],
             {
              "frame": {
               "duration": 0,
               "redraw": false
              },
              "fromcurrent": true,
              "mode": "immediate",
              "transition": {
               "duration": 0,
               "easing": "linear"
              }
             }
            ],
            "label": "Delta 50",
            "method": "animate"
           },
           {
            "args": [
             [
              "Delta 51"
             ],
             {
              "frame": {
               "duration": 0,
               "redraw": false
              },
              "fromcurrent": true,
              "mode": "immediate",
              "transition": {
               "duration": 0,
               "easing": "linear"
              }
             }
            ],
            "label": "Delta 51",
            "method": "animate"
           },
           {
            "args": [
             [
              "Delta 52"
             ],
             {
              "frame": {
               "duration": 0,
               "redraw": false
              },
              "fromcurrent": true,
              "mode": "immediate",
              "transition": {
               "duration": 0,
               "easing": "linear"
              }
             }
            ],
            "label": "Delta 52",
            "method": "animate"
           },
           {
            "args": [
             [
              "Delta 53"
             ],
             {
              "frame": {
               "duration": 0,
               "redraw": false
              },
              "fromcurrent": true,
              "mode": "immediate",
              "transition": {
               "duration": 0,
               "easing": "linear"
              }
             }
            ],
            "label": "Delta 53",
            "method": "animate"
           },
           {
            "args": [
             [
              "Delta 54"
             ],
             {
              "frame": {
               "duration": 0,
               "redraw": false
              },
              "fromcurrent": true,
              "mode": "immediate",
              "transition": {
               "duration": 0,
               "easing": "linear"
              }
             }
            ],
            "label": "Delta 54",
            "method": "animate"
           },
           {
            "args": [
             [
              "Delta 55"
             ],
             {
              "frame": {
               "duration": 0,
               "redraw": false
              },
              "fromcurrent": true,
              "mode": "immediate",
              "transition": {
               "duration": 0,
               "easing": "linear"
              }
             }
            ],
            "label": "Delta 55",
            "method": "animate"
           },
           {
            "args": [
             [
              "Delta 56"
             ],
             {
              "frame": {
               "duration": 0,
               "redraw": false
              },
              "fromcurrent": true,
              "mode": "immediate",
              "transition": {
               "duration": 0,
               "easing": "linear"
              }
             }
            ],
            "label": "Delta 56",
            "method": "animate"
           },
           {
            "args": [
             [
              "Delta 57"
             ],
             {
              "frame": {
               "duration": 0,
               "redraw": false
              },
              "fromcurrent": true,
              "mode": "immediate",
              "transition": {
               "duration": 0,
               "easing": "linear"
              }
             }
            ],
            "label": "Delta 57",
            "method": "animate"
           },
           {
            "args": [
             [
              "Delta 58"
             ],
             {
              "frame": {
               "duration": 0,
               "redraw": false
              },
              "fromcurrent": true,
              "mode": "immediate",
              "transition": {
               "duration": 0,
               "easing": "linear"
              }
             }
            ],
            "label": "Delta 58",
            "method": "animate"
           },
           {
            "args": [
             [
              "Delta 59"
             ],
             {
              "frame": {
               "duration": 0,
               "redraw": false
              },
              "fromcurrent": true,
              "mode": "immediate",
              "transition": {
               "duration": 0,
               "easing": "linear"
              }
             }
            ],
            "label": "Delta 59",
            "method": "animate"
           },
           {
            "args": [
             [
              "Delta 60"
             ],
             {
              "frame": {
               "duration": 0,
               "redraw": false
              },
              "fromcurrent": true,
              "mode": "immediate",
              "transition": {
               "duration": 0,
               "easing": "linear"
              }
             }
            ],
            "label": "Delta 60",
            "method": "animate"
           },
           {
            "args": [
             [
              "Delta 61"
             ],
             {
              "frame": {
               "duration": 0,
               "redraw": false
              },
              "fromcurrent": true,
              "mode": "immediate",
              "transition": {
               "duration": 0,
               "easing": "linear"
              }
             }
            ],
            "label": "Delta 61",
            "method": "animate"
           },
           {
            "args": [
             [
              "Delta 62"
             ],
             {
              "frame": {
               "duration": 0,
               "redraw": false
              },
              "fromcurrent": true,
              "mode": "immediate",
              "transition": {
               "duration": 0,
               "easing": "linear"
              }
             }
            ],
            "label": "Delta 62",
            "method": "animate"
           },
           {
            "args": [
             [
              "Delta 63"
             ],
             {
              "frame": {
               "duration": 0,
               "redraw": false
              },
              "fromcurrent": true,
              "mode": "immediate",
              "transition": {
               "duration": 0,
               "easing": "linear"
              }
             }
            ],
            "label": "Delta 63",
            "method": "animate"
           },
           {
            "args": [
             [
              "Delta 64"
             ],
             {
              "frame": {
               "duration": 0,
               "redraw": false
              },
              "fromcurrent": true,
              "mode": "immediate",
              "transition": {
               "duration": 0,
               "easing": "linear"
              }
             }
            ],
            "label": "Delta 64",
            "method": "animate"
           },
           {
            "args": [
             [
              "Delta 65"
             ],
             {
              "frame": {
               "duration": 0,
               "redraw": false
              },
              "fromcurrent": true,
              "mode": "immediate",
              "transition": {
               "duration": 0,
               "easing": "linear"
              }
             }
            ],
            "label": "Delta 65",
            "method": "animate"
           },
           {
            "args": [
             [
              "Delta 66"
             ],
             {
              "frame": {
               "duration": 0,
               "redraw": false
              },
              "fromcurrent": true,
              "mode": "immediate",
              "transition": {
               "duration": 0,
               "easing": "linear"
              }
             }
            ],
            "label": "Delta 66",
            "method": "animate"
           },
           {
            "args": [
             [
              "Delta 67"
             ],
             {
              "frame": {
               "duration": 0,
               "redraw": false
              },
              "fromcurrent": true,
              "mode": "immediate",
              "transition": {
               "duration": 0,
               "easing": "linear"
              }
             }
            ],
            "label": "Delta 67",
            "method": "animate"
           }
          ],
          "x": 0.1,
          "xanchor": "left",
          "y": 0,
          "yanchor": "top"
         }
        ],
        "template": {
         "data": {
          "bar": [
           {
            "error_x": {
             "color": "#2a3f5f"
            },
            "error_y": {
             "color": "#2a3f5f"
            },
            "marker": {
             "line": {
              "color": "#E5ECF6",
              "width": 0.5
             },
             "pattern": {
              "fillmode": "overlay",
              "size": 10,
              "solidity": 0.2
             }
            },
            "type": "bar"
           }
          ],
          "barpolar": [
           {
            "marker": {
             "line": {
              "color": "#E5ECF6",
              "width": 0.5
             },
             "pattern": {
              "fillmode": "overlay",
              "size": 10,
              "solidity": 0.2
             }
            },
            "type": "barpolar"
           }
          ],
          "carpet": [
           {
            "aaxis": {
             "endlinecolor": "#2a3f5f",
             "gridcolor": "white",
             "linecolor": "white",
             "minorgridcolor": "white",
             "startlinecolor": "#2a3f5f"
            },
            "baxis": {
             "endlinecolor": "#2a3f5f",
             "gridcolor": "white",
             "linecolor": "white",
             "minorgridcolor": "white",
             "startlinecolor": "#2a3f5f"
            },
            "type": "carpet"
           }
          ],
          "choropleth": [
           {
            "colorbar": {
             "outlinewidth": 0,
             "ticks": ""
            },
            "type": "choropleth"
           }
          ],
          "contour": [
           {
            "colorbar": {
             "outlinewidth": 0,
             "ticks": ""
            },
            "colorscale": [
             [
              0,
              "#0d0887"
             ],
             [
              0.1111111111111111,
              "#46039f"
             ],
             [
              0.2222222222222222,
              "#7201a8"
             ],
             [
              0.3333333333333333,
              "#9c179e"
             ],
             [
              0.4444444444444444,
              "#bd3786"
             ],
             [
              0.5555555555555556,
              "#d8576b"
             ],
             [
              0.6666666666666666,
              "#ed7953"
             ],
             [
              0.7777777777777778,
              "#fb9f3a"
             ],
             [
              0.8888888888888888,
              "#fdca26"
             ],
             [
              1,
              "#f0f921"
             ]
            ],
            "type": "contour"
           }
          ],
          "contourcarpet": [
           {
            "colorbar": {
             "outlinewidth": 0,
             "ticks": ""
            },
            "type": "contourcarpet"
           }
          ],
          "heatmap": [
           {
            "colorbar": {
             "outlinewidth": 0,
             "ticks": ""
            },
            "colorscale": [
             [
              0,
              "#0d0887"
             ],
             [
              0.1111111111111111,
              "#46039f"
             ],
             [
              0.2222222222222222,
              "#7201a8"
             ],
             [
              0.3333333333333333,
              "#9c179e"
             ],
             [
              0.4444444444444444,
              "#bd3786"
             ],
             [
              0.5555555555555556,
              "#d8576b"
             ],
             [
              0.6666666666666666,
              "#ed7953"
             ],
             [
              0.7777777777777778,
              "#fb9f3a"
             ],
             [
              0.8888888888888888,
              "#fdca26"
             ],
             [
              1,
              "#f0f921"
             ]
            ],
            "type": "heatmap"
           }
          ],
          "heatmapgl": [
           {
            "colorbar": {
             "outlinewidth": 0,
             "ticks": ""
            },
            "colorscale": [
             [
              0,
              "#0d0887"
             ],
             [
              0.1111111111111111,
              "#46039f"
             ],
             [
              0.2222222222222222,
              "#7201a8"
             ],
             [
              0.3333333333333333,
              "#9c179e"
             ],
             [
              0.4444444444444444,
              "#bd3786"
             ],
             [
              0.5555555555555556,
              "#d8576b"
             ],
             [
              0.6666666666666666,
              "#ed7953"
             ],
             [
              0.7777777777777778,
              "#fb9f3a"
             ],
             [
              0.8888888888888888,
              "#fdca26"
             ],
             [
              1,
              "#f0f921"
             ]
            ],
            "type": "heatmapgl"
           }
          ],
          "histogram": [
           {
            "marker": {
             "pattern": {
              "fillmode": "overlay",
              "size": 10,
              "solidity": 0.2
             }
            },
            "type": "histogram"
           }
          ],
          "histogram2d": [
           {
            "colorbar": {
             "outlinewidth": 0,
             "ticks": ""
            },
            "colorscale": [
             [
              0,
              "#0d0887"
             ],
             [
              0.1111111111111111,
              "#46039f"
             ],
             [
              0.2222222222222222,
              "#7201a8"
             ],
             [
              0.3333333333333333,
              "#9c179e"
             ],
             [
              0.4444444444444444,
              "#bd3786"
             ],
             [
              0.5555555555555556,
              "#d8576b"
             ],
             [
              0.6666666666666666,
              "#ed7953"
             ],
             [
              0.7777777777777778,
              "#fb9f3a"
             ],
             [
              0.8888888888888888,
              "#fdca26"
             ],
             [
              1,
              "#f0f921"
             ]
            ],
            "type": "histogram2d"
           }
          ],
          "histogram2dcontour": [
           {
            "colorbar": {
             "outlinewidth": 0,
             "ticks": ""
            },
            "colorscale": [
             [
              0,
              "#0d0887"
             ],
             [
              0.1111111111111111,
              "#46039f"
             ],
             [
              0.2222222222222222,
              "#7201a8"
             ],
             [
              0.3333333333333333,
              "#9c179e"
             ],
             [
              0.4444444444444444,
              "#bd3786"
             ],
             [
              0.5555555555555556,
              "#d8576b"
             ],
             [
              0.6666666666666666,
              "#ed7953"
             ],
             [
              0.7777777777777778,
              "#fb9f3a"
             ],
             [
              0.8888888888888888,
              "#fdca26"
             ],
             [
              1,
              "#f0f921"
             ]
            ],
            "type": "histogram2dcontour"
           }
          ],
          "mesh3d": [
           {
            "colorbar": {
             "outlinewidth": 0,
             "ticks": ""
            },
            "type": "mesh3d"
           }
          ],
          "parcoords": [
           {
            "line": {
             "colorbar": {
              "outlinewidth": 0,
              "ticks": ""
             }
            },
            "type": "parcoords"
           }
          ],
          "pie": [
           {
            "automargin": true,
            "type": "pie"
           }
          ],
          "scatter": [
           {
            "marker": {
             "colorbar": {
              "outlinewidth": 0,
              "ticks": ""
             }
            },
            "type": "scatter"
           }
          ],
          "scatter3d": [
           {
            "line": {
             "colorbar": {
              "outlinewidth": 0,
              "ticks": ""
             }
            },
            "marker": {
             "colorbar": {
              "outlinewidth": 0,
              "ticks": ""
             }
            },
            "type": "scatter3d"
           }
          ],
          "scattercarpet": [
           {
            "marker": {
             "colorbar": {
              "outlinewidth": 0,
              "ticks": ""
             }
            },
            "type": "scattercarpet"
           }
          ],
          "scattergeo": [
           {
            "marker": {
             "colorbar": {
              "outlinewidth": 0,
              "ticks": ""
             }
            },
            "type": "scattergeo"
           }
          ],
          "scattergl": [
           {
            "marker": {
             "colorbar": {
              "outlinewidth": 0,
              "ticks": ""
             }
            },
            "type": "scattergl"
           }
          ],
          "scattermapbox": [
           {
            "marker": {
             "colorbar": {
              "outlinewidth": 0,
              "ticks": ""
             }
            },
            "type": "scattermapbox"
           }
          ],
          "scatterpolar": [
           {
            "marker": {
             "colorbar": {
              "outlinewidth": 0,
              "ticks": ""
             }
            },
            "type": "scatterpolar"
           }
          ],
          "scatterpolargl": [
           {
            "marker": {
             "colorbar": {
              "outlinewidth": 0,
              "ticks": ""
             }
            },
            "type": "scatterpolargl"
           }
          ],
          "scatterternary": [
           {
            "marker": {
             "colorbar": {
              "outlinewidth": 0,
              "ticks": ""
             }
            },
            "type": "scatterternary"
           }
          ],
          "surface": [
           {
            "colorbar": {
             "outlinewidth": 0,
             "ticks": ""
            },
            "colorscale": [
             [
              0,
              "#0d0887"
             ],
             [
              0.1111111111111111,
              "#46039f"
             ],
             [
              0.2222222222222222,
              "#7201a8"
             ],
             [
              0.3333333333333333,
              "#9c179e"
             ],
             [
              0.4444444444444444,
              "#bd3786"
             ],
             [
              0.5555555555555556,
              "#d8576b"
             ],
             [
              0.6666666666666666,
              "#ed7953"
             ],
             [
              0.7777777777777778,
              "#fb9f3a"
             ],
             [
              0.8888888888888888,
              "#fdca26"
             ],
             [
              1,
              "#f0f921"
             ]
            ],
            "type": "surface"
           }
          ],
          "table": [
           {
            "cells": {
             "fill": {
              "color": "#EBF0F8"
             },
             "line": {
              "color": "white"
             }
            },
            "header": {
             "fill": {
              "color": "#C8D4E3"
             },
             "line": {
              "color": "white"
             }
            },
            "type": "table"
           }
          ]
         },
         "layout": {
          "annotationdefaults": {
           "arrowcolor": "#2a3f5f",
           "arrowhead": 0,
           "arrowwidth": 1
          },
          "autotypenumbers": "strict",
          "coloraxis": {
           "colorbar": {
            "outlinewidth": 0,
            "ticks": ""
           }
          },
          "colorscale": {
           "diverging": [
            [
             0,
             "#8e0152"
            ],
            [
             0.1,
             "#c51b7d"
            ],
            [
             0.2,
             "#de77ae"
            ],
            [
             0.3,
             "#f1b6da"
            ],
            [
             0.4,
             "#fde0ef"
            ],
            [
             0.5,
             "#f7f7f7"
            ],
            [
             0.6,
             "#e6f5d0"
            ],
            [
             0.7,
             "#b8e186"
            ],
            [
             0.8,
             "#7fbc41"
            ],
            [
             0.9,
             "#4d9221"
            ],
            [
             1,
             "#276419"
            ]
           ],
           "sequential": [
            [
             0,
             "#0d0887"
            ],
            [
             0.1111111111111111,
             "#46039f"
            ],
            [
             0.2222222222222222,
             "#7201a8"
            ],
            [
             0.3333333333333333,
             "#9c179e"
            ],
            [
             0.4444444444444444,
             "#bd3786"
            ],
            [
             0.5555555555555556,
             "#d8576b"
            ],
            [
             0.6666666666666666,
             "#ed7953"
            ],
            [
             0.7777777777777778,
             "#fb9f3a"
            ],
            [
             0.8888888888888888,
             "#fdca26"
            ],
            [
             1,
             "#f0f921"
            ]
           ],
           "sequentialminus": [
            [
             0,
             "#0d0887"
            ],
            [
             0.1111111111111111,
             "#46039f"
            ],
            [
             0.2222222222222222,
             "#7201a8"
            ],
            [
             0.3333333333333333,
             "#9c179e"
            ],
            [
             0.4444444444444444,
             "#bd3786"
            ],
            [
             0.5555555555555556,
             "#d8576b"
            ],
            [
             0.6666666666666666,
             "#ed7953"
            ],
            [
             0.7777777777777778,
             "#fb9f3a"
            ],
            [
             0.8888888888888888,
             "#fdca26"
            ],
            [
             1,
             "#f0f921"
            ]
           ]
          },
          "colorway": [
           "#636efa",
           "#EF553B",
           "#00cc96",
           "#ab63fa",
           "#FFA15A",
           "#19d3f3",
           "#FF6692",
           "#B6E880",
           "#FF97FF",
           "#FECB52"
          ],
          "font": {
           "color": "#2a3f5f"
          },
          "geo": {
           "bgcolor": "white",
           "lakecolor": "white",
           "landcolor": "#E5ECF6",
           "showlakes": true,
           "showland": true,
           "subunitcolor": "white"
          },
          "hoverlabel": {
           "align": "left"
          },
          "hovermode": "closest",
          "mapbox": {
           "style": "light"
          },
          "paper_bgcolor": "white",
          "plot_bgcolor": "#E5ECF6",
          "polar": {
           "angularaxis": {
            "gridcolor": "white",
            "linecolor": "white",
            "ticks": ""
           },
           "bgcolor": "#E5ECF6",
           "radialaxis": {
            "gridcolor": "white",
            "linecolor": "white",
            "ticks": ""
           }
          },
          "scene": {
           "xaxis": {
            "backgroundcolor": "#E5ECF6",
            "gridcolor": "white",
            "gridwidth": 2,
            "linecolor": "white",
            "showbackground": true,
            "ticks": "",
            "zerolinecolor": "white"
           },
           "yaxis": {
            "backgroundcolor": "#E5ECF6",
            "gridcolor": "white",
            "gridwidth": 2,
            "linecolor": "white",
            "showbackground": true,
            "ticks": "",
            "zerolinecolor": "white"
           },
           "zaxis": {
            "backgroundcolor": "#E5ECF6",
            "gridcolor": "white",
            "gridwidth": 2,
            "linecolor": "white",
            "showbackground": true,
            "ticks": "",
            "zerolinecolor": "white"
           }
          },
          "shapedefaults": {
           "line": {
            "color": "#2a3f5f"
           }
          },
          "ternary": {
           "aaxis": {
            "gridcolor": "white",
            "linecolor": "white",
            "ticks": ""
           },
           "baxis": {
            "gridcolor": "white",
            "linecolor": "white",
            "ticks": ""
           },
           "bgcolor": "#E5ECF6",
           "caxis": {
            "gridcolor": "white",
            "linecolor": "white",
            "ticks": ""
           }
          },
          "title": {
           "x": 0.05
          },
          "xaxis": {
           "automargin": true,
           "gridcolor": "white",
           "linecolor": "white",
           "ticks": "",
           "title": {
            "standoff": 15
           },
           "zerolinecolor": "white",
           "zerolinewidth": 2
          },
          "yaxis": {
           "automargin": true,
           "gridcolor": "white",
           "linecolor": "white",
           "ticks": "",
           "title": {
            "standoff": 15
           },
           "zerolinecolor": "white",
           "zerolinewidth": 2
          }
         }
        },
        "updatemenus": [
         {
          "active": 0,
          "buttons": [
           {
            "args": [
             null,
             {
              "frame": {
               "duration": 500,
               "redraw": false
              },
              "fromcurrent": true,
              "mode": "immediate",
              "transition": {
               "duration": 500,
               "easing": "linear"
              }
             }
            ],
            "label": "&#9654;",
            "method": "animate"
           },
           {
            "args": [
             [
              null
             ],
             {
              "frame": {
               "duration": 0,
               "redraw": false
              },
              "fromcurrent": true,
              "mode": "immediate",
              "transition": {
               "duration": 0,
               "easing": "linear"
              }
             }
            ],
            "label": "&#9724;",
            "method": "animate"
           }
          ],
          "direction": "left",
          "pad": {
           "r": 10,
           "t": 70
          },
          "showactive": false,
          "type": "buttons",
          "x": 0.1,
          "xanchor": "right",
          "y": 0,
          "yanchor": "top"
         }
        ],
        "xaxis": {
         "anchor": "y",
         "autorange": true,
         "categoryarray": [
          "Asian",
          "Black",
          "Caucasian",
          "Latino",
          "Multi"
         ],
         "categoryorder": "array",
         "domain": [
          0,
          1
         ],
         "range": [
          -0.24406868527985318,
          4.244068685279853
         ],
         "title": {
          "text": "Ancestry"
         },
         "type": "category"
        },
        "yaxis": {
         "anchor": "x",
         "domain": [
          0,
          1
         ],
         "range": [
          -1,
          0.1
         ],
         "title": {
          "text": "Daily Average Vials Transacted"
         },
         "type": "linear"
        }
       }
      },
      "image/png": "[encoded data removed]",
      "text/html": [
       "<div>                            <div id=\"8f3a6367-8067-4214-8c91-94ae80c5412a\" class=\"plotly-graph-div\" style=\"height:525px; width:100%;\"></div>            <script type=\"text/javascript\">                require([\"plotly\"], function(Plotly) {                    window.PLOTLYENV=window.PLOTLYENV || {};                                    if (document.getElementById(\"8f3a6367-8067-4214-8c91-94ae80c5412a\")) {                    Plotly.newPlot(                        \"8f3a6367-8067-4214-8c91-94ae80c5412a\",                        [{\"hovertemplate\":\"Ancestry=%{x}<br>Day=Delta 1<br>Daily Average Vials Transacted=%{y}<extra></extra>\",\"legendgroup\":\"Asian\",\"marker\":{\"color\":\"#636efa\",\"symbol\":\"circle\"},\"mode\":\"markers\",\"name\":\"Asian\",\"orientation\":\"v\",\"showlegend\":true,\"x\":[\"Asian\"],\"xaxis\":\"x\",\"y\":[0.0],\"yaxis\":\"y\",\"type\":\"scatter\"},{\"hovertemplate\":\"Ancestry=%{x}<br>Day=Delta 1<br>Daily Average Vials Transacted=%{y}<extra></extra>\",\"legendgroup\":\"Black\",\"marker\":{\"color\":\"#EF553B\",\"symbol\":\"circle\"},\"mode\":\"markers\",\"name\":\"Black\",\"orientation\":\"v\",\"showlegend\":true,\"x\":[\"Black\"],\"xaxis\":\"x\",\"y\":[-0.7333333333333333],\"yaxis\":\"y\",\"type\":\"scatter\"},{\"hovertemplate\":\"Ancestry=%{x}<br>Day=Delta 1<br>Daily Average Vials Transacted=%{y}<extra></extra>\",\"legendgroup\":\"Caucasian\",\"marker\":{\"color\":\"#00cc96\",\"symbol\":\"circle\"},\"mode\":\"markers\",\"name\":\"Caucasian\",\"orientation\":\"v\",\"showlegend\":true,\"x\":[\"Caucasian\"],\"xaxis\":\"x\",\"y\":[-0.14814814814814814],\"yaxis\":\"y\",\"type\":\"scatter\"},{\"hovertemplate\":\"Ancestry=%{x}<br>Day=Delta 1<br>Daily Average Vials Transacted=%{y}<extra></extra>\",\"legendgroup\":\"Latino\",\"marker\":{\"color\":\"#ab63fa\",\"symbol\":\"circle\"},\"mode\":\"markers\",\"name\":\"Latino\",\"orientation\":\"v\",\"showlegend\":true,\"x\":[\"Latino\"],\"xaxis\":\"x\",\"y\":[-0.038461538461538464],\"yaxis\":\"y\",\"type\":\"scatter\"},{\"hovertemplate\":\"Ancestry=%{x}<br>Day=Delta 1<br>Daily Average Vials Transacted=%{y}<extra></extra>\",\"legendgroup\":\"Multi\",\"marker\":{\"color\":\"#FFA15A\",\"symbol\":\"circle\"},\"mode\":\"markers\",\"name\":\"Multi\",\"orientation\":\"v\",\"showlegend\":true,\"x\":[\"Multi\"],\"xaxis\":\"x\",\"y\":[-0.02040816326530612],\"yaxis\":\"y\",\"type\":\"scatter\"}],                        {\"template\":{\"data\":{\"bar\":[{\"error_x\":{\"color\":\"#2a3f5f\"},\"error_y\":{\"color\":\"#2a3f5f\"},\"marker\":{\"line\":{\"color\":\"#E5ECF6\",\"width\":0.5},\"pattern\":{\"fillmode\":\"overlay\",\"size\":10,\"solidity\":0.2}},\"type\":\"bar\"}],\"barpolar\":[{\"marker\":{\"line\":{\"color\":\"#E5ECF6\",\"width\":0.5},\"pattern\":{\"fillmode\":\"overlay\",\"size\":10,\"solidity\":0.2}},\"type\":\"barpolar\"}],\"carpet\":[{\"aaxis\":{\"endlinecolor\":\"#2a3f5f\",\"gridcolor\":\"white\",\"linecolor\":\"white\",\"minorgridcolor\":\"white\",\"startlinecolor\":\"#2a3f5f\"},\"baxis\":{\"endlinecolor\":\"#2a3f5f\",\"gridcolor\":\"white\",\"linecolor\":\"white\",\"minorgridcolor\":\"white\",\"startlinecolor\":\"#2a3f5f\"},\"type\":\"carpet\"}],\"choropleth\":[{\"colorbar\":{\"outlinewidth\":0,\"ticks\":\"\"},\"type\":\"choropleth\"}],\"contour\":[{\"colorbar\":{\"outlinewidth\":0,\"ticks\":\"\"},\"colorscale\":[[0.0,\"#0d0887\"],[0.1111111111111111,\"#46039f\"],[0.2222222222222222,\"#7201a8\"],[0.3333333333333333,\"#9c179e\"],[0.4444444444444444,\"#bd3786\"],[0.5555555555555556,\"#d8576b\"],[0.6666666666666666,\"#ed7953\"],[0.7777777777777778,\"#fb9f3a\"],[0.8888888888888888,\"#fdca26\"],[1.0,\"#f0f921\"]],\"type\":\"contour\"}],\"contourcarpet\":[{\"colorbar\":{\"outlinewidth\":0,\"ticks\":\"\"},\"type\":\"contourcarpet\"}],\"heatmap\":[{\"colorbar\":{\"outlinewidth\":0,\"ticks\":\"\"},\"colorscale\":[[0.0,\"#0d0887\"],[0.1111111111111111,\"#46039f\"],[0.2222222222222222,\"#7201a8\"],[0.3333333333333333,\"#9c179e\"],[0.4444444444444444,\"#bd3786\"],[0.5555555555555556,\"#d8576b\"],[0.6666666666666666,\"#ed7953\"],[0.7777777777777778,\"#fb9f3a\"],[0.8888888888888888,\"#fdca26\"],[1.0,\"#f0f921\"]],\"type\":\"heatmap\"}],\"heatmapgl\":[{\"colorbar\":{\"outlinewidth\":0,\"ticks\":\"\"},\"colorscale\":[[0.0,\"#0d0887\"],[0.1111111111111111,\"#46039f\"],[0.2222222222222222,\"#7201a8\"],[0.3333333333333333,\"#9c179e\"],[0.4444444444444444,\"#bd3786\"],[0.5555555555555556,\"#d8576b\"],[0.6666666666666666,\"#ed7953\"],[0.7777777777777778,\"#fb9f3a\"],[0.8888888888888888,\"#fdca26\"],[1.0,\"#f0f921\"]],\"type\":\"heatmapgl\"}],\"histogram\":[{\"marker\":{\"pattern\":{\"fillmode\":\"overlay\",\"size\":10,\"solidity\":0.2}},\"type\":\"histogram\"}],\"histogram2d\":[{\"colorbar\":{\"outlinewidth\":0,\"ticks\":\"\"},\"colorscale\":[[0.0,\"#0d0887\"],[0.1111111111111111,\"#46039f\"],[0.2222222222222222,\"#7201a8\"],[0.3333333333333333,\"#9c179e\"],[0.4444444444444444,\"#bd3786\"],[0.5555555555555556,\"#d8576b\"],[0.6666666666666666,\"#ed7953\"],[0.7777777777777778,\"#fb9f3a\"],[0.8888888888888888,\"#fdca26\"],[1.0,\"#f0f921\"]],\"type\":\"histogram2d\"}],\"histogram2dcontour\":[{\"colorbar\":{\"outlinewidth\":0,\"ticks\":\"\"},\"colorscale\":[[0.0,\"#0d0887\"],[0.1111111111111111,\"#46039f\"],[0.2222222222222222,\"#7201a8\"],[0.3333333333333333,\"#9c179e\"],[0.4444444444444444,\"#bd3786\"],[0.5555555555555556,\"#d8576b\"],[0.6666666666666666,\"#ed7953\"],[0.7777777777777778,\"#fb9f3a\"],[0.8888888888888888,\"#fdca26\"],[1.0,\"#f0f921\"]],\"type\":\"histogram2dcontour\"}],\"mesh3d\":[{\"colorbar\":{\"outlinewidth\":0,\"ticks\":\"\"},\"type\":\"mesh3d\"}],\"parcoords\":[{\"line\":{\"colorbar\":{\"outlinewidth\":0,\"ticks\":\"\"}},\"type\":\"parcoords\"}],\"pie\":[{\"automargin\":true,\"type\":\"pie\"}],\"scatter\":[{\"marker\":{\"colorbar\":{\"outlinewidth\":0,\"ticks\":\"\"}},\"type\":\"scatter\"}],\"scatter3d\":[{\"line\":{\"colorbar\":{\"outlinewidth\":0,\"ticks\":\"\"}},\"marker\":{\"colorbar\":{\"outlinewidth\":0,\"ticks\":\"\"}},\"type\":\"scatter3d\"}],\"scattercarpet\":[{\"marker\":{\"colorbar\":{\"outlinewidth\":0,\"ticks\":\"\"}},\"type\":\"scattercarpet\"}],\"scattergeo\":[{\"marker\":{\"colorbar\":{\"outlinewidth\":0,\"ticks\":\"\"}},\"type\":\"scattergeo\"}],\"scattergl\":[{\"marker\":{\"colorbar\":{\"outlinewidth\":0,\"ticks\":\"\"}},\"type\":\"scattergl\"}],\"scattermapbox\":[{\"marker\":{\"colorbar\":{\"outlinewidth\":0,\"ticks\":\"\"}},\"type\":\"scattermapbox\"}],\"scatterpolar\":[{\"marker\":{\"colorbar\":{\"outlinewidth\":0,\"ticks\":\"\"}},\"type\":\"scatterpolar\"}],\"scatterpolargl\":[{\"marker\":{\"colorbar\":{\"outlinewidth\":0,\"ticks\":\"\"}},\"type\":\"scatterpolargl\"}],\"scatterternary\":[{\"marker\":{\"colorbar\":{\"outlinewidth\":0,\"ticks\":\"\"}},\"type\":\"scatterternary\"}],\"surface\":[{\"colorbar\":{\"outlinewidth\":0,\"ticks\":\"\"},\"colorscale\":[[0.0,\"#0d0887\"],[0.1111111111111111,\"#46039f\"],[0.2222222222222222,\"#7201a8\"],[0.3333333333333333,\"#9c179e\"],[0.4444444444444444,\"#bd3786\"],[0.5555555555555556,\"#d8576b\"],[0.6666666666666666,\"#ed7953\"],[0.7777777777777778,\"#fb9f3a\"],[0.8888888888888888,\"#fdca26\"],[1.0,\"#f0f921\"]],\"type\":\"surface\"}],\"table\":[{\"cells\":{\"fill\":{\"color\":\"#EBF0F8\"},\"line\":{\"color\":\"white\"}},\"header\":{\"fill\":{\"color\":\"#C8D4E3\"},\"line\":{\"color\":\"white\"}},\"type\":\"table\"}]},\"layout\":{\"annotationdefaults\":{\"arrowcolor\":\"#2a3f5f\",\"arrowhead\":0,\"arrowwidth\":1},\"autotypenumbers\":\"strict\",\"coloraxis\":{\"colorbar\":{\"outlinewidth\":0,\"ticks\":\"\"}},\"colorscale\":{\"diverging\":[[0,\"#8e0152\"],[0.1,\"#c51b7d\"],[0.2,\"#de77ae\"],[0.3,\"#f1b6da\"],[0.4,\"#fde0ef\"],[0.5,\"#f7f7f7\"],[0.6,\"#e6f5d0\"],[0.7,\"#b8e186\"],[0.8,\"#7fbc41\"],[0.9,\"#4d9221\"],[1,\"#276419\"]],\"sequential\":[[0.0,\"#0d0887\"],[0.1111111111111111,\"#46039f\"],[0.2222222222222222,\"#7201a8\"],[0.3333333333333333,\"#9c179e\"],[0.4444444444444444,\"#bd3786\"],[0.5555555555555556,\"#d8576b\"],[0.6666666666666666,\"#ed7953\"],[0.7777777777777778,\"#fb9f3a\"],[0.8888888888888888,\"#fdca26\"],[1.0,\"#f0f921\"]],\"sequentialminus\":[[0.0,\"#0d0887\"],[0.1111111111111111,\"#46039f\"],[0.2222222222222222,\"#7201a8\"],[0.3333333333333333,\"#9c179e\"],[0.4444444444444444,\"#bd3786\"],[0.5555555555555556,\"#d8576b\"],[0.6666666666666666,\"#ed7953\"],[0.7777777777777778,\"#fb9f3a\"],[0.8888888888888888,\"#fdca26\"],[1.0,\"#f0f921\"]]},\"colorway\":[\"#636efa\",\"#EF553B\",\"#00cc96\",\"#ab63fa\",\"#FFA15A\",\"#19d3f3\",\"#FF6692\",\"#B6E880\",\"#FF97FF\",\"#FECB52\"],\"font\":{\"color\":\"#2a3f5f\"},\"geo\":{\"bgcolor\":\"white\",\"lakecolor\":\"white\",\"landcolor\":\"#E5ECF6\",\"showlakes\":true,\"showland\":true,\"subunitcolor\":\"white\"},\"hoverlabel\":{\"align\":\"left\"},\"hovermode\":\"closest\",\"mapbox\":{\"style\":\"light\"},\"paper_bgcolor\":\"white\",\"plot_bgcolor\":\"#E5ECF6\",\"polar\":{\"angularaxis\":{\"gridcolor\":\"white\",\"linecolor\":\"white\",\"ticks\":\"\"},\"bgcolor\":\"#E5ECF6\",\"radialaxis\":{\"gridcolor\":\"white\",\"linecolor\":\"white\",\"ticks\":\"\"}},\"scene\":{\"xaxis\":{\"backgroundcolor\":\"#E5ECF6\",\"gridcolor\":\"white\",\"gridwidth\":2,\"linecolor\":\"white\",\"showbackground\":true,\"ticks\":\"\",\"zerolinecolor\":\"white\"},\"yaxis\":{\"backgroundcolor\":\"#E5ECF6\",\"gridcolor\":\"white\",\"gridwidth\":2,\"linecolor\":\"white\",\"showbackground\":true,\"ticks\":\"\",\"zerolinecolor\":\"white\"},\"zaxis\":{\"backgroundcolor\":\"#E5ECF6\",\"gridcolor\":\"white\",\"gridwidth\":2,\"linecolor\":\"white\",\"showbackground\":true,\"ticks\":\"\",\"zerolinecolor\":\"white\"}},\"shapedefaults\":{\"line\":{\"color\":\"#2a3f5f\"}},\"ternary\":{\"aaxis\":{\"gridcolor\":\"white\",\"linecolor\":\"white\",\"ticks\":\"\"},\"baxis\":{\"gridcolor\":\"white\",\"linecolor\":\"white\",\"ticks\":\"\"},\"bgcolor\":\"#E5ECF6\",\"caxis\":{\"gridcolor\":\"white\",\"linecolor\":\"white\",\"ticks\":\"\"}},\"title\":{\"x\":0.05},\"xaxis\":{\"automargin\":true,\"gridcolor\":\"white\",\"linecolor\":\"white\",\"ticks\":\"\",\"title\":{\"standoff\":15},\"zerolinecolor\":\"white\",\"zerolinewidth\":2},\"yaxis\":{\"automargin\":true,\"gridcolor\":\"white\",\"linecolor\":\"white\",\"ticks\":\"\",\"title\":{\"standoff\":15},\"zerolinecolor\":\"white\",\"zerolinewidth\":2}}},\"xaxis\":{\"anchor\":\"y\",\"domain\":[0.0,1.0],\"title\":{\"text\":\"Ancestry\"},\"categoryorder\":\"array\",\"categoryarray\":[\"Asian\",\"Black\",\"Caucasian\",\"Latino\",\"Multi\"]},\"yaxis\":{\"anchor\":\"x\",\"domain\":[0.0,1.0],\"title\":{\"text\":\"Daily Average Vials Transacted\"},\"range\":[-1,0.1]},\"legend\":{\"title\":{\"text\":\"Ancestry\"},\"tracegroupgap\":0},\"margin\":{\"t\":60},\"updatemenus\":[{\"buttons\":[{\"args\":[null,{\"frame\":{\"duration\":500,\"redraw\":false},\"mode\":\"immediate\",\"fromcurrent\":true,\"transition\":{\"duration\":500,\"easing\":\"linear\"}}],\"label\":\"&#9654;\",\"method\":\"animate\"},{\"args\":[[null],{\"frame\":{\"duration\":0,\"redraw\":false},\"mode\":\"immediate\",\"fromcurrent\":true,\"transition\":{\"duration\":0,\"easing\":\"linear\"}}],\"label\":\"&#9724;\",\"method\":\"animate\"}],\"direction\":\"left\",\"pad\":{\"r\":10,\"t\":70},\"showactive\":false,\"type\":\"buttons\",\"x\":0.1,\"xanchor\":\"right\",\"y\":0,\"yanchor\":\"top\"}],\"sliders\":[{\"active\":0,\"currentvalue\":{\"prefix\":\"Day=\"},\"len\":0.9,\"pad\":{\"b\":10,\"t\":60},\"steps\":[{\"args\":[[\"Delta 1\"],{\"frame\":{\"duration\":0,\"redraw\":false},\"mode\":\"immediate\",\"fromcurrent\":true,\"transition\":{\"duration\":0,\"easing\":\"linear\"}}],\"label\":\"Delta 1\",\"method\":\"animate\"},{\"args\":[[\"Delta 2\"],{\"frame\":{\"duration\":0,\"redraw\":false},\"mode\":\"immediate\",\"fromcurrent\":true,\"transition\":{\"duration\":0,\"easing\":\"linear\"}}],\"label\":\"Delta 2\",\"method\":\"animate\"},{\"args\":[[\"Delta 3\"],{\"frame\":{\"duration\":0,\"redraw\":false},\"mode\":\"immediate\",\"fromcurrent\":true,\"transition\":{\"duration\":0,\"easing\":\"linear\"}}],\"label\":\"Delta 3\",\"method\":\"animate\"},{\"args\":[[\"Delta 4\"],{\"frame\":{\"duration\":0,\"redraw\":false},\"mode\":\"immediate\",\"fromcurrent\":true,\"transition\":{\"duration\":0,\"easing\":\"linear\"}}],\"label\":\"Delta 4\",\"method\":\"animate\"},{\"args\":[[\"Delta 5\"],{\"frame\":{\"duration\":0,\"redraw\":false},\"mode\":\"immediate\",\"fromcurrent\":true,\"transition\":{\"duration\":0,\"easing\":\"linear\"}}],\"label\":\"Delta 5\",\"method\":\"animate\"},{\"args\":[[\"Delta 6\"],{\"frame\":{\"duration\":0,\"redraw\":false},\"mode\":\"immediate\",\"fromcurrent\":true,\"transition\":{\"duration\":0,\"easing\":\"linear\"}}],\"label\":\"Delta 6\",\"method\":\"animate\"},{\"args\":[[\"Delta 7\"],{\"frame\":{\"duration\":0,\"redraw\":false},\"mode\":\"immediate\",\"fromcurrent\":true,\"transition\":{\"duration\":0,\"easing\":\"linear\"}}],\"label\":\"Delta 7\",\"method\":\"animate\"},{\"args\":[[\"Delta 8\"],{\"frame\":{\"duration\":0,\"redraw\":false},\"mode\":\"immediate\",\"fromcurrent\":true,\"transition\":{\"duration\":0,\"easing\":\"linear\"}}],\"label\":\"Delta 8\",\"method\":\"animate\"},{\"args\":[[\"Delta 9\"],{\"frame\":{\"duration\":0,\"redraw\":false},\"mode\":\"immediate\",\"fromcurrent\":true,\"transition\":{\"duration\":0,\"easing\":\"linear\"}}],\"label\":\"Delta 9\",\"method\":\"animate\"},{\"args\":[[\"Delta 10\"],{\"frame\":{\"duration\":0,\"redraw\":false},\"mode\":\"immediate\",\"fromcurrent\":true,\"transition\":{\"duration\":0,\"easing\":\"linear\"}}],\"label\":\"Delta 10\",\"method\":\"animate\"},{\"args\":[[\"Delta 11\"],{\"frame\":{\"duration\":0,\"redraw\":false},\"mode\":\"immediate\",\"fromcurrent\":true,\"transition\":{\"duration\":0,\"easing\":\"linear\"}}],\"label\":\"Delta 11\",\"method\":\"animate\"},{\"args\":[[\"Delta 12\"],{\"frame\":{\"duration\":0,\"redraw\":false},\"mode\":\"immediate\",\"fromcurrent\":true,\"transition\":{\"duration\":0,\"easing\":\"linear\"}}],\"label\":\"Delta 12\",\"method\":\"animate\"},{\"args\":[[\"Delta 13\"],{\"frame\":{\"duration\":0,\"redraw\":false},\"mode\":\"immediate\",\"fromcurrent\":true,\"transition\":{\"duration\":0,\"easing\":\"linear\"}}],\"label\":\"Delta 13\",\"method\":\"animate\"},{\"args\":[[\"Delta 14\"],{\"frame\":{\"duration\":0,\"redraw\":false},\"mode\":\"immediate\",\"fromcurrent\":true,\"transition\":{\"duration\":0,\"easing\":\"linear\"}}],\"label\":\"Delta 14\",\"method\":\"animate\"},{\"args\":[[\"Delta 15\"],{\"frame\":{\"duration\":0,\"redraw\":false},\"mode\":\"immediate\",\"fromcurrent\":true,\"transition\":{\"duration\":0,\"easing\":\"linear\"}}],\"label\":\"Delta 15\",\"method\":\"animate\"},{\"args\":[[\"Delta 16\"],{\"frame\":{\"duration\":0,\"redraw\":false},\"mode\":\"immediate\",\"fromcurrent\":true,\"transition\":{\"duration\":0,\"easing\":\"linear\"}}],\"label\":\"Delta 16\",\"method\":\"animate\"},{\"args\":[[\"Delta 17\"],{\"frame\":{\"duration\":0,\"redraw\":false},\"mode\":\"immediate\",\"fromcurrent\":true,\"transition\":{\"duration\":0,\"easing\":\"linear\"}}],\"label\":\"Delta 17\",\"method\":\"animate\"},{\"args\":[[\"Delta 18\"],{\"frame\":{\"duration\":0,\"redraw\":false},\"mode\":\"immediate\",\"fromcurrent\":true,\"transition\":{\"duration\":0,\"easing\":\"linear\"}}],\"label\":\"Delta 18\",\"method\":\"animate\"},{\"args\":[[\"Delta 19\"],{\"frame\":{\"duration\":0,\"redraw\":false},\"mode\":\"immediate\",\"fromcurrent\":true,\"transition\":{\"duration\":0,\"easing\":\"linear\"}}],\"label\":\"Delta 19\",\"method\":\"animate\"},{\"args\":[[\"Delta 20\"],{\"frame\":{\"duration\":0,\"redraw\":false},\"mode\":\"immediate\",\"fromcurrent\":true,\"transition\":{\"duration\":0,\"easing\":\"linear\"}}],\"label\":\"Delta 20\",\"method\":\"animate\"},{\"args\":[[\"Delta 21\"],{\"frame\":{\"duration\":0,\"redraw\":false},\"mode\":\"immediate\",\"fromcurrent\":true,\"transition\":{\"duration\":0,\"easing\":\"linear\"}}],\"label\":\"Delta 21\",\"method\":\"animate\"},{\"args\":[[\"Delta 22\"],{\"frame\":{\"duration\":0,\"redraw\":false},\"mode\":\"immediate\",\"fromcurrent\":true,\"transition\":{\"duration\":0,\"easing\":\"linear\"}}],\"label\":\"Delta 22\",\"method\":\"animate\"},{\"args\":[[\"Delta 23\"],{\"frame\":{\"duration\":0,\"redraw\":false},\"mode\":\"immediate\",\"fromcurrent\":true,\"transition\":{\"duration\":0,\"easing\":\"linear\"}}],\"label\":\"Delta 23\",\"method\":\"animate\"},{\"args\":[[\"Delta 24\"],{\"frame\":{\"duration\":0,\"redraw\":false},\"mode\":\"immediate\",\"fromcurrent\":true,\"transition\":{\"duration\":0,\"easing\":\"linear\"}}],\"label\":\"Delta 24\",\"method\":\"animate\"},{\"args\":[[\"Delta 25\"],{\"frame\":{\"duration\":0,\"redraw\":false},\"mode\":\"immediate\",\"fromcurrent\":true,\"transition\":{\"duration\":0,\"easing\":\"linear\"}}],\"label\":\"Delta 25\",\"method\":\"animate\"},{\"args\":[[\"Delta 26\"],{\"frame\":{\"duration\":0,\"redraw\":false},\"mode\":\"immediate\",\"fromcurrent\":true,\"transition\":{\"duration\":0,\"easing\":\"linear\"}}],\"label\":\"Delta 26\",\"method\":\"animate\"},{\"args\":[[\"Delta 27\"],{\"frame\":{\"duration\":0,\"redraw\":false},\"mode\":\"immediate\",\"fromcurrent\":true,\"transition\":{\"duration\":0,\"easing\":\"linear\"}}],\"label\":\"Delta 27\",\"method\":\"animate\"},{\"args\":[[\"Delta 28\"],{\"frame\":{\"duration\":0,\"redraw\":false},\"mode\":\"immediate\",\"fromcurrent\":true,\"transition\":{\"duration\":0,\"easing\":\"linear\"}}],\"label\":\"Delta 28\",\"method\":\"animate\"},{\"args\":[[\"Delta 29\"],{\"frame\":{\"duration\":0,\"redraw\":false},\"mode\":\"immediate\",\"fromcurrent\":true,\"transition\":{\"duration\":0,\"easing\":\"linear\"}}],\"label\":\"Delta 29\",\"method\":\"animate\"},{\"args\":[[\"Delta 30\"],{\"frame\":{\"duration\":0,\"redraw\":false},\"mode\":\"immediate\",\"fromcurrent\":true,\"transition\":{\"duration\":0,\"easing\":\"linear\"}}],\"label\":\"Delta 30\",\"method\":\"animate\"},{\"args\":[[\"Delta 31\"],{\"frame\":{\"duration\":0,\"redraw\":false},\"mode\":\"immediate\",\"fromcurrent\":true,\"transition\":{\"duration\":0,\"easing\":\"linear\"}}],\"label\":\"Delta 31\",\"method\":\"animate\"},{\"args\":[[\"Delta 32\"],{\"frame\":{\"duration\":0,\"redraw\":false},\"mode\":\"immediate\",\"fromcurrent\":true,\"transition\":{\"duration\":0,\"easing\":\"linear\"}}],\"label\":\"Delta 32\",\"method\":\"animate\"},{\"args\":[[\"Delta 33\"],{\"frame\":{\"duration\":0,\"redraw\":false},\"mode\":\"immediate\",\"fromcurrent\":true,\"transition\":{\"duration\":0,\"easing\":\"linear\"}}],\"label\":\"Delta 33\",\"method\":\"animate\"},{\"args\":[[\"Delta 34\"],{\"frame\":{\"duration\":0,\"redraw\":false},\"mode\":\"immediate\",\"fromcurrent\":true,\"transition\":{\"duration\":0,\"easing\":\"linear\"}}],\"label\":\"Delta 34\",\"method\":\"animate\"},{\"args\":[[\"Delta 35\"],{\"frame\":{\"duration\":0,\"redraw\":false},\"mode\":\"immediate\",\"fromcurrent\":true,\"transition\":{\"duration\":0,\"easing\":\"linear\"}}],\"label\":\"Delta 35\",\"method\":\"animate\"},{\"args\":[[\"Delta 36\"],{\"frame\":{\"duration\":0,\"redraw\":false},\"mode\":\"immediate\",\"fromcurrent\":true,\"transition\":{\"duration\":0,\"easing\":\"linear\"}}],\"label\":\"Delta 36\",\"method\":\"animate\"},{\"args\":[[\"Delta 37\"],{\"frame\":{\"duration\":0,\"redraw\":false},\"mode\":\"immediate\",\"fromcurrent\":true,\"transition\":{\"duration\":0,\"easing\":\"linear\"}}],\"label\":\"Delta 37\",\"method\":\"animate\"},{\"args\":[[\"Delta 38\"],{\"frame\":{\"duration\":0,\"redraw\":false},\"mode\":\"immediate\",\"fromcurrent\":true,\"transition\":{\"duration\":0,\"easing\":\"linear\"}}],\"label\":\"Delta 38\",\"method\":\"animate\"},{\"args\":[[\"Delta 39\"],{\"frame\":{\"duration\":0,\"redraw\":false},\"mode\":\"immediate\",\"fromcurrent\":true,\"transition\":{\"duration\":0,\"easing\":\"linear\"}}],\"label\":\"Delta 39\",\"method\":\"animate\"},{\"args\":[[\"Delta 40\"],{\"frame\":{\"duration\":0,\"redraw\":false},\"mode\":\"immediate\",\"fromcurrent\":true,\"transition\":{\"duration\":0,\"easing\":\"linear\"}}],\"label\":\"Delta 40\",\"method\":\"animate\"},{\"args\":[[\"Delta 41\"],{\"frame\":{\"duration\":0,\"redraw\":false},\"mode\":\"immediate\",\"fromcurrent\":true,\"transition\":{\"duration\":0,\"easing\":\"linear\"}}],\"label\":\"Delta 41\",\"method\":\"animate\"},{\"args\":[[\"Delta 42\"],{\"frame\":{\"duration\":0,\"redraw\":false},\"mode\":\"immediate\",\"fromcurrent\":true,\"transition\":{\"duration\":0,\"easing\":\"linear\"}}],\"label\":\"Delta 42\",\"method\":\"animate\"},{\"args\":[[\"Delta 43\"],{\"frame\":{\"duration\":0,\"redraw\":false},\"mode\":\"immediate\",\"fromcurrent\":true,\"transition\":{\"duration\":0,\"easing\":\"linear\"}}],\"label\":\"Delta 43\",\"method\":\"animate\"},{\"args\":[[\"Delta 44\"],{\"frame\":{\"duration\":0,\"redraw\":false},\"mode\":\"immediate\",\"fromcurrent\":true,\"transition\":{\"duration\":0,\"easing\":\"linear\"}}],\"label\":\"Delta 44\",\"method\":\"animate\"},{\"args\":[[\"Delta 45\"],{\"frame\":{\"duration\":0,\"redraw\":false},\"mode\":\"immediate\",\"fromcurrent\":true,\"transition\":{\"duration\":0,\"easing\":\"linear\"}}],\"label\":\"Delta 45\",\"method\":\"animate\"},{\"args\":[[\"Delta 46\"],{\"frame\":{\"duration\":0,\"redraw\":false},\"mode\":\"immediate\",\"fromcurrent\":true,\"transition\":{\"duration\":0,\"easing\":\"linear\"}}],\"label\":\"Delta 46\",\"method\":\"animate\"},{\"args\":[[\"Delta 47\"],{\"frame\":{\"duration\":0,\"redraw\":false},\"mode\":\"immediate\",\"fromcurrent\":true,\"transition\":{\"duration\":0,\"easing\":\"linear\"}}],\"label\":\"Delta 47\",\"method\":\"animate\"},{\"args\":[[\"Delta 48\"],{\"frame\":{\"duration\":0,\"redraw\":false},\"mode\":\"immediate\",\"fromcurrent\":true,\"transition\":{\"duration\":0,\"easing\":\"linear\"}}],\"label\":\"Delta 48\",\"method\":\"animate\"},{\"args\":[[\"Delta 49\"],{\"frame\":{\"duration\":0,\"redraw\":false},\"mode\":\"immediate\",\"fromcurrent\":true,\"transition\":{\"duration\":0,\"easing\":\"linear\"}}],\"label\":\"Delta 49\",\"method\":\"animate\"},{\"args\":[[\"Delta 50\"],{\"frame\":{\"duration\":0,\"redraw\":false},\"mode\":\"immediate\",\"fromcurrent\":true,\"transition\":{\"duration\":0,\"easing\":\"linear\"}}],\"label\":\"Delta 50\",\"method\":\"animate\"},{\"args\":[[\"Delta 51\"],{\"frame\":{\"duration\":0,\"redraw\":false},\"mode\":\"immediate\",\"fromcurrent\":true,\"transition\":{\"duration\":0,\"easing\":\"linear\"}}],\"label\":\"Delta 51\",\"method\":\"animate\"},{\"args\":[[\"Delta 52\"],{\"frame\":{\"duration\":0,\"redraw\":false},\"mode\":\"immediate\",\"fromcurrent\":true,\"transition\":{\"duration\":0,\"easing\":\"linear\"}}],\"label\":\"Delta 52\",\"method\":\"animate\"},{\"args\":[[\"Delta 53\"],{\"frame\":{\"duration\":0,\"redraw\":false},\"mode\":\"immediate\",\"fromcurrent\":true,\"transition\":{\"duration\":0,\"easing\":\"linear\"}}],\"label\":\"Delta 53\",\"method\":\"animate\"},{\"args\":[[\"Delta 54\"],{\"frame\":{\"duration\":0,\"redraw\":false},\"mode\":\"immediate\",\"fromcurrent\":true,\"transition\":{\"duration\":0,\"easing\":\"linear\"}}],\"label\":\"Delta 54\",\"method\":\"animate\"},{\"args\":[[\"Delta 55\"],{\"frame\":{\"duration\":0,\"redraw\":false},\"mode\":\"immediate\",\"fromcurrent\":true,\"transition\":{\"duration\":0,\"easing\":\"linear\"}}],\"label\":\"Delta 55\",\"method\":\"animate\"},{\"args\":[[\"Delta 56\"],{\"frame\":{\"duration\":0,\"redraw\":false},\"mode\":\"immediate\",\"fromcurrent\":true,\"transition\":{\"duration\":0,\"easing\":\"linear\"}}],\"label\":\"Delta 56\",\"method\":\"animate\"},{\"args\":[[\"Delta 57\"],{\"frame\":{\"duration\":0,\"redraw\":false},\"mode\":\"immediate\",\"fromcurrent\":true,\"transition\":{\"duration\":0,\"easing\":\"linear\"}}],\"label\":\"Delta 57\",\"method\":\"animate\"},{\"args\":[[\"Delta 58\"],{\"frame\":{\"duration\":0,\"redraw\":false},\"mode\":\"immediate\",\"fromcurrent\":true,\"transition\":{\"duration\":0,\"easing\":\"linear\"}}],\"label\":\"Delta 58\",\"method\":\"animate\"},{\"args\":[[\"Delta 59\"],{\"frame\":{\"duration\":0,\"redraw\":false},\"mode\":\"immediate\",\"fromcurrent\":true,\"transition\":{\"duration\":0,\"easing\":\"linear\"}}],\"label\":\"Delta 59\",\"method\":\"animate\"},{\"args\":[[\"Delta 60\"],{\"frame\":{\"duration\":0,\"redraw\":false},\"mode\":\"immediate\",\"fromcurrent\":true,\"transition\":{\"duration\":0,\"easing\":\"linear\"}}],\"label\":\"Delta 60\",\"method\":\"animate\"},{\"args\":[[\"Delta 61\"],{\"frame\":{\"duration\":0,\"redraw\":false},\"mode\":\"immediate\",\"fromcurrent\":true,\"transition\":{\"duration\":0,\"easing\":\"linear\"}}],\"label\":\"Delta 61\",\"method\":\"animate\"},{\"args\":[[\"Delta 62\"],{\"frame\":{\"duration\":0,\"redraw\":false},\"mode\":\"immediate\",\"fromcurrent\":true,\"transition\":{\"duration\":0,\"easing\":\"linear\"}}],\"label\":\"Delta 62\",\"method\":\"animate\"},{\"args\":[[\"Delta 63\"],{\"frame\":{\"duration\":0,\"redraw\":false},\"mode\":\"immediate\",\"fromcurrent\":true,\"transition\":{\"duration\":0,\"easing\":\"linear\"}}],\"label\":\"Delta 63\",\"method\":\"animate\"},{\"args\":[[\"Delta 64\"],{\"frame\":{\"duration\":0,\"redraw\":false},\"mode\":\"immediate\",\"fromcurrent\":true,\"transition\":{\"duration\":0,\"easing\":\"linear\"}}],\"label\":\"Delta 64\",\"method\":\"animate\"},{\"args\":[[\"Delta 65\"],{\"frame\":{\"duration\":0,\"redraw\":false},\"mode\":\"immediate\",\"fromcurrent\":true,\"transition\":{\"duration\":0,\"easing\":\"linear\"}}],\"label\":\"Delta 65\",\"method\":\"animate\"},{\"args\":[[\"Delta 66\"],{\"frame\":{\"duration\":0,\"redraw\":false},\"mode\":\"immediate\",\"fromcurrent\":true,\"transition\":{\"duration\":0,\"easing\":\"linear\"}}],\"label\":\"Delta 66\",\"method\":\"animate\"},{\"args\":[[\"Delta 67\"],{\"frame\":{\"duration\":0,\"redraw\":false},\"mode\":\"immediate\",\"fromcurrent\":true,\"transition\":{\"duration\":0,\"easing\":\"linear\"}}],\"label\":\"Delta 67\",\"method\":\"animate\"}],\"x\":0.1,\"xanchor\":\"left\",\"y\":0,\"yanchor\":\"top\"}]},                        {\"responsive\": true}                    ).then(function(){\n",
       "                            Plotly.addFrames('8f3a6367-8067-4214-8c91-94ae80c5412a', [{\"data\":[{\"hovertemplate\":\"Ancestry=%{x}<br>Day=Delta 1<br>Daily Average Vials Transacted=%{y}<extra></extra>\",\"legendgroup\":\"Asian\",\"marker\":{\"color\":\"#636efa\",\"symbol\":\"circle\"},\"mode\":\"markers\",\"name\":\"Asian\",\"orientation\":\"v\",\"showlegend\":true,\"x\":[\"Asian\"],\"xaxis\":\"x\",\"y\":[0.0],\"yaxis\":\"y\",\"type\":\"scatter\"},{\"hovertemplate\":\"Ancestry=%{x}<br>Day=Delta 1<br>Daily Average Vials Transacted=%{y}<extra></extra>\",\"legendgroup\":\"Black\",\"marker\":{\"color\":\"#EF553B\",\"symbol\":\"circle\"},\"mode\":\"markers\",\"name\":\"Black\",\"orientation\":\"v\",\"showlegend\":true,\"x\":[\"Black\"],\"xaxis\":\"x\",\"y\":[-0.7333333333333333],\"yaxis\":\"y\",\"type\":\"scatter\"},{\"hovertemplate\":\"Ancestry=%{x}<br>Day=Delta 1<br>Daily Average Vials Transacted=%{y}<extra></extra>\",\"legendgroup\":\"Caucasian\",\"marker\":{\"color\":\"#00cc96\",\"symbol\":\"circle\"},\"mode\":\"markers\",\"name\":\"Caucasian\",\"orientation\":\"v\",\"showlegend\":true,\"x\":[\"Caucasian\"],\"xaxis\":\"x\",\"y\":[-0.14814814814814814],\"yaxis\":\"y\",\"type\":\"scatter\"},{\"hovertemplate\":\"Ancestry=%{x}<br>Day=Delta 1<br>Daily Average Vials Transacted=%{y}<extra></extra>\",\"legendgroup\":\"Latino\",\"marker\":{\"color\":\"#ab63fa\",\"symbol\":\"circle\"},\"mode\":\"markers\",\"name\":\"Latino\",\"orientation\":\"v\",\"showlegend\":true,\"x\":[\"Latino\"],\"xaxis\":\"x\",\"y\":[-0.038461538461538464],\"yaxis\":\"y\",\"type\":\"scatter\"},{\"hovertemplate\":\"Ancestry=%{x}<br>Day=Delta 1<br>Daily Average Vials Transacted=%{y}<extra></extra>\",\"legendgroup\":\"Multi\",\"marker\":{\"color\":\"#FFA15A\",\"symbol\":\"circle\"},\"mode\":\"markers\",\"name\":\"Multi\",\"orientation\":\"v\",\"showlegend\":true,\"x\":[\"Multi\"],\"xaxis\":\"x\",\"y\":[-0.02040816326530612],\"yaxis\":\"y\",\"type\":\"scatter\"}],\"name\":\"Delta 1\"},{\"data\":[{\"hovertemplate\":\"Ancestry=%{x}<br>Day=Delta 2<br>Daily Average Vials Transacted=%{y}<extra></extra>\",\"legendgroup\":\"Asian\",\"marker\":{\"color\":\"#636efa\",\"symbol\":\"circle\"},\"mode\":\"markers\",\"name\":\"Asian\",\"orientation\":\"v\",\"showlegend\":true,\"x\":[\"Asian\"],\"xaxis\":\"x\",\"y\":[-0.0641025641025641],\"yaxis\":\"y\",\"type\":\"scatter\"},{\"hovertemplate\":\"Ancestry=%{x}<br>Day=Delta 2<br>Daily Average Vials Transacted=%{y}<extra></extra>\",\"legendgroup\":\"Black\",\"marker\":{\"color\":\"#EF553B\",\"symbol\":\"circle\"},\"mode\":\"markers\",\"name\":\"Black\",\"orientation\":\"v\",\"showlegend\":true,\"x\":[\"Black\"],\"xaxis\":\"x\",\"y\":[0.5714285714285714],\"yaxis\":\"y\",\"type\":\"scatter\"},{\"hovertemplate\":\"Ancestry=%{x}<br>Day=Delta 2<br>Daily Average Vials Transacted=%{y}<extra></extra>\",\"legendgroup\":\"Caucasian\",\"marker\":{\"color\":\"#00cc96\",\"symbol\":\"circle\"},\"mode\":\"markers\",\"name\":\"Caucasian\",\"orientation\":\"v\",\"showlegend\":true,\"x\":[\"Caucasian\"],\"xaxis\":\"x\",\"y\":[0.07009345794392523],\"yaxis\":\"y\",\"type\":\"scatter\"},{\"hovertemplate\":\"Ancestry=%{x}<br>Day=Delta 2<br>Daily Average Vials Transacted=%{y}<extra></extra>\",\"legendgroup\":\"Latino\",\"marker\":{\"color\":\"#ab63fa\",\"symbol\":\"circle\"},\"mode\":\"markers\",\"name\":\"Latino\",\"orientation\":\"v\",\"showlegend\":true,\"x\":[\"Latino\"],\"xaxis\":\"x\",\"y\":[0.15384615384615385],\"yaxis\":\"y\",\"type\":\"scatter\"},{\"hovertemplate\":\"Ancestry=%{x}<br>Day=Delta 2<br>Daily Average Vials Transacted=%{y}<extra></extra>\",\"legendgroup\":\"Multi\",\"marker\":{\"color\":\"#FFA15A\",\"symbol\":\"circle\"},\"mode\":\"markers\",\"name\":\"Multi\",\"orientation\":\"v\",\"showlegend\":true,\"x\":[\"Multi\"],\"xaxis\":\"x\",\"y\":[-0.22448979591836735],\"yaxis\":\"y\",\"type\":\"scatter\"}],\"name\":\"Delta 2\"},{\"data\":[{\"hovertemplate\":\"Ancestry=%{x}<br>Day=Delta 3<br>Daily Average Vials Transacted=%{y}<extra></extra>\",\"legendgroup\":\"Asian\",\"marker\":{\"color\":\"#636efa\",\"symbol\":\"circle\"},\"mode\":\"markers\",\"name\":\"Asian\",\"orientation\":\"v\",\"showlegend\":true,\"x\":[\"Asian\"],\"xaxis\":\"x\",\"y\":[0.0],\"yaxis\":\"y\",\"type\":\"scatter\"},{\"hovertemplate\":\"Ancestry=%{x}<br>Day=Delta 3<br>Daily Average Vials Transacted=%{y}<extra></extra>\",\"legendgroup\":\"Black\",\"marker\":{\"color\":\"#EF553B\",\"symbol\":\"circle\"},\"mode\":\"markers\",\"name\":\"Black\",\"orientation\":\"v\",\"showlegend\":true,\"x\":[\"Black\"],\"xaxis\":\"x\",\"y\":[-0.35714285714285715],\"yaxis\":\"y\",\"type\":\"scatter\"},{\"hovertemplate\":\"Ancestry=%{x}<br>Day=Delta 3<br>Daily Average Vials Transacted=%{y}<extra></extra>\",\"legendgroup\":\"Caucasian\",\"marker\":{\"color\":\"#00cc96\",\"symbol\":\"circle\"},\"mode\":\"markers\",\"name\":\"Caucasian\",\"orientation\":\"v\",\"showlegend\":true,\"x\":[\"Caucasian\"],\"xaxis\":\"x\",\"y\":[-0.11848341232227488],\"yaxis\":\"y\",\"type\":\"scatter\"},{\"hovertemplate\":\"Ancestry=%{x}<br>Day=Delta 3<br>Daily Average Vials Transacted=%{y}<extra></extra>\",\"legendgroup\":\"Latino\",\"marker\":{\"color\":\"#ab63fa\",\"symbol\":\"circle\"},\"mode\":\"markers\",\"name\":\"Latino\",\"orientation\":\"v\",\"showlegend\":true,\"x\":[\"Latino\"],\"xaxis\":\"x\",\"y\":[-0.12],\"yaxis\":\"y\",\"type\":\"scatter\"},{\"hovertemplate\":\"Ancestry=%{x}<br>Day=Delta 3<br>Daily Average Vials Transacted=%{y}<extra></extra>\",\"legendgroup\":\"Multi\",\"marker\":{\"color\":\"#FFA15A\",\"symbol\":\"circle\"},\"mode\":\"markers\",\"name\":\"Multi\",\"orientation\":\"v\",\"showlegend\":true,\"x\":[\"Multi\"],\"xaxis\":\"x\",\"y\":[-0.02127659574468085],\"yaxis\":\"y\",\"type\":\"scatter\"}],\"name\":\"Delta 3\"},{\"data\":[{\"hovertemplate\":\"Ancestry=%{x}<br>Day=Delta 4<br>Daily Average Vials Transacted=%{y}<extra></extra>\",\"legendgroup\":\"Asian\",\"marker\":{\"color\":\"#636efa\",\"symbol\":\"circle\"},\"mode\":\"markers\",\"name\":\"Asian\",\"orientation\":\"v\",\"showlegend\":true,\"x\":[\"Asian\"],\"xaxis\":\"x\",\"y\":[0.0],\"yaxis\":\"y\",\"type\":\"scatter\"},{\"hovertemplate\":\"Ancestry=%{x}<br>Day=Delta 4<br>Daily Average Vials Transacted=%{y}<extra></extra>\",\"legendgroup\":\"Black\",\"marker\":{\"color\":\"#EF553B\",\"symbol\":\"circle\"},\"mode\":\"markers\",\"name\":\"Black\",\"orientation\":\"v\",\"showlegend\":true,\"x\":[\"Black\"],\"xaxis\":\"x\",\"y\":[0.0],\"yaxis\":\"y\",\"type\":\"scatter\"},{\"hovertemplate\":\"Ancestry=%{x}<br>Day=Delta 4<br>Daily Average Vials Transacted=%{y}<extra></extra>\",\"legendgroup\":\"Caucasian\",\"marker\":{\"color\":\"#00cc96\",\"symbol\":\"circle\"},\"mode\":\"markers\",\"name\":\"Caucasian\",\"orientation\":\"v\",\"showlegend\":true,\"x\":[\"Caucasian\"],\"xaxis\":\"x\",\"y\":[-0.014423076923076924],\"yaxis\":\"y\",\"type\":\"scatter\"},{\"hovertemplate\":\"Ancestry=%{x}<br>Day=Delta 4<br>Daily Average Vials Transacted=%{y}<extra></extra>\",\"legendgroup\":\"Latino\",\"marker\":{\"color\":\"#ab63fa\",\"symbol\":\"circle\"},\"mode\":\"markers\",\"name\":\"Latino\",\"orientation\":\"v\",\"showlegend\":true,\"x\":[\"Latino\"],\"xaxis\":\"x\",\"y\":[0.0],\"yaxis\":\"y\",\"type\":\"scatter\"},{\"hovertemplate\":\"Ancestry=%{x}<br>Day=Delta 4<br>Daily Average Vials Transacted=%{y}<extra></extra>\",\"legendgroup\":\"Multi\",\"marker\":{\"color\":\"#FFA15A\",\"symbol\":\"circle\"},\"mode\":\"markers\",\"name\":\"Multi\",\"orientation\":\"v\",\"showlegend\":true,\"x\":[\"Multi\"],\"xaxis\":\"x\",\"y\":[0.0],\"yaxis\":\"y\",\"type\":\"scatter\"}],\"name\":\"Delta 4\"},{\"data\":[{\"hovertemplate\":\"Ancestry=%{x}<br>Day=Delta 5<br>Daily Average Vials Transacted=%{y}<extra></extra>\",\"legendgroup\":\"Asian\",\"marker\":{\"color\":\"#636efa\",\"symbol\":\"circle\"},\"mode\":\"markers\",\"name\":\"Asian\",\"orientation\":\"v\",\"showlegend\":true,\"x\":[\"Asian\"],\"xaxis\":\"x\",\"y\":[0.0],\"yaxis\":\"y\",\"type\":\"scatter\"},{\"hovertemplate\":\"Ancestry=%{x}<br>Day=Delta 5<br>Daily Average Vials Transacted=%{y}<extra></extra>\",\"legendgroup\":\"Black\",\"marker\":{\"color\":\"#EF553B\",\"symbol\":\"circle\"},\"mode\":\"markers\",\"name\":\"Black\",\"orientation\":\"v\",\"showlegend\":true,\"x\":[\"Black\"],\"xaxis\":\"x\",\"y\":[0.0],\"yaxis\":\"y\",\"type\":\"scatter\"},{\"hovertemplate\":\"Ancestry=%{x}<br>Day=Delta 5<br>Daily Average Vials Transacted=%{y}<extra></extra>\",\"legendgroup\":\"Caucasian\",\"marker\":{\"color\":\"#00cc96\",\"symbol\":\"circle\"},\"mode\":\"markers\",\"name\":\"Caucasian\",\"orientation\":\"v\",\"showlegend\":true,\"x\":[\"Caucasian\"],\"xaxis\":\"x\",\"y\":[-0.009615384615384616],\"yaxis\":\"y\",\"type\":\"scatter\"},{\"hovertemplate\":\"Ancestry=%{x}<br>Day=Delta 5<br>Daily Average Vials Transacted=%{y}<extra></extra>\",\"legendgroup\":\"Latino\",\"marker\":{\"color\":\"#ab63fa\",\"symbol\":\"circle\"},\"mode\":\"markers\",\"name\":\"Latino\",\"orientation\":\"v\",\"showlegend\":true,\"x\":[\"Latino\"],\"xaxis\":\"x\",\"y\":[-0.08333333333333333],\"yaxis\":\"y\",\"type\":\"scatter\"},{\"hovertemplate\":\"Ancestry=%{x}<br>Day=Delta 5<br>Daily Average Vials Transacted=%{y}<extra></extra>\",\"legendgroup\":\"Multi\",\"marker\":{\"color\":\"#FFA15A\",\"symbol\":\"circle\"},\"mode\":\"markers\",\"name\":\"Multi\",\"orientation\":\"v\",\"showlegend\":true,\"x\":[\"Multi\"],\"xaxis\":\"x\",\"y\":[-0.10638297872340426],\"yaxis\":\"y\",\"type\":\"scatter\"}],\"name\":\"Delta 5\"},{\"data\":[{\"hovertemplate\":\"Ancestry=%{x}<br>Day=Delta 6<br>Daily Average Vials Transacted=%{y}<extra></extra>\",\"legendgroup\":\"Asian\",\"marker\":{\"color\":\"#636efa\",\"symbol\":\"circle\"},\"mode\":\"markers\",\"name\":\"Asian\",\"orientation\":\"v\",\"showlegend\":true,\"x\":[\"Asian\"],\"xaxis\":\"x\",\"y\":[0.0],\"yaxis\":\"y\",\"type\":\"scatter\"},{\"hovertemplate\":\"Ancestry=%{x}<br>Day=Delta 6<br>Daily Average Vials Transacted=%{y}<extra></extra>\",\"legendgroup\":\"Black\",\"marker\":{\"color\":\"#EF553B\",\"symbol\":\"circle\"},\"mode\":\"markers\",\"name\":\"Black\",\"orientation\":\"v\",\"showlegend\":true,\"x\":[\"Black\"],\"xaxis\":\"x\",\"y\":[0.0],\"yaxis\":\"y\",\"type\":\"scatter\"},{\"hovertemplate\":\"Ancestry=%{x}<br>Day=Delta 6<br>Daily Average Vials Transacted=%{y}<extra></extra>\",\"legendgroup\":\"Caucasian\",\"marker\":{\"color\":\"#00cc96\",\"symbol\":\"circle\"},\"mode\":\"markers\",\"name\":\"Caucasian\",\"orientation\":\"v\",\"showlegend\":true,\"x\":[\"Caucasian\"],\"xaxis\":\"x\",\"y\":[-0.04433497536945813],\"yaxis\":\"y\",\"type\":\"scatter\"},{\"hovertemplate\":\"Ancestry=%{x}<br>Day=Delta 6<br>Daily Average Vials Transacted=%{y}<extra></extra>\",\"legendgroup\":\"Latino\",\"marker\":{\"color\":\"#ab63fa\",\"symbol\":\"circle\"},\"mode\":\"markers\",\"name\":\"Latino\",\"orientation\":\"v\",\"showlegend\":true,\"x\":[\"Latino\"],\"xaxis\":\"x\",\"y\":[0.0],\"yaxis\":\"y\",\"type\":\"scatter\"},{\"hovertemplate\":\"Ancestry=%{x}<br>Day=Delta 6<br>Daily Average Vials Transacted=%{y}<extra></extra>\",\"legendgroup\":\"Multi\",\"marker\":{\"color\":\"#FFA15A\",\"symbol\":\"circle\"},\"mode\":\"markers\",\"name\":\"Multi\",\"orientation\":\"v\",\"showlegend\":true,\"x\":[\"Multi\"],\"xaxis\":\"x\",\"y\":[-0.1702127659574468],\"yaxis\":\"y\",\"type\":\"scatter\"}],\"name\":\"Delta 6\"},{\"data\":[{\"hovertemplate\":\"Ancestry=%{x}<br>Day=Delta 7<br>Daily Average Vials Transacted=%{y}<extra></extra>\",\"legendgroup\":\"Asian\",\"marker\":{\"color\":\"#636efa\",\"symbol\":\"circle\"},\"mode\":\"markers\",\"name\":\"Asian\",\"orientation\":\"v\",\"showlegend\":true,\"x\":[\"Asian\"],\"xaxis\":\"x\",\"y\":[-0.01282051282051282],\"yaxis\":\"y\",\"type\":\"scatter\"},{\"hovertemplate\":\"Ancestry=%{x}<br>Day=Delta 7<br>Daily Average Vials Transacted=%{y}<extra></extra>\",\"legendgroup\":\"Black\",\"marker\":{\"color\":\"#EF553B\",\"symbol\":\"circle\"},\"mode\":\"markers\",\"name\":\"Black\",\"orientation\":\"v\",\"showlegend\":true,\"x\":[\"Black\"],\"xaxis\":\"x\",\"y\":[0.0],\"yaxis\":\"y\",\"type\":\"scatter\"},{\"hovertemplate\":\"Ancestry=%{x}<br>Day=Delta 7<br>Daily Average Vials Transacted=%{y}<extra></extra>\",\"legendgroup\":\"Caucasian\",\"marker\":{\"color\":\"#00cc96\",\"symbol\":\"circle\"},\"mode\":\"markers\",\"name\":\"Caucasian\",\"orientation\":\"v\",\"showlegend\":true,\"x\":[\"Caucasian\"],\"xaxis\":\"x\",\"y\":[-0.05025125628140704],\"yaxis\":\"y\",\"type\":\"scatter\"},{\"hovertemplate\":\"Ancestry=%{x}<br>Day=Delta 7<br>Daily Average Vials Transacted=%{y}<extra></extra>\",\"legendgroup\":\"Latino\",\"marker\":{\"color\":\"#ab63fa\",\"symbol\":\"circle\"},\"mode\":\"markers\",\"name\":\"Latino\",\"orientation\":\"v\",\"showlegend\":true,\"x\":[\"Latino\"],\"xaxis\":\"x\",\"y\":[-0.041666666666666664],\"yaxis\":\"y\",\"type\":\"scatter\"},{\"hovertemplate\":\"Ancestry=%{x}<br>Day=Delta 7<br>Daily Average Vials Transacted=%{y}<extra></extra>\",\"legendgroup\":\"Multi\",\"marker\":{\"color\":\"#FFA15A\",\"symbol\":\"circle\"},\"mode\":\"markers\",\"name\":\"Multi\",\"orientation\":\"v\",\"showlegend\":true,\"x\":[\"Multi\"],\"xaxis\":\"x\",\"y\":[-0.021739130434782608],\"yaxis\":\"y\",\"type\":\"scatter\"}],\"name\":\"Delta 7\"},{\"data\":[{\"hovertemplate\":\"Ancestry=%{x}<br>Day=Delta 8<br>Daily Average Vials Transacted=%{y}<extra></extra>\",\"legendgroup\":\"Asian\",\"marker\":{\"color\":\"#636efa\",\"symbol\":\"circle\"},\"mode\":\"markers\",\"name\":\"Asian\",\"orientation\":\"v\",\"showlegend\":true,\"x\":[\"Asian\"],\"xaxis\":\"x\",\"y\":[0.0],\"yaxis\":\"y\",\"type\":\"scatter\"},{\"hovertemplate\":\"Ancestry=%{x}<br>Day=Delta 8<br>Daily Average Vials Transacted=%{y}<extra></extra>\",\"legendgroup\":\"Black\",\"marker\":{\"color\":\"#EF553B\",\"symbol\":\"circle\"},\"mode\":\"markers\",\"name\":\"Black\",\"orientation\":\"v\",\"showlegend\":true,\"x\":[\"Black\"],\"xaxis\":\"x\",\"y\":[-0.07692307692307693],\"yaxis\":\"y\",\"type\":\"scatter\"},{\"hovertemplate\":\"Ancestry=%{x}<br>Day=Delta 8<br>Daily Average Vials Transacted=%{y}<extra></extra>\",\"legendgroup\":\"Caucasian\",\"marker\":{\"color\":\"#00cc96\",\"symbol\":\"circle\"},\"mode\":\"markers\",\"name\":\"Caucasian\",\"orientation\":\"v\",\"showlegend\":true,\"x\":[\"Caucasian\"],\"xaxis\":\"x\",\"y\":[-0.10471204188481675],\"yaxis\":\"y\",\"type\":\"scatter\"},{\"hovertemplate\":\"Ancestry=%{x}<br>Day=Delta 8<br>Daily Average Vials Transacted=%{y}<extra></extra>\",\"legendgroup\":\"Latino\",\"marker\":{\"color\":\"#ab63fa\",\"symbol\":\"circle\"},\"mode\":\"markers\",\"name\":\"Latino\",\"orientation\":\"v\",\"showlegend\":true,\"x\":[\"Latino\"],\"xaxis\":\"x\",\"y\":[-0.5],\"yaxis\":\"y\",\"type\":\"scatter\"},{\"hovertemplate\":\"Ancestry=%{x}<br>Day=Delta 8<br>Daily Average Vials Transacted=%{y}<extra></extra>\",\"legendgroup\":\"Multi\",\"marker\":{\"color\":\"#FFA15A\",\"symbol\":\"circle\"},\"mode\":\"markers\",\"name\":\"Multi\",\"orientation\":\"v\",\"showlegend\":true,\"x\":[\"Multi\"],\"xaxis\":\"x\",\"y\":[0.10869565217391304],\"yaxis\":\"y\",\"type\":\"scatter\"}],\"name\":\"Delta 8\"},{\"data\":[{\"hovertemplate\":\"Ancestry=%{x}<br>Day=Delta 9<br>Daily Average Vials Transacted=%{y}<extra></extra>\",\"legendgroup\":\"Asian\",\"marker\":{\"color\":\"#636efa\",\"symbol\":\"circle\"},\"mode\":\"markers\",\"name\":\"Asian\",\"orientation\":\"v\",\"showlegend\":true,\"x\":[\"Asian\"],\"xaxis\":\"x\",\"y\":[0.0],\"yaxis\":\"y\",\"type\":\"scatter\"},{\"hovertemplate\":\"Ancestry=%{x}<br>Day=Delta 9<br>Daily Average Vials Transacted=%{y}<extra></extra>\",\"legendgroup\":\"Black\",\"marker\":{\"color\":\"#EF553B\",\"symbol\":\"circle\"},\"mode\":\"markers\",\"name\":\"Black\",\"orientation\":\"v\",\"showlegend\":true,\"x\":[\"Black\"],\"xaxis\":\"x\",\"y\":[0.0],\"yaxis\":\"y\",\"type\":\"scatter\"},{\"hovertemplate\":\"Ancestry=%{x}<br>Day=Delta 9<br>Daily Average Vials Transacted=%{y}<extra></extra>\",\"legendgroup\":\"Caucasian\",\"marker\":{\"color\":\"#00cc96\",\"symbol\":\"circle\"},\"mode\":\"markers\",\"name\":\"Caucasian\",\"orientation\":\"v\",\"showlegend\":true,\"x\":[\"Caucasian\"],\"xaxis\":\"x\",\"y\":[-0.03208556149732621],\"yaxis\":\"y\",\"type\":\"scatter\"},{\"hovertemplate\":\"Ancestry=%{x}<br>Day=Delta 9<br>Daily Average Vials Transacted=%{y}<extra></extra>\",\"legendgroup\":\"Latino\",\"marker\":{\"color\":\"#ab63fa\",\"symbol\":\"circle\"},\"mode\":\"markers\",\"name\":\"Latino\",\"orientation\":\"v\",\"showlegend\":true,\"x\":[\"Latino\"],\"xaxis\":\"x\",\"y\":[0.4166666666666667],\"yaxis\":\"y\",\"type\":\"scatter\"},{\"hovertemplate\":\"Ancestry=%{x}<br>Day=Delta 9<br>Daily Average Vials Transacted=%{y}<extra></extra>\",\"legendgroup\":\"Multi\",\"marker\":{\"color\":\"#FFA15A\",\"symbol\":\"circle\"},\"mode\":\"markers\",\"name\":\"Multi\",\"orientation\":\"v\",\"showlegend\":true,\"x\":[\"Multi\"],\"xaxis\":\"x\",\"y\":[-0.26666666666666666],\"yaxis\":\"y\",\"type\":\"scatter\"}],\"name\":\"Delta 9\"},{\"data\":[{\"hovertemplate\":\"Ancestry=%{x}<br>Day=Delta 10<br>Daily Average Vials Transacted=%{y}<extra></extra>\",\"legendgroup\":\"Asian\",\"marker\":{\"color\":\"#636efa\",\"symbol\":\"circle\"},\"mode\":\"markers\",\"name\":\"Asian\",\"orientation\":\"v\",\"showlegend\":true,\"x\":[\"Asian\"],\"xaxis\":\"x\",\"y\":[0.0],\"yaxis\":\"y\",\"type\":\"scatter\"},{\"hovertemplate\":\"Ancestry=%{x}<br>Day=Delta 10<br>Daily Average Vials Transacted=%{y}<extra></extra>\",\"legendgroup\":\"Black\",\"marker\":{\"color\":\"#EF553B\",\"symbol\":\"circle\"},\"mode\":\"markers\",\"name\":\"Black\",\"orientation\":\"v\",\"showlegend\":true,\"x\":[\"Black\"],\"xaxis\":\"x\",\"y\":[0.07692307692307693],\"yaxis\":\"y\",\"type\":\"scatter\"},{\"hovertemplate\":\"Ancestry=%{x}<br>Day=Delta 10<br>Daily Average Vials Transacted=%{y}<extra></extra>\",\"legendgroup\":\"Caucasian\",\"marker\":{\"color\":\"#00cc96\",\"symbol\":\"circle\"},\"mode\":\"markers\",\"name\":\"Caucasian\",\"orientation\":\"v\",\"showlegend\":true,\"x\":[\"Caucasian\"],\"xaxis\":\"x\",\"y\":[-0.07608695652173914],\"yaxis\":\"y\",\"type\":\"scatter\"},{\"hovertemplate\":\"Ancestry=%{x}<br>Day=Delta 10<br>Daily Average Vials Transacted=%{y}<extra></extra>\",\"legendgroup\":\"Latino\",\"marker\":{\"color\":\"#ab63fa\",\"symbol\":\"circle\"},\"mode\":\"markers\",\"name\":\"Latino\",\"orientation\":\"v\",\"showlegend\":true,\"x\":[\"Latino\"],\"xaxis\":\"x\",\"y\":[0.0],\"yaxis\":\"y\",\"type\":\"scatter\"},{\"hovertemplate\":\"Ancestry=%{x}<br>Day=Delta 10<br>Daily Average Vials Transacted=%{y}<extra></extra>\",\"legendgroup\":\"Multi\",\"marker\":{\"color\":\"#FFA15A\",\"symbol\":\"circle\"},\"mode\":\"markers\",\"name\":\"Multi\",\"orientation\":\"v\",\"showlegend\":true,\"x\":[\"Multi\"],\"xaxis\":\"x\",\"y\":[0.0],\"yaxis\":\"y\",\"type\":\"scatter\"}],\"name\":\"Delta 10\"},{\"data\":[{\"hovertemplate\":\"Ancestry=%{x}<br>Day=Delta 11<br>Daily Average Vials Transacted=%{y}<extra></extra>\",\"legendgroup\":\"Asian\",\"marker\":{\"color\":\"#636efa\",\"symbol\":\"circle\"},\"mode\":\"markers\",\"name\":\"Asian\",\"orientation\":\"v\",\"showlegend\":true,\"x\":[\"Asian\"],\"xaxis\":\"x\",\"y\":[-0.01282051282051282],\"yaxis\":\"y\",\"type\":\"scatter\"},{\"hovertemplate\":\"Ancestry=%{x}<br>Day=Delta 11<br>Daily Average Vials Transacted=%{y}<extra></extra>\",\"legendgroup\":\"Black\",\"marker\":{\"color\":\"#EF553B\",\"symbol\":\"circle\"},\"mode\":\"markers\",\"name\":\"Black\",\"orientation\":\"v\",\"showlegend\":true,\"x\":[\"Black\"],\"xaxis\":\"x\",\"y\":[0.0],\"yaxis\":\"y\",\"type\":\"scatter\"},{\"hovertemplate\":\"Ancestry=%{x}<br>Day=Delta 11<br>Daily Average Vials Transacted=%{y}<extra></extra>\",\"legendgroup\":\"Caucasian\",\"marker\":{\"color\":\"#00cc96\",\"symbol\":\"circle\"},\"mode\":\"markers\",\"name\":\"Caucasian\",\"orientation\":\"v\",\"showlegend\":true,\"x\":[\"Caucasian\"],\"xaxis\":\"x\",\"y\":[0.1358695652173913],\"yaxis\":\"y\",\"type\":\"scatter\"},{\"hovertemplate\":\"Ancestry=%{x}<br>Day=Delta 11<br>Daily Average Vials Transacted=%{y}<extra></extra>\",\"legendgroup\":\"Latino\",\"marker\":{\"color\":\"#ab63fa\",\"symbol\":\"circle\"},\"mode\":\"markers\",\"name\":\"Latino\",\"orientation\":\"v\",\"showlegend\":true,\"x\":[\"Latino\"],\"xaxis\":\"x\",\"y\":[0.0],\"yaxis\":\"y\",\"type\":\"scatter\"},{\"hovertemplate\":\"Ancestry=%{x}<br>Day=Delta 11<br>Daily Average Vials Transacted=%{y}<extra></extra>\",\"legendgroup\":\"Multi\",\"marker\":{\"color\":\"#FFA15A\",\"symbol\":\"circle\"},\"mode\":\"markers\",\"name\":\"Multi\",\"orientation\":\"v\",\"showlegend\":true,\"x\":[\"Multi\"],\"xaxis\":\"x\",\"y\":[-0.18604651162790697],\"yaxis\":\"y\",\"type\":\"scatter\"}],\"name\":\"Delta 11\"},{\"data\":[{\"hovertemplate\":\"Ancestry=%{x}<br>Day=Delta 12<br>Daily Average Vials Transacted=%{y}<extra></extra>\",\"legendgroup\":\"Asian\",\"marker\":{\"color\":\"#636efa\",\"symbol\":\"circle\"},\"mode\":\"markers\",\"name\":\"Asian\",\"orientation\":\"v\",\"showlegend\":true,\"x\":[\"Asian\"],\"xaxis\":\"x\",\"y\":[0.0],\"yaxis\":\"y\",\"type\":\"scatter\"},{\"hovertemplate\":\"Ancestry=%{x}<br>Day=Delta 12<br>Daily Average Vials Transacted=%{y}<extra></extra>\",\"legendgroup\":\"Black\",\"marker\":{\"color\":\"#EF553B\",\"symbol\":\"circle\"},\"mode\":\"markers\",\"name\":\"Black\",\"orientation\":\"v\",\"showlegend\":true,\"x\":[\"Black\"],\"xaxis\":\"x\",\"y\":[-0.25],\"yaxis\":\"y\",\"type\":\"scatter\"},{\"hovertemplate\":\"Ancestry=%{x}<br>Day=Delta 12<br>Daily Average Vials Transacted=%{y}<extra></extra>\",\"legendgroup\":\"Caucasian\",\"marker\":{\"color\":\"#00cc96\",\"symbol\":\"circle\"},\"mode\":\"markers\",\"name\":\"Caucasian\",\"orientation\":\"v\",\"showlegend\":true,\"x\":[\"Caucasian\"],\"xaxis\":\"x\",\"y\":[-0.016304347826086956],\"yaxis\":\"y\",\"type\":\"scatter\"},{\"hovertemplate\":\"Ancestry=%{x}<br>Day=Delta 12<br>Daily Average Vials Transacted=%{y}<extra></extra>\",\"legendgroup\":\"Latino\",\"marker\":{\"color\":\"#ab63fa\",\"symbol\":\"circle\"},\"mode\":\"markers\",\"name\":\"Latino\",\"orientation\":\"v\",\"showlegend\":true,\"x\":[\"Latino\"],\"xaxis\":\"x\",\"y\":[-0.041666666666666664],\"yaxis\":\"y\",\"type\":\"scatter\"},{\"hovertemplate\":\"Ancestry=%{x}<br>Day=Delta 12<br>Daily Average Vials Transacted=%{y}<extra></extra>\",\"legendgroup\":\"Multi\",\"marker\":{\"color\":\"#FFA15A\",\"symbol\":\"circle\"},\"mode\":\"markers\",\"name\":\"Multi\",\"orientation\":\"v\",\"showlegend\":true,\"x\":[\"Multi\"],\"xaxis\":\"x\",\"y\":[0.0],\"yaxis\":\"y\",\"type\":\"scatter\"}],\"name\":\"Delta 12\"},{\"data\":[{\"hovertemplate\":\"Ancestry=%{x}<br>Day=Delta 13<br>Daily Average Vials Transacted=%{y}<extra></extra>\",\"legendgroup\":\"Asian\",\"marker\":{\"color\":\"#636efa\",\"symbol\":\"circle\"},\"mode\":\"markers\",\"name\":\"Asian\",\"orientation\":\"v\",\"showlegend\":true,\"x\":[\"Asian\"],\"xaxis\":\"x\",\"y\":[0.0],\"yaxis\":\"y\",\"type\":\"scatter\"},{\"hovertemplate\":\"Ancestry=%{x}<br>Day=Delta 13<br>Daily Average Vials Transacted=%{y}<extra></extra>\",\"legendgroup\":\"Black\",\"marker\":{\"color\":\"#EF553B\",\"symbol\":\"circle\"},\"mode\":\"markers\",\"name\":\"Black\",\"orientation\":\"v\",\"showlegend\":true,\"x\":[\"Black\"],\"xaxis\":\"x\",\"y\":[-0.9090909090909091],\"yaxis\":\"y\",\"type\":\"scatter\"},{\"hovertemplate\":\"Ancestry=%{x}<br>Day=Delta 13<br>Daily Average Vials Transacted=%{y}<extra></extra>\",\"legendgroup\":\"Caucasian\",\"marker\":{\"color\":\"#00cc96\",\"symbol\":\"circle\"},\"mode\":\"markers\",\"name\":\"Caucasian\",\"orientation\":\"v\",\"showlegend\":true,\"x\":[\"Caucasian\"],\"xaxis\":\"x\",\"y\":[0.03260869565217391],\"yaxis\":\"y\",\"type\":\"scatter\"},{\"hovertemplate\":\"Ancestry=%{x}<br>Day=Delta 13<br>Daily Average Vials Transacted=%{y}<extra></extra>\",\"legendgroup\":\"Latino\",\"marker\":{\"color\":\"#ab63fa\",\"symbol\":\"circle\"},\"mode\":\"markers\",\"name\":\"Latino\",\"orientation\":\"v\",\"showlegend\":true,\"x\":[\"Latino\"],\"xaxis\":\"x\",\"y\":[0.0],\"yaxis\":\"y\",\"type\":\"scatter\"},{\"hovertemplate\":\"Ancestry=%{x}<br>Day=Delta 13<br>Daily Average Vials Transacted=%{y}<extra></extra>\",\"legendgroup\":\"Multi\",\"marker\":{\"color\":\"#FFA15A\",\"symbol\":\"circle\"},\"mode\":\"markers\",\"name\":\"Multi\",\"orientation\":\"v\",\"showlegend\":true,\"x\":[\"Multi\"],\"xaxis\":\"x\",\"y\":[-0.21428571428571427],\"yaxis\":\"y\",\"type\":\"scatter\"}],\"name\":\"Delta 13\"},{\"data\":[{\"hovertemplate\":\"Ancestry=%{x}<br>Day=Delta 14<br>Daily Average Vials Transacted=%{y}<extra></extra>\",\"legendgroup\":\"Asian\",\"marker\":{\"color\":\"#636efa\",\"symbol\":\"circle\"},\"mode\":\"markers\",\"name\":\"Asian\",\"orientation\":\"v\",\"showlegend\":true,\"x\":[\"Asian\"],\"xaxis\":\"x\",\"y\":[0.0],\"yaxis\":\"y\",\"type\":\"scatter\"},{\"hovertemplate\":\"Ancestry=%{x}<br>Day=Delta 14<br>Daily Average Vials Transacted=%{y}<extra></extra>\",\"legendgroup\":\"Black\",\"marker\":{\"color\":\"#EF553B\",\"symbol\":\"circle\"},\"mode\":\"markers\",\"name\":\"Black\",\"orientation\":\"v\",\"showlegend\":true,\"x\":[\"Black\"],\"xaxis\":\"x\",\"y\":[0.0],\"yaxis\":\"y\",\"type\":\"scatter\"},{\"hovertemplate\":\"Ancestry=%{x}<br>Day=Delta 14<br>Daily Average Vials Transacted=%{y}<extra></extra>\",\"legendgroup\":\"Caucasian\",\"marker\":{\"color\":\"#00cc96\",\"symbol\":\"circle\"},\"mode\":\"markers\",\"name\":\"Caucasian\",\"orientation\":\"v\",\"showlegend\":true,\"x\":[\"Caucasian\"],\"xaxis\":\"x\",\"y\":[0.04918032786885246],\"yaxis\":\"y\",\"type\":\"scatter\"},{\"hovertemplate\":\"Ancestry=%{x}<br>Day=Delta 14<br>Daily Average Vials Transacted=%{y}<extra></extra>\",\"legendgroup\":\"Latino\",\"marker\":{\"color\":\"#ab63fa\",\"symbol\":\"circle\"},\"mode\":\"markers\",\"name\":\"Latino\",\"orientation\":\"v\",\"showlegend\":true,\"x\":[\"Latino\"],\"xaxis\":\"x\",\"y\":[0.0],\"yaxis\":\"y\",\"type\":\"scatter\"},{\"hovertemplate\":\"Ancestry=%{x}<br>Day=Delta 14<br>Daily Average Vials Transacted=%{y}<extra></extra>\",\"legendgroup\":\"Multi\",\"marker\":{\"color\":\"#FFA15A\",\"symbol\":\"circle\"},\"mode\":\"markers\",\"name\":\"Multi\",\"orientation\":\"v\",\"showlegend\":true,\"x\":[\"Multi\"],\"xaxis\":\"x\",\"y\":[0.0],\"yaxis\":\"y\",\"type\":\"scatter\"}],\"name\":\"Delta 14\"},{\"data\":[{\"hovertemplate\":\"Ancestry=%{x}<br>Day=Delta 15<br>Daily Average Vials Transacted=%{y}<extra></extra>\",\"legendgroup\":\"Asian\",\"marker\":{\"color\":\"#636efa\",\"symbol\":\"circle\"},\"mode\":\"markers\",\"name\":\"Asian\",\"orientation\":\"v\",\"showlegend\":true,\"x\":[\"Asian\"],\"xaxis\":\"x\",\"y\":[0.0],\"yaxis\":\"y\",\"type\":\"scatter\"},{\"hovertemplate\":\"Ancestry=%{x}<br>Day=Delta 15<br>Daily Average Vials Transacted=%{y}<extra></extra>\",\"legendgroup\":\"Black\",\"marker\":{\"color\":\"#EF553B\",\"symbol\":\"circle\"},\"mode\":\"markers\",\"name\":\"Black\",\"orientation\":\"v\",\"showlegend\":true,\"x\":[\"Black\"],\"xaxis\":\"x\",\"y\":[-0.6363636363636364],\"yaxis\":\"y\",\"type\":\"scatter\"},{\"hovertemplate\":\"Ancestry=%{x}<br>Day=Delta 15<br>Daily Average Vials Transacted=%{y}<extra></extra>\",\"legendgroup\":\"Caucasian\",\"marker\":{\"color\":\"#00cc96\",\"symbol\":\"circle\"},\"mode\":\"markers\",\"name\":\"Caucasian\",\"orientation\":\"v\",\"showlegend\":true,\"x\":[\"Caucasian\"],\"xaxis\":\"x\",\"y\":[-0.005681818181818182],\"yaxis\":\"y\",\"type\":\"scatter\"},{\"hovertemplate\":\"Ancestry=%{x}<br>Day=Delta 15<br>Daily Average Vials Transacted=%{y}<extra></extra>\",\"legendgroup\":\"Latino\",\"marker\":{\"color\":\"#ab63fa\",\"symbol\":\"circle\"},\"mode\":\"markers\",\"name\":\"Latino\",\"orientation\":\"v\",\"showlegend\":true,\"x\":[\"Latino\"],\"xaxis\":\"x\",\"y\":[0.0],\"yaxis\":\"y\",\"type\":\"scatter\"},{\"hovertemplate\":\"Ancestry=%{x}<br>Day=Delta 15<br>Daily Average Vials Transacted=%{y}<extra></extra>\",\"legendgroup\":\"Multi\",\"marker\":{\"color\":\"#FFA15A\",\"symbol\":\"circle\"},\"mode\":\"markers\",\"name\":\"Multi\",\"orientation\":\"v\",\"showlegend\":true,\"x\":[\"Multi\"],\"xaxis\":\"x\",\"y\":[0.325],\"yaxis\":\"y\",\"type\":\"scatter\"}],\"name\":\"Delta 15\"},{\"data\":[{\"hovertemplate\":\"Ancestry=%{x}<br>Day=Delta 16<br>Daily Average Vials Transacted=%{y}<extra></extra>\",\"legendgroup\":\"Asian\",\"marker\":{\"color\":\"#636efa\",\"symbol\":\"circle\"},\"mode\":\"markers\",\"name\":\"Asian\",\"orientation\":\"v\",\"showlegend\":true,\"x\":[\"Asian\"],\"xaxis\":\"x\",\"y\":[0.0],\"yaxis\":\"y\",\"type\":\"scatter\"},{\"hovertemplate\":\"Ancestry=%{x}<br>Day=Delta 16<br>Daily Average Vials Transacted=%{y}<extra></extra>\",\"legendgroup\":\"Black\",\"marker\":{\"color\":\"#EF553B\",\"symbol\":\"circle\"},\"mode\":\"markers\",\"name\":\"Black\",\"orientation\":\"v\",\"showlegend\":true,\"x\":[\"Black\"],\"xaxis\":\"x\",\"y\":[-0.45454545454545453],\"yaxis\":\"y\",\"type\":\"scatter\"},{\"hovertemplate\":\"Ancestry=%{x}<br>Day=Delta 16<br>Daily Average Vials Transacted=%{y}<extra></extra>\",\"legendgroup\":\"Caucasian\",\"marker\":{\"color\":\"#00cc96\",\"symbol\":\"circle\"},\"mode\":\"markers\",\"name\":\"Caucasian\",\"orientation\":\"v\",\"showlegend\":true,\"x\":[\"Caucasian\"],\"xaxis\":\"x\",\"y\":[-0.04678362573099415],\"yaxis\":\"y\",\"type\":\"scatter\"},{\"hovertemplate\":\"Ancestry=%{x}<br>Day=Delta 16<br>Daily Average Vials Transacted=%{y}<extra></extra>\",\"legendgroup\":\"Latino\",\"marker\":{\"color\":\"#ab63fa\",\"symbol\":\"circle\"},\"mode\":\"markers\",\"name\":\"Latino\",\"orientation\":\"v\",\"showlegend\":true,\"x\":[\"Latino\"],\"xaxis\":\"x\",\"y\":[0.0],\"yaxis\":\"y\",\"type\":\"scatter\"},{\"hovertemplate\":\"Ancestry=%{x}<br>Day=Delta 16<br>Daily Average Vials Transacted=%{y}<extra></extra>\",\"legendgroup\":\"Multi\",\"marker\":{\"color\":\"#FFA15A\",\"symbol\":\"circle\"},\"mode\":\"markers\",\"name\":\"Multi\",\"orientation\":\"v\",\"showlegend\":true,\"x\":[\"Multi\"],\"xaxis\":\"x\",\"y\":[-0.175],\"yaxis\":\"y\",\"type\":\"scatter\"}],\"name\":\"Delta 16\"},{\"data\":[{\"hovertemplate\":\"Ancestry=%{x}<br>Day=Delta 17<br>Daily Average Vials Transacted=%{y}<extra></extra>\",\"legendgroup\":\"Asian\",\"marker\":{\"color\":\"#636efa\",\"symbol\":\"circle\"},\"mode\":\"markers\",\"name\":\"Asian\",\"orientation\":\"v\",\"showlegend\":true,\"x\":[\"Asian\"],\"xaxis\":\"x\",\"y\":[0.0],\"yaxis\":\"y\",\"type\":\"scatter\"},{\"hovertemplate\":\"Ancestry=%{x}<br>Day=Delta 17<br>Daily Average Vials Transacted=%{y}<extra></extra>\",\"legendgroup\":\"Black\",\"marker\":{\"color\":\"#EF553B\",\"symbol\":\"circle\"},\"mode\":\"markers\",\"name\":\"Black\",\"orientation\":\"v\",\"showlegend\":true,\"x\":[\"Black\"],\"xaxis\":\"x\",\"y\":[-0.1],\"yaxis\":\"y\",\"type\":\"scatter\"},{\"hovertemplate\":\"Ancestry=%{x}<br>Day=Delta 17<br>Daily Average Vials Transacted=%{y}<extra></extra>\",\"legendgroup\":\"Caucasian\",\"marker\":{\"color\":\"#00cc96\",\"symbol\":\"circle\"},\"mode\":\"markers\",\"name\":\"Caucasian\",\"orientation\":\"v\",\"showlegend\":true,\"x\":[\"Caucasian\"],\"xaxis\":\"x\",\"y\":[-0.052941176470588235],\"yaxis\":\"y\",\"type\":\"scatter\"},{\"hovertemplate\":\"Ancestry=%{x}<br>Day=Delta 17<br>Daily Average Vials Transacted=%{y}<extra></extra>\",\"legendgroup\":\"Latino\",\"marker\":{\"color\":\"#ab63fa\",\"symbol\":\"circle\"},\"mode\":\"markers\",\"name\":\"Latino\",\"orientation\":\"v\",\"showlegend\":true,\"x\":[\"Latino\"],\"xaxis\":\"x\",\"y\":[0.0],\"yaxis\":\"y\",\"type\":\"scatter\"},{\"hovertemplate\":\"Ancestry=%{x}<br>Day=Delta 17<br>Daily Average Vials Transacted=%{y}<extra></extra>\",\"legendgroup\":\"Multi\",\"marker\":{\"color\":\"#FFA15A\",\"symbol\":\"circle\"},\"mode\":\"markers\",\"name\":\"Multi\",\"orientation\":\"v\",\"showlegend\":true,\"x\":[\"Multi\"],\"xaxis\":\"x\",\"y\":[-0.25],\"yaxis\":\"y\",\"type\":\"scatter\"}],\"name\":\"Delta 17\"},{\"data\":[{\"hovertemplate\":\"Ancestry=%{x}<br>Day=Delta 18<br>Daily Average Vials Transacted=%{y}<extra></extra>\",\"legendgroup\":\"Asian\",\"marker\":{\"color\":\"#636efa\",\"symbol\":\"circle\"},\"mode\":\"markers\",\"name\":\"Asian\",\"orientation\":\"v\",\"showlegend\":true,\"x\":[\"Asian\"],\"xaxis\":\"x\",\"y\":[0.0],\"yaxis\":\"y\",\"type\":\"scatter\"},{\"hovertemplate\":\"Ancestry=%{x}<br>Day=Delta 18<br>Daily Average Vials Transacted=%{y}<extra></extra>\",\"legendgroup\":\"Black\",\"marker\":{\"color\":\"#EF553B\",\"symbol\":\"circle\"},\"mode\":\"markers\",\"name\":\"Black\",\"orientation\":\"v\",\"showlegend\":true,\"x\":[\"Black\"],\"xaxis\":\"x\",\"y\":[0.1],\"yaxis\":\"y\",\"type\":\"scatter\"},{\"hovertemplate\":\"Ancestry=%{x}<br>Day=Delta 18<br>Daily Average Vials Transacted=%{y}<extra></extra>\",\"legendgroup\":\"Caucasian\",\"marker\":{\"color\":\"#00cc96\",\"symbol\":\"circle\"},\"mode\":\"markers\",\"name\":\"Caucasian\",\"orientation\":\"v\",\"showlegend\":true,\"x\":[\"Caucasian\"],\"xaxis\":\"x\",\"y\":[-0.011834319526627219],\"yaxis\":\"y\",\"type\":\"scatter\"},{\"hovertemplate\":\"Ancestry=%{x}<br>Day=Delta 18<br>Daily Average Vials Transacted=%{y}<extra></extra>\",\"legendgroup\":\"Latino\",\"marker\":{\"color\":\"#ab63fa\",\"symbol\":\"circle\"},\"mode\":\"markers\",\"name\":\"Latino\",\"orientation\":\"v\",\"showlegend\":true,\"x\":[\"Latino\"],\"xaxis\":\"x\",\"y\":[0.0],\"yaxis\":\"y\",\"type\":\"scatter\"},{\"hovertemplate\":\"Ancestry=%{x}<br>Day=Delta 18<br>Daily Average Vials Transacted=%{y}<extra></extra>\",\"legendgroup\":\"Multi\",\"marker\":{\"color\":\"#FFA15A\",\"symbol\":\"circle\"},\"mode\":\"markers\",\"name\":\"Multi\",\"orientation\":\"v\",\"showlegend\":true,\"x\":[\"Multi\"],\"xaxis\":\"x\",\"y\":[-0.15384615384615385],\"yaxis\":\"y\",\"type\":\"scatter\"}],\"name\":\"Delta 18\"},{\"data\":[{\"hovertemplate\":\"Ancestry=%{x}<br>Day=Delta 19<br>Daily Average Vials Transacted=%{y}<extra></extra>\",\"legendgroup\":\"Asian\",\"marker\":{\"color\":\"#636efa\",\"symbol\":\"circle\"},\"mode\":\"markers\",\"name\":\"Asian\",\"orientation\":\"v\",\"showlegend\":true,\"x\":[\"Asian\"],\"xaxis\":\"x\",\"y\":[0.0],\"yaxis\":\"y\",\"type\":\"scatter\"},{\"hovertemplate\":\"Ancestry=%{x}<br>Day=Delta 19<br>Daily Average Vials Transacted=%{y}<extra></extra>\",\"legendgroup\":\"Black\",\"marker\":{\"color\":\"#EF553B\",\"symbol\":\"circle\"},\"mode\":\"markers\",\"name\":\"Black\",\"orientation\":\"v\",\"showlegend\":true,\"x\":[\"Black\"],\"xaxis\":\"x\",\"y\":[-0.1],\"yaxis\":\"y\",\"type\":\"scatter\"},{\"hovertemplate\":\"Ancestry=%{x}<br>Day=Delta 19<br>Daily Average Vials Transacted=%{y}<extra></extra>\",\"legendgroup\":\"Caucasian\",\"marker\":{\"color\":\"#00cc96\",\"symbol\":\"circle\"},\"mode\":\"markers\",\"name\":\"Caucasian\",\"orientation\":\"v\",\"showlegend\":true,\"x\":[\"Caucasian\"],\"xaxis\":\"x\",\"y\":[-0.11904761904761904],\"yaxis\":\"y\",\"type\":\"scatter\"},{\"hovertemplate\":\"Ancestry=%{x}<br>Day=Delta 19<br>Daily Average Vials Transacted=%{y}<extra></extra>\",\"legendgroup\":\"Latino\",\"marker\":{\"color\":\"#ab63fa\",\"symbol\":\"circle\"},\"mode\":\"markers\",\"name\":\"Latino\",\"orientation\":\"v\",\"showlegend\":true,\"x\":[\"Latino\"],\"xaxis\":\"x\",\"y\":[0.0],\"yaxis\":\"y\",\"type\":\"scatter\"},{\"hovertemplate\":\"Ancestry=%{x}<br>Day=Delta 19<br>Daily Average Vials Transacted=%{y}<extra></extra>\",\"legendgroup\":\"Multi\",\"marker\":{\"color\":\"#FFA15A\",\"symbol\":\"circle\"},\"mode\":\"markers\",\"name\":\"Multi\",\"orientation\":\"v\",\"showlegend\":true,\"x\":[\"Multi\"],\"xaxis\":\"x\",\"y\":[0.23076923076923078],\"yaxis\":\"y\",\"type\":\"scatter\"}],\"name\":\"Delta 19\"},{\"data\":[{\"hovertemplate\":\"Ancestry=%{x}<br>Day=Delta 20<br>Daily Average Vials Transacted=%{y}<extra></extra>\",\"legendgroup\":\"Asian\",\"marker\":{\"color\":\"#636efa\",\"symbol\":\"circle\"},\"mode\":\"markers\",\"name\":\"Asian\",\"orientation\":\"v\",\"showlegend\":true,\"x\":[\"Asian\"],\"xaxis\":\"x\",\"y\":[0.0],\"yaxis\":\"y\",\"type\":\"scatter\"},{\"hovertemplate\":\"Ancestry=%{x}<br>Day=Delta 20<br>Daily Average Vials Transacted=%{y}<extra></extra>\",\"legendgroup\":\"Black\",\"marker\":{\"color\":\"#EF553B\",\"symbol\":\"circle\"},\"mode\":\"markers\",\"name\":\"Black\",\"orientation\":\"v\",\"showlegend\":true,\"x\":[\"Black\"],\"xaxis\":\"x\",\"y\":[0.0],\"yaxis\":\"y\",\"type\":\"scatter\"},{\"hovertemplate\":\"Ancestry=%{x}<br>Day=Delta 20<br>Daily Average Vials Transacted=%{y}<extra></extra>\",\"legendgroup\":\"Caucasian\",\"marker\":{\"color\":\"#00cc96\",\"symbol\":\"circle\"},\"mode\":\"markers\",\"name\":\"Caucasian\",\"orientation\":\"v\",\"showlegend\":true,\"x\":[\"Caucasian\"],\"xaxis\":\"x\",\"y\":[-0.03636363636363636],\"yaxis\":\"y\",\"type\":\"scatter\"},{\"hovertemplate\":\"Ancestry=%{x}<br>Day=Delta 20<br>Daily Average Vials Transacted=%{y}<extra></extra>\",\"legendgroup\":\"Latino\",\"marker\":{\"color\":\"#ab63fa\",\"symbol\":\"circle\"},\"mode\":\"markers\",\"name\":\"Latino\",\"orientation\":\"v\",\"showlegend\":true,\"x\":[\"Latino\"],\"xaxis\":\"x\",\"y\":[0.0],\"yaxis\":\"y\",\"type\":\"scatter\"},{\"hovertemplate\":\"Ancestry=%{x}<br>Day=Delta 20<br>Daily Average Vials Transacted=%{y}<extra></extra>\",\"legendgroup\":\"Multi\",\"marker\":{\"color\":\"#FFA15A\",\"symbol\":\"circle\"},\"mode\":\"markers\",\"name\":\"Multi\",\"orientation\":\"v\",\"showlegend\":true,\"x\":[\"Multi\"],\"xaxis\":\"x\",\"y\":[0.0],\"yaxis\":\"y\",\"type\":\"scatter\"}],\"name\":\"Delta 20\"},{\"data\":[{\"hovertemplate\":\"Ancestry=%{x}<br>Day=Delta 21<br>Daily Average Vials Transacted=%{y}<extra></extra>\",\"legendgroup\":\"Asian\",\"marker\":{\"color\":\"#636efa\",\"symbol\":\"circle\"},\"mode\":\"markers\",\"name\":\"Asian\",\"orientation\":\"v\",\"showlegend\":true,\"x\":[\"Asian\"],\"xaxis\":\"x\",\"y\":[0.0],\"yaxis\":\"y\",\"type\":\"scatter\"},{\"hovertemplate\":\"Ancestry=%{x}<br>Day=Delta 21<br>Daily Average Vials Transacted=%{y}<extra></extra>\",\"legendgroup\":\"Black\",\"marker\":{\"color\":\"#EF553B\",\"symbol\":\"circle\"},\"mode\":\"markers\",\"name\":\"Black\",\"orientation\":\"v\",\"showlegend\":true,\"x\":[\"Black\"],\"xaxis\":\"x\",\"y\":[0.0],\"yaxis\":\"y\",\"type\":\"scatter\"},{\"hovertemplate\":\"Ancestry=%{x}<br>Day=Delta 21<br>Daily Average Vials Transacted=%{y}<extra></extra>\",\"legendgroup\":\"Caucasian\",\"marker\":{\"color\":\"#00cc96\",\"symbol\":\"circle\"},\"mode\":\"markers\",\"name\":\"Caucasian\",\"orientation\":\"v\",\"showlegend\":true,\"x\":[\"Caucasian\"],\"xaxis\":\"x\",\"y\":[0.0],\"yaxis\":\"y\",\"type\":\"scatter\"},{\"hovertemplate\":\"Ancestry=%{x}<br>Day=Delta 21<br>Daily Average Vials Transacted=%{y}<extra></extra>\",\"legendgroup\":\"Latino\",\"marker\":{\"color\":\"#ab63fa\",\"symbol\":\"circle\"},\"mode\":\"markers\",\"name\":\"Latino\",\"orientation\":\"v\",\"showlegend\":true,\"x\":[\"Latino\"],\"xaxis\":\"x\",\"y\":[0.0],\"yaxis\":\"y\",\"type\":\"scatter\"},{\"hovertemplate\":\"Ancestry=%{x}<br>Day=Delta 21<br>Daily Average Vials Transacted=%{y}<extra></extra>\",\"legendgroup\":\"Multi\",\"marker\":{\"color\":\"#FFA15A\",\"symbol\":\"circle\"},\"mode\":\"markers\",\"name\":\"Multi\",\"orientation\":\"v\",\"showlegend\":true,\"x\":[\"Multi\"],\"xaxis\":\"x\",\"y\":[0.0],\"yaxis\":\"y\",\"type\":\"scatter\"}],\"name\":\"Delta 21\"},{\"data\":[{\"hovertemplate\":\"Ancestry=%{x}<br>Day=Delta 22<br>Daily Average Vials Transacted=%{y}<extra></extra>\",\"legendgroup\":\"Asian\",\"marker\":{\"color\":\"#636efa\",\"symbol\":\"circle\"},\"mode\":\"markers\",\"name\":\"Asian\",\"orientation\":\"v\",\"showlegend\":true,\"x\":[\"Asian\"],\"xaxis\":\"x\",\"y\":[0.0],\"yaxis\":\"y\",\"type\":\"scatter\"},{\"hovertemplate\":\"Ancestry=%{x}<br>Day=Delta 22<br>Daily Average Vials Transacted=%{y}<extra></extra>\",\"legendgroup\":\"Black\",\"marker\":{\"color\":\"#EF553B\",\"symbol\":\"circle\"},\"mode\":\"markers\",\"name\":\"Black\",\"orientation\":\"v\",\"showlegend\":true,\"x\":[\"Black\"],\"xaxis\":\"x\",\"y\":[-0.1],\"yaxis\":\"y\",\"type\":\"scatter\"},{\"hovertemplate\":\"Ancestry=%{x}<br>Day=Delta 22<br>Daily Average Vials Transacted=%{y}<extra></extra>\",\"legendgroup\":\"Caucasian\",\"marker\":{\"color\":\"#00cc96\",\"symbol\":\"circle\"},\"mode\":\"markers\",\"name\":\"Caucasian\",\"orientation\":\"v\",\"showlegend\":true,\"x\":[\"Caucasian\"],\"xaxis\":\"x\",\"y\":[0.012195121951219513],\"yaxis\":\"y\",\"type\":\"scatter\"},{\"hovertemplate\":\"Ancestry=%{x}<br>Day=Delta 22<br>Daily Average Vials Transacted=%{y}<extra></extra>\",\"legendgroup\":\"Latino\",\"marker\":{\"color\":\"#ab63fa\",\"symbol\":\"circle\"},\"mode\":\"markers\",\"name\":\"Latino\",\"orientation\":\"v\",\"showlegend\":true,\"x\":[\"Latino\"],\"xaxis\":\"x\",\"y\":[-0.42857142857142855],\"yaxis\":\"y\",\"type\":\"scatter\"},{\"hovertemplate\":\"Ancestry=%{x}<br>Day=Delta 22<br>Daily Average Vials Transacted=%{y}<extra></extra>\",\"legendgroup\":\"Multi\",\"marker\":{\"color\":\"#FFA15A\",\"symbol\":\"circle\"},\"mode\":\"markers\",\"name\":\"Multi\",\"orientation\":\"v\",\"showlegend\":true,\"x\":[\"Multi\"],\"xaxis\":\"x\",\"y\":[0.46153846153846156],\"yaxis\":\"y\",\"type\":\"scatter\"}],\"name\":\"Delta 22\"},{\"data\":[{\"hovertemplate\":\"Ancestry=%{x}<br>Day=Delta 23<br>Daily Average Vials Transacted=%{y}<extra></extra>\",\"legendgroup\":\"Asian\",\"marker\":{\"color\":\"#636efa\",\"symbol\":\"circle\"},\"mode\":\"markers\",\"name\":\"Asian\",\"orientation\":\"v\",\"showlegend\":true,\"x\":[\"Asian\"],\"xaxis\":\"x\",\"y\":[0.0],\"yaxis\":\"y\",\"type\":\"scatter\"},{\"hovertemplate\":\"Ancestry=%{x}<br>Day=Delta 23<br>Daily Average Vials Transacted=%{y}<extra></extra>\",\"legendgroup\":\"Black\",\"marker\":{\"color\":\"#EF553B\",\"symbol\":\"circle\"},\"mode\":\"markers\",\"name\":\"Black\",\"orientation\":\"v\",\"showlegend\":true,\"x\":[\"Black\"],\"xaxis\":\"x\",\"y\":[0.0],\"yaxis\":\"y\",\"type\":\"scatter\"},{\"hovertemplate\":\"Ancestry=%{x}<br>Day=Delta 23<br>Daily Average Vials Transacted=%{y}<extra></extra>\",\"legendgroup\":\"Caucasian\",\"marker\":{\"color\":\"#00cc96\",\"symbol\":\"circle\"},\"mode\":\"markers\",\"name\":\"Caucasian\",\"orientation\":\"v\",\"showlegend\":true,\"x\":[\"Caucasian\"],\"xaxis\":\"x\",\"y\":[-0.018404907975460124],\"yaxis\":\"y\",\"type\":\"scatter\"},{\"hovertemplate\":\"Ancestry=%{x}<br>Day=Delta 23<br>Daily Average Vials Transacted=%{y}<extra></extra>\",\"legendgroup\":\"Latino\",\"marker\":{\"color\":\"#ab63fa\",\"symbol\":\"circle\"},\"mode\":\"markers\",\"name\":\"Latino\",\"orientation\":\"v\",\"showlegend\":true,\"x\":[\"Latino\"],\"xaxis\":\"x\",\"y\":[0.0],\"yaxis\":\"y\",\"type\":\"scatter\"},{\"hovertemplate\":\"Ancestry=%{x}<br>Day=Delta 23<br>Daily Average Vials Transacted=%{y}<extra></extra>\",\"legendgroup\":\"Multi\",\"marker\":{\"color\":\"#FFA15A\",\"symbol\":\"circle\"},\"mode\":\"markers\",\"name\":\"Multi\",\"orientation\":\"v\",\"showlegend\":true,\"x\":[\"Multi\"],\"xaxis\":\"x\",\"y\":[-0.05128205128205128],\"yaxis\":\"y\",\"type\":\"scatter\"}],\"name\":\"Delta 23\"},{\"data\":[{\"hovertemplate\":\"Ancestry=%{x}<br>Day=Delta 24<br>Daily Average Vials Transacted=%{y}<extra></extra>\",\"legendgroup\":\"Asian\",\"marker\":{\"color\":\"#636efa\",\"symbol\":\"circle\"},\"mode\":\"markers\",\"name\":\"Asian\",\"orientation\":\"v\",\"showlegend\":true,\"x\":[\"Asian\"],\"xaxis\":\"x\",\"y\":[0.0],\"yaxis\":\"y\",\"type\":\"scatter\"},{\"hovertemplate\":\"Ancestry=%{x}<br>Day=Delta 24<br>Daily Average Vials Transacted=%{y}<extra></extra>\",\"legendgroup\":\"Black\",\"marker\":{\"color\":\"#EF553B\",\"symbol\":\"circle\"},\"mode\":\"markers\",\"name\":\"Black\",\"orientation\":\"v\",\"showlegend\":true,\"x\":[\"Black\"],\"xaxis\":\"x\",\"y\":[-1.0],\"yaxis\":\"y\",\"type\":\"scatter\"},{\"hovertemplate\":\"Ancestry=%{x}<br>Day=Delta 24<br>Daily Average Vials Transacted=%{y}<extra></extra>\",\"legendgroup\":\"Caucasian\",\"marker\":{\"color\":\"#00cc96\",\"symbol\":\"circle\"},\"mode\":\"markers\",\"name\":\"Caucasian\",\"orientation\":\"v\",\"showlegend\":true,\"x\":[\"Caucasian\"],\"xaxis\":\"x\",\"y\":[-0.030864197530864196],\"yaxis\":\"y\",\"type\":\"scatter\"},{\"hovertemplate\":\"Ancestry=%{x}<br>Day=Delta 24<br>Daily Average Vials Transacted=%{y}<extra></extra>\",\"legendgroup\":\"Latino\",\"marker\":{\"color\":\"#ab63fa\",\"symbol\":\"circle\"},\"mode\":\"markers\",\"name\":\"Latino\",\"orientation\":\"v\",\"showlegend\":true,\"x\":[\"Latino\"],\"xaxis\":\"x\",\"y\":[-0.047619047619047616],\"yaxis\":\"y\",\"type\":\"scatter\"},{\"hovertemplate\":\"Ancestry=%{x}<br>Day=Delta 24<br>Daily Average Vials Transacted=%{y}<extra></extra>\",\"legendgroup\":\"Multi\",\"marker\":{\"color\":\"#FFA15A\",\"symbol\":\"circle\"},\"mode\":\"markers\",\"name\":\"Multi\",\"orientation\":\"v\",\"showlegend\":true,\"x\":[\"Multi\"],\"xaxis\":\"x\",\"y\":[0.23076923076923078],\"yaxis\":\"y\",\"type\":\"scatter\"}],\"name\":\"Delta 24\"},{\"data\":[{\"hovertemplate\":\"Ancestry=%{x}<br>Day=Delta 25<br>Daily Average Vials Transacted=%{y}<extra></extra>\",\"legendgroup\":\"Asian\",\"marker\":{\"color\":\"#636efa\",\"symbol\":\"circle\"},\"mode\":\"markers\",\"name\":\"Asian\",\"orientation\":\"v\",\"showlegend\":true,\"x\":[\"Asian\"],\"xaxis\":\"x\",\"y\":[-0.012987012987012988],\"yaxis\":\"y\",\"type\":\"scatter\"},{\"hovertemplate\":\"Ancestry=%{x}<br>Day=Delta 25<br>Daily Average Vials Transacted=%{y}<extra></extra>\",\"legendgroup\":\"Black\",\"marker\":{\"color\":\"#EF553B\",\"symbol\":\"circle\"},\"mode\":\"markers\",\"name\":\"Black\",\"orientation\":\"v\",\"showlegend\":true,\"x\":[\"Black\"],\"xaxis\":\"x\",\"y\":[0.0],\"yaxis\":\"y\",\"type\":\"scatter\"},{\"hovertemplate\":\"Ancestry=%{x}<br>Day=Delta 25<br>Daily Average Vials Transacted=%{y}<extra></extra>\",\"legendgroup\":\"Caucasian\",\"marker\":{\"color\":\"#00cc96\",\"symbol\":\"circle\"},\"mode\":\"markers\",\"name\":\"Caucasian\",\"orientation\":\"v\",\"showlegend\":true,\"x\":[\"Caucasian\"],\"xaxis\":\"x\",\"y\":[0.14375],\"yaxis\":\"y\",\"type\":\"scatter\"},{\"hovertemplate\":\"Ancestry=%{x}<br>Day=Delta 25<br>Daily Average Vials Transacted=%{y}<extra></extra>\",\"legendgroup\":\"Latino\",\"marker\":{\"color\":\"#ab63fa\",\"symbol\":\"circle\"},\"mode\":\"markers\",\"name\":\"Latino\",\"orientation\":\"v\",\"showlegend\":true,\"x\":[\"Latino\"],\"xaxis\":\"x\",\"y\":[0.0],\"yaxis\":\"y\",\"type\":\"scatter\"},{\"hovertemplate\":\"Ancestry=%{x}<br>Day=Delta 25<br>Daily Average Vials Transacted=%{y}<extra></extra>\",\"legendgroup\":\"Multi\",\"marker\":{\"color\":\"#FFA15A\",\"symbol\":\"circle\"},\"mode\":\"markers\",\"name\":\"Multi\",\"orientation\":\"v\",\"showlegend\":true,\"x\":[\"Multi\"],\"xaxis\":\"x\",\"y\":[0.0],\"yaxis\":\"y\",\"type\":\"scatter\"}],\"name\":\"Delta 25\"},{\"data\":[{\"hovertemplate\":\"Ancestry=%{x}<br>Day=Delta 26<br>Daily Average Vials Transacted=%{y}<extra></extra>\",\"legendgroup\":\"Asian\",\"marker\":{\"color\":\"#636efa\",\"symbol\":\"circle\"},\"mode\":\"markers\",\"name\":\"Asian\",\"orientation\":\"v\",\"showlegend\":true,\"x\":[\"Asian\"],\"xaxis\":\"x\",\"y\":[-0.012987012987012988],\"yaxis\":\"y\",\"type\":\"scatter\"},{\"hovertemplate\":\"Ancestry=%{x}<br>Day=Delta 26<br>Daily Average Vials Transacted=%{y}<extra></extra>\",\"legendgroup\":\"Black\",\"marker\":{\"color\":\"#EF553B\",\"symbol\":\"circle\"},\"mode\":\"markers\",\"name\":\"Black\",\"orientation\":\"v\",\"showlegend\":true,\"x\":[\"Black\"],\"xaxis\":\"x\",\"y\":[0.125],\"yaxis\":\"y\",\"type\":\"scatter\"},{\"hovertemplate\":\"Ancestry=%{x}<br>Day=Delta 26<br>Daily Average Vials Transacted=%{y}<extra></extra>\",\"legendgroup\":\"Caucasian\",\"marker\":{\"color\":\"#00cc96\",\"symbol\":\"circle\"},\"mode\":\"markers\",\"name\":\"Caucasian\",\"orientation\":\"v\",\"showlegend\":true,\"x\":[\"Caucasian\"],\"xaxis\":\"x\",\"y\":[-0.0440251572327044],\"yaxis\":\"y\",\"type\":\"scatter\"},{\"hovertemplate\":\"Ancestry=%{x}<br>Day=Delta 26<br>Daily Average Vials Transacted=%{y}<extra></extra>\",\"legendgroup\":\"Latino\",\"marker\":{\"color\":\"#ab63fa\",\"symbol\":\"circle\"},\"mode\":\"markers\",\"name\":\"Latino\",\"orientation\":\"v\",\"showlegend\":true,\"x\":[\"Latino\"],\"xaxis\":\"x\",\"y\":[0.0],\"yaxis\":\"y\",\"type\":\"scatter\"},{\"hovertemplate\":\"Ancestry=%{x}<br>Day=Delta 26<br>Daily Average Vials Transacted=%{y}<extra></extra>\",\"legendgroup\":\"Multi\",\"marker\":{\"color\":\"#FFA15A\",\"symbol\":\"circle\"},\"mode\":\"markers\",\"name\":\"Multi\",\"orientation\":\"v\",\"showlegend\":true,\"x\":[\"Multi\"],\"xaxis\":\"x\",\"y\":[0.0],\"yaxis\":\"y\",\"type\":\"scatter\"}],\"name\":\"Delta 26\"},{\"data\":[{\"hovertemplate\":\"Ancestry=%{x}<br>Day=Delta 27<br>Daily Average Vials Transacted=%{y}<extra></extra>\",\"legendgroup\":\"Asian\",\"marker\":{\"color\":\"#636efa\",\"symbol\":\"circle\"},\"mode\":\"markers\",\"name\":\"Asian\",\"orientation\":\"v\",\"showlegend\":true,\"x\":[\"Asian\"],\"xaxis\":\"x\",\"y\":[0.0],\"yaxis\":\"y\",\"type\":\"scatter\"},{\"hovertemplate\":\"Ancestry=%{x}<br>Day=Delta 27<br>Daily Average Vials Transacted=%{y}<extra></extra>\",\"legendgroup\":\"Black\",\"marker\":{\"color\":\"#EF553B\",\"symbol\":\"circle\"},\"mode\":\"markers\",\"name\":\"Black\",\"orientation\":\"v\",\"showlegend\":true,\"x\":[\"Black\"],\"xaxis\":\"x\",\"y\":[0.0],\"yaxis\":\"y\",\"type\":\"scatter\"},{\"hovertemplate\":\"Ancestry=%{x}<br>Day=Delta 27<br>Daily Average Vials Transacted=%{y}<extra></extra>\",\"legendgroup\":\"Caucasian\",\"marker\":{\"color\":\"#00cc96\",\"symbol\":\"circle\"},\"mode\":\"markers\",\"name\":\"Caucasian\",\"orientation\":\"v\",\"showlegend\":true,\"x\":[\"Caucasian\"],\"xaxis\":\"x\",\"y\":[-0.0949367088607595],\"yaxis\":\"y\",\"type\":\"scatter\"},{\"hovertemplate\":\"Ancestry=%{x}<br>Day=Delta 27<br>Daily Average Vials Transacted=%{y}<extra></extra>\",\"legendgroup\":\"Latino\",\"marker\":{\"color\":\"#ab63fa\",\"symbol\":\"circle\"},\"mode\":\"markers\",\"name\":\"Latino\",\"orientation\":\"v\",\"showlegend\":true,\"x\":[\"Latino\"],\"xaxis\":\"x\",\"y\":[-0.05],\"yaxis\":\"y\",\"type\":\"scatter\"},{\"hovertemplate\":\"Ancestry=%{x}<br>Day=Delta 27<br>Daily Average Vials Transacted=%{y}<extra></extra>\",\"legendgroup\":\"Multi\",\"marker\":{\"color\":\"#FFA15A\",\"symbol\":\"circle\"},\"mode\":\"markers\",\"name\":\"Multi\",\"orientation\":\"v\",\"showlegend\":true,\"x\":[\"Multi\"],\"xaxis\":\"x\",\"y\":[0.2631578947368421],\"yaxis\":\"y\",\"type\":\"scatter\"}],\"name\":\"Delta 27\"},{\"data\":[{\"hovertemplate\":\"Ancestry=%{x}<br>Day=Delta 28<br>Daily Average Vials Transacted=%{y}<extra></extra>\",\"legendgroup\":\"Asian\",\"marker\":{\"color\":\"#636efa\",\"symbol\":\"circle\"},\"mode\":\"markers\",\"name\":\"Asian\",\"orientation\":\"v\",\"showlegend\":true,\"x\":[\"Asian\"],\"xaxis\":\"x\",\"y\":[0.12987012987012986],\"yaxis\":\"y\",\"type\":\"scatter\"},{\"hovertemplate\":\"Ancestry=%{x}<br>Day=Delta 28<br>Daily Average Vials Transacted=%{y}<extra></extra>\",\"legendgroup\":\"Black\",\"marker\":{\"color\":\"#EF553B\",\"symbol\":\"circle\"},\"mode\":\"markers\",\"name\":\"Black\",\"orientation\":\"v\",\"showlegend\":true,\"x\":[\"Black\"],\"xaxis\":\"x\",\"y\":[0.0],\"yaxis\":\"y\",\"type\":\"scatter\"},{\"hovertemplate\":\"Ancestry=%{x}<br>Day=Delta 28<br>Daily Average Vials Transacted=%{y}<extra></extra>\",\"legendgroup\":\"Caucasian\",\"marker\":{\"color\":\"#00cc96\",\"symbol\":\"circle\"},\"mode\":\"markers\",\"name\":\"Caucasian\",\"orientation\":\"v\",\"showlegend\":true,\"x\":[\"Caucasian\"],\"xaxis\":\"x\",\"y\":[-0.05732484076433121],\"yaxis\":\"y\",\"type\":\"scatter\"},{\"hovertemplate\":\"Ancestry=%{x}<br>Day=Delta 28<br>Daily Average Vials Transacted=%{y}<extra></extra>\",\"legendgroup\":\"Latino\",\"marker\":{\"color\":\"#ab63fa\",\"symbol\":\"circle\"},\"mode\":\"markers\",\"name\":\"Latino\",\"orientation\":\"v\",\"showlegend\":true,\"x\":[\"Latino\"],\"xaxis\":\"x\",\"y\":[0.0],\"yaxis\":\"y\",\"type\":\"scatter\"},{\"hovertemplate\":\"Ancestry=%{x}<br>Day=Delta 28<br>Daily Average Vials Transacted=%{y}<extra></extra>\",\"legendgroup\":\"Multi\",\"marker\":{\"color\":\"#FFA15A\",\"symbol\":\"circle\"},\"mode\":\"markers\",\"name\":\"Multi\",\"orientation\":\"v\",\"showlegend\":true,\"x\":[\"Multi\"],\"xaxis\":\"x\",\"y\":[-0.13513513513513514],\"yaxis\":\"y\",\"type\":\"scatter\"}],\"name\":\"Delta 28\"},{\"data\":[{\"hovertemplate\":\"Ancestry=%{x}<br>Day=Delta 29<br>Daily Average Vials Transacted=%{y}<extra></extra>\",\"legendgroup\":\"Asian\",\"marker\":{\"color\":\"#636efa\",\"symbol\":\"circle\"},\"mode\":\"markers\",\"name\":\"Asian\",\"orientation\":\"v\",\"showlegend\":true,\"x\":[\"Asian\"],\"xaxis\":\"x\",\"y\":[-0.012987012987012988],\"yaxis\":\"y\",\"type\":\"scatter\"},{\"hovertemplate\":\"Ancestry=%{x}<br>Day=Delta 29<br>Daily Average Vials Transacted=%{y}<extra></extra>\",\"legendgroup\":\"Black\",\"marker\":{\"color\":\"#EF553B\",\"symbol\":\"circle\"},\"mode\":\"markers\",\"name\":\"Black\",\"orientation\":\"v\",\"showlegend\":true,\"x\":[\"Black\"],\"xaxis\":\"x\",\"y\":[-1.2857142857142858],\"yaxis\":\"y\",\"type\":\"scatter\"},{\"hovertemplate\":\"Ancestry=%{x}<br>Day=Delta 29<br>Daily Average Vials Transacted=%{y}<extra></extra>\",\"legendgroup\":\"Caucasian\",\"marker\":{\"color\":\"#00cc96\",\"symbol\":\"circle\"},\"mode\":\"markers\",\"name\":\"Caucasian\",\"orientation\":\"v\",\"showlegend\":true,\"x\":[\"Caucasian\"],\"xaxis\":\"x\",\"y\":[-0.10256410256410256],\"yaxis\":\"y\",\"type\":\"scatter\"},{\"hovertemplate\":\"Ancestry=%{x}<br>Day=Delta 29<br>Daily Average Vials Transacted=%{y}<extra></extra>\",\"legendgroup\":\"Latino\",\"marker\":{\"color\":\"#ab63fa\",\"symbol\":\"circle\"},\"mode\":\"markers\",\"name\":\"Latino\",\"orientation\":\"v\",\"showlegend\":true,\"x\":[\"Latino\"],\"xaxis\":\"x\",\"y\":[-0.29411764705882354],\"yaxis\":\"y\",\"type\":\"scatter\"},{\"hovertemplate\":\"Ancestry=%{x}<br>Day=Delta 29<br>Daily Average Vials Transacted=%{y}<extra></extra>\",\"legendgroup\":\"Multi\",\"marker\":{\"color\":\"#FFA15A\",\"symbol\":\"circle\"},\"mode\":\"markers\",\"name\":\"Multi\",\"orientation\":\"v\",\"showlegend\":true,\"x\":[\"Multi\"],\"xaxis\":\"x\",\"y\":[-0.2702702702702703],\"yaxis\":\"y\",\"type\":\"scatter\"}],\"name\":\"Delta 29\"},{\"data\":[{\"hovertemplate\":\"Ancestry=%{x}<br>Day=Delta 30<br>Daily Average Vials Transacted=%{y}<extra></extra>\",\"legendgroup\":\"Asian\",\"marker\":{\"color\":\"#636efa\",\"symbol\":\"circle\"},\"mode\":\"markers\",\"name\":\"Asian\",\"orientation\":\"v\",\"showlegend\":true,\"x\":[\"Asian\"],\"xaxis\":\"x\",\"y\":[0.0],\"yaxis\":\"y\",\"type\":\"scatter\"},{\"hovertemplate\":\"Ancestry=%{x}<br>Day=Delta 30<br>Daily Average Vials Transacted=%{y}<extra></extra>\",\"legendgroup\":\"Black\",\"marker\":{\"color\":\"#EF553B\",\"symbol\":\"circle\"},\"mode\":\"markers\",\"name\":\"Black\",\"orientation\":\"v\",\"showlegend\":true,\"x\":[\"Black\"],\"xaxis\":\"x\",\"y\":[1.5],\"yaxis\":\"y\",\"type\":\"scatter\"},{\"hovertemplate\":\"Ancestry=%{x}<br>Day=Delta 30<br>Daily Average Vials Transacted=%{y}<extra></extra>\",\"legendgroup\":\"Caucasian\",\"marker\":{\"color\":\"#00cc96\",\"symbol\":\"circle\"},\"mode\":\"markers\",\"name\":\"Caucasian\",\"orientation\":\"v\",\"showlegend\":true,\"x\":[\"Caucasian\"],\"xaxis\":\"x\",\"y\":[-0.03870967741935484],\"yaxis\":\"y\",\"type\":\"scatter\"},{\"hovertemplate\":\"Ancestry=%{x}<br>Day=Delta 30<br>Daily Average Vials Transacted=%{y}<extra></extra>\",\"legendgroup\":\"Latino\",\"marker\":{\"color\":\"#ab63fa\",\"symbol\":\"circle\"},\"mode\":\"markers\",\"name\":\"Latino\",\"orientation\":\"v\",\"showlegend\":true,\"x\":[\"Latino\"],\"xaxis\":\"x\",\"y\":[0.0],\"yaxis\":\"y\",\"type\":\"scatter\"},{\"hovertemplate\":\"Ancestry=%{x}<br>Day=Delta 30<br>Daily Average Vials Transacted=%{y}<extra></extra>\",\"legendgroup\":\"Multi\",\"marker\":{\"color\":\"#FFA15A\",\"symbol\":\"circle\"},\"mode\":\"markers\",\"name\":\"Multi\",\"orientation\":\"v\",\"showlegend\":true,\"x\":[\"Multi\"],\"xaxis\":\"x\",\"y\":[0.40540540540540543],\"yaxis\":\"y\",\"type\":\"scatter\"}],\"name\":\"Delta 30\"},{\"data\":[{\"hovertemplate\":\"Ancestry=%{x}<br>Day=Delta 31<br>Daily Average Vials Transacted=%{y}<extra></extra>\",\"legendgroup\":\"Asian\",\"marker\":{\"color\":\"#636efa\",\"symbol\":\"circle\"},\"mode\":\"markers\",\"name\":\"Asian\",\"orientation\":\"v\",\"showlegend\":true,\"x\":[\"Asian\"],\"xaxis\":\"x\",\"y\":[0.0],\"yaxis\":\"y\",\"type\":\"scatter\"},{\"hovertemplate\":\"Ancestry=%{x}<br>Day=Delta 31<br>Daily Average Vials Transacted=%{y}<extra></extra>\",\"legendgroup\":\"Black\",\"marker\":{\"color\":\"#EF553B\",\"symbol\":\"circle\"},\"mode\":\"markers\",\"name\":\"Black\",\"orientation\":\"v\",\"showlegend\":true,\"x\":[\"Black\"],\"xaxis\":\"x\",\"y\":[0.0],\"yaxis\":\"y\",\"type\":\"scatter\"},{\"hovertemplate\":\"Ancestry=%{x}<br>Day=Delta 31<br>Daily Average Vials Transacted=%{y}<extra></extra>\",\"legendgroup\":\"Caucasian\",\"marker\":{\"color\":\"#00cc96\",\"symbol\":\"circle\"},\"mode\":\"markers\",\"name\":\"Caucasian\",\"orientation\":\"v\",\"showlegend\":true,\"x\":[\"Caucasian\"],\"xaxis\":\"x\",\"y\":[0.04516129032258064],\"yaxis\":\"y\",\"type\":\"scatter\"},{\"hovertemplate\":\"Ancestry=%{x}<br>Day=Delta 31<br>Daily Average Vials Transacted=%{y}<extra></extra>\",\"legendgroup\":\"Latino\",\"marker\":{\"color\":\"#ab63fa\",\"symbol\":\"circle\"},\"mode\":\"markers\",\"name\":\"Latino\",\"orientation\":\"v\",\"showlegend\":true,\"x\":[\"Latino\"],\"xaxis\":\"x\",\"y\":[-0.058823529411764705],\"yaxis\":\"y\",\"type\":\"scatter\"},{\"hovertemplate\":\"Ancestry=%{x}<br>Day=Delta 31<br>Daily Average Vials Transacted=%{y}<extra></extra>\",\"legendgroup\":\"Multi\",\"marker\":{\"color\":\"#FFA15A\",\"symbol\":\"circle\"},\"mode\":\"markers\",\"name\":\"Multi\",\"orientation\":\"v\",\"showlegend\":true,\"x\":[\"Multi\"],\"xaxis\":\"x\",\"y\":[-0.02702702702702703],\"yaxis\":\"y\",\"type\":\"scatter\"}],\"name\":\"Delta 31\"},{\"data\":[{\"hovertemplate\":\"Ancestry=%{x}<br>Day=Delta 32<br>Daily Average Vials Transacted=%{y}<extra></extra>\",\"legendgroup\":\"Asian\",\"marker\":{\"color\":\"#636efa\",\"symbol\":\"circle\"},\"mode\":\"markers\",\"name\":\"Asian\",\"orientation\":\"v\",\"showlegend\":true,\"x\":[\"Asian\"],\"xaxis\":\"x\",\"y\":[-0.012987012987012988],\"yaxis\":\"y\",\"type\":\"scatter\"},{\"hovertemplate\":\"Ancestry=%{x}<br>Day=Delta 32<br>Daily Average Vials Transacted=%{y}<extra></extra>\",\"legendgroup\":\"Black\",\"marker\":{\"color\":\"#EF553B\",\"symbol\":\"circle\"},\"mode\":\"markers\",\"name\":\"Black\",\"orientation\":\"v\",\"showlegend\":true,\"x\":[\"Black\"],\"xaxis\":\"x\",\"y\":[0.0],\"yaxis\":\"y\",\"type\":\"scatter\"},{\"hovertemplate\":\"Ancestry=%{x}<br>Day=Delta 32<br>Daily Average Vials Transacted=%{y}<extra></extra>\",\"legendgroup\":\"Caucasian\",\"marker\":{\"color\":\"#00cc96\",\"symbol\":\"circle\"},\"mode\":\"markers\",\"name\":\"Caucasian\",\"orientation\":\"v\",\"showlegend\":true,\"x\":[\"Caucasian\"],\"xaxis\":\"x\",\"y\":[-0.09090909090909091],\"yaxis\":\"y\",\"type\":\"scatter\"},{\"hovertemplate\":\"Ancestry=%{x}<br>Day=Delta 32<br>Daily Average Vials Transacted=%{y}<extra></extra>\",\"legendgroup\":\"Latino\",\"marker\":{\"color\":\"#ab63fa\",\"symbol\":\"circle\"},\"mode\":\"markers\",\"name\":\"Latino\",\"orientation\":\"v\",\"showlegend\":true,\"x\":[\"Latino\"],\"xaxis\":\"x\",\"y\":[0.5882352941176471],\"yaxis\":\"y\",\"type\":\"scatter\"},{\"hovertemplate\":\"Ancestry=%{x}<br>Day=Delta 32<br>Daily Average Vials Transacted=%{y}<extra></extra>\",\"legendgroup\":\"Multi\",\"marker\":{\"color\":\"#FFA15A\",\"symbol\":\"circle\"},\"mode\":\"markers\",\"name\":\"Multi\",\"orientation\":\"v\",\"showlegend\":true,\"x\":[\"Multi\"],\"xaxis\":\"x\",\"y\":[0.0],\"yaxis\":\"y\",\"type\":\"scatter\"}],\"name\":\"Delta 32\"},{\"data\":[{\"hovertemplate\":\"Ancestry=%{x}<br>Day=Delta 33<br>Daily Average Vials Transacted=%{y}<extra></extra>\",\"legendgroup\":\"Asian\",\"marker\":{\"color\":\"#636efa\",\"symbol\":\"circle\"},\"mode\":\"markers\",\"name\":\"Asian\",\"orientation\":\"v\",\"showlegend\":true,\"x\":[\"Asian\"],\"xaxis\":\"x\",\"y\":[0.0],\"yaxis\":\"y\",\"type\":\"scatter\"},{\"hovertemplate\":\"Ancestry=%{x}<br>Day=Delta 33<br>Daily Average Vials Transacted=%{y}<extra></extra>\",\"legendgroup\":\"Black\",\"marker\":{\"color\":\"#EF553B\",\"symbol\":\"circle\"},\"mode\":\"markers\",\"name\":\"Black\",\"orientation\":\"v\",\"showlegend\":true,\"x\":[\"Black\"],\"xaxis\":\"x\",\"y\":[0.0],\"yaxis\":\"y\",\"type\":\"scatter\"},{\"hovertemplate\":\"Ancestry=%{x}<br>Day=Delta 33<br>Daily Average Vials Transacted=%{y}<extra></extra>\",\"legendgroup\":\"Caucasian\",\"marker\":{\"color\":\"#00cc96\",\"symbol\":\"circle\"},\"mode\":\"markers\",\"name\":\"Caucasian\",\"orientation\":\"v\",\"showlegend\":true,\"x\":[\"Caucasian\"],\"xaxis\":\"x\",\"y\":[-0.07947019867549669],\"yaxis\":\"y\",\"type\":\"scatter\"},{\"hovertemplate\":\"Ancestry=%{x}<br>Day=Delta 33<br>Daily Average Vials Transacted=%{y}<extra></extra>\",\"legendgroup\":\"Latino\",\"marker\":{\"color\":\"#ab63fa\",\"symbol\":\"circle\"},\"mode\":\"markers\",\"name\":\"Latino\",\"orientation\":\"v\",\"showlegend\":true,\"x\":[\"Latino\"],\"xaxis\":\"x\",\"y\":[0.0],\"yaxis\":\"y\",\"type\":\"scatter\"},{\"hovertemplate\":\"Ancestry=%{x}<br>Day=Delta 33<br>Daily Average Vials Transacted=%{y}<extra></extra>\",\"legendgroup\":\"Multi\",\"marker\":{\"color\":\"#FFA15A\",\"symbol\":\"circle\"},\"mode\":\"markers\",\"name\":\"Multi\",\"orientation\":\"v\",\"showlegend\":true,\"x\":[\"Multi\"],\"xaxis\":\"x\",\"y\":[0.0],\"yaxis\":\"y\",\"type\":\"scatter\"}],\"name\":\"Delta 33\"},{\"data\":[{\"hovertemplate\":\"Ancestry=%{x}<br>Day=Delta 34<br>Daily Average Vials Transacted=%{y}<extra></extra>\",\"legendgroup\":\"Asian\",\"marker\":{\"color\":\"#636efa\",\"symbol\":\"circle\"},\"mode\":\"markers\",\"name\":\"Asian\",\"orientation\":\"v\",\"showlegend\":true,\"x\":[\"Asian\"],\"xaxis\":\"x\",\"y\":[0.0],\"yaxis\":\"y\",\"type\":\"scatter\"},{\"hovertemplate\":\"Ancestry=%{x}<br>Day=Delta 34<br>Daily Average Vials Transacted=%{y}<extra></extra>\",\"legendgroup\":\"Black\",\"marker\":{\"color\":\"#EF553B\",\"symbol\":\"circle\"},\"mode\":\"markers\",\"name\":\"Black\",\"orientation\":\"v\",\"showlegend\":true,\"x\":[\"Black\"],\"xaxis\":\"x\",\"y\":[0.0],\"yaxis\":\"y\",\"type\":\"scatter\"},{\"hovertemplate\":\"Ancestry=%{x}<br>Day=Delta 34<br>Daily Average Vials Transacted=%{y}<extra></extra>\",\"legendgroup\":\"Caucasian\",\"marker\":{\"color\":\"#00cc96\",\"symbol\":\"circle\"},\"mode\":\"markers\",\"name\":\"Caucasian\",\"orientation\":\"v\",\"showlegend\":true,\"x\":[\"Caucasian\"],\"xaxis\":\"x\",\"y\":[0.12751677852348994],\"yaxis\":\"y\",\"type\":\"scatter\"},{\"hovertemplate\":\"Ancestry=%{x}<br>Day=Delta 34<br>Daily Average Vials Transacted=%{y}<extra></extra>\",\"legendgroup\":\"Latino\",\"marker\":{\"color\":\"#ab63fa\",\"symbol\":\"circle\"},\"mode\":\"markers\",\"name\":\"Latino\",\"orientation\":\"v\",\"showlegend\":true,\"x\":[\"Latino\"],\"xaxis\":\"x\",\"y\":[0.0],\"yaxis\":\"y\",\"type\":\"scatter\"},{\"hovertemplate\":\"Ancestry=%{x}<br>Day=Delta 34<br>Daily Average Vials Transacted=%{y}<extra></extra>\",\"legendgroup\":\"Multi\",\"marker\":{\"color\":\"#FFA15A\",\"symbol\":\"circle\"},\"mode\":\"markers\",\"name\":\"Multi\",\"orientation\":\"v\",\"showlegend\":true,\"x\":[\"Multi\"],\"xaxis\":\"x\",\"y\":[0.0],\"yaxis\":\"y\",\"type\":\"scatter\"}],\"name\":\"Delta 34\"},{\"data\":[{\"hovertemplate\":\"Ancestry=%{x}<br>Day=Delta 35<br>Daily Average Vials Transacted=%{y}<extra></extra>\",\"legendgroup\":\"Asian\",\"marker\":{\"color\":\"#636efa\",\"symbol\":\"circle\"},\"mode\":\"markers\",\"name\":\"Asian\",\"orientation\":\"v\",\"showlegend\":true,\"x\":[\"Asian\"],\"xaxis\":\"x\",\"y\":[0.0],\"yaxis\":\"y\",\"type\":\"scatter\"},{\"hovertemplate\":\"Ancestry=%{x}<br>Day=Delta 35<br>Daily Average Vials Transacted=%{y}<extra></extra>\",\"legendgroup\":\"Black\",\"marker\":{\"color\":\"#EF553B\",\"symbol\":\"circle\"},\"mode\":\"markers\",\"name\":\"Black\",\"orientation\":\"v\",\"showlegend\":true,\"x\":[\"Black\"],\"xaxis\":\"x\",\"y\":[0.0],\"yaxis\":\"y\",\"type\":\"scatter\"},{\"hovertemplate\":\"Ancestry=%{x}<br>Day=Delta 35<br>Daily Average Vials Transacted=%{y}<extra></extra>\",\"legendgroup\":\"Caucasian\",\"marker\":{\"color\":\"#00cc96\",\"symbol\":\"circle\"},\"mode\":\"markers\",\"name\":\"Caucasian\",\"orientation\":\"v\",\"showlegend\":true,\"x\":[\"Caucasian\"],\"xaxis\":\"x\",\"y\":[0.006756756756756757],\"yaxis\":\"y\",\"type\":\"scatter\"},{\"hovertemplate\":\"Ancestry=%{x}<br>Day=Delta 35<br>Daily Average Vials Transacted=%{y}<extra></extra>\",\"legendgroup\":\"Latino\",\"marker\":{\"color\":\"#ab63fa\",\"symbol\":\"circle\"},\"mode\":\"markers\",\"name\":\"Latino\",\"orientation\":\"v\",\"showlegend\":true,\"x\":[\"Latino\"],\"xaxis\":\"x\",\"y\":[0.0],\"yaxis\":\"y\",\"type\":\"scatter\"},{\"hovertemplate\":\"Ancestry=%{x}<br>Day=Delta 35<br>Daily Average Vials Transacted=%{y}<extra></extra>\",\"legendgroup\":\"Multi\",\"marker\":{\"color\":\"#FFA15A\",\"symbol\":\"circle\"},\"mode\":\"markers\",\"name\":\"Multi\",\"orientation\":\"v\",\"showlegend\":true,\"x\":[\"Multi\"],\"xaxis\":\"x\",\"y\":[0.0],\"yaxis\":\"y\",\"type\":\"scatter\"}],\"name\":\"Delta 35\"},{\"data\":[{\"hovertemplate\":\"Ancestry=%{x}<br>Day=Delta 36<br>Daily Average Vials Transacted=%{y}<extra></extra>\",\"legendgroup\":\"Asian\",\"marker\":{\"color\":\"#636efa\",\"symbol\":\"circle\"},\"mode\":\"markers\",\"name\":\"Asian\",\"orientation\":\"v\",\"showlegend\":true,\"x\":[\"Asian\"],\"xaxis\":\"x\",\"y\":[-0.06578947368421052],\"yaxis\":\"y\",\"type\":\"scatter\"},{\"hovertemplate\":\"Ancestry=%{x}<br>Day=Delta 36<br>Daily Average Vials Transacted=%{y}<extra></extra>\",\"legendgroup\":\"Black\",\"marker\":{\"color\":\"#EF553B\",\"symbol\":\"circle\"},\"mode\":\"markers\",\"name\":\"Black\",\"orientation\":\"v\",\"showlegend\":true,\"x\":[\"Black\"],\"xaxis\":\"x\",\"y\":[0.0],\"yaxis\":\"y\",\"type\":\"scatter\"},{\"hovertemplate\":\"Ancestry=%{x}<br>Day=Delta 36<br>Daily Average Vials Transacted=%{y}<extra></extra>\",\"legendgroup\":\"Caucasian\",\"marker\":{\"color\":\"#00cc96\",\"symbol\":\"circle\"},\"mode\":\"markers\",\"name\":\"Caucasian\",\"orientation\":\"v\",\"showlegend\":true,\"x\":[\"Caucasian\"],\"xaxis\":\"x\",\"y\":[0.06206896551724138],\"yaxis\":\"y\",\"type\":\"scatter\"},{\"hovertemplate\":\"Ancestry=%{x}<br>Day=Delta 36<br>Daily Average Vials Transacted=%{y}<extra></extra>\",\"legendgroup\":\"Latino\",\"marker\":{\"color\":\"#ab63fa\",\"symbol\":\"circle\"},\"mode\":\"markers\",\"name\":\"Latino\",\"orientation\":\"v\",\"showlegend\":true,\"x\":[\"Latino\"],\"xaxis\":\"x\",\"y\":[0.0],\"yaxis\":\"y\",\"type\":\"scatter\"},{\"hovertemplate\":\"Ancestry=%{x}<br>Day=Delta 36<br>Daily Average Vials Transacted=%{y}<extra></extra>\",\"legendgroup\":\"Multi\",\"marker\":{\"color\":\"#FFA15A\",\"symbol\":\"circle\"},\"mode\":\"markers\",\"name\":\"Multi\",\"orientation\":\"v\",\"showlegend\":true,\"x\":[\"Multi\"],\"xaxis\":\"x\",\"y\":[-0.027777777777777776],\"yaxis\":\"y\",\"type\":\"scatter\"}],\"name\":\"Delta 36\"},{\"data\":[{\"hovertemplate\":\"Ancestry=%{x}<br>Day=Delta 37<br>Daily Average Vials Transacted=%{y}<extra></extra>\",\"legendgroup\":\"Asian\",\"marker\":{\"color\":\"#636efa\",\"symbol\":\"circle\"},\"mode\":\"markers\",\"name\":\"Asian\",\"orientation\":\"v\",\"showlegend\":true,\"x\":[\"Asian\"],\"xaxis\":\"x\",\"y\":[-0.02631578947368421],\"yaxis\":\"y\",\"type\":\"scatter\"},{\"hovertemplate\":\"Ancestry=%{x}<br>Day=Delta 37<br>Daily Average Vials Transacted=%{y}<extra></extra>\",\"legendgroup\":\"Black\",\"marker\":{\"color\":\"#EF553B\",\"symbol\":\"circle\"},\"mode\":\"markers\",\"name\":\"Black\",\"orientation\":\"v\",\"showlegend\":true,\"x\":[\"Black\"],\"xaxis\":\"x\",\"y\":[0.0],\"yaxis\":\"y\",\"type\":\"scatter\"},{\"hovertemplate\":\"Ancestry=%{x}<br>Day=Delta 37<br>Daily Average Vials Transacted=%{y}<extra></extra>\",\"legendgroup\":\"Caucasian\",\"marker\":{\"color\":\"#00cc96\",\"symbol\":\"circle\"},\"mode\":\"markers\",\"name\":\"Caucasian\",\"orientation\":\"v\",\"showlegend\":true,\"x\":[\"Caucasian\"],\"xaxis\":\"x\",\"y\":[-0.0763888888888889],\"yaxis\":\"y\",\"type\":\"scatter\"},{\"hovertemplate\":\"Ancestry=%{x}<br>Day=Delta 37<br>Daily Average Vials Transacted=%{y}<extra></extra>\",\"legendgroup\":\"Latino\",\"marker\":{\"color\":\"#ab63fa\",\"symbol\":\"circle\"},\"mode\":\"markers\",\"name\":\"Latino\",\"orientation\":\"v\",\"showlegend\":true,\"x\":[\"Latino\"],\"xaxis\":\"x\",\"y\":[0.0],\"yaxis\":\"y\",\"type\":\"scatter\"},{\"hovertemplate\":\"Ancestry=%{x}<br>Day=Delta 37<br>Daily Average Vials Transacted=%{y}<extra></extra>\",\"legendgroup\":\"Multi\",\"marker\":{\"color\":\"#FFA15A\",\"symbol\":\"circle\"},\"mode\":\"markers\",\"name\":\"Multi\",\"orientation\":\"v\",\"showlegend\":true,\"x\":[\"Multi\"],\"xaxis\":\"x\",\"y\":[-0.3611111111111111],\"yaxis\":\"y\",\"type\":\"scatter\"}],\"name\":\"Delta 37\"},{\"data\":[{\"hovertemplate\":\"Ancestry=%{x}<br>Day=Delta 38<br>Daily Average Vials Transacted=%{y}<extra></extra>\",\"legendgroup\":\"Asian\",\"marker\":{\"color\":\"#636efa\",\"symbol\":\"circle\"},\"mode\":\"markers\",\"name\":\"Asian\",\"orientation\":\"v\",\"showlegend\":true,\"x\":[\"Asian\"],\"xaxis\":\"x\",\"y\":[0.0],\"yaxis\":\"y\",\"type\":\"scatter\"},{\"hovertemplate\":\"Ancestry=%{x}<br>Day=Delta 38<br>Daily Average Vials Transacted=%{y}<extra></extra>\",\"legendgroup\":\"Black\",\"marker\":{\"color\":\"#EF553B\",\"symbol\":\"circle\"},\"mode\":\"markers\",\"name\":\"Black\",\"orientation\":\"v\",\"showlegend\":true,\"x\":[\"Black\"],\"xaxis\":\"x\",\"y\":[0.0],\"yaxis\":\"y\",\"type\":\"scatter\"},{\"hovertemplate\":\"Ancestry=%{x}<br>Day=Delta 38<br>Daily Average Vials Transacted=%{y}<extra></extra>\",\"legendgroup\":\"Caucasian\",\"marker\":{\"color\":\"#00cc96\",\"symbol\":\"circle\"},\"mode\":\"markers\",\"name\":\"Caucasian\",\"orientation\":\"v\",\"showlegend\":true,\"x\":[\"Caucasian\"],\"xaxis\":\"x\",\"y\":[-0.02127659574468085],\"yaxis\":\"y\",\"type\":\"scatter\"},{\"hovertemplate\":\"Ancestry=%{x}<br>Day=Delta 38<br>Daily Average Vials Transacted=%{y}<extra></extra>\",\"legendgroup\":\"Latino\",\"marker\":{\"color\":\"#ab63fa\",\"symbol\":\"circle\"},\"mode\":\"markers\",\"name\":\"Latino\",\"orientation\":\"v\",\"showlegend\":true,\"x\":[\"Latino\"],\"xaxis\":\"x\",\"y\":[-0.11764705882352941],\"yaxis\":\"y\",\"type\":\"scatter\"},{\"hovertemplate\":\"Ancestry=%{x}<br>Day=Delta 38<br>Daily Average Vials Transacted=%{y}<extra></extra>\",\"legendgroup\":\"Multi\",\"marker\":{\"color\":\"#FFA15A\",\"symbol\":\"circle\"},\"mode\":\"markers\",\"name\":\"Multi\",\"orientation\":\"v\",\"showlegend\":true,\"x\":[\"Multi\"],\"xaxis\":\"x\",\"y\":[0.0],\"yaxis\":\"y\",\"type\":\"scatter\"}],\"name\":\"Delta 38\"},{\"data\":[{\"hovertemplate\":\"Ancestry=%{x}<br>Day=Delta 39<br>Daily Average Vials Transacted=%{y}<extra></extra>\",\"legendgroup\":\"Asian\",\"marker\":{\"color\":\"#636efa\",\"symbol\":\"circle\"},\"mode\":\"markers\",\"name\":\"Asian\",\"orientation\":\"v\",\"showlegend\":true,\"x\":[\"Asian\"],\"xaxis\":\"x\",\"y\":[0.0],\"yaxis\":\"y\",\"type\":\"scatter\"},{\"hovertemplate\":\"Ancestry=%{x}<br>Day=Delta 39<br>Daily Average Vials Transacted=%{y}<extra></extra>\",\"legendgroup\":\"Black\",\"marker\":{\"color\":\"#EF553B\",\"symbol\":\"circle\"},\"mode\":\"markers\",\"name\":\"Black\",\"orientation\":\"v\",\"showlegend\":true,\"x\":[\"Black\"],\"xaxis\":\"x\",\"y\":[0.0],\"yaxis\":\"y\",\"type\":\"scatter\"},{\"hovertemplate\":\"Ancestry=%{x}<br>Day=Delta 39<br>Daily Average Vials Transacted=%{y}<extra></extra>\",\"legendgroup\":\"Caucasian\",\"marker\":{\"color\":\"#00cc96\",\"symbol\":\"circle\"},\"mode\":\"markers\",\"name\":\"Caucasian\",\"orientation\":\"v\",\"showlegend\":true,\"x\":[\"Caucasian\"],\"xaxis\":\"x\",\"y\":[-0.06569343065693431],\"yaxis\":\"y\",\"type\":\"scatter\"},{\"hovertemplate\":\"Ancestry=%{x}<br>Day=Delta 39<br>Daily Average Vials Transacted=%{y}<extra></extra>\",\"legendgroup\":\"Latino\",\"marker\":{\"color\":\"#ab63fa\",\"symbol\":\"circle\"},\"mode\":\"markers\",\"name\":\"Latino\",\"orientation\":\"v\",\"showlegend\":true,\"x\":[\"Latino\"],\"xaxis\":\"x\",\"y\":[0.0],\"yaxis\":\"y\",\"type\":\"scatter\"},{\"hovertemplate\":\"Ancestry=%{x}<br>Day=Delta 39<br>Daily Average Vials Transacted=%{y}<extra></extra>\",\"legendgroup\":\"Multi\",\"marker\":{\"color\":\"#FFA15A\",\"symbol\":\"circle\"},\"mode\":\"markers\",\"name\":\"Multi\",\"orientation\":\"v\",\"showlegend\":true,\"x\":[\"Multi\"],\"xaxis\":\"x\",\"y\":[0.0],\"yaxis\":\"y\",\"type\":\"scatter\"}],\"name\":\"Delta 39\"},{\"data\":[{\"hovertemplate\":\"Ancestry=%{x}<br>Day=Delta 40<br>Daily Average Vials Transacted=%{y}<extra></extra>\",\"legendgroup\":\"Asian\",\"marker\":{\"color\":\"#636efa\",\"symbol\":\"circle\"},\"mode\":\"markers\",\"name\":\"Asian\",\"orientation\":\"v\",\"showlegend\":true,\"x\":[\"Asian\"],\"xaxis\":\"x\",\"y\":[-0.02666666666666667],\"yaxis\":\"y\",\"type\":\"scatter\"},{\"hovertemplate\":\"Ancestry=%{x}<br>Day=Delta 40<br>Daily Average Vials Transacted=%{y}<extra></extra>\",\"legendgroup\":\"Black\",\"marker\":{\"color\":\"#EF553B\",\"symbol\":\"circle\"},\"mode\":\"markers\",\"name\":\"Black\",\"orientation\":\"v\",\"showlegend\":true,\"x\":[\"Black\"],\"xaxis\":\"x\",\"y\":[0.0],\"yaxis\":\"y\",\"type\":\"scatter\"},{\"hovertemplate\":\"Ancestry=%{x}<br>Day=Delta 40<br>Daily Average Vials Transacted=%{y}<extra></extra>\",\"legendgroup\":\"Caucasian\",\"marker\":{\"color\":\"#00cc96\",\"symbol\":\"circle\"},\"mode\":\"markers\",\"name\":\"Caucasian\",\"orientation\":\"v\",\"showlegend\":true,\"x\":[\"Caucasian\"],\"xaxis\":\"x\",\"y\":[0.014705882352941176],\"yaxis\":\"y\",\"type\":\"scatter\"},{\"hovertemplate\":\"Ancestry=%{x}<br>Day=Delta 40<br>Daily Average Vials Transacted=%{y}<extra></extra>\",\"legendgroup\":\"Latino\",\"marker\":{\"color\":\"#ab63fa\",\"symbol\":\"circle\"},\"mode\":\"markers\",\"name\":\"Latino\",\"orientation\":\"v\",\"showlegend\":true,\"x\":[\"Latino\"],\"xaxis\":\"x\",\"y\":[0.0625],\"yaxis\":\"y\",\"type\":\"scatter\"},{\"hovertemplate\":\"Ancestry=%{x}<br>Day=Delta 40<br>Daily Average Vials Transacted=%{y}<extra></extra>\",\"legendgroup\":\"Multi\",\"marker\":{\"color\":\"#FFA15A\",\"symbol\":\"circle\"},\"mode\":\"markers\",\"name\":\"Multi\",\"orientation\":\"v\",\"showlegend\":true,\"x\":[\"Multi\"],\"xaxis\":\"x\",\"y\":[0.17142857142857143],\"yaxis\":\"y\",\"type\":\"scatter\"}],\"name\":\"Delta 40\"},{\"data\":[{\"hovertemplate\":\"Ancestry=%{x}<br>Day=Delta 41<br>Daily Average Vials Transacted=%{y}<extra></extra>\",\"legendgroup\":\"Asian\",\"marker\":{\"color\":\"#636efa\",\"symbol\":\"circle\"},\"mode\":\"markers\",\"name\":\"Asian\",\"orientation\":\"v\",\"showlegend\":true,\"x\":[\"Asian\"],\"xaxis\":\"x\",\"y\":[-0.013333333333333334],\"yaxis\":\"y\",\"type\":\"scatter\"},{\"hovertemplate\":\"Ancestry=%{x}<br>Day=Delta 41<br>Daily Average Vials Transacted=%{y}<extra></extra>\",\"legendgroup\":\"Black\",\"marker\":{\"color\":\"#EF553B\",\"symbol\":\"circle\"},\"mode\":\"markers\",\"name\":\"Black\",\"orientation\":\"v\",\"showlegend\":true,\"x\":[\"Black\"],\"xaxis\":\"x\",\"y\":[0.0],\"yaxis\":\"y\",\"type\":\"scatter\"},{\"hovertemplate\":\"Ancestry=%{x}<br>Day=Delta 41<br>Daily Average Vials Transacted=%{y}<extra></extra>\",\"legendgroup\":\"Caucasian\",\"marker\":{\"color\":\"#00cc96\",\"symbol\":\"circle\"},\"mode\":\"markers\",\"name\":\"Caucasian\",\"orientation\":\"v\",\"showlegend\":true,\"x\":[\"Caucasian\"],\"xaxis\":\"x\",\"y\":[-0.022556390977443608],\"yaxis\":\"y\",\"type\":\"scatter\"},{\"hovertemplate\":\"Ancestry=%{x}<br>Day=Delta 41<br>Daily Average Vials Transacted=%{y}<extra></extra>\",\"legendgroup\":\"Latino\",\"marker\":{\"color\":\"#ab63fa\",\"symbol\":\"circle\"},\"mode\":\"markers\",\"name\":\"Latino\",\"orientation\":\"v\",\"showlegend\":true,\"x\":[\"Latino\"],\"xaxis\":\"x\",\"y\":[0.0],\"yaxis\":\"y\",\"type\":\"scatter\"},{\"hovertemplate\":\"Ancestry=%{x}<br>Day=Delta 41<br>Daily Average Vials Transacted=%{y}<extra></extra>\",\"legendgroup\":\"Multi\",\"marker\":{\"color\":\"#FFA15A\",\"symbol\":\"circle\"},\"mode\":\"markers\",\"name\":\"Multi\",\"orientation\":\"v\",\"showlegend\":true,\"x\":[\"Multi\"],\"xaxis\":\"x\",\"y\":[0.0],\"yaxis\":\"y\",\"type\":\"scatter\"}],\"name\":\"Delta 41\"},{\"data\":[{\"hovertemplate\":\"Ancestry=%{x}<br>Day=Delta 42<br>Daily Average Vials Transacted=%{y}<extra></extra>\",\"legendgroup\":\"Asian\",\"marker\":{\"color\":\"#636efa\",\"symbol\":\"circle\"},\"mode\":\"markers\",\"name\":\"Asian\",\"orientation\":\"v\",\"showlegend\":true,\"x\":[\"Asian\"],\"xaxis\":\"x\",\"y\":[0.0],\"yaxis\":\"y\",\"type\":\"scatter\"},{\"hovertemplate\":\"Ancestry=%{x}<br>Day=Delta 42<br>Daily Average Vials Transacted=%{y}<extra></extra>\",\"legendgroup\":\"Black\",\"marker\":{\"color\":\"#EF553B\",\"symbol\":\"circle\"},\"mode\":\"markers\",\"name\":\"Black\",\"orientation\":\"v\",\"showlegend\":true,\"x\":[\"Black\"],\"xaxis\":\"x\",\"y\":[0.0],\"yaxis\":\"y\",\"type\":\"scatter\"},{\"hovertemplate\":\"Ancestry=%{x}<br>Day=Delta 42<br>Daily Average Vials Transacted=%{y}<extra></extra>\",\"legendgroup\":\"Caucasian\",\"marker\":{\"color\":\"#00cc96\",\"symbol\":\"circle\"},\"mode\":\"markers\",\"name\":\"Caucasian\",\"orientation\":\"v\",\"showlegend\":true,\"x\":[\"Caucasian\"],\"xaxis\":\"x\",\"y\":[-0.007518796992481203],\"yaxis\":\"y\",\"type\":\"scatter\"},{\"hovertemplate\":\"Ancestry=%{x}<br>Day=Delta 42<br>Daily Average Vials Transacted=%{y}<extra></extra>\",\"legendgroup\":\"Latino\",\"marker\":{\"color\":\"#ab63fa\",\"symbol\":\"circle\"},\"mode\":\"markers\",\"name\":\"Latino\",\"orientation\":\"v\",\"showlegend\":true,\"x\":[\"Latino\"],\"xaxis\":\"x\",\"y\":[0.0],\"yaxis\":\"y\",\"type\":\"scatter\"},{\"hovertemplate\":\"Ancestry=%{x}<br>Day=Delta 42<br>Daily Average Vials Transacted=%{y}<extra></extra>\",\"legendgroup\":\"Multi\",\"marker\":{\"color\":\"#FFA15A\",\"symbol\":\"circle\"},\"mode\":\"markers\",\"name\":\"Multi\",\"orientation\":\"v\",\"showlegend\":true,\"x\":[\"Multi\"],\"xaxis\":\"x\",\"y\":[0.0],\"yaxis\":\"y\",\"type\":\"scatter\"}],\"name\":\"Delta 42\"},{\"data\":[{\"hovertemplate\":\"Ancestry=%{x}<br>Day=Delta 43<br>Daily Average Vials Transacted=%{y}<extra></extra>\",\"legendgroup\":\"Asian\",\"marker\":{\"color\":\"#636efa\",\"symbol\":\"circle\"},\"mode\":\"markers\",\"name\":\"Asian\",\"orientation\":\"v\",\"showlegend\":true,\"x\":[\"Asian\"],\"xaxis\":\"x\",\"y\":[0.0],\"yaxis\":\"y\",\"type\":\"scatter\"},{\"hovertemplate\":\"Ancestry=%{x}<br>Day=Delta 43<br>Daily Average Vials Transacted=%{y}<extra></extra>\",\"legendgroup\":\"Black\",\"marker\":{\"color\":\"#EF553B\",\"symbol\":\"circle\"},\"mode\":\"markers\",\"name\":\"Black\",\"orientation\":\"v\",\"showlegend\":true,\"x\":[\"Black\"],\"xaxis\":\"x\",\"y\":[0.0],\"yaxis\":\"y\",\"type\":\"scatter\"},{\"hovertemplate\":\"Ancestry=%{x}<br>Day=Delta 43<br>Daily Average Vials Transacted=%{y}<extra></extra>\",\"legendgroup\":\"Caucasian\",\"marker\":{\"color\":\"#00cc96\",\"symbol\":\"circle\"},\"mode\":\"markers\",\"name\":\"Caucasian\",\"orientation\":\"v\",\"showlegend\":true,\"x\":[\"Caucasian\"],\"xaxis\":\"x\",\"y\":[0.03125],\"yaxis\":\"y\",\"type\":\"scatter\"},{\"hovertemplate\":\"Ancestry=%{x}<br>Day=Delta 43<br>Daily Average Vials Transacted=%{y}<extra></extra>\",\"legendgroup\":\"Latino\",\"marker\":{\"color\":\"#ab63fa\",\"symbol\":\"circle\"},\"mode\":\"markers\",\"name\":\"Latino\",\"orientation\":\"v\",\"showlegend\":true,\"x\":[\"Latino\"],\"xaxis\":\"x\",\"y\":[0.0],\"yaxis\":\"y\",\"type\":\"scatter\"},{\"hovertemplate\":\"Ancestry=%{x}<br>Day=Delta 43<br>Daily Average Vials Transacted=%{y}<extra></extra>\",\"legendgroup\":\"Multi\",\"marker\":{\"color\":\"#FFA15A\",\"symbol\":\"circle\"},\"mode\":\"markers\",\"name\":\"Multi\",\"orientation\":\"v\",\"showlegend\":true,\"x\":[\"Multi\"],\"xaxis\":\"x\",\"y\":[-0.030303030303030304],\"yaxis\":\"y\",\"type\":\"scatter\"}],\"name\":\"Delta 43\"},{\"data\":[{\"hovertemplate\":\"Ancestry=%{x}<br>Day=Delta 44<br>Daily Average Vials Transacted=%{y}<extra></extra>\",\"legendgroup\":\"Asian\",\"marker\":{\"color\":\"#636efa\",\"symbol\":\"circle\"},\"mode\":\"markers\",\"name\":\"Asian\",\"orientation\":\"v\",\"showlegend\":true,\"x\":[\"Asian\"],\"xaxis\":\"x\",\"y\":[0.12162162162162163],\"yaxis\":\"y\",\"type\":\"scatter\"},{\"hovertemplate\":\"Ancestry=%{x}<br>Day=Delta 44<br>Daily Average Vials Transacted=%{y}<extra></extra>\",\"legendgroup\":\"Black\",\"marker\":{\"color\":\"#EF553B\",\"symbol\":\"circle\"},\"mode\":\"markers\",\"name\":\"Black\",\"orientation\":\"v\",\"showlegend\":true,\"x\":[\"Black\"],\"xaxis\":\"x\",\"y\":[-0.5],\"yaxis\":\"y\",\"type\":\"scatter\"},{\"hovertemplate\":\"Ancestry=%{x}<br>Day=Delta 44<br>Daily Average Vials Transacted=%{y}<extra></extra>\",\"legendgroup\":\"Caucasian\",\"marker\":{\"color\":\"#00cc96\",\"symbol\":\"circle\"},\"mode\":\"markers\",\"name\":\"Caucasian\",\"orientation\":\"v\",\"showlegend\":true,\"x\":[\"Caucasian\"],\"xaxis\":\"x\",\"y\":[-0.0546875],\"yaxis\":\"y\",\"type\":\"scatter\"},{\"hovertemplate\":\"Ancestry=%{x}<br>Day=Delta 44<br>Daily Average Vials Transacted=%{y}<extra></extra>\",\"legendgroup\":\"Latino\",\"marker\":{\"color\":\"#ab63fa\",\"symbol\":\"circle\"},\"mode\":\"markers\",\"name\":\"Latino\",\"orientation\":\"v\",\"showlegend\":true,\"x\":[\"Latino\"],\"xaxis\":\"x\",\"y\":[0.0],\"yaxis\":\"y\",\"type\":\"scatter\"},{\"hovertemplate\":\"Ancestry=%{x}<br>Day=Delta 44<br>Daily Average Vials Transacted=%{y}<extra></extra>\",\"legendgroup\":\"Multi\",\"marker\":{\"color\":\"#FFA15A\",\"symbol\":\"circle\"},\"mode\":\"markers\",\"name\":\"Multi\",\"orientation\":\"v\",\"showlegend\":true,\"x\":[\"Multi\"],\"xaxis\":\"x\",\"y\":[0.0],\"yaxis\":\"y\",\"type\":\"scatter\"}],\"name\":\"Delta 44\"},{\"data\":[{\"hovertemplate\":\"Ancestry=%{x}<br>Day=Delta 45<br>Daily Average Vials Transacted=%{y}<extra></extra>\",\"legendgroup\":\"Asian\",\"marker\":{\"color\":\"#636efa\",\"symbol\":\"circle\"},\"mode\":\"markers\",\"name\":\"Asian\",\"orientation\":\"v\",\"showlegend\":true,\"x\":[\"Asian\"],\"xaxis\":\"x\",\"y\":[0.0],\"yaxis\":\"y\",\"type\":\"scatter\"},{\"hovertemplate\":\"Ancestry=%{x}<br>Day=Delta 45<br>Daily Average Vials Transacted=%{y}<extra></extra>\",\"legendgroup\":\"Black\",\"marker\":{\"color\":\"#EF553B\",\"symbol\":\"circle\"},\"mode\":\"markers\",\"name\":\"Black\",\"orientation\":\"v\",\"showlegend\":true,\"x\":[\"Black\"],\"xaxis\":\"x\",\"y\":[-1.0],\"yaxis\":\"y\",\"type\":\"scatter\"},{\"hovertemplate\":\"Ancestry=%{x}<br>Day=Delta 45<br>Daily Average Vials Transacted=%{y}<extra></extra>\",\"legendgroup\":\"Caucasian\",\"marker\":{\"color\":\"#00cc96\",\"symbol\":\"circle\"},\"mode\":\"markers\",\"name\":\"Caucasian\",\"orientation\":\"v\",\"showlegend\":true,\"x\":[\"Caucasian\"],\"xaxis\":\"x\",\"y\":[0.072],\"yaxis\":\"y\",\"type\":\"scatter\"},{\"hovertemplate\":\"Ancestry=%{x}<br>Day=Delta 45<br>Daily Average Vials Transacted=%{y}<extra></extra>\",\"legendgroup\":\"Latino\",\"marker\":{\"color\":\"#ab63fa\",\"symbol\":\"circle\"},\"mode\":\"markers\",\"name\":\"Latino\",\"orientation\":\"v\",\"showlegend\":true,\"x\":[\"Latino\"],\"xaxis\":\"x\",\"y\":[-0.3125],\"yaxis\":\"y\",\"type\":\"scatter\"},{\"hovertemplate\":\"Ancestry=%{x}<br>Day=Delta 45<br>Daily Average Vials Transacted=%{y}<extra></extra>\",\"legendgroup\":\"Multi\",\"marker\":{\"color\":\"#FFA15A\",\"symbol\":\"circle\"},\"mode\":\"markers\",\"name\":\"Multi\",\"orientation\":\"v\",\"showlegend\":true,\"x\":[\"Multi\"],\"xaxis\":\"x\",\"y\":[0.0],\"yaxis\":\"y\",\"type\":\"scatter\"}],\"name\":\"Delta 45\"},{\"data\":[{\"hovertemplate\":\"Ancestry=%{x}<br>Day=Delta 46<br>Daily Average Vials Transacted=%{y}<extra></extra>\",\"legendgroup\":\"Asian\",\"marker\":{\"color\":\"#636efa\",\"symbol\":\"circle\"},\"mode\":\"markers\",\"name\":\"Asian\",\"orientation\":\"v\",\"showlegend\":true,\"x\":[\"Asian\"],\"xaxis\":\"x\",\"y\":[0.0],\"yaxis\":\"y\",\"type\":\"scatter\"},{\"hovertemplate\":\"Ancestry=%{x}<br>Day=Delta 46<br>Daily Average Vials Transacted=%{y}<extra></extra>\",\"legendgroup\":\"Black\",\"marker\":{\"color\":\"#EF553B\",\"symbol\":\"circle\"},\"mode\":\"markers\",\"name\":\"Black\",\"orientation\":\"v\",\"showlegend\":true,\"x\":[\"Black\"],\"xaxis\":\"x\",\"y\":[1.5],\"yaxis\":\"y\",\"type\":\"scatter\"},{\"hovertemplate\":\"Ancestry=%{x}<br>Day=Delta 46<br>Daily Average Vials Transacted=%{y}<extra></extra>\",\"legendgroup\":\"Caucasian\",\"marker\":{\"color\":\"#00cc96\",\"symbol\":\"circle\"},\"mode\":\"markers\",\"name\":\"Caucasian\",\"orientation\":\"v\",\"showlegend\":true,\"x\":[\"Caucasian\"],\"xaxis\":\"x\",\"y\":[-0.04878048780487805],\"yaxis\":\"y\",\"type\":\"scatter\"},{\"hovertemplate\":\"Ancestry=%{x}<br>Day=Delta 46<br>Daily Average Vials Transacted=%{y}<extra></extra>\",\"legendgroup\":\"Latino\",\"marker\":{\"color\":\"#ab63fa\",\"symbol\":\"circle\"},\"mode\":\"markers\",\"name\":\"Latino\",\"orientation\":\"v\",\"showlegend\":true,\"x\":[\"Latino\"],\"xaxis\":\"x\",\"y\":[0.0],\"yaxis\":\"y\",\"type\":\"scatter\"},{\"hovertemplate\":\"Ancestry=%{x}<br>Day=Delta 46<br>Daily Average Vials Transacted=%{y}<extra></extra>\",\"legendgroup\":\"Multi\",\"marker\":{\"color\":\"#FFA15A\",\"symbol\":\"circle\"},\"mode\":\"markers\",\"name\":\"Multi\",\"orientation\":\"v\",\"showlegend\":true,\"x\":[\"Multi\"],\"xaxis\":\"x\",\"y\":[0.0],\"yaxis\":\"y\",\"type\":\"scatter\"}],\"name\":\"Delta 46\"},{\"data\":[{\"hovertemplate\":\"Ancestry=%{x}<br>Day=Delta 47<br>Daily Average Vials Transacted=%{y}<extra></extra>\",\"legendgroup\":\"Asian\",\"marker\":{\"color\":\"#636efa\",\"symbol\":\"circle\"},\"mode\":\"markers\",\"name\":\"Asian\",\"orientation\":\"v\",\"showlegend\":true,\"x\":[\"Asian\"],\"xaxis\":\"x\",\"y\":[0.0],\"yaxis\":\"y\",\"type\":\"scatter\"},{\"hovertemplate\":\"Ancestry=%{x}<br>Day=Delta 47<br>Daily Average Vials Transacted=%{y}<extra></extra>\",\"legendgroup\":\"Black\",\"marker\":{\"color\":\"#EF553B\",\"symbol\":\"circle\"},\"mode\":\"markers\",\"name\":\"Black\",\"orientation\":\"v\",\"showlegend\":true,\"x\":[\"Black\"],\"xaxis\":\"x\",\"y\":[-0.6666666666666666],\"yaxis\":\"y\",\"type\":\"scatter\"},{\"hovertemplate\":\"Ancestry=%{x}<br>Day=Delta 47<br>Daily Average Vials Transacted=%{y}<extra></extra>\",\"legendgroup\":\"Caucasian\",\"marker\":{\"color\":\"#00cc96\",\"symbol\":\"circle\"},\"mode\":\"markers\",\"name\":\"Caucasian\",\"orientation\":\"v\",\"showlegend\":true,\"x\":[\"Caucasian\"],\"xaxis\":\"x\",\"y\":[0.0743801652892562],\"yaxis\":\"y\",\"type\":\"scatter\"},{\"hovertemplate\":\"Ancestry=%{x}<br>Day=Delta 47<br>Daily Average Vials Transacted=%{y}<extra></extra>\",\"legendgroup\":\"Latino\",\"marker\":{\"color\":\"#ab63fa\",\"symbol\":\"circle\"},\"mode\":\"markers\",\"name\":\"Latino\",\"orientation\":\"v\",\"showlegend\":true,\"x\":[\"Latino\"],\"xaxis\":\"x\",\"y\":[0.0],\"yaxis\":\"y\",\"type\":\"scatter\"},{\"hovertemplate\":\"Ancestry=%{x}<br>Day=Delta 47<br>Daily Average Vials Transacted=%{y}<extra></extra>\",\"legendgroup\":\"Multi\",\"marker\":{\"color\":\"#FFA15A\",\"symbol\":\"circle\"},\"mode\":\"markers\",\"name\":\"Multi\",\"orientation\":\"v\",\"showlegend\":true,\"x\":[\"Multi\"],\"xaxis\":\"x\",\"y\":[0.0],\"yaxis\":\"y\",\"type\":\"scatter\"}],\"name\":\"Delta 47\"},{\"data\":[{\"hovertemplate\":\"Ancestry=%{x}<br>Day=Delta 48<br>Daily Average Vials Transacted=%{y}<extra></extra>\",\"legendgroup\":\"Asian\",\"marker\":{\"color\":\"#636efa\",\"symbol\":\"circle\"},\"mode\":\"markers\",\"name\":\"Asian\",\"orientation\":\"v\",\"showlegend\":true,\"x\":[\"Asian\"],\"xaxis\":\"x\",\"y\":[0.0],\"yaxis\":\"y\",\"type\":\"scatter\"},{\"hovertemplate\":\"Ancestry=%{x}<br>Day=Delta 48<br>Daily Average Vials Transacted=%{y}<extra></extra>\",\"legendgroup\":\"Black\",\"marker\":{\"color\":\"#EF553B\",\"symbol\":\"circle\"},\"mode\":\"markers\",\"name\":\"Black\",\"orientation\":\"v\",\"showlegend\":true,\"x\":[\"Black\"],\"xaxis\":\"x\",\"y\":[0.0],\"yaxis\":\"y\",\"type\":\"scatter\"},{\"hovertemplate\":\"Ancestry=%{x}<br>Day=Delta 48<br>Daily Average Vials Transacted=%{y}<extra></extra>\",\"legendgroup\":\"Caucasian\",\"marker\":{\"color\":\"#00cc96\",\"symbol\":\"circle\"},\"mode\":\"markers\",\"name\":\"Caucasian\",\"orientation\":\"v\",\"showlegend\":true,\"x\":[\"Caucasian\"],\"xaxis\":\"x\",\"y\":[0.15966386554621848],\"yaxis\":\"y\",\"type\":\"scatter\"},{\"hovertemplate\":\"Ancestry=%{x}<br>Day=Delta 48<br>Daily Average Vials Transacted=%{y}<extra></extra>\",\"legendgroup\":\"Latino\",\"marker\":{\"color\":\"#ab63fa\",\"symbol\":\"circle\"},\"mode\":\"markers\",\"name\":\"Latino\",\"orientation\":\"v\",\"showlegend\":true,\"x\":[\"Latino\"],\"xaxis\":\"x\",\"y\":[0.0],\"yaxis\":\"y\",\"type\":\"scatter\"},{\"hovertemplate\":\"Ancestry=%{x}<br>Day=Delta 48<br>Daily Average Vials Transacted=%{y}<extra></extra>\",\"legendgroup\":\"Multi\",\"marker\":{\"color\":\"#FFA15A\",\"symbol\":\"circle\"},\"mode\":\"markers\",\"name\":\"Multi\",\"orientation\":\"v\",\"showlegend\":true,\"x\":[\"Multi\"],\"xaxis\":\"x\",\"y\":[-0.0625],\"yaxis\":\"y\",\"type\":\"scatter\"}],\"name\":\"Delta 48\"},{\"data\":[{\"hovertemplate\":\"Ancestry=%{x}<br>Day=Delta 49<br>Daily Average Vials Transacted=%{y}<extra></extra>\",\"legendgroup\":\"Asian\",\"marker\":{\"color\":\"#636efa\",\"symbol\":\"circle\"},\"mode\":\"markers\",\"name\":\"Asian\",\"orientation\":\"v\",\"showlegend\":true,\"x\":[\"Asian\"],\"xaxis\":\"x\",\"y\":[0.0],\"yaxis\":\"y\",\"type\":\"scatter\"},{\"hovertemplate\":\"Ancestry=%{x}<br>Day=Delta 49<br>Daily Average Vials Transacted=%{y}<extra></extra>\",\"legendgroup\":\"Black\",\"marker\":{\"color\":\"#EF553B\",\"symbol\":\"circle\"},\"mode\":\"markers\",\"name\":\"Black\",\"orientation\":\"v\",\"showlegend\":true,\"x\":[\"Black\"],\"xaxis\":\"x\",\"y\":[-0.8333333333333334],\"yaxis\":\"y\",\"type\":\"scatter\"},{\"hovertemplate\":\"Ancestry=%{x}<br>Day=Delta 49<br>Daily Average Vials Transacted=%{y}<extra></extra>\",\"legendgroup\":\"Caucasian\",\"marker\":{\"color\":\"#00cc96\",\"symbol\":\"circle\"},\"mode\":\"markers\",\"name\":\"Caucasian\",\"orientation\":\"v\",\"showlegend\":true,\"x\":[\"Caucasian\"],\"xaxis\":\"x\",\"y\":[-0.017094017094017096],\"yaxis\":\"y\",\"type\":\"scatter\"},{\"hovertemplate\":\"Ancestry=%{x}<br>Day=Delta 49<br>Daily Average Vials Transacted=%{y}<extra></extra>\",\"legendgroup\":\"Latino\",\"marker\":{\"color\":\"#ab63fa\",\"symbol\":\"circle\"},\"mode\":\"markers\",\"name\":\"Latino\",\"orientation\":\"v\",\"showlegend\":true,\"x\":[\"Latino\"],\"xaxis\":\"x\",\"y\":[0.0],\"yaxis\":\"y\",\"type\":\"scatter\"},{\"hovertemplate\":\"Ancestry=%{x}<br>Day=Delta 49<br>Daily Average Vials Transacted=%{y}<extra></extra>\",\"legendgroup\":\"Multi\",\"marker\":{\"color\":\"#FFA15A\",\"symbol\":\"circle\"},\"mode\":\"markers\",\"name\":\"Multi\",\"orientation\":\"v\",\"showlegend\":true,\"x\":[\"Multi\"],\"xaxis\":\"x\",\"y\":[0.0],\"yaxis\":\"y\",\"type\":\"scatter\"}],\"name\":\"Delta 49\"},{\"data\":[{\"hovertemplate\":\"Ancestry=%{x}<br>Day=Delta 50<br>Daily Average Vials Transacted=%{y}<extra></extra>\",\"legendgroup\":\"Asian\",\"marker\":{\"color\":\"#636efa\",\"symbol\":\"circle\"},\"mode\":\"markers\",\"name\":\"Asian\",\"orientation\":\"v\",\"showlegend\":true,\"x\":[\"Asian\"],\"xaxis\":\"x\",\"y\":[-0.02702702702702703],\"yaxis\":\"y\",\"type\":\"scatter\"},{\"hovertemplate\":\"Ancestry=%{x}<br>Day=Delta 50<br>Daily Average Vials Transacted=%{y}<extra></extra>\",\"legendgroup\":\"Black\",\"marker\":{\"color\":\"#EF553B\",\"symbol\":\"circle\"},\"mode\":\"markers\",\"name\":\"Black\",\"orientation\":\"v\",\"showlegend\":true,\"x\":[\"Black\"],\"xaxis\":\"x\",\"y\":[0.0],\"yaxis\":\"y\",\"type\":\"scatter\"},{\"hovertemplate\":\"Ancestry=%{x}<br>Day=Delta 50<br>Daily Average Vials Transacted=%{y}<extra></extra>\",\"legendgroup\":\"Caucasian\",\"marker\":{\"color\":\"#00cc96\",\"symbol\":\"circle\"},\"mode\":\"markers\",\"name\":\"Caucasian\",\"orientation\":\"v\",\"showlegend\":true,\"x\":[\"Caucasian\"],\"xaxis\":\"x\",\"y\":[0.0],\"yaxis\":\"y\",\"type\":\"scatter\"},{\"hovertemplate\":\"Ancestry=%{x}<br>Day=Delta 50<br>Daily Average Vials Transacted=%{y}<extra></extra>\",\"legendgroup\":\"Latino\",\"marker\":{\"color\":\"#ab63fa\",\"symbol\":\"circle\"},\"mode\":\"markers\",\"name\":\"Latino\",\"orientation\":\"v\",\"showlegend\":true,\"x\":[\"Latino\"],\"xaxis\":\"x\",\"y\":[0.0],\"yaxis\":\"y\",\"type\":\"scatter\"},{\"hovertemplate\":\"Ancestry=%{x}<br>Day=Delta 50<br>Daily Average Vials Transacted=%{y}<extra></extra>\",\"legendgroup\":\"Multi\",\"marker\":{\"color\":\"#FFA15A\",\"symbol\":\"circle\"},\"mode\":\"markers\",\"name\":\"Multi\",\"orientation\":\"v\",\"showlegend\":true,\"x\":[\"Multi\"],\"xaxis\":\"x\",\"y\":[-0.0625],\"yaxis\":\"y\",\"type\":\"scatter\"}],\"name\":\"Delta 50\"},{\"data\":[{\"hovertemplate\":\"Ancestry=%{x}<br>Day=Delta 51<br>Daily Average Vials Transacted=%{y}<extra></extra>\",\"legendgroup\":\"Asian\",\"marker\":{\"color\":\"#636efa\",\"symbol\":\"circle\"},\"mode\":\"markers\",\"name\":\"Asian\",\"orientation\":\"v\",\"showlegend\":true,\"x\":[\"Asian\"],\"xaxis\":\"x\",\"y\":[0.0136986301369863],\"yaxis\":\"y\",\"type\":\"scatter\"},{\"hovertemplate\":\"Ancestry=%{x}<br>Day=Delta 51<br>Daily Average Vials Transacted=%{y}<extra></extra>\",\"legendgroup\":\"Black\",\"marker\":{\"color\":\"#EF553B\",\"symbol\":\"circle\"},\"mode\":\"markers\",\"name\":\"Black\",\"orientation\":\"v\",\"showlegend\":true,\"x\":[\"Black\"],\"xaxis\":\"x\",\"y\":[-0.2],\"yaxis\":\"y\",\"type\":\"scatter\"},{\"hovertemplate\":\"Ancestry=%{x}<br>Day=Delta 51<br>Daily Average Vials Transacted=%{y}<extra></extra>\",\"legendgroup\":\"Caucasian\",\"marker\":{\"color\":\"#00cc96\",\"symbol\":\"circle\"},\"mode\":\"markers\",\"name\":\"Caucasian\",\"orientation\":\"v\",\"showlegend\":true,\"x\":[\"Caucasian\"],\"xaxis\":\"x\",\"y\":[0.050505050505050504],\"yaxis\":\"y\",\"type\":\"scatter\"},{\"hovertemplate\":\"Ancestry=%{x}<br>Day=Delta 51<br>Daily Average Vials Transacted=%{y}<extra></extra>\",\"legendgroup\":\"Latino\",\"marker\":{\"color\":\"#ab63fa\",\"symbol\":\"circle\"},\"mode\":\"markers\",\"name\":\"Latino\",\"orientation\":\"v\",\"showlegend\":true,\"x\":[\"Latino\"],\"xaxis\":\"x\",\"y\":[0.0],\"yaxis\":\"y\",\"type\":\"scatter\"},{\"hovertemplate\":\"Ancestry=%{x}<br>Day=Delta 51<br>Daily Average Vials Transacted=%{y}<extra></extra>\",\"legendgroup\":\"Multi\",\"marker\":{\"color\":\"#FFA15A\",\"symbol\":\"circle\"},\"mode\":\"markers\",\"name\":\"Multi\",\"orientation\":\"v\",\"showlegend\":true,\"x\":[\"Multi\"],\"xaxis\":\"x\",\"y\":[0.0],\"yaxis\":\"y\",\"type\":\"scatter\"}],\"name\":\"Delta 51\"},{\"data\":[{\"hovertemplate\":\"Ancestry=%{x}<br>Day=Delta 52<br>Daily Average Vials Transacted=%{y}<extra></extra>\",\"legendgroup\":\"Asian\",\"marker\":{\"color\":\"#636efa\",\"symbol\":\"circle\"},\"mode\":\"markers\",\"name\":\"Asian\",\"orientation\":\"v\",\"showlegend\":true,\"x\":[\"Asian\"],\"xaxis\":\"x\",\"y\":[0.0273972602739726],\"yaxis\":\"y\",\"type\":\"scatter\"},{\"hovertemplate\":\"Ancestry=%{x}<br>Day=Delta 52<br>Daily Average Vials Transacted=%{y}<extra></extra>\",\"legendgroup\":\"Black\",\"marker\":{\"color\":\"#EF553B\",\"symbol\":\"circle\"},\"mode\":\"markers\",\"name\":\"Black\",\"orientation\":\"v\",\"showlegend\":true,\"x\":[\"Black\"],\"xaxis\":\"x\",\"y\":[-0.2],\"yaxis\":\"y\",\"type\":\"scatter\"},{\"hovertemplate\":\"Ancestry=%{x}<br>Day=Delta 52<br>Daily Average Vials Transacted=%{y}<extra></extra>\",\"legendgroup\":\"Caucasian\",\"marker\":{\"color\":\"#00cc96\",\"symbol\":\"circle\"},\"mode\":\"markers\",\"name\":\"Caucasian\",\"orientation\":\"v\",\"showlegend\":true,\"x\":[\"Caucasian\"],\"xaxis\":\"x\",\"y\":[0.01020408163265306],\"yaxis\":\"y\",\"type\":\"scatter\"},{\"hovertemplate\":\"Ancestry=%{x}<br>Day=Delta 52<br>Daily Average Vials Transacted=%{y}<extra></extra>\",\"legendgroup\":\"Latino\",\"marker\":{\"color\":\"#ab63fa\",\"symbol\":\"circle\"},\"mode\":\"markers\",\"name\":\"Latino\",\"orientation\":\"v\",\"showlegend\":true,\"x\":[\"Latino\"],\"xaxis\":\"x\",\"y\":[0.45454545454545453],\"yaxis\":\"y\",\"type\":\"scatter\"},{\"hovertemplate\":\"Ancestry=%{x}<br>Day=Delta 52<br>Daily Average Vials Transacted=%{y}<extra></extra>\",\"legendgroup\":\"Multi\",\"marker\":{\"color\":\"#FFA15A\",\"symbol\":\"circle\"},\"mode\":\"markers\",\"name\":\"Multi\",\"orientation\":\"v\",\"showlegend\":true,\"x\":[\"Multi\"],\"xaxis\":\"x\",\"y\":[0.0],\"yaxis\":\"y\",\"type\":\"scatter\"}],\"name\":\"Delta 52\"},{\"data\":[{\"hovertemplate\":\"Ancestry=%{x}<br>Day=Delta 53<br>Daily Average Vials Transacted=%{y}<extra></extra>\",\"legendgroup\":\"Asian\",\"marker\":{\"color\":\"#636efa\",\"symbol\":\"circle\"},\"mode\":\"markers\",\"name\":\"Asian\",\"orientation\":\"v\",\"showlegend\":true,\"x\":[\"Asian\"],\"xaxis\":\"x\",\"y\":[-0.0958904109589041],\"yaxis\":\"y\",\"type\":\"scatter\"},{\"hovertemplate\":\"Ancestry=%{x}<br>Day=Delta 53<br>Daily Average Vials Transacted=%{y}<extra></extra>\",\"legendgroup\":\"Black\",\"marker\":{\"color\":\"#EF553B\",\"symbol\":\"circle\"},\"mode\":\"markers\",\"name\":\"Black\",\"orientation\":\"v\",\"showlegend\":true,\"x\":[\"Black\"],\"xaxis\":\"x\",\"y\":[-0.8],\"yaxis\":\"y\",\"type\":\"scatter\"},{\"hovertemplate\":\"Ancestry=%{x}<br>Day=Delta 53<br>Daily Average Vials Transacted=%{y}<extra></extra>\",\"legendgroup\":\"Caucasian\",\"marker\":{\"color\":\"#00cc96\",\"symbol\":\"circle\"},\"mode\":\"markers\",\"name\":\"Caucasian\",\"orientation\":\"v\",\"showlegend\":true,\"x\":[\"Caucasian\"],\"xaxis\":\"x\",\"y\":[0.041666666666666664],\"yaxis\":\"y\",\"type\":\"scatter\"},{\"hovertemplate\":\"Ancestry=%{x}<br>Day=Delta 53<br>Daily Average Vials Transacted=%{y}<extra></extra>\",\"legendgroup\":\"Latino\",\"marker\":{\"color\":\"#ab63fa\",\"symbol\":\"circle\"},\"mode\":\"markers\",\"name\":\"Latino\",\"orientation\":\"v\",\"showlegend\":true,\"x\":[\"Latino\"],\"xaxis\":\"x\",\"y\":[0.36363636363636365],\"yaxis\":\"y\",\"type\":\"scatter\"},{\"hovertemplate\":\"Ancestry=%{x}<br>Day=Delta 53<br>Daily Average Vials Transacted=%{y}<extra></extra>\",\"legendgroup\":\"Multi\",\"marker\":{\"color\":\"#FFA15A\",\"symbol\":\"circle\"},\"mode\":\"markers\",\"name\":\"Multi\",\"orientation\":\"v\",\"showlegend\":true,\"x\":[\"Multi\"],\"xaxis\":\"x\",\"y\":[-0.03333333333333333],\"yaxis\":\"y\",\"type\":\"scatter\"}],\"name\":\"Delta 53\"},{\"data\":[{\"hovertemplate\":\"Ancestry=%{x}<br>Day=Delta 54<br>Daily Average Vials Transacted=%{y}<extra></extra>\",\"legendgroup\":\"Asian\",\"marker\":{\"color\":\"#636efa\",\"symbol\":\"circle\"},\"mode\":\"markers\",\"name\":\"Asian\",\"orientation\":\"v\",\"showlegend\":true,\"x\":[\"Asian\"],\"xaxis\":\"x\",\"y\":[0.0],\"yaxis\":\"y\",\"type\":\"scatter\"},{\"hovertemplate\":\"Ancestry=%{x}<br>Day=Delta 54<br>Daily Average Vials Transacted=%{y}<extra></extra>\",\"legendgroup\":\"Black\",\"marker\":{\"color\":\"#EF553B\",\"symbol\":\"circle\"},\"mode\":\"markers\",\"name\":\"Black\",\"orientation\":\"v\",\"showlegend\":true,\"x\":[\"Black\"],\"xaxis\":\"x\",\"y\":[0.0],\"yaxis\":\"y\",\"type\":\"scatter\"},{\"hovertemplate\":\"Ancestry=%{x}<br>Day=Delta 54<br>Daily Average Vials Transacted=%{y}<extra></extra>\",\"legendgroup\":\"Caucasian\",\"marker\":{\"color\":\"#00cc96\",\"symbol\":\"circle\"},\"mode\":\"markers\",\"name\":\"Caucasian\",\"orientation\":\"v\",\"showlegend\":true,\"x\":[\"Caucasian\"],\"xaxis\":\"x\",\"y\":[-0.4],\"yaxis\":\"y\",\"type\":\"scatter\"},{\"hovertemplate\":\"Ancestry=%{x}<br>Day=Delta 54<br>Daily Average Vials Transacted=%{y}<extra></extra>\",\"legendgroup\":\"Latino\",\"marker\":{\"color\":\"#ab63fa\",\"symbol\":\"circle\"},\"mode\":\"markers\",\"name\":\"Latino\",\"orientation\":\"v\",\"showlegend\":true,\"x\":[\"Latino\"],\"xaxis\":\"x\",\"y\":[0.0],\"yaxis\":\"y\",\"type\":\"scatter\"},{\"hovertemplate\":\"Ancestry=%{x}<br>Day=Delta 54<br>Daily Average Vials Transacted=%{y}<extra></extra>\",\"legendgroup\":\"Multi\",\"marker\":{\"color\":\"#FFA15A\",\"symbol\":\"circle\"},\"mode\":\"markers\",\"name\":\"Multi\",\"orientation\":\"v\",\"showlegend\":true,\"x\":[\"Multi\"],\"xaxis\":\"x\",\"y\":[-0.06666666666666667],\"yaxis\":\"y\",\"type\":\"scatter\"}],\"name\":\"Delta 54\"},{\"data\":[{\"hovertemplate\":\"Ancestry=%{x}<br>Day=Delta 55<br>Daily Average Vials Transacted=%{y}<extra></extra>\",\"legendgroup\":\"Asian\",\"marker\":{\"color\":\"#636efa\",\"symbol\":\"circle\"},\"mode\":\"markers\",\"name\":\"Asian\",\"orientation\":\"v\",\"showlegend\":true,\"x\":[\"Asian\"],\"xaxis\":\"x\",\"y\":[0.0],\"yaxis\":\"y\",\"type\":\"scatter\"},{\"hovertemplate\":\"Ancestry=%{x}<br>Day=Delta 55<br>Daily Average Vials Transacted=%{y}<extra></extra>\",\"legendgroup\":\"Black\",\"marker\":{\"color\":\"#EF553B\",\"symbol\":\"circle\"},\"mode\":\"markers\",\"name\":\"Black\",\"orientation\":\"v\",\"showlegend\":true,\"x\":[\"Black\"],\"xaxis\":\"x\",\"y\":[-0.5],\"yaxis\":\"y\",\"type\":\"scatter\"},{\"hovertemplate\":\"Ancestry=%{x}<br>Day=Delta 55<br>Daily Average Vials Transacted=%{y}<extra></extra>\",\"legendgroup\":\"Caucasian\",\"marker\":{\"color\":\"#00cc96\",\"symbol\":\"circle\"},\"mode\":\"markers\",\"name\":\"Caucasian\",\"orientation\":\"v\",\"showlegend\":true,\"x\":[\"Caucasian\"],\"xaxis\":\"x\",\"y\":[-0.053763440860215055],\"yaxis\":\"y\",\"type\":\"scatter\"},{\"hovertemplate\":\"Ancestry=%{x}<br>Day=Delta 55<br>Daily Average Vials Transacted=%{y}<extra></extra>\",\"legendgroup\":\"Latino\",\"marker\":{\"color\":\"#ab63fa\",\"symbol\":\"circle\"},\"mode\":\"markers\",\"name\":\"Latino\",\"orientation\":\"v\",\"showlegend\":true,\"x\":[\"Latino\"],\"xaxis\":\"x\",\"y\":[0.0],\"yaxis\":\"y\",\"type\":\"scatter\"},{\"hovertemplate\":\"Ancestry=%{x}<br>Day=Delta 55<br>Daily Average Vials Transacted=%{y}<extra></extra>\",\"legendgroup\":\"Multi\",\"marker\":{\"color\":\"#FFA15A\",\"symbol\":\"circle\"},\"mode\":\"markers\",\"name\":\"Multi\",\"orientation\":\"v\",\"showlegend\":true,\"x\":[\"Multi\"],\"xaxis\":\"x\",\"y\":[0.0],\"yaxis\":\"y\",\"type\":\"scatter\"}],\"name\":\"Delta 55\"},{\"data\":[{\"hovertemplate\":\"Ancestry=%{x}<br>Day=Delta 56<br>Daily Average Vials Transacted=%{y}<extra></extra>\",\"legendgroup\":\"Asian\",\"marker\":{\"color\":\"#636efa\",\"symbol\":\"circle\"},\"mode\":\"markers\",\"name\":\"Asian\",\"orientation\":\"v\",\"showlegend\":true,\"x\":[\"Asian\"],\"xaxis\":\"x\",\"y\":[0.0],\"yaxis\":\"y\",\"type\":\"scatter\"},{\"hovertemplate\":\"Ancestry=%{x}<br>Day=Delta 56<br>Daily Average Vials Transacted=%{y}<extra></extra>\",\"legendgroup\":\"Black\",\"marker\":{\"color\":\"#EF553B\",\"symbol\":\"circle\"},\"mode\":\"markers\",\"name\":\"Black\",\"orientation\":\"v\",\"showlegend\":true,\"x\":[\"Black\"],\"xaxis\":\"x\",\"y\":[0.0],\"yaxis\":\"y\",\"type\":\"scatter\"},{\"hovertemplate\":\"Ancestry=%{x}<br>Day=Delta 56<br>Daily Average Vials Transacted=%{y}<extra></extra>\",\"legendgroup\":\"Caucasian\",\"marker\":{\"color\":\"#00cc96\",\"symbol\":\"circle\"},\"mode\":\"markers\",\"name\":\"Caucasian\",\"orientation\":\"v\",\"showlegend\":true,\"x\":[\"Caucasian\"],\"xaxis\":\"x\",\"y\":[0.06666666666666667],\"yaxis\":\"y\",\"type\":\"scatter\"},{\"hovertemplate\":\"Ancestry=%{x}<br>Day=Delta 56<br>Daily Average Vials Transacted=%{y}<extra></extra>\",\"legendgroup\":\"Latino\",\"marker\":{\"color\":\"#ab63fa\",\"symbol\":\"circle\"},\"mode\":\"markers\",\"name\":\"Latino\",\"orientation\":\"v\",\"showlegend\":true,\"x\":[\"Latino\"],\"xaxis\":\"x\",\"y\":[0.0],\"yaxis\":\"y\",\"type\":\"scatter\"},{\"hovertemplate\":\"Ancestry=%{x}<br>Day=Delta 56<br>Daily Average Vials Transacted=%{y}<extra></extra>\",\"legendgroup\":\"Multi\",\"marker\":{\"color\":\"#FFA15A\",\"symbol\":\"circle\"},\"mode\":\"markers\",\"name\":\"Multi\",\"orientation\":\"v\",\"showlegend\":true,\"x\":[\"Multi\"],\"xaxis\":\"x\",\"y\":[-0.034482758620689655],\"yaxis\":\"y\",\"type\":\"scatter\"}],\"name\":\"Delta 56\"},{\"data\":[{\"hovertemplate\":\"Ancestry=%{x}<br>Day=Delta 57<br>Daily Average Vials Transacted=%{y}<extra></extra>\",\"legendgroup\":\"Asian\",\"marker\":{\"color\":\"#636efa\",\"symbol\":\"circle\"},\"mode\":\"markers\",\"name\":\"Asian\",\"orientation\":\"v\",\"showlegend\":true,\"x\":[\"Asian\"],\"xaxis\":\"x\",\"y\":[0.0],\"yaxis\":\"y\",\"type\":\"scatter\"},{\"hovertemplate\":\"Ancestry=%{x}<br>Day=Delta 57<br>Daily Average Vials Transacted=%{y}<extra></extra>\",\"legendgroup\":\"Black\",\"marker\":{\"color\":\"#EF553B\",\"symbol\":\"circle\"},\"mode\":\"markers\",\"name\":\"Black\",\"orientation\":\"v\",\"showlegend\":true,\"x\":[\"Black\"],\"xaxis\":\"x\",\"y\":[-3.0],\"yaxis\":\"y\",\"type\":\"scatter\"},{\"hovertemplate\":\"Ancestry=%{x}<br>Day=Delta 57<br>Daily Average Vials Transacted=%{y}<extra></extra>\",\"legendgroup\":\"Caucasian\",\"marker\":{\"color\":\"#00cc96\",\"symbol\":\"circle\"},\"mode\":\"markers\",\"name\":\"Caucasian\",\"orientation\":\"v\",\"showlegend\":true,\"x\":[\"Caucasian\"],\"xaxis\":\"x\",\"y\":[-0.011764705882352941],\"yaxis\":\"y\",\"type\":\"scatter\"},{\"hovertemplate\":\"Ancestry=%{x}<br>Day=Delta 57<br>Daily Average Vials Transacted=%{y}<extra></extra>\",\"legendgroup\":\"Latino\",\"marker\":{\"color\":\"#ab63fa\",\"symbol\":\"circle\"},\"mode\":\"markers\",\"name\":\"Latino\",\"orientation\":\"v\",\"showlegend\":true,\"x\":[\"Latino\"],\"xaxis\":\"x\",\"y\":[0.0],\"yaxis\":\"y\",\"type\":\"scatter\"},{\"hovertemplate\":\"Ancestry=%{x}<br>Day=Delta 57<br>Daily Average Vials Transacted=%{y}<extra></extra>\",\"legendgroup\":\"Multi\",\"marker\":{\"color\":\"#FFA15A\",\"symbol\":\"circle\"},\"mode\":\"markers\",\"name\":\"Multi\",\"orientation\":\"v\",\"showlegend\":true,\"x\":[\"Multi\"],\"xaxis\":\"x\",\"y\":[-0.5],\"yaxis\":\"y\",\"type\":\"scatter\"}],\"name\":\"Delta 57\"},{\"data\":[{\"hovertemplate\":\"Ancestry=%{x}<br>Day=Delta 58<br>Daily Average Vials Transacted=%{y}<extra></extra>\",\"legendgroup\":\"Asian\",\"marker\":{\"color\":\"#636efa\",\"symbol\":\"circle\"},\"mode\":\"markers\",\"name\":\"Asian\",\"orientation\":\"v\",\"showlegend\":true,\"x\":[\"Asian\"],\"xaxis\":\"x\",\"y\":[0.0],\"yaxis\":\"y\",\"type\":\"scatter\"},{\"hovertemplate\":\"Ancestry=%{x}<br>Day=Delta 58<br>Daily Average Vials Transacted=%{y}<extra></extra>\",\"legendgroup\":\"Black\",\"marker\":{\"color\":\"#EF553B\",\"symbol\":\"circle\"},\"mode\":\"markers\",\"name\":\"Black\",\"orientation\":\"v\",\"showlegend\":true,\"x\":[\"Black\"],\"xaxis\":\"x\",\"y\":[0.0],\"yaxis\":\"y\",\"type\":\"scatter\"},{\"hovertemplate\":\"Ancestry=%{x}<br>Day=Delta 58<br>Daily Average Vials Transacted=%{y}<extra></extra>\",\"legendgroup\":\"Caucasian\",\"marker\":{\"color\":\"#00cc96\",\"symbol\":\"circle\"},\"mode\":\"markers\",\"name\":\"Caucasian\",\"orientation\":\"v\",\"showlegend\":true,\"x\":[\"Caucasian\"],\"xaxis\":\"x\",\"y\":[-0.0963855421686747],\"yaxis\":\"y\",\"type\":\"scatter\"},{\"hovertemplate\":\"Ancestry=%{x}<br>Day=Delta 58<br>Daily Average Vials Transacted=%{y}<extra></extra>\",\"legendgroup\":\"Latino\",\"marker\":{\"color\":\"#ab63fa\",\"symbol\":\"circle\"},\"mode\":\"markers\",\"name\":\"Latino\",\"orientation\":\"v\",\"showlegend\":true,\"x\":[\"Latino\"],\"xaxis\":\"x\",\"y\":[0.0],\"yaxis\":\"y\",\"type\":\"scatter\"},{\"hovertemplate\":\"Ancestry=%{x}<br>Day=Delta 58<br>Daily Average Vials Transacted=%{y}<extra></extra>\",\"legendgroup\":\"Multi\",\"marker\":{\"color\":\"#FFA15A\",\"symbol\":\"circle\"},\"mode\":\"markers\",\"name\":\"Multi\",\"orientation\":\"v\",\"showlegend\":true,\"x\":[\"Multi\"],\"xaxis\":\"x\",\"y\":[0.0],\"yaxis\":\"y\",\"type\":\"scatter\"}],\"name\":\"Delta 58\"},{\"data\":[{\"hovertemplate\":\"Ancestry=%{x}<br>Day=Delta 59<br>Daily Average Vials Transacted=%{y}<extra></extra>\",\"legendgroup\":\"Asian\",\"marker\":{\"color\":\"#636efa\",\"symbol\":\"circle\"},\"mode\":\"markers\",\"name\":\"Asian\",\"orientation\":\"v\",\"showlegend\":true,\"x\":[\"Asian\"],\"xaxis\":\"x\",\"y\":[0.0],\"yaxis\":\"y\",\"type\":\"scatter\"},{\"hovertemplate\":\"Ancestry=%{x}<br>Day=Delta 59<br>Daily Average Vials Transacted=%{y}<extra></extra>\",\"legendgroup\":\"Black\",\"marker\":{\"color\":\"#EF553B\",\"symbol\":\"circle\"},\"mode\":\"markers\",\"name\":\"Black\",\"orientation\":\"v\",\"showlegend\":true,\"x\":[\"Black\"],\"xaxis\":\"x\",\"y\":[0.0],\"yaxis\":\"y\",\"type\":\"scatter\"},{\"hovertemplate\":\"Ancestry=%{x}<br>Day=Delta 59<br>Daily Average Vials Transacted=%{y}<extra></extra>\",\"legendgroup\":\"Caucasian\",\"marker\":{\"color\":\"#00cc96\",\"symbol\":\"circle\"},\"mode\":\"markers\",\"name\":\"Caucasian\",\"orientation\":\"v\",\"showlegend\":true,\"x\":[\"Caucasian\"],\"xaxis\":\"x\",\"y\":[-0.12195121951219512],\"yaxis\":\"y\",\"type\":\"scatter\"},{\"hovertemplate\":\"Ancestry=%{x}<br>Day=Delta 59<br>Daily Average Vials Transacted=%{y}<extra></extra>\",\"legendgroup\":\"Latino\",\"marker\":{\"color\":\"#ab63fa\",\"symbol\":\"circle\"},\"mode\":\"markers\",\"name\":\"Latino\",\"orientation\":\"v\",\"showlegend\":true,\"x\":[\"Latino\"],\"xaxis\":\"x\",\"y\":[0.0],\"yaxis\":\"y\",\"type\":\"scatter\"},{\"hovertemplate\":\"Ancestry=%{x}<br>Day=Delta 59<br>Daily Average Vials Transacted=%{y}<extra></extra>\",\"legendgroup\":\"Multi\",\"marker\":{\"color\":\"#FFA15A\",\"symbol\":\"circle\"},\"mode\":\"markers\",\"name\":\"Multi\",\"orientation\":\"v\",\"showlegend\":true,\"x\":[\"Multi\"],\"xaxis\":\"x\",\"y\":[0.0],\"yaxis\":\"y\",\"type\":\"scatter\"}],\"name\":\"Delta 59\"},{\"data\":[{\"hovertemplate\":\"Ancestry=%{x}<br>Day=Delta 60<br>Daily Average Vials Transacted=%{y}<extra></extra>\",\"legendgroup\":\"Asian\",\"marker\":{\"color\":\"#636efa\",\"symbol\":\"circle\"},\"mode\":\"markers\",\"name\":\"Asian\",\"orientation\":\"v\",\"showlegend\":true,\"x\":[\"Asian\"],\"xaxis\":\"x\",\"y\":[0.0],\"yaxis\":\"y\",\"type\":\"scatter\"},{\"hovertemplate\":\"Ancestry=%{x}<br>Day=Delta 60<br>Daily Average Vials Transacted=%{y}<extra></extra>\",\"legendgroup\":\"Black\",\"marker\":{\"color\":\"#EF553B\",\"symbol\":\"circle\"},\"mode\":\"markers\",\"name\":\"Black\",\"orientation\":\"v\",\"showlegend\":true,\"x\":[\"Black\"],\"xaxis\":\"x\",\"y\":[0.0],\"yaxis\":\"y\",\"type\":\"scatter\"},{\"hovertemplate\":\"Ancestry=%{x}<br>Day=Delta 60<br>Daily Average Vials Transacted=%{y}<extra></extra>\",\"legendgroup\":\"Caucasian\",\"marker\":{\"color\":\"#00cc96\",\"symbol\":\"circle\"},\"mode\":\"markers\",\"name\":\"Caucasian\",\"orientation\":\"v\",\"showlegend\":true,\"x\":[\"Caucasian\"],\"xaxis\":\"x\",\"y\":[-0.189873417721519],\"yaxis\":\"y\",\"type\":\"scatter\"},{\"hovertemplate\":\"Ancestry=%{x}<br>Day=Delta 60<br>Daily Average Vials Transacted=%{y}<extra></extra>\",\"legendgroup\":\"Latino\",\"marker\":{\"color\":\"#ab63fa\",\"symbol\":\"circle\"},\"mode\":\"markers\",\"name\":\"Latino\",\"orientation\":\"v\",\"showlegend\":true,\"x\":[\"Latino\"],\"xaxis\":\"x\",\"y\":[0.0],\"yaxis\":\"y\",\"type\":\"scatter\"},{\"hovertemplate\":\"Ancestry=%{x}<br>Day=Delta 60<br>Daily Average Vials Transacted=%{y}<extra></extra>\",\"legendgroup\":\"Multi\",\"marker\":{\"color\":\"#FFA15A\",\"symbol\":\"circle\"},\"mode\":\"markers\",\"name\":\"Multi\",\"orientation\":\"v\",\"showlegend\":true,\"x\":[\"Multi\"],\"xaxis\":\"x\",\"y\":[-0.23076923076923078],\"yaxis\":\"y\",\"type\":\"scatter\"}],\"name\":\"Delta 60\"},{\"data\":[{\"hovertemplate\":\"Ancestry=%{x}<br>Day=Delta 61<br>Daily Average Vials Transacted=%{y}<extra></extra>\",\"legendgroup\":\"Asian\",\"marker\":{\"color\":\"#636efa\",\"symbol\":\"circle\"},\"mode\":\"markers\",\"name\":\"Asian\",\"orientation\":\"v\",\"showlegend\":true,\"x\":[\"Asian\"],\"xaxis\":\"x\",\"y\":[0.0],\"yaxis\":\"y\",\"type\":\"scatter\"},{\"hovertemplate\":\"Ancestry=%{x}<br>Day=Delta 61<br>Daily Average Vials Transacted=%{y}<extra></extra>\",\"legendgroup\":\"Black\",\"marker\":{\"color\":\"#EF553B\",\"symbol\":\"circle\"},\"mode\":\"markers\",\"name\":\"Black\",\"orientation\":\"v\",\"showlegend\":true,\"x\":[\"Black\"],\"xaxis\":\"x\",\"y\":[0.0],\"yaxis\":\"y\",\"type\":\"scatter\"},{\"hovertemplate\":\"Ancestry=%{x}<br>Day=Delta 61<br>Daily Average Vials Transacted=%{y}<extra></extra>\",\"legendgroup\":\"Caucasian\",\"marker\":{\"color\":\"#00cc96\",\"symbol\":\"circle\"},\"mode\":\"markers\",\"name\":\"Caucasian\",\"orientation\":\"v\",\"showlegend\":true,\"x\":[\"Caucasian\"],\"xaxis\":\"x\",\"y\":[0.06493506493506493],\"yaxis\":\"y\",\"type\":\"scatter\"},{\"hovertemplate\":\"Ancestry=%{x}<br>Day=Delta 61<br>Daily Average Vials Transacted=%{y}<extra></extra>\",\"legendgroup\":\"Latino\",\"marker\":{\"color\":\"#ab63fa\",\"symbol\":\"circle\"},\"mode\":\"markers\",\"name\":\"Latino\",\"orientation\":\"v\",\"showlegend\":true,\"x\":[\"Latino\"],\"xaxis\":\"x\",\"y\":[0.0],\"yaxis\":\"y\",\"type\":\"scatter\"},{\"hovertemplate\":\"Ancestry=%{x}<br>Day=Delta 61<br>Daily Average Vials Transacted=%{y}<extra></extra>\",\"legendgroup\":\"Multi\",\"marker\":{\"color\":\"#FFA15A\",\"symbol\":\"circle\"},\"mode\":\"markers\",\"name\":\"Multi\",\"orientation\":\"v\",\"showlegend\":true,\"x\":[\"Multi\"],\"xaxis\":\"x\",\"y\":[0.0],\"yaxis\":\"y\",\"type\":\"scatter\"}],\"name\":\"Delta 61\"},{\"data\":[{\"hovertemplate\":\"Ancestry=%{x}<br>Day=Delta 62<br>Daily Average Vials Transacted=%{y}<extra></extra>\",\"legendgroup\":\"Asian\",\"marker\":{\"color\":\"#636efa\",\"symbol\":\"circle\"},\"mode\":\"markers\",\"name\":\"Asian\",\"orientation\":\"v\",\"showlegend\":true,\"x\":[\"Asian\"],\"xaxis\":\"x\",\"y\":[0.0],\"yaxis\":\"y\",\"type\":\"scatter\"},{\"hovertemplate\":\"Ancestry=%{x}<br>Day=Delta 62<br>Daily Average Vials Transacted=%{y}<extra></extra>\",\"legendgroup\":\"Black\",\"marker\":{\"color\":\"#EF553B\",\"symbol\":\"circle\"},\"mode\":\"markers\",\"name\":\"Black\",\"orientation\":\"v\",\"showlegend\":true,\"x\":[\"Black\"],\"xaxis\":\"x\",\"y\":[3.0],\"yaxis\":\"y\",\"type\":\"scatter\"},{\"hovertemplate\":\"Ancestry=%{x}<br>Day=Delta 62<br>Daily Average Vials Transacted=%{y}<extra></extra>\",\"legendgroup\":\"Caucasian\",\"marker\":{\"color\":\"#00cc96\",\"symbol\":\"circle\"},\"mode\":\"markers\",\"name\":\"Caucasian\",\"orientation\":\"v\",\"showlegend\":true,\"x\":[\"Caucasian\"],\"xaxis\":\"x\",\"y\":[-0.012987012987012988],\"yaxis\":\"y\",\"type\":\"scatter\"},{\"hovertemplate\":\"Ancestry=%{x}<br>Day=Delta 62<br>Daily Average Vials Transacted=%{y}<extra></extra>\",\"legendgroup\":\"Latino\",\"marker\":{\"color\":\"#ab63fa\",\"symbol\":\"circle\"},\"mode\":\"markers\",\"name\":\"Latino\",\"orientation\":\"v\",\"showlegend\":true,\"x\":[\"Latino\"],\"xaxis\":\"x\",\"y\":[0.0],\"yaxis\":\"y\",\"type\":\"scatter\"},{\"hovertemplate\":\"Ancestry=%{x}<br>Day=Delta 62<br>Daily Average Vials Transacted=%{y}<extra></extra>\",\"legendgroup\":\"Multi\",\"marker\":{\"color\":\"#FFA15A\",\"symbol\":\"circle\"},\"mode\":\"markers\",\"name\":\"Multi\",\"orientation\":\"v\",\"showlegend\":true,\"x\":[\"Multi\"],\"xaxis\":\"x\",\"y\":[-0.038461538461538464],\"yaxis\":\"y\",\"type\":\"scatter\"}],\"name\":\"Delta 62\"},{\"data\":[{\"hovertemplate\":\"Ancestry=%{x}<br>Day=Delta 63<br>Daily Average Vials Transacted=%{y}<extra></extra>\",\"legendgroup\":\"Asian\",\"marker\":{\"color\":\"#636efa\",\"symbol\":\"circle\"},\"mode\":\"markers\",\"name\":\"Asian\",\"orientation\":\"v\",\"showlegend\":true,\"x\":[\"Asian\"],\"xaxis\":\"x\",\"y\":[0.0],\"yaxis\":\"y\",\"type\":\"scatter\"},{\"hovertemplate\":\"Ancestry=%{x}<br>Day=Delta 63<br>Daily Average Vials Transacted=%{y}<extra></extra>\",\"legendgroup\":\"Black\",\"marker\":{\"color\":\"#EF553B\",\"symbol\":\"circle\"},\"mode\":\"markers\",\"name\":\"Black\",\"orientation\":\"v\",\"showlegend\":true,\"x\":[\"Black\"],\"xaxis\":\"x\",\"y\":[0.0],\"yaxis\":\"y\",\"type\":\"scatter\"},{\"hovertemplate\":\"Ancestry=%{x}<br>Day=Delta 63<br>Daily Average Vials Transacted=%{y}<extra></extra>\",\"legendgroup\":\"Caucasian\",\"marker\":{\"color\":\"#00cc96\",\"symbol\":\"circle\"},\"mode\":\"markers\",\"name\":\"Caucasian\",\"orientation\":\"v\",\"showlegend\":true,\"x\":[\"Caucasian\"],\"xaxis\":\"x\",\"y\":[-0.1038961038961039],\"yaxis\":\"y\",\"type\":\"scatter\"},{\"hovertemplate\":\"Ancestry=%{x}<br>Day=Delta 63<br>Daily Average Vials Transacted=%{y}<extra></extra>\",\"legendgroup\":\"Latino\",\"marker\":{\"color\":\"#ab63fa\",\"symbol\":\"circle\"},\"mode\":\"markers\",\"name\":\"Latino\",\"orientation\":\"v\",\"showlegend\":true,\"x\":[\"Latino\"],\"xaxis\":\"x\",\"y\":[0.0],\"yaxis\":\"y\",\"type\":\"scatter\"},{\"hovertemplate\":\"Ancestry=%{x}<br>Day=Delta 63<br>Daily Average Vials Transacted=%{y}<extra></extra>\",\"legendgroup\":\"Multi\",\"marker\":{\"color\":\"#FFA15A\",\"symbol\":\"circle\"},\"mode\":\"markers\",\"name\":\"Multi\",\"orientation\":\"v\",\"showlegend\":true,\"x\":[\"Multi\"],\"xaxis\":\"x\",\"y\":[0.0],\"yaxis\":\"y\",\"type\":\"scatter\"}],\"name\":\"Delta 63\"},{\"data\":[{\"hovertemplate\":\"Ancestry=%{x}<br>Day=Delta 64<br>Daily Average Vials Transacted=%{y}<extra></extra>\",\"legendgroup\":\"Asian\",\"marker\":{\"color\":\"#636efa\",\"symbol\":\"circle\"},\"mode\":\"markers\",\"name\":\"Asian\",\"orientation\":\"v\",\"showlegend\":true,\"x\":[\"Asian\"],\"xaxis\":\"x\",\"y\":[0.0],\"yaxis\":\"y\",\"type\":\"scatter\"},{\"hovertemplate\":\"Ancestry=%{x}<br>Day=Delta 64<br>Daily Average Vials Transacted=%{y}<extra></extra>\",\"legendgroup\":\"Black\",\"marker\":{\"color\":\"#EF553B\",\"symbol\":\"circle\"},\"mode\":\"markers\",\"name\":\"Black\",\"orientation\":\"v\",\"showlegend\":true,\"x\":[\"Black\"],\"xaxis\":\"x\",\"y\":[0.0],\"yaxis\":\"y\",\"type\":\"scatter\"},{\"hovertemplate\":\"Ancestry=%{x}<br>Day=Delta 64<br>Daily Average Vials Transacted=%{y}<extra></extra>\",\"legendgroup\":\"Caucasian\",\"marker\":{\"color\":\"#00cc96\",\"symbol\":\"circle\"},\"mode\":\"markers\",\"name\":\"Caucasian\",\"orientation\":\"v\",\"showlegend\":true,\"x\":[\"Caucasian\"],\"xaxis\":\"x\",\"y\":[-0.06756756756756757],\"yaxis\":\"y\",\"type\":\"scatter\"},{\"hovertemplate\":\"Ancestry=%{x}<br>Day=Delta 64<br>Daily Average Vials Transacted=%{y}<extra></extra>\",\"legendgroup\":\"Latino\",\"marker\":{\"color\":\"#ab63fa\",\"symbol\":\"circle\"},\"mode\":\"markers\",\"name\":\"Latino\",\"orientation\":\"v\",\"showlegend\":true,\"x\":[\"Latino\"],\"xaxis\":\"x\",\"y\":[0.0],\"yaxis\":\"y\",\"type\":\"scatter\"},{\"hovertemplate\":\"Ancestry=%{x}<br>Day=Delta 64<br>Daily Average Vials Transacted=%{y}<extra></extra>\",\"legendgroup\":\"Multi\",\"marker\":{\"color\":\"#FFA15A\",\"symbol\":\"circle\"},\"mode\":\"markers\",\"name\":\"Multi\",\"orientation\":\"v\",\"showlegend\":true,\"x\":[\"Multi\"],\"xaxis\":\"x\",\"y\":[0.0],\"yaxis\":\"y\",\"type\":\"scatter\"}],\"name\":\"Delta 64\"},{\"data\":[{\"hovertemplate\":\"Ancestry=%{x}<br>Day=Delta 65<br>Daily Average Vials Transacted=%{y}<extra></extra>\",\"legendgroup\":\"Asian\",\"marker\":{\"color\":\"#636efa\",\"symbol\":\"circle\"},\"mode\":\"markers\",\"name\":\"Asian\",\"orientation\":\"v\",\"showlegend\":true,\"x\":[\"Asian\"],\"xaxis\":\"x\",\"y\":[0.0],\"yaxis\":\"y\",\"type\":\"scatter\"},{\"hovertemplate\":\"Ancestry=%{x}<br>Day=Delta 65<br>Daily Average Vials Transacted=%{y}<extra></extra>\",\"legendgroup\":\"Black\",\"marker\":{\"color\":\"#EF553B\",\"symbol\":\"circle\"},\"mode\":\"markers\",\"name\":\"Black\",\"orientation\":\"v\",\"showlegend\":true,\"x\":[\"Black\"],\"xaxis\":\"x\",\"y\":[0.0],\"yaxis\":\"y\",\"type\":\"scatter\"},{\"hovertemplate\":\"Ancestry=%{x}<br>Day=Delta 65<br>Daily Average Vials Transacted=%{y}<extra></extra>\",\"legendgroup\":\"Caucasian\",\"marker\":{\"color\":\"#00cc96\",\"symbol\":\"circle\"},\"mode\":\"markers\",\"name\":\"Caucasian\",\"orientation\":\"v\",\"showlegend\":true,\"x\":[\"Caucasian\"],\"xaxis\":\"x\",\"y\":[-0.13513513513513514],\"yaxis\":\"y\",\"type\":\"scatter\"},{\"hovertemplate\":\"Ancestry=%{x}<br>Day=Delta 65<br>Daily Average Vials Transacted=%{y}<extra></extra>\",\"legendgroup\":\"Latino\",\"marker\":{\"color\":\"#ab63fa\",\"symbol\":\"circle\"},\"mode\":\"markers\",\"name\":\"Latino\",\"orientation\":\"v\",\"showlegend\":true,\"x\":[\"Latino\"],\"xaxis\":\"x\",\"y\":[-0.1],\"yaxis\":\"y\",\"type\":\"scatter\"},{\"hovertemplate\":\"Ancestry=%{x}<br>Day=Delta 65<br>Daily Average Vials Transacted=%{y}<extra></extra>\",\"legendgroup\":\"Multi\",\"marker\":{\"color\":\"#FFA15A\",\"symbol\":\"circle\"},\"mode\":\"markers\",\"name\":\"Multi\",\"orientation\":\"v\",\"showlegend\":true,\"x\":[\"Multi\"],\"xaxis\":\"x\",\"y\":[0.0],\"yaxis\":\"y\",\"type\":\"scatter\"}],\"name\":\"Delta 65\"},{\"data\":[{\"hovertemplate\":\"Ancestry=%{x}<br>Day=Delta 66<br>Daily Average Vials Transacted=%{y}<extra></extra>\",\"legendgroup\":\"Asian\",\"marker\":{\"color\":\"#636efa\",\"symbol\":\"circle\"},\"mode\":\"markers\",\"name\":\"Asian\",\"orientation\":\"v\",\"showlegend\":true,\"x\":[\"Asian\"],\"xaxis\":\"x\",\"y\":[0.0],\"yaxis\":\"y\",\"type\":\"scatter\"},{\"hovertemplate\":\"Ancestry=%{x}<br>Day=Delta 66<br>Daily Average Vials Transacted=%{y}<extra></extra>\",\"legendgroup\":\"Black\",\"marker\":{\"color\":\"#EF553B\",\"symbol\":\"circle\"},\"mode\":\"markers\",\"name\":\"Black\",\"orientation\":\"v\",\"showlegend\":true,\"x\":[\"Black\"],\"xaxis\":\"x\",\"y\":[0.0],\"yaxis\":\"y\",\"type\":\"scatter\"},{\"hovertemplate\":\"Ancestry=%{x}<br>Day=Delta 66<br>Daily Average Vials Transacted=%{y}<extra></extra>\",\"legendgroup\":\"Caucasian\",\"marker\":{\"color\":\"#00cc96\",\"symbol\":\"circle\"},\"mode\":\"markers\",\"name\":\"Caucasian\",\"orientation\":\"v\",\"showlegend\":true,\"x\":[\"Caucasian\"],\"xaxis\":\"x\",\"y\":[0.0],\"yaxis\":\"y\",\"type\":\"scatter\"},{\"hovertemplate\":\"Ancestry=%{x}<br>Day=Delta 66<br>Daily Average Vials Transacted=%{y}<extra></extra>\",\"legendgroup\":\"Latino\",\"marker\":{\"color\":\"#ab63fa\",\"symbol\":\"circle\"},\"mode\":\"markers\",\"name\":\"Latino\",\"orientation\":\"v\",\"showlegend\":true,\"x\":[\"Latino\"],\"xaxis\":\"x\",\"y\":[0.0],\"yaxis\":\"y\",\"type\":\"scatter\"},{\"hovertemplate\":\"Ancestry=%{x}<br>Day=Delta 66<br>Daily Average Vials Transacted=%{y}<extra></extra>\",\"legendgroup\":\"Multi\",\"marker\":{\"color\":\"#FFA15A\",\"symbol\":\"circle\"},\"mode\":\"markers\",\"name\":\"Multi\",\"orientation\":\"v\",\"showlegend\":true,\"x\":[\"Multi\"],\"xaxis\":\"x\",\"y\":[0.0],\"yaxis\":\"y\",\"type\":\"scatter\"}],\"name\":\"Delta 66\"},{\"data\":[{\"hovertemplate\":\"Ancestry=%{x}<br>Day=Delta 67<br>Daily Average Vials Transacted=%{y}<extra></extra>\",\"legendgroup\":\"Asian\",\"marker\":{\"color\":\"#636efa\",\"symbol\":\"circle\"},\"mode\":\"markers\",\"name\":\"Asian\",\"orientation\":\"v\",\"showlegend\":true,\"x\":[\"Asian\"],\"xaxis\":\"x\",\"y\":[0.0],\"yaxis\":\"y\",\"type\":\"scatter\"},{\"hovertemplate\":\"Ancestry=%{x}<br>Day=Delta 67<br>Daily Average Vials Transacted=%{y}<extra></extra>\",\"legendgroup\":\"Black\",\"marker\":{\"color\":\"#EF553B\",\"symbol\":\"circle\"},\"mode\":\"markers\",\"name\":\"Black\",\"orientation\":\"v\",\"showlegend\":true,\"x\":[\"Black\"],\"xaxis\":\"x\",\"y\":[0.0],\"yaxis\":\"y\",\"type\":\"scatter\"},{\"hovertemplate\":\"Ancestry=%{x}<br>Day=Delta 67<br>Daily Average Vials Transacted=%{y}<extra></extra>\",\"legendgroup\":\"Caucasian\",\"marker\":{\"color\":\"#00cc96\",\"symbol\":\"circle\"},\"mode\":\"markers\",\"name\":\"Caucasian\",\"orientation\":\"v\",\"showlegend\":true,\"x\":[\"Caucasian\"],\"xaxis\":\"x\",\"y\":[-0.028169014084507043],\"yaxis\":\"y\",\"type\":\"scatter\"},{\"hovertemplate\":\"Ancestry=%{x}<br>Day=Delta 67<br>Daily Average Vials Transacted=%{y}<extra></extra>\",\"legendgroup\":\"Latino\",\"marker\":{\"color\":\"#ab63fa\",\"symbol\":\"circle\"},\"mode\":\"markers\",\"name\":\"Latino\",\"orientation\":\"v\",\"showlegend\":true,\"x\":[\"Latino\"],\"xaxis\":\"x\",\"y\":[0.0],\"yaxis\":\"y\",\"type\":\"scatter\"},{\"hovertemplate\":\"Ancestry=%{x}<br>Day=Delta 67<br>Daily Average Vials Transacted=%{y}<extra></extra>\",\"legendgroup\":\"Multi\",\"marker\":{\"color\":\"#FFA15A\",\"symbol\":\"circle\"},\"mode\":\"markers\",\"name\":\"Multi\",\"orientation\":\"v\",\"showlegend\":true,\"x\":[\"Multi\"],\"xaxis\":\"x\",\"y\":[0.0],\"yaxis\":\"y\",\"type\":\"scatter\"}],\"name\":\"Delta 67\"}]);\n",
       "                        }).then(function(){\n",
       "                            \n",
       "var gd = document.getElementById('8f3a6367-8067-4214-8c91-94ae80c5412a');\n",
       "var x = new MutationObserver(function (mutations, observer) {{\n",
       "        var display = window.getComputedStyle(gd).display;\n",
       "        if (!display || display === 'none') {{\n",
       "            console.log([gd, 'removed!']);\n",
       "            Plotly.purge(gd);\n",
       "            observer.disconnect();\n",
       "        }}\n",
       "}});\n",
       "\n",
       "// Listen for the removal of the full notebook cells\n",
       "var notebookContainer = gd.closest('#notebook-container');\n",
       "if (notebookContainer) {{\n",
       "    x.observe(notebookContainer, {childList: true});\n",
       "}}\n",
       "\n",
       "// Listen for the clearing of the current output cell\n",
       "var outputEl = gd.closest('.output');\n",
       "if (outputEl) {{\n",
       "    x.observe(outputEl, {childList: true});\n",
       "}}\n",
       "\n",
       "                        })                };                });            </script>        </div>"
      ]
     },
     "metadata": {},
     "output_type": "display_data"
    }
   ],
   "source": [
    "import plotly.express as px\n",
    "import plotly.graph_objs as go\n",
    "cols = transactions_delta.columns[5:]\n",
    "means = transactions_delta[cols]\n",
    "means['Ancestry']= transactions_delta.iloc[:,1]\n",
    "#means['mean'] = means.iloc[:,:66].mean(axis=1)\n",
    "means = means.groupby('Ancestry').mean()\n",
    "\n",
    "#means.set_index('Ancestry', inplace=True)\n",
    "\n",
    "means = means.stack().reset_index()\n",
    "means.columns = ['Ancestry','Delta', 'value']\n",
    "\n",
    "px.scatter(means, x='Ancestry', y='value', color='Ancestry', animation_frame='Delta',\n",
    "          labels={\n",
    "                    \"value\": \"Daily Average Vials Transacted\",\n",
    "                    \"Delta\": \"Day\",\n",
    "                 },range_y=[-1,0.1])\n",
    "\n"
   ]
  },
  {
   "cell_type": "code",
   "execution_count": null,
   "id": "2bc4ae1a-1e3e-41d9-ba4c-f54cfd69bb98",
   "metadata": {},
   "outputs": [],
   "source": []
  }
 ],
 "metadata": {
  "kernelspec": {
   "display_name": "Python 3",
   "language": "python",
   "name": "python3"
  },
  "language_info": {
   "codemirror_mode": {
    "name": "ipython",
    "version": 3
   },
   "file_extension": ".py",
   "mimetype": "text/x-python",
   "name": "python",
   "nbconvert_exporter": "python",
   "pygments_lexer": "ipython3",
   "version": "3.8.13"
  }
 },
 "nbformat": 4,
 "nbformat_minor": 5
}
